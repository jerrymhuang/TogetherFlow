{
 "cells": [
  {
   "cell_type": "code",
   "execution_count": 1,
   "metadata": {},
   "outputs": [],
   "source": [
    "import numpy as np\n",
    "import matplotlib.pyplot as plt"
   ]
  },
  {
   "cell_type": "code",
   "execution_count": 2,
   "metadata": {},
   "outputs": [],
   "source": [
    "class Boids():\n",
    "\n",
    "    def __init__(self, p, v, a, r, f, s, w, h) -> None:\n",
    "        self.position = p\n",
    "        self.velocity = v\n",
    "        self.acceleration = a\n",
    "        self.perception = r\n",
    "        self.max_force = f\n",
    "        self.max_speed = s\n",
    "        self.width = w\n",
    "        self.height = h\n",
    "\n",
    "    def separation(self, others):\n",
    "        \"\"\"TODO\"\"\"\n",
    "        pass\n",
    "\n",
    "    def alignment(self, others):\n",
    "        \"\"\"TODO\"\"\"\n",
    "        pass \n",
    "\n",
    "    def cohesion(self, others):\n",
    "        \"\"\"TODO\"\"\"\n",
    "        pass \n",
    "\n",
    "    def ruleset(self, others):\n",
    "        self.acceleration += (self.separation(others) + self.alignment(others) + self.cohesion(others))"
   ]
  }
 ],
 "metadata": {
  "kernelspec": {
   "display_name": "Python 3",
   "language": "python",
   "name": "python3"
  },
  "language_info": {
   "codemirror_mode": {
    "name": "ipython",
    "version": 3
   },
   "file_extension": ".py",
   "mimetype": "text/x-python",
   "name": "python",
   "nbconvert_exporter": "python",
   "pygments_lexer": "ipython3",
   "version": "3.10.11"
  }
 },
 "nbformat": 4,
 "nbformat_minor": 2
}
