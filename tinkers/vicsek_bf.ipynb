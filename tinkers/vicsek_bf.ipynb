{
 "cells": [
  {
   "cell_type": "code",
   "execution_count": 4,
   "metadata": {},
   "outputs": [],
   "source": [
    "import numpy as np\n",
    "import matplotlib.pyplot as plt\n",
    "import matplotlib.animation as anim\n",
    "import seaborn as sns\n",
    "\n",
    "import bayesflow as bf\n",
    "from functools import partial\n",
    "from IPython.display import HTML"
   ]
  },
  {
   "cell_type": "markdown",
   "metadata": {},
   "source": [
    "# Amortized Posterior Estimation for Simple Agent-Based Model\n",
    "**Vicsek Model in BayesFlow** \n",
    "\n",
    "In this notebook, we demonstrate amortized posterior estimation for a simple agent-based model (ABM). ABM is of interest because it is inherently hierarchical, but the interaction between agents does not always lead to tractable mathematical formulation. In addition, the resulting formulation can be either vague, involving little to no equations, or extremely complex, involving a large amount of parameters and equations, making meaningful inference difficult. \n",
    "\n",
    "Neural surrogates have proven to be one of the promising approaches for extracting model parameters for ABM. As an example, we use BayesFlow for the posterior estimation for a simple ABM: the [Vicsek model](https://en.wikipedia.org/wiki/Vicsek_model). The model, which characterizes the dynamic of collective motion, has found numerous applications from simulating active Brownian particles, from modeling social dynamics.\n",
    "\n",
    "The model is formulated as follows:\n",
    "\n",
    "\\begin{align}\n",
    "    \\theta_{j, t} &= \\langle \\theta_{i, t}\\rangle_{|r_j - r_i| < r} + \\eta_{j,t-1}, \\\\\n",
    "    \\mathbf{x}_{j,t} &= \\mathbf{x}_{j,t-1} + v \\mathrm{d}t\n",
    "    \\begin{bmatrix}\n",
    "        \\cos \\theta_{j, t} \\\\\n",
    "        \\sin \\theta_{j, t}\n",
    "    \\end{bmatrix},\n",
    "\\end{align}\n",
    "\n",
    "where\n",
    "\n",
    "* $\\theta_{j, t}, \\theta_{i, t}$ is the heading direction of agent $j$ and $i$ at a given time $t$. Here, $i$ is the neighboring agent of $j$ within a perception distance $r$;\n",
    "* $\\eta_{j, t-1} \\sim \\mathcal{U}(-\\mu_j, \\mu_j)$ is a rotational noise for agent $j$. In addition to uniform sampling, this noise can also be sampled from  Gaussian or von Mises distributions;\n",
    "* $\\mathbf{x}_{j, t}$ is the position of agent $j$ as a given time $t$; and\n",
    "* $v$ is the speed of agent $j$."
   ]
  },
  {
   "cell_type": "code",
   "execution_count": 5,
   "metadata": {},
   "outputs": [],
   "source": [
    "# Constants\n",
    "NUM_AGENTS = 49     # Number of agents\n",
    "TIME_STEPS = 1000   # Number of time steps\n",
    "BOUND_SIZE = 10     # Size of the square domain\n",
    "\n",
    "# Parameter names\n",
    "PARAM_NAMES = [r\"$\\mu_j$\", r\"$r_j$\", r\"$v_j$\"]"
   ]
  },
  {
   "cell_type": "markdown",
   "metadata": {},
   "source": [
    "### Hyperpriors and Priors\n",
    "\n"
   ]
  },
  {
   "cell_type": "code",
   "execution_count": null,
   "metadata": {},
   "outputs": [],
   "source": [
    "def prior_fun(rng=None):\n",
    "\n",
    "    if rng is None:\n",
    "        rng = np.random.default_rng()\n",
    "    \n",
    "    "
   ]
  },
  {
   "cell_type": "code",
   "execution_count": null,
   "metadata": {},
   "outputs": [],
   "source": [
    "# Parameters\n",
    "num_agents = 100\n",
    "L = 10.0  # size of the square domain\n",
    "v = 0.03  # speed of agents\n",
    "eta = 0.1  # noise amplitude\n",
    "r = 1.0  # interaction radius\n",
    "time_steps = 300\n",
    "\n",
    "# Initialize agents with random positions and directions\n",
    "positions = np.random.rand(num_agents, 2) * L\n",
    "angles = np.random.rand(num_agents) * 2 * np.pi\n",
    "velocities = np.vstack((np.cos(angles), np.sin(angles))).T * v\n",
    "\n",
    "def update_positions(positions, velocities, L):\n",
    "    positions += velocities\n",
    "    positions %= L  # Periodic boundary conditions\n",
    "    return positions\n",
    "\n",
    "def update_velocities(positions, velocities, eta, r, L):\n",
    "    new_velocities = np.zeros_like(velocities)\n",
    "    for i, pos in enumerate(positions):\n",
    "        # Find neighbors within radius r\n",
    "        distances = np.linalg.norm(positions - pos, axis=1)\n",
    "        neighbors = np.where(distances < r)[0]\n",
    "\n",
    "        # Compute average direction\n",
    "        avg_direction = np.arctan2(np.mean(np.sin(angles[neighbors])), np.mean(np.cos(angles[neighbors])))\n",
    "        new_angle = avg_direction + eta * (np.random.rand() - 0.5)\n",
    "        new_velocities[i] = np.array([np.cos(new_angle), np.sin(new_angle)]) * v\n",
    "\n",
    "    return new_velocities\n",
    "\n",
    "# Simulation\n",
    "\n",
    "\n",
    "for _ in range(time_steps):\n",
    "    velocities = update_velocities(positions, velocities, eta, r, L)\n",
    "    positions = update_positions(positions, velocities, L)\n",
    "\n",
    "    # Visualization (optional)\n",
    "    plt.clf()\n",
    "    plt.quiver(positions[:, 0], positions[:, 1], velocities[:, 0], velocities[:, 1])\n",
    "    plt.xlim(0, L)\n",
    "    plt.ylim(0, L)\n",
    "    plt.pause(0.01)\n",
    "\n",
    "plt.show()"
   ]
  }
 ],
 "metadata": {
  "kernelspec": {
   "display_name": "Python 3",
   "language": "python",
   "name": "python3"
  },
  "language_info": {
   "codemirror_mode": {
    "name": "ipython",
    "version": 3
   },
   "file_extension": ".py",
   "mimetype": "text/x-python",
   "name": "python",
   "nbconvert_exporter": "python",
   "pygments_lexer": "ipython3",
   "version": "3.10.11"
  }
 },
 "nbformat": 4,
 "nbformat_minor": 2
}
