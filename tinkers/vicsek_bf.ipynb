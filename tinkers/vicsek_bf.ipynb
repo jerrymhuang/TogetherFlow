{
 "cells": [
  {
   "cell_type": "code",
   "execution_count": 1,
   "metadata": {},
   "outputs": [
    {
     "name": "stderr",
     "output_type": "stream",
     "text": [
      "WARNING:tensorflow:From C:\\Users\\Gerald Wong\\AppData\\Local\\Packages\\PythonSoftwareFoundation.Python.3.10_qbz5n2kfra8p0\\LocalCache\\local-packages\\Python310\\site-packages\\keras\\src\\losses.py:2976: The name tf.losses.sparse_softmax_cross_entropy is deprecated. Please use tf.compat.v1.losses.sparse_softmax_cross_entropy instead.\n",
      "\n",
      "WARNING:tensorflow:From C:\\Users\\Gerald Wong\\AppData\\Local\\Packages\\PythonSoftwareFoundation.Python.3.10_qbz5n2kfra8p0\\LocalCache\\local-packages\\Python310\\site-packages\\tensorflow_probability\\python\\internal\\backend\\numpy\\_utils.py:48: The name tf.logging.TaskLevelStatusMessage is deprecated. Please use tf.compat.v1.logging.TaskLevelStatusMessage instead.\n",
      "\n",
      "WARNING:tensorflow:From C:\\Users\\Gerald Wong\\AppData\\Local\\Packages\\PythonSoftwareFoundation.Python.3.10_qbz5n2kfra8p0\\LocalCache\\local-packages\\Python310\\site-packages\\tensorflow_probability\\python\\internal\\backend\\numpy\\_utils.py:48: The name tf.control_flow_v2_enabled is deprecated. Please use tf.compat.v1.control_flow_v2_enabled instead.\n",
      "\n",
      "C:\\Users\\Gerald Wong\\AppData\\Local\\Packages\\PythonSoftwareFoundation.Python.3.10_qbz5n2kfra8p0\\LocalCache\\local-packages\\Python310\\site-packages\\bayesflow\\trainers.py:27: TqdmExperimentalWarning: Using `tqdm.autonotebook.tqdm` in notebook mode. Use `tqdm.tqdm` instead to force console mode (e.g. in jupyter console)\n",
      "  from tqdm.autonotebook import tqdm\n"
     ]
    }
   ],
   "source": [
    "import numpy as np\n",
    "import matplotlib.pyplot as plt\n",
    "import seaborn as sns\n",
    "\n",
    "import bayesflow as bf\n",
    "from functools import partial"
   ]
  },
  {
   "cell_type": "markdown",
   "metadata": {},
   "source": [
    "# Amortized Posterior Estimation for Simple Agent-Based Model\n",
    "**Vicsek Model in BayesFlow** \n",
    "\n",
    "In this notebook, we demonstrate amortized posterior estimation for a simple agent-based model (ABM). ABM is of interest because it is inherently hierarchical, but the interaction between agents does not always lead to tractable mathematical formulation. In addition, the resulting formulation can be either vague, involving little to no equations, or extremely complex, involving a large amount of parameters and equations, making meaningful inference difficult. \n",
    "\n",
    "Neural surrogates have proven to be one of the promising approaches for extracting model parameters for ABM. As an example, we use BayesFlow for the posterior estimation for a simple ABM: the [Vicsek model](https://en.wikipedia.org/wiki/Vicsek_model). The model, which characterizes the dynamic of collective motion, has found numerous applications from simulating active Brownian particles, from modeling social dynamics.\n",
    "\n",
    "The model is formulated as follows:\n",
    "\n",
    "\\begin{align}\n",
    "    \\theta_{j, t} &= \\langle \\theta_{i, t}\\rangle_{|r_j - r_i| < r} + \\eta_{j,t-1}, \\\\\n",
    "    \\mathbf{x}_{j,t} &= \\mathbf{x}_{j,t-1} + v \\mathrm{d}t\n",
    "    \\begin{bmatrix}\n",
    "        \\cos \\theta_{j, t} \\\\\n",
    "        \\sin \\theta_{j, t}\n",
    "    \\end{bmatrix},\n",
    "\\end{align}\n",
    "\n",
    "where\n",
    "\n",
    "* $\\theta_{j, t}, \\theta_{i, t}$ is the heading direction of agent $j$ and $i$ at a given time $t$. Here, $i$ is the neighboring agent of $j$ within a perception distance $r$;\n",
    "* $\\eta_{j, t-1} \\sim \\mathcal{U}(-\\mu_j, \\mu_j)$ is a rotational noise for agent $j$. In addition to uniform sampling, this noise can also be sampled from  Gaussian or von Mises distributions;\n",
    "* $\\mathbf{x}_{j, t}$ is the position of agent $j$ as a given time $t$; and\n",
    "* $v$ is the speed of agent $j$."
   ]
  },
  {
   "cell_type": "code",
   "execution_count": 2,
   "metadata": {},
   "outputs": [],
   "source": [
    "# Constants\n",
    "NUM_AGENTS = 49\n",
    "TIME_STEPS = 1000\n",
    "BOUND_SIZE = 10\n",
    "\n",
    "# Parameter names\n",
    "PARAM_NAMES = [r\"$\\mu_j$\", r\"$r$\", r\"$v$\"]"
   ]
  },
  {
   "cell_type": "markdown",
   "metadata": {},
   "source": [
    "### Hyperpriors and Priors\n",
    "\n"
   ]
  },
  {
   "cell_type": "code",
   "execution_count": null,
   "metadata": {},
   "outputs": [],
   "source": [
    "# Parameters\n",
    "num_agents = 100\n",
    "L = 10.0  # size of the square domain\n",
    "v = 0.03  # speed of agents\n",
    "eta = 0.1  # noise amplitude\n",
    "r = 1.0  # interaction radius\n",
    "time_steps = 300\n",
    "\n",
    "# Initialize agents with random positions and directions\n",
    "positions = np.random.rand(num_agents, 2) * L\n",
    "angles = np.random.rand(num_agents) * 2 * np.pi\n",
    "velocities = np.vstack((np.cos(angles), np.sin(angles))).T * v\n",
    "\n",
    "def update_positions(positions, velocities, L):\n",
    "    positions += velocities\n",
    "    positions %= L  # Periodic boundary conditions\n",
    "    return positions\n",
    "\n",
    "def update_velocities(positions, velocities, eta, r, L):\n",
    "    new_velocities = np.zeros_like(velocities)\n",
    "    for i, pos in enumerate(positions):\n",
    "        # Find neighbors within radius r\n",
    "        distances = np.linalg.norm(positions - pos, axis=1)\n",
    "        neighbors = np.where(distances < r)[0]\n",
    "\n",
    "        # Compute average direction\n",
    "        avg_direction = np.arctan2(np.mean(np.sin(angles[neighbors])), np.mean(np.cos(angles[neighbors])))\n",
    "        new_angle = avg_direction + eta * (np.random.rand() - 0.5)\n",
    "        new_velocities[i] = np.array([np.cos(new_angle), np.sin(new_angle)]) * v\n",
    "\n",
    "    return new_velocities\n",
    "\n",
    "# Simulation\n",
    "for _ in range(time_steps):\n",
    "    velocities = update_velocities(positions, velocities, eta, r, L)\n",
    "    positions = update_positions(positions, velocities, L)\n",
    "\n",
    "    # Visualization (optional)\n",
    "    plt.clf()\n",
    "    plt.quiver(positions[:, 0], positions[:, 1], velocities[:, 0], velocities[:, 1])\n",
    "    plt.xlim(0, L)\n",
    "    plt.ylim(0, L)\n",
    "    plt.pause(0.01)\n",
    "\n",
    "plt.show()"
   ]
  }
 ],
 "metadata": {
  "kernelspec": {
   "display_name": "Python 3",
   "language": "python",
   "name": "python3"
  },
  "language_info": {
   "codemirror_mode": {
    "name": "ipython",
    "version": 3
   },
   "file_extension": ".py",
   "mimetype": "text/x-python",
   "name": "python",
   "nbconvert_exporter": "python",
   "pygments_lexer": "ipython3",
   "version": "3.10.11"
  }
 },
 "nbformat": 4,
 "nbformat_minor": 2
}
