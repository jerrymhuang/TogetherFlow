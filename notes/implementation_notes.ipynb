{
 "cells": [
  {
   "cell_type": "code",
   "execution_count": null,
   "metadata": {},
   "outputs": [],
   "source": []
  },
  {
   "cell_type": "markdown",
   "metadata": {},
   "source": [
    "Rotational matrix\n",
    "\n",
    "\\begin{equation}\n",
    "    \\mathbf{R}(\\theta) = \n",
    "    \\begin{bmatrix}\n",
    "        \\cos(\\theta) & -\\sin(\\theta) \\\\\n",
    "        \\sin(\\theta) & \\cos(\\theta)\n",
    "    \\end{bmatrix}\n",
    "\\end{equation}"
   ]
  },
  {
   "cell_type": "markdown",
   "metadata": {},
   "source": [
    "The forward model should be a couple of things (or better):\n",
    "\n",
    "* There needs to be a dispersion rate in place for the attention. This dispersion rate is used to model the half-life of attention to a certain object once it is fixated to a target;\n",
    "* There also needs to be a way to model the process as a 2D Brownian random walk."
   ]
  },
  {
   "cell_type": "markdown",
   "metadata": {},
   "source": []
  }
 ],
 "metadata": {
  "language_info": {
   "name": "python"
  }
 },
 "nbformat": 4,
 "nbformat_minor": 2
}
