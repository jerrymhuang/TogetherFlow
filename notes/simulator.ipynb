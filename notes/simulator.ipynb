{
 "cells": [
  {
   "cell_type": "code",
   "execution_count": 1,
   "metadata": {},
   "outputs": [],
   "source": [
    "import numpy as np \n",
    "import matplotlib.pyplot as plt \n",
    "import seaborn as sns\n",
    "import pandas as pd \n",
    "\n",
    "# SciPy-related functions\n",
    "from scipy.stats import multivariate_normal, exponnorm, norm\n",
    "from scipy.special import erf, erfc \n",
    "from scipy.stats.qmc import PoissonDisk\n",
    "\n",
    "# scikit-learn-related functions\n",
    "from sklearn.mixture import BayesianGaussianMixture\n",
    "\n",
    "# Suppress scientific notation for floats\n",
    "np.set_printoptions(suppress=True)\n",
    "\n",
    "# Ensure repearable randomness\n",
    "RNG = np.random.default_rng(2024)"
   ]
  },
  {
   "cell_type": "markdown",
   "metadata": {},
   "source": [
    "# Group Attention Simulator for Immersive Rooms\n",
    "\n",
    "This notebook describes an exploratory simulator that captures the attentional distribution in immersive rooms using a physically-based model of human agent movement. Although the simulator will be eventually incorporated in the Unity game engine, the mathematical definition of agent attention is best prototyped in isolation using NumPy. Therefore, to help clarifying thoughts, I will describe here in mathematical terms how agent attention is represented in the immersive room, and how the movement of agent group is imprinted as the room's attentional memory."
   ]
  },
  {
   "cell_type": "markdown",
   "metadata": {},
   "source": [
    "### Part 0: Some Background\n",
    "\n",
    "The starting point of this simulator comes from the theory of proxemics, proposed in Edward T. Hall's [*The Hidden Dimension*](https://archive.org/details/hiddendimensionhall00hall/page/n9/mode/2up). In his book, he specified a series of distance-based measures that thresholds the spatial boundaries of human interactions. This has inspired some coarse simulation of human agent behavior in early developments of physically-realistic virtual environment (see [Yan and Kalay, 2006](https://link.springer.com/chapter/10.1007/978-1-4020-5131-9_4)). Here, we adopt it conceptually as a toy model, with some variations.\n",
    "\n",
    "For this simulator, we do not seek to replicate exactly the distance thresholds outlined in these works. Instead, to account for individual differences in the future, we treat these thresholds more liberally. We interpret attention as *the probability that an agent would physically interact with a surrounding target based upon where the agent is located and oriented*. The attention of these agents can then be modeled as a continuous probability distribution in space. Optionally, the discrete thresholds can be used as data points for model fitting."
   ]
  },
  {
   "cell_type": "markdown",
   "metadata": {},
   "source": [
    "### Part 1: Agent Representation\n",
    "\n",
    "We first consider the 2D geometries of agents in the room (seen from the top) as the basis of agent representation. The room has a pre-defined interaction boundary $\\Omega$ that constrains its physical dimensions. Let $a = 1, 2, ..., A$ be the agents present in the immersive room. They each have positions $\\mathbf{x}_a = (x_a, y_a)$ and orientations $\\theta_a$. These parameters allow us to create two types of agent-based attentional distributions in the room, $w_a$:\n",
    "\n",
    "<p align=\"center\"><img src=\"../assets/attentional_weights.png\" width=\"400\"></p>\n",
    "\n",
    "1) Proximity-based attentional weight, $w(x, y)$. This is a function of attentional probability based solely on how closely gathered agents are, as per Hall's original theory. For each agent $a$, this can be represented as a 2D spherical Gaussian distribution in the room:\n",
    "\n",
    "$$\n",
    "\\begin{equation}\n",
    "    w_a(x, y) = \\exp \\left(-\\frac{(x - x_a)^2 + (y - y_a)^2}{2\\sigma_a^2} \\right).\n",
    "\\end{equation}\n",
    "$$"
   ]
  },
  {
   "cell_type": "code",
   "execution_count": 2,
   "metadata": {},
   "outputs": [],
   "source": [
    "# Proximity-based attentional weight\n",
    "def proximity_based_weight(base, mu, sigma=1):\n",
    "    \"\"\"\n",
    "    Proximity-based attentional_weight. \n",
    "    This is done in deterministic calculation.\n",
    "\n",
    "    Parameters:\n",
    "    -----------\n",
    "    position    : array-like\n",
    "        Spatial positions of the agent as the mean of this weight in space.\n",
    "\n",
    "    spread      : array-like\n",
    "        Distance-based spread of the weight as spherical covariance matrix.\n",
    "\n",
    "    Returns:\n",
    "    -----------\n",
    "    Attentional weight of a single agent in free space based solely upon proximity.\n",
    "    \"\"\"\n",
    "    return multivariate_normal(mu, sigma).pdf(base)"
   ]
  },
  {
   "cell_type": "code",
   "execution_count": 3,
   "metadata": {},
   "outputs": [
    {
     "data": {
      "image/png": "[encoded data removed]",
      "text/plain": [
       "<Figure size 200x200 with 1 Axes>"
      ]
     },
     "metadata": {},
     "output_type": "display_data"
    }
   ],
   "source": [
    "# Visualizing proximity-based attentional weight for a single agent\n",
    "\n",
    "# Define physical dimension and granularity of spatial discretization\n",
    "l, w = np.array([4., 4.])\n",
    "hl, hw = l/2, w/2\n",
    "d = 0.05\n",
    "\n",
    "# Create a data grid for the footprint\n",
    "x, y = np.mgrid[-hl:hl+d:d, -hw:hw+d:d]\n",
    "grid = np.dstack((x, y))\n",
    "\n",
    "# Generate agent positions\n",
    "weight = proximity_based_weight(grid, mu=[0, 0])\n",
    "\n",
    "# Plotting this\n",
    "f, ax = plt.subplots(1, 1, figsize=(hl, hw))\n",
    "f = plt.contourf(x, y, weight)\n"
   ]
  },
  {
   "cell_type": "markdown",
   "metadata": {},
   "source": [
    "2) Orientation-based attentional weight, $w(x, y, r, \\theta)$. This is a function based on both the agents' distances and their orientations. Different from the proximity-based attentional weight, this attentional weight is biased towards the front side of the agent, where peripheral information on the back side contributes less. \n",
    "\n",
    "$$\n",
    "\\begin{equation}\n",
    "    w_a(x, y, r, \\theta) = \\exp \\left(-\\frac{(x - x_a - r \\cos \\theta_a)^2 + (y - y_a - r \\sin \\theta_a)^2}{2\\sigma_a^2} \\right).\n",
    "\\end{equation}\n",
    "$$\n",
    "\n",
    "where\n",
    "\n",
    "$$\n",
    "\\begin{equation}\n",
    "    r(z) = 1 - z, \\quad z \\in [0, 1].\n",
    "\\end{equation}\n",
    "$$\n",
    "\n",
    "Note: $z$ is on the same axis as $w_a$. This is where I'm stuck. Although this weight is visually intuitive, the exact mathematical formulation here is not very clear. As a placeholder, I will use exponentially-modified normal distribution, for now."
   ]
  },
  {
   "cell_type": "code",
   "execution_count": null,
   "metadata": {},
   "outputs": [],
   "source": [
    "# Orientation-based attention weight:\n",
    "def orientation_based_weight(base, r, theta, mu, sigma=1):\n",
    "    \"\"\"\n",
    "    TODO\n",
    "    \"\"\"\n",
    "    \n",
    "    return weight"
   ]
  },
  {
   "cell_type": "code",
   "execution_count": null,
   "metadata": {},
   "outputs": [],
   "source": [
    "# Visualizing proximity-based attentional weight for a single agent\n",
    "\n",
    "# Define physical dimension and granularity of spatial discretization\n",
    "l, w = np.array([4., 4.])\n",
    "hl, hw = l/2, w/2\n",
    "d = 0.05\n",
    "\n",
    "# Create a data grid for the room's footprint\n",
    "x, y = np.mgrid[-hl:hl+d:d, -hw:hw+d:d]\n",
    "grid = np.dstack((x, y))\n",
    "\n",
    "# Generate agent positions\n",
    "# weight = orientation_based_weight(grid, position=[0, 0])\n",
    "\n",
    "# Plotting this\n",
    "#f, ax = plt.subplots(1, 1, figsize=(hl, hw))\n",
    "#f = plt.contourf(x, y, weight)"
   ]
  },
  {
   "cell_type": "markdown",
   "metadata": {},
   "source": [
    "The imprint of these attention distribution can be seen as as a Gaussian mixture:\n",
    "\n",
    "$$\n",
    "\\begin{equation}\n",
    "    w(x, y) = \\sum_a w_a(x, y)\n",
    "\\end{equation}\n",
    "$$\n",
    "\n",
    "We use Poisson disc sampling as the initial condition for the agents' attention distribution in the room, implemented below."
   ]
  },
  {
   "cell_type": "code",
   "execution_count": null,
   "metadata": {},
   "outputs": [],
   "source": [
    "def sample_multiple_agent_positions(radius=0.5, N=24):\n",
    "    from scipy.stats.qmc import PoissonDisk\n",
    "    \"\"\"\n",
    "    Get multiple agent positions in random, using the Poisson Disc method.\n",
    "\n",
    "    Parameters:\n",
    "    -----------\n",
    "    radius  : float\n",
    "        Distance between each agent position.\n",
    "\n",
    "    N       : int\n",
    "        Maximum number of agent positions.\n",
    "\n",
    "    Returns:\n",
    "    -----------\n",
    "    An array of agent positions.\n",
    "    \"\"\"\n",
    "    engine = PoissonDisk(2, radius=radius)\n",
    "    return engine.random(N)\n",
    "    \n",
    "def sample_proximal_weights(base, positions, spread=1):\n",
    "    \"\"\"\n",
    "    Generate a map of weight that represents the spatial distribution of \n",
    "    proximity between agents as a Gaussian mixture.\n",
    "\n",
    "    Parameters:\n",
    "    -----------\n",
    "    base        : array-like\n",
    "        Spatial grid of the room.\n",
    "\n",
    "    positions   : array-like\n",
    "        Sampled array of agent positions.\n",
    "\n",
    "    spread      : int\n",
    "        Scale factor of spatial attentional variance for each agent.\n",
    "\n",
    "    Returns:\n",
    "    -----------\n",
    "    A spatial distribution of attentional weight.\n",
    "    \"\"\"\n",
    "    weights = np.zeros(base.shape[:2])\n",
    "    for p in positions:\n",
    "        weights += proximity_based_weight(base, p, np.eye(2) * spread)\n",
    "    return weights / positions.shape[0]"
   ]
  },
  {
   "cell_type": "markdown",
   "metadata": {},
   "source": [
    "The contour plot below shows the attentional distribution in ROIS as a snapshot."
   ]
  },
  {
   "cell_type": "code",
   "execution_count": null,
   "metadata": {},
   "outputs": [],
   "source": [
    "# Visualizing the attentional weights\n",
    "\n",
    "# Define physical dimension and granularity of spatial discretization\n",
    "l, w = np.array([8., 10.])\n",
    "hl, hw = l/2, w/2\n",
    "d = 0.05\n",
    "\n",
    "# Create a data grid for the footprint\n",
    "x, y = np.mgrid[-hl:hl+d:d, -hw:hw+d:d]\n",
    "grid = np.dstack((x, y))\n",
    "\n",
    "# Generate agent positions\n",
    "positions = sample_multiple_agent_positions(radius=0.25) * (l, w) - (hl, hw)\n",
    "proximal_weights = sample_proximal_weights(grid, positions, spread=0.75)\n",
    "\n",
    "# Plotting this\n",
    "f, ax = plt.subplots(1, 1, figsize=(hl, hw))\n",
    "f = plt.contourf(x, y, proximal_weights)"
   ]
  },
  {
   "cell_type": "markdown",
   "metadata": {},
   "source": [
    "### Part 2: Agent Movement\n",
    "\n",
    "For the simplest simulation of agent movement, we use a simple multi-point attractor framework. The agents simply walk directly to the object closest to them."
   ]
  },
  {
   "cell_type": "code",
   "execution_count": null,
   "metadata": {},
   "outputs": [],
   "source": [
    "def attract(agent_positions, object_positions, bound, dt = 0.001, max_time = 1.):\n",
    "    from scipy.spatial import distance\n",
    "    \"\"\"\n",
    "    A simple attractor framework for simulating agent movement. \n",
    "\n",
    "    Parameters:\n",
    "    -----------\n",
    "    agent_positions : np.array\n",
    "        An array of agent positions.\n",
    "    \n",
    "    object_positions : np.array\n",
    "        An array of object positions.\n",
    "\n",
    "    dt : float\n",
    "        Time interval per update.\n",
    "    \n",
    "    max_time : float\n",
    "        Duration of simulation.\n",
    "    \n",
    "    Returns:\n",
    "    --------\n",
    "    new_agent_positions : np.array\n",
    "        An array of agent positions at the end of the simulation.\n",
    "    \"\"\"\n",
    "\n",
    "    # Get the count of agent and objects\n",
    "    num_agents, num_objects = agent_positions.shape[0], object_positions.shape[0]\n",
    "    new_agent_positions = agent_positions.copy()\n",
    "\n",
    "    # Initialize a NumPy array of distances and angles\n",
    "    distances = np.zeros((num_agents, num_objects))\n",
    "    target_ids = np.zeros(num_agents, dtype=np.int16)\n",
    "\n",
    "    t = 0.\n",
    "    # I will vectorize / refactor this later.\n",
    "    while t < max_time:\n",
    "\n",
    "        # Compute distances\n",
    "        for a in range(num_agents):\n",
    "            for b in range(num_objects):\n",
    "                distances[a,b] = distance.euclidean(agent_positions[a], object_positions[b])\n",
    "                \n",
    "                # Identify targets for each agent\n",
    "                target_ids[a] = np.argmin(distances[a])\n",
    "            \n",
    "                #Update positions\n",
    "                if np.abs(new_agent_positions[a, 0]) <= bound[0] and np.abs(new_agent_positions[a, 1]) <= bound[1]:\n",
    "                    new_agent_positions[a] += np.subtract(object_positions[target_ids[a]], agent_positions[a]) * dt\n",
    "    \n",
    "        t += dt\n",
    "    return new_agent_positions"
   ]
  },
  {
   "cell_type": "code",
   "execution_count": null,
   "metadata": {},
   "outputs": [],
   "source": [
    "agent_starts = sample_multiple_agent_positions(radius=0.25) * (l, w) - (hl, hw)\n",
    "objects = np.array([[1., 10.], [7., 1.], [-2., -9.], [-7., -2.], [0., 0.]])\n",
    "\n",
    "agent_ends = attract(agent_starts, objects, bound=[4, 5])\n",
    "\n",
    "start_weights = sample_proximal_weights(grid, agent_starts, spread=0.75)\n",
    "end_weights = sample_proximal_weights(grid, agent_ends, spread=0.75)\n",
    "\n",
    "# Plotting this\n",
    "f, (ax1, ax2) = plt.subplots(1, 2, figsize=(2*hl, hw))\n",
    "plt.suptitle(\"Simple Target Approach\")\n",
    "ax1.contourf(x, y, start_weights)\n",
    "ax2.contourf(x, y, end_weights)"
   ]
  },
  {
   "cell_type": "markdown",
   "metadata": {},
   "source": [
    "(Can this be turned into a 2D random walk?)"
   ]
  },
  {
   "cell_type": "markdown",
   "metadata": {},
   "source": [
    "(Need to ask Stefan about good ways to make animations.)"
   ]
  },
  {
   "cell_type": "markdown",
   "metadata": {},
   "source": [
    "### Part 3: Clustering\n",
    "\n",
    "We can use K-mean clustering to extract attentional agent groups. However, K-mean clustering does not take into account the variance of the clusters. This means that we cannot accurately describe the size of these clusters, which is important when we try to assess how many people are within a cluster. \n",
    "\n",
    "The more appropriate clustering algorithm would be the [expectation-maximization (EM) algorithm](https://en.wikipedia.org/wiki/Expectation%E2%80%93maximization_algorithm#Gaussian_mixture) for a Gaussian mixture model. The EM algorithm is also advantageous because of its probabilistic nature."
   ]
  },
  {
   "cell_type": "code",
   "execution_count": null,
   "metadata": {},
   "outputs": [],
   "source": [
    "def sample_cluster(weights):\n",
    "    "
   ]
  },
  {
   "cell_type": "markdown",
   "metadata": {},
   "source": [
    "To take it one step further, we can use Variational Bayesian (VB) method for the same thing. The difference between VB and EM is exactly what to use for estimation. While EM estimates from sampled data points, VB estimates the entire distribution."
   ]
  },
  {
   "cell_type": "code",
   "execution_count": null,
   "metadata": {},
   "outputs": [],
   "source": [
    "# TODO"
   ]
  },
  {
   "cell_type": "markdown",
   "metadata": {},
   "source": [
    "### Part 4: Trajectory Simulation\n",
    "\n",
    "Comparing trajectories using [dynamic time warping (DTW)](https://academic.oup.com/jrsssc/article/67/5/1147/7058405?login=false) algorithm."
   ]
  },
  {
   "cell_type": "code",
   "execution_count": null,
   "metadata": {},
   "outputs": [],
   "source": [
    "# TODO"
   ]
  },
  {
   "cell_type": "markdown",
   "metadata": {},
   "source": []
  }
 ],
 "metadata": {
  "kernelspec": {
   "display_name": "Python 3",
   "language": "python",
   "name": "python3"
  },
  "language_info": {
   "codemirror_mode": {
    "name": "ipython",
    "version": 3
   },
   "file_extension": ".py",
   "mimetype": "text/x-python",
   "name": "python",
   "nbconvert_exporter": "python",
   "pygments_lexer": "ipython3",
   "version": "3.10.11"
  }
 },
 "nbformat": 4,
 "nbformat_minor": 2
}
