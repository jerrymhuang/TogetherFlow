{
 "cells": [
  {
   "cell_type": "markdown",
   "metadata": {},
   "source": [
    "# Papers\n",
    "\n",
    "This notebook is used to keep track of, and communicate, the (potentially) useful papers for TogetherFlow. "
   ]
  },
  {
   "cell_type": "markdown",
   "metadata": {},
   "source": [
    "### Background"
   ]
  },
  {
   "cell_type": "markdown",
   "metadata": {},
   "source": [
    "### Simulator and model formulation\n",
    "\n",
    "Some of these may not be useful.\n",
    "* [Borra et al. (2021)](https://iopscience.iop.org/article/10.1088/1742-5468/ac12c6), \"Optimal collision avoidance in swarms of active Brownian particles.\"\n",
    "* "
   ]
  },
  {
   "cell_type": "markdown",
   "metadata": {},
   "source": []
  }
 ],
 "metadata": {
  "language_info": {
   "name": "python"
  }
 },
 "nbformat": 4,
 "nbformat_minor": 2
}
