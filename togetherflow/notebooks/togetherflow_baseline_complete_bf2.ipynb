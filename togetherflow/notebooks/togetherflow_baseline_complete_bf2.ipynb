{
 "cells": [
  {
   "cell_type": "code",
   "id": "71e7191bf6adf270",
   "metadata": {
    "ExecuteTime": {
     "end_time": "2025-07-30T16:36:43.721231Z",
     "start_time": "2025-07-30T16:36:43.682838Z"
    }
   },
   "source": [
    "%load_ext autoreload\n",
    "%autoreload 2"
   ],
   "outputs": [],
   "execution_count": 1
  },
  {
   "cell_type": "code",
   "id": "cf0cffd476ccf4cd",
   "metadata": {
    "ExecuteTime": {
     "end_time": "2025-07-30T16:38:24.074113Z",
     "start_time": "2025-07-30T16:38:24.050667Z"
    }
   },
   "source": [
    "import os\n",
    "if \"KERAS_BACKEND\" not in os.environ:\n",
    "    # set this to \"torch\", \"tensorflow\", or \"jax\"\n",
    "    os.environ[\"KERAS_BACKEND\"] = \"jax\"\n",
    "\n",
    "import keras\n",
    "import numpy as np\n",
    "import bayesflow as bf\n",
    "\n",
    "np.set_printoptions(suppress=True)\n",
    "\n",
    "from togetherflow.old.boundary_conditions import bound_agent_position\n",
    "from togetherflow.old.priors import complete_pooling_prior\n",
    "\n",
    "# Trying numba again with a wrapper\n",
    "from numba import njit"
   ],
   "outputs": [],
   "execution_count": 7
  },
  {
   "cell_type": "markdown",
   "id": "623755d3f637f5fe",
   "metadata": {},
   "source": [
    "## Generative Model Definition\n",
    "\n",
    "The movement of any agent $a = 1, ..., A$ is both related to: 1) its interaction with surrounding neighbors $i = 1, ..., I$, which we call *internal influence*, and 2) their motivation to the surrounding spatial objects $b = 1, ..., B$, which we call *external influence*. These influences are modulated by a stationary weight, $w_a$:\n",
    "\n",
    "\\begin{equation}\n",
    "    \\theta_{a, t} = w_a \\theta_{a|j, t} + (1 - w_a) \\theta_{a|i, t}.\n",
    "\\end{equation}"
   ]
  },
  {
   "cell_type": "markdown",
   "id": "7c597724cb72656c",
   "metadata": {},
   "source": [
    "### Meta-Variables\n",
    "\n",
    "First, we define some meta-variables, such as the number of agents to simulate, the number of spatial beacons present in the environment, etc."
   ]
  },
  {
   "cell_type": "code",
   "id": "e78ab1f1dba7dd9b",
   "metadata": {
    "ExecuteTime": {
     "end_time": "2025-07-30T16:39:02.623820Z",
     "start_time": "2025-07-30T16:39:02.603625Z"
    }
   },
   "source": [
    "num_agents = 12\n",
    "num_beacons = 2\n",
    "room_size = (8., 10.)\n",
    "world_size = 25."
   ],
   "outputs": [],
   "execution_count": 19
  },
  {
   "cell_type": "markdown",
   "id": "1d7e42c6024224dc",
   "metadata": {},
   "source": [
    "### Agent Initialization"
   ]
  },
  {
   "cell_type": "code",
   "id": "69955ec69ce490f7",
   "metadata": {
    "ExecuteTime": {
     "end_time": "2025-07-30T16:39:03.224397Z",
     "start_time": "2025-07-30T16:39:03.205497Z"
    }
   },
   "source": [
    "@njit\n",
    "def initialize_agents(\n",
    "    num_agents: int = 12,\n",
    "    room_size: tuple = (8., 10.),\n",
    "):\n",
    "    \"\"\"\n",
    "    Generate random positions and orientations for agents.\n",
    "\n",
    "    Parameters\n",
    "    ----------\n",
    "    num_agents : int, optional\n",
    "        Number of agents to generate (default is 100).\n",
    "    room_size : float, optional\n",
    "        The size of the boundary within which positions are generated (default is 100.0).\n",
    "\n",
    "    Returns\n",
    "    -------\n",
    "    tuple of np.ndarray\n",
    "        A tuple containing the positions (np.ndarray) and orientations (np.ndarray) of the agents.\n",
    "    \"\"\"\n",
    "\n",
    "    # Generate random positions within the boundary size centered at 0\n",
    "    x = (np.random.random(size=num_agents).astype(np.float32) - 0.5) * room_size[0]\n",
    "    y = (np.random.random(size=num_agents).astype(np.float32) - 0.5) * room_size[1]\n",
    "    positions = np.vstack((x, y)).T\n",
    "\n",
    "    # Generate random orientations (angles in radians between 0 and 2*pi)\n",
    "    rotations = np.random.random(size=(num_agents, )).astype(np.float32) * np.pi * 2\n",
    "\n",
    "    return positions.astype(np.float32), rotations.astype(np.float32)"
   ],
   "outputs": [],
   "execution_count": 20
  },
  {
   "cell_type": "code",
   "id": "a1dfb303904be884",
   "metadata": {
    "ExecuteTime": {
     "end_time": "2025-07-30T16:39:04.137372Z",
     "start_time": "2025-07-30T16:39:03.412228Z"
    }
   },
   "source": [
    "p, r = initialize_agents(room_size=room_size, num_agents=12)\n",
    "p"
   ],
   "outputs": [
    {
     "data": {
      "text/plain": [
       "array([[-1.3394215 ,  2.4174094 ],\n",
       "       [ 1.8747368 , -4.6533422 ],\n",
       "       [ 1.8248782 ,  1.9362032 ],\n",
       "       [ 2.3480415 , -4.8572206 ],\n",
       "       [-2.9628468 ,  3.0599892 ],\n",
       "       [ 1.3152146 ,  2.7515507 ],\n",
       "       [ 3.564993  , -3.39429   ],\n",
       "       [-3.2865074 , -2.9700112 ],\n",
       "       [ 0.6821952 ,  3.997122  ],\n",
       "       [ 3.3912058 , -4.72216   ],\n",
       "       [-0.54990506, -2.9267333 ],\n",
       "       [-3.142992  ,  1.6552299 ]], dtype=float32)"
      ]
     },
     "execution_count": 21,
     "metadata": {},
     "output_type": "execute_result"
    }
   ],
   "execution_count": 21
  },
  {
   "cell_type": "markdown",
   "id": "3cecc37ae822ed94",
   "metadata": {},
   "source": [
    "### Beacon Initialization"
   ]
  },
  {
   "cell_type": "code",
   "id": "692d0c7b0c12d6b4",
   "metadata": {
    "ExecuteTime": {
     "end_time": "2025-07-30T16:39:04.189122Z",
     "start_time": "2025-07-30T16:39:04.168549Z"
    }
   },
   "source": [
    "@njit\n",
    "def initialize_beacons(\n",
    "        num_beacons = 10,\n",
    "        room_sensing_range = 50.\n",
    "):\n",
    "\n",
    "    \"\"\"\n",
    "    Initialize beacons following a uniform distribution scaled to the room's sensing boundary\n",
    "\n",
    "    Parameters\n",
    "    ----------\n",
    "    num_beacons : int, default: 10\n",
    "        Number of beacons to initialize.\n",
    "    room_sensing_range : float, default: 50.0\n",
    "        Sensing distance of the room for the beacons to matter.\n",
    "\n",
    "    Returns\n",
    "    -------\n",
    "    beacons      : np.ndarray of shape (num_beacons, 2)\n",
    "        Initial positions of the beacons.\n",
    "    \"\"\"\n",
    "\n",
    "    beacons = (np.random.random(size=(num_beacons, 2)) - 0.5) * room_sensing_range\n",
    "    return beacons.astype(np.float32)"
   ],
   "outputs": [],
   "execution_count": 22
  },
  {
   "cell_type": "code",
   "id": "90efc1b2f6f33528",
   "metadata": {
    "ExecuteTime": {
     "end_time": "2025-07-30T16:39:04.747636Z",
     "start_time": "2025-07-30T16:39:04.612852Z"
    }
   },
   "source": [
    "beacon_positions = initialize_beacons(num_beacons=1, room_sensing_range=world_size)\n",
    "beacon_positions"
   ],
   "outputs": [
    {
     "data": {
      "text/plain": [
       "array([[-3.182092 , -5.7833853]], dtype=float32)"
      ]
     },
     "execution_count": 23,
     "metadata": {},
     "output_type": "execute_result"
    }
   ],
   "execution_count": 23
  },
  {
   "cell_type": "markdown",
   "id": "322fa08fd256efed",
   "metadata": {},
   "source": [
    "## External Influence: drift-diffusion vector\n",
    "\n",
    "We want to compute the influence of agent movement direction within a single time step. For this, we specify our internal influence as a 2D drift diffusion model, where the agents are approach a spatial beacon within the room's boundary by reorienting its locomotive direction.\n",
    "\n",
    "\\begin{equation}\n",
    "    \\theta_{a|j, t} = \\theta_{a|j, t-1} + \\omega_a \\mathrm{d}t + \\mathrm{d}\\phi_t,\n",
    "\\end{equation}\n",
    "\n",
    "\\begin{align}\n",
    "    \\mathrm{d}\\mathbf{x}_{a|j, t}\n",
    "    &= v_{a|j}\\mathrm{d}t \\frac{\\mathbf{x}_{a|j}}{||\\mathbf{x}_{a|j}||} + \\sigma_{a|j} \\mathrm{d}\\mathrm{W}_t \\\\\n",
    "    &= v_{a}\\mathrm{d}t\n",
    "    \\begin{bmatrix}\n",
    "        \\cos \\theta_{a|j, t} \\\\\n",
    "        \\sin \\theta_{a|j, t}\n",
    "    \\end{bmatrix} + \\sigma_{a|j} \\mathrm{d}\\mathrm{W}_t,% \\sqrt{\\mathrm{d}t} Z_t.\n",
    "\\end{align}"
   ]
  },
  {
   "cell_type": "code",
   "id": "9530303c0429c6e",
   "metadata": {
    "ExecuteTime": {
     "end_time": "2025-07-30T16:39:06.163490Z",
     "start_time": "2025-07-30T16:39:06.143926Z"
    }
   },
   "source": [
    "@njit\n",
    "def external_influence(\n",
    "    agent_position,\n",
    "    beacon_position,\n",
    "    noise = False,\n",
    "    noise_amplitude = 0.01\n",
    "):\n",
    "    \"\"\"\n",
    "    Generate a drift-diffusion vector in 2D space for a single agent\n",
    "    based on a target location (in this case, the position of a beacon).\n",
    "\n",
    "    Parameters\n",
    "    ----------\n",
    "    agent_position : np.ndarray\n",
    "        The position of the agent.\n",
    "    target_position : np.ndarray\n",
    "        The position of the target beacon.\n",
    "    focus : float, optional\n",
    "        The dispersion of a von Mises distribution for rotational noise influenced by the neighbors.\n",
    "        The higher the value is, the less perturbation there would be.\n",
    "    noise: bool, optional\n",
    "        Whether the focus is interpreted as noise amplitude.\n",
    "\n",
    "    Returns\n",
    "    -------\n",
    "    np.ndarray\n",
    "        A 2D vector representing the drift-diffusion process towards the target (beacon).\n",
    "    \"\"\"\n",
    "    # Calculate the angle towards the beacon (in radian)\n",
    "    beacon_direction = np.arctan2(\n",
    "        beacon_position[1] - agent_position[1],\n",
    "        beacon_position[0] - agent_position[0]\n",
    "    )\n",
    "\n",
    "    # Generate a random direction with drift around the target angle\n",
    "    if noise:\n",
    "        beacon_direction = beacon_direction + (np.random.random() - 0.5) * noise_amplitude\n",
    "        # beacon_direction = beacon_direction + np.random.vonmises(0., 8.) * noise_amplitude\n",
    "\n",
    "    # Convert the angle to a unit vector in 2D space\n",
    "    v = np.array([np.cos(beacon_direction), np.sin(beacon_direction)], dtype=np.float32)\n",
    "\n",
    "    return v"
   ],
   "outputs": [],
   "execution_count": 24
  },
  {
   "cell_type": "markdown",
   "id": "b8186c8f6083f763",
   "metadata": {},
   "source": [
    "## Internal Influence: particle dynamics\n",
    "\n",
    "Its influence by a collective group of agents is modeled as a self-propelling particle system, as expressed in the Vicsek model:\n",
    "\n",
    "\\begin{align}\n",
    "    \\theta_{a|i, t} &= \\langle \\theta_{i, t}\\rangle_{|\\mathbf{x}_a - \\mathbf{x}_i| < r_a, i \\in I} + \\eta_{a,t-1}, \\\\\n",
    "    \\mathrm{d} \\mathbf{x}_{a|i,t} &= v_{a,t} \\mathrm{d}t\n",
    "    \\begin{bmatrix}\n",
    "        \\cos \\theta_{a|i, t} \\\\\n",
    "        \\sin \\theta_{a|i, t}\n",
    "    \\end{bmatrix},\n",
    "\\end{align}"
   ]
  },
  {
   "cell_type": "code",
   "id": "1f7129d3d52d1784",
   "metadata": {
    "ExecuteTime": {
     "end_time": "2025-07-30T16:39:07.087110Z",
     "start_time": "2025-07-30T16:39:07.060078Z"
    }
   },
   "source": [
    "@njit\n",
    "def internal_influence(\n",
    "        self_position,\n",
    "        other_positions,\n",
    "        other_rotations,\n",
    "        sensing_radius = 1.5,\n",
    "        focus = 0.01,\n",
    "        noise = False\n",
    "):\n",
    "    \"\"\"\n",
    "    Generate an influence vector for a single agent\n",
    "    based on the angular component of the Vicsek model.\n",
    "\n",
    "    Parameters\n",
    "    ----------\n",
    "    self_position : np.ndarray of shape (2,)\n",
    "        A 2D vector representing the position of the agent\n",
    "    other_positions : np.ndarray of shape (2,)\n",
    "        A 2D vector representing the positions of the neighboring agents.\n",
    "    other_rotations : np.ndarray of shape (2,)\n",
    "        A 2D vector representing the rotations of the neighboring agents.\n",
    "    sensing_radius : float\n",
    "        The sensing radius within which agents interact with their neighbors.\n",
    "    focus : float, optional\n",
    "        The dispersion of a von Mises distribution for rotational noise influenced by the neighbors.\n",
    "        The higher the value is, the less perturbation there would be.\n",
    "    noise: bool, optional\n",
    "        Whether the focus is interpreted as noise amplitude.\n",
    "\n",
    "    Returns\n",
    "    -------\n",
    "    np.ndarray\n",
    "        A 2D unit vector representing the averaged influence direction with added noise.\n",
    "    \"\"\"\n",
    "\n",
    "    neighbor_rotations = []\n",
    "\n",
    "    for i in range(len(other_positions)):\n",
    "        dx = other_positions[i, 0] - self_position[0]\n",
    "        dy = other_positions[i, 1] - self_position[1]\n",
    "        d = (dx ** 2 + dy ** 2) ** 0.5\n",
    "\n",
    "        if d <= sensing_radius and d > 0:\n",
    "            neighbor_rotations.append(other_rotations[i])\n",
    "\n",
    "    if len(neighbor_rotations) == 0:\n",
    "        return np.array([0.0, 0.0], dtype=np.float32)\n",
    "\n",
    "    neighbor_rotations = np.array(neighbor_rotations)\n",
    "    averaged_rotation = np.sum(neighbor_rotations) / len(neighbor_rotations)\n",
    "\n",
    "    if noise:\n",
    "        deviation = (np.random.random() - 0.5) * focus\n",
    "    else:\n",
    "        deviation = np.random.vonmises(mu=0., kappa=4.) * focus\n",
    "    direction = averaged_rotation + deviation\n",
    "\n",
    "    v = np.array([np.cos(direction), np.sin(direction)], dtype=np.float32)\n",
    "\n",
    "    return v"
   ],
   "outputs": [],
   "execution_count": 25
  },
  {
   "cell_type": "markdown",
   "id": "d0eb58db671d160c",
   "metadata": {},
   "source": [
    "## Putting everything together: combined influences\n",
    "\n",
    "The combined influences allow us to update the agents' positions and rotations together."
   ]
  },
  {
   "cell_type": "code",
   "id": "49222407ea620c8f",
   "metadata": {
    "ExecuteTime": {
     "end_time": "2025-07-30T16:39:07.928994Z",
     "start_time": "2025-07-30T16:39:07.906902Z"
    }
   },
   "source": [
    "@njit\n",
    "def count_neighbors(self_position, other_positions, sensing_radius = 1.5):\n",
    "    \"\"\"\n",
    "    Helper function that counts the number of neighbors\n",
    "\n",
    "    Parameters\n",
    "    ----------\n",
    "    self_position   : np.ndarray of size (2)\n",
    "        The position of the agent itself\n",
    "    other_positions : np.ndarray of size (num_agents, 2)\n",
    "        The positions of all agents\n",
    "    sensing_radius  : float, default: 1.5\n",
    "        The sensing radius of the agent\n",
    "\n",
    "    Returns\n",
    "    -------\n",
    "    num_neighbors   : int, default: 0\n",
    "        The number of neighbors within the agent's sensing radius.\n",
    "    \"\"\"\n",
    "\n",
    "    num_neighbors = 0\n",
    "\n",
    "    for i in range(len(other_positions)):\n",
    "        dx = other_positions[i, 0] - self_position[0]\n",
    "        dy = other_positions[i, 1] - self_position[1]\n",
    "        d = (dx ** 2 + dy ** 2) ** 0.5\n",
    "\n",
    "        if d <= sensing_radius and d > 0:\n",
    "            num_neighbors += 1\n",
    "\n",
    "    return num_neighbors"
   ],
   "outputs": [],
   "execution_count": 26
  },
  {
   "cell_type": "code",
   "id": "77764dbd1777e36b",
   "metadata": {
    "ExecuteTime": {
     "end_time": "2025-07-30T16:39:08.434129Z",
     "start_time": "2025-07-30T16:39:08.314713Z"
    }
   },
   "source": [
    "num_neighbors = count_neighbors(p[8], p)\n",
    "num_neighbors"
   ],
   "outputs": [
    {
     "data": {
      "text/plain": [
       "1"
      ]
     },
     "execution_count": 27,
     "metadata": {},
     "output_type": "execute_result"
    }
   ],
   "execution_count": 27
  },
  {
   "cell_type": "code",
   "id": "8745190d61c56ce3",
   "metadata": {
    "ExecuteTime": {
     "end_time": "2025-07-30T16:39:09.001334Z",
     "start_time": "2025-07-30T16:39:08.979653Z"
    }
   },
   "source": [
    "@njit\n",
    "def combined_influences(\n",
    "    agent_positions: np.ndarray = None,\n",
    "    agent_rotations: np.ndarray = None,\n",
    "    beacon_positions: np.ndarray = None,\n",
    "    velocity: float = 1.0,\n",
    "    sensing_radius: float = 2.5,\n",
    "    dt: float = 0.1,\n",
    "    influence_weight: float = 0.5,\n",
    "    internal_focus: float = 0.1\n",
    "):\n",
    "    \"\"\"\n",
    "    Update the positions and orientations of a single agent\n",
    "    based on velocity and influence vectors.\n",
    "\n",
    "    Parameters\n",
    "    ----------\n",
    "    agent_positions : np.ndarray\n",
    "        Current positions of the agents.\n",
    "    agent_rotations : np.ndarray\n",
    "        Current orientations of the agents.\n",
    "    beacon_positions : np.ndarray\n",
    "        Positions of the beacons.\n",
    "    velocity : float, optional\n",
    "        The speed at which agents move (default is 1.0).\n",
    "    sensing_radius : float, optional\n",
    "        The sensing radius within which agents interact with their neighbors.\n",
    "    dt : float, optional\n",
    "        The time step for updating positions and orientations (default is 0.1).\n",
    "    influence_weight : float, optional\n",
    "        The weight of influence_vector1 in determining new orientations (default is 0.7).\n",
    "    external_focus : float, optional\n",
    "        Concentration of the agent's rotational noise influenced by the beacons\n",
    "    internal_focus : float, optional\n",
    "        Concentration of the agent's rotational noise influenced by the neighbors\n",
    "\n",
    "    Returns\n",
    "    -------\n",
    "    tuple of np.ndarray\n",
    "        Updated positions (np.ndarray) and orientations (np.ndarray) of the agents.\n",
    "    \"\"\"\n",
    "\n",
    "    assert (len(agent_positions) == len(agent_rotations))\n",
    "\n",
    "    num_agents = agent_positions.shape[0]\n",
    "    num_beacons = beacon_positions.shape[0]\n",
    "\n",
    "    # Create new numpy arrays for the updated agent positions and rotations\n",
    "    new_agent_positions = np.zeros((num_agents, 2))\n",
    "    new_agent_rotations = np.zeros((num_agents, ))\n",
    "    num_neighbors = np.zeros((num_agents, ))\n",
    "\n",
    "\n",
    "    for i in range(num_agents):\n",
    "\n",
    "        num_neighbors[i] = count_neighbors(agent_positions[i], agent_positions)\n",
    "\n",
    "        # Generate the ddm vector for the agent based on its closest beacon\n",
    "        distance_to_beacon = []\n",
    "\n",
    "        for b in range(num_beacons):\n",
    "            bx = beacon_positions[b, 0] - agent_positions[i, 0]\n",
    "            by = beacon_positions[b, 1] - agent_positions[i, 1]\n",
    "            distance_to_beacon.append((bx * bx + by * by) ** 0.5)\n",
    "\n",
    "        beacon_id = np.argmin(np.array(distance_to_beacon))\n",
    "\n",
    "        ddm_vector = external_influence(\n",
    "            agent_positions[i],\n",
    "            beacon_positions[beacon_id],\n",
    "            #focus=external_focus\n",
    "        )\n",
    "\n",
    "        # Generate the vicsek vector for the agent based on its neighbors (all agents)\n",
    "        vicsek_vector = internal_influence(\n",
    "            self_position=agent_positions[i],\n",
    "            other_positions=agent_positions,\n",
    "            other_rotations=agent_rotations,\n",
    "            sensing_radius=sensing_radius,\n",
    "            focus=internal_focus\n",
    "        )\n",
    "\n",
    "        # Update orientations based on two influence vectors\n",
    "        ddm_influence = np.arctan2(ddm_vector[1], ddm_vector[0])\n",
    "        vicsek_influence = np.arctan2(vicsek_vector[1], vicsek_vector[0])\n",
    "\n",
    "        # Combine influences to update orientations with different weights\n",
    "        new_agent_rotations[i] = agent_rotations[i] + (influence_weight * ddm_influence + (1 - influence_weight) * vicsek_influence) * dt\n",
    "\n",
    "        # Ensure orientations are within the range [0, 2*pi]\n",
    "        new_agent_rotations[i] = np.mod(new_agent_rotations[i], 2 * np.pi)\n",
    "\n",
    "        # Update positions based on current orientations\n",
    "        new_agent_positions[i, 0] = agent_positions[i, 0] + velocity * np.cos(new_agent_rotations[i].item()) * dt\n",
    "        new_agent_positions[i, 1] = agent_positions[i, 1] + velocity * np.sin(new_agent_rotations[i].item()) * dt\n",
    "\n",
    "        new_agent_positions[i] = bound_agent_position(new_agent_positions[i], room_size=room_size)\n",
    "\n",
    "    return new_agent_positions, new_agent_rotations, num_neighbors"
   ],
   "outputs": [],
   "execution_count": 28
  },
  {
   "cell_type": "code",
   "id": "6a12b3b4383bdf92",
   "metadata": {
    "ExecuteTime": {
     "end_time": "2025-07-30T16:39:11.208181Z",
     "start_time": "2025-07-30T16:39:09.378491Z"
    }
   },
   "source": [
    "agent_positions, agent_rotations = initialize_agents(12, room_size=room_size)\n",
    "beacon_positions = initialize_beacons(num_beacons=2)\n",
    "new_agent_positions, new_agent_rotations, num_neighbors = combined_influences(agent_positions, agent_rotations, beacon_positions)"
   ],
   "outputs": [],
   "execution_count": 29
  },
  {
   "cell_type": "code",
   "id": "6226b2947f10bc12",
   "metadata": {
    "ExecuteTime": {
     "end_time": "2025-07-30T16:39:11.233824Z",
     "start_time": "2025-07-30T16:39:11.217819Z"
    }
   },
   "source": [
    "np.concatenate([agent_positions, new_agent_positions], axis=1)"
   ],
   "outputs": [
    {
     "data": {
      "text/plain": [
       "array([[-3.09201717, -4.23894691, -3.18552307, -4.27439613],\n",
       "       [ 0.58539152, -0.58876514,  0.6846503 , -0.6009181 ],\n",
       "       [-2.59151602, -0.62722832, -2.69103453, -0.63702963],\n",
       "       [ 2.0848403 , -4.63722515,  2.18441616, -4.6280247 ],\n",
       "       [ 1.58146381,  1.94680452,  1.49154944,  1.99056987],\n",
       "       [ 1.11483574, -3.78552699,  1.07874524, -3.69226673],\n",
       "       [-1.96374679,  3.69828272, -1.8638779 ,  3.69316361],\n",
       "       [ 2.21898985,  4.72706556,  2.26829899,  4.64006781],\n",
       "       [-1.02759314, -4.75743103, -1.05905342, -4.85235337],\n",
       "       [-3.12724447, -0.68396151, -3.03584696, -0.64338448],\n",
       "       [ 0.20434618,  1.63186193,  0.22650959,  1.72937491],\n",
       "       [-1.49432826, -1.92055285, -1.5705635 , -1.98526907]])"
      ]
     },
     "execution_count": 30,
     "metadata": {},
     "output_type": "execute_result"
    }
   ],
   "execution_count": 30
  },
  {
   "cell_type": "code",
   "id": "6d0bd9a3c2b38853",
   "metadata": {
    "ExecuteTime": {
     "end_time": "2025-07-30T16:39:11.310397Z",
     "start_time": "2025-07-30T16:39:11.291340Z"
    }
   },
   "source": [
    "np.vstack([agent_rotations, new_agent_rotations]).T"
   ],
   "outputs": [
    {
     "data": {
      "text/plain": [
       "array([[3.5468657 , 3.50396358],\n",
       "       [6.01517439, 6.16135458],\n",
       "       [3.08934116, 3.23976335],\n",
       "       [6.24417162, 0.09213483],\n",
       "       [2.58866048, 2.68860542],\n",
       "       [1.9612478 , 1.94003446],\n",
       "       [6.23841667, 6.23197187],\n",
       "       [5.24168253, 5.22802862],\n",
       "       [4.51836538, 4.3923508 ],\n",
       "       [0.51840675, 0.4178215 ],\n",
       "       [1.4151293 , 1.34730636],\n",
       "       [3.98397064, 3.84544874]])"
      ]
     },
     "execution_count": 31,
     "metadata": {},
     "output_type": "execute_result"
    }
   ],
   "execution_count": 31
  },
  {
   "cell_type": "code",
   "id": "ab7ef9d6df643aa",
   "metadata": {
    "ExecuteTime": {
     "end_time": "2025-07-30T16:39:11.393686Z",
     "start_time": "2025-07-30T16:39:11.377682Z"
    }
   },
   "source": [
    "num_neighbors"
   ],
   "outputs": [
    {
     "data": {
      "text/plain": [
       "array([0., 0., 1., 1., 1., 1., 0., 0., 0., 1., 1., 0.])"
      ]
     },
     "execution_count": 32,
     "metadata": {},
     "output_type": "execute_result"
    }
   ],
   "execution_count": 32
  },
  {
   "cell_type": "markdown",
   "id": "25bfa1803f2f644a",
   "metadata": {},
   "source": [
    "## Simulation Loop\n",
    "\n",
    "The update allows us to continuously simulate the agents' positions and rotations at a given interval"
   ]
  },
  {
   "cell_type": "code",
   "id": "ffcbc6acb0544952",
   "metadata": {
    "ExecuteTime": {
     "end_time": "2025-07-30T18:44:26.446199Z",
     "start_time": "2025-07-30T18:44:26.336907Z"
    }
   },
   "source": [
    "@njit\n",
    "def simulator_fun(\n",
    "    batch_size: int = 1,\n",
    "    theta = None,\n",
    "    num_agents: int = 12,\n",
    "    num_beacons: int = 1,\n",
    "    room_size: tuple = (8, 10),\n",
    "    velocity: float = 1.0,\n",
    "    dt: float = 0.001,\n",
    "    influence_weight: float = 0.7,\n",
    "    sensing_radius: float = 10.0,\n",
    "    internal_focus: float = 0.1,\n",
    "    time_horizon: float = 30.\n",
    "):\n",
    "    \"\"\"\n",
    "    Run the simulation and store the time series of positions and orientations of agents.\n",
    "\n",
    "    Parameters\n",
    "    ----------\n",
    "    theta : np.ndarray\n",
    "        Prior parameters specifying the internal properties of the agents\n",
    "    num_agents : int, optional\n",
    "        Number of agents to generate (default is 100).\n",
    "    num_beacons : int, optional\n",
    "        Number of beacons to generate (default is 1).\n",
    "    room_size : float, optional\n",
    "        The size of the boundary within which positions are generated (default is 100).\n",
    "    velocity : float, optional\n",
    "        The speed at which agents move (default is 1.0).\n",
    "    dt : float, optional\n",
    "        The time step for the update (default is 0.1).\n",
    "    influence_weight : float, optional\n",
    "        The weight for influence_vector1 in determining new orientations (default is 0.7).\n",
    "    sensing_radius : float, optional\n",
    "        The sensing radius for the Vicsek model (default is 10.0).\n",
    "    num_timesteps : int, optional\n",
    "        The number of steps to simulate (default is 100).\n",
    "\n",
    "    Returns\n",
    "    -------\n",
    "    tuple of np.ndarray\n",
    "        The time series of positions and orientations of the agents.\n",
    "    \"\"\"\n",
    "\n",
    "    if theta is not None:\n",
    "        influence_weight = theta[0]\n",
    "        sensing_radius = theta[1]\n",
    "        velocity = theta[2]\n",
    "        #internal_focus = theta[3]\n",
    "\n",
    "\n",
    "    num_timesteps = int(time_horizon / dt)\n",
    "\n",
    "    # Apply radial bound with sigmoid transformation for the sensing radius\n",
    "    # (r_min, r_max) = (1., 5.)\n",
    "    # sensing_radius = r_min + (r_max - r_min) * (1. / (1. + np.exp(-sensing_radius)))\n",
    "\n",
    "    # Initialize arrays to store time series of positions and orientations\n",
    "    for b in range(batch_size):\n",
    "        positions = np.zeros((num_timesteps, num_agents, 2))\n",
    "        rotations = np.zeros((num_timesteps, num_agents, ))\n",
    "        neighbors = np.zeros((num_timesteps, num_agents, ))\n",
    "\n",
    "            # Initialize positions and orientations\n",
    "        initial_positions, initial_rotations = initialize_agents(num_agents, room_size=room_size)\n",
    "        positions[0] = initial_positions\n",
    "        rotations[0] = initial_rotations\n",
    "\n",
    "        # Initialize beacons\n",
    "        beacon_positions = initialize_beacons(num_beacons)\n",
    "\n",
    "        # Simulation loop\n",
    "        for t in range(1, num_timesteps):\n",
    "            ps, rs, num_neighbors = combined_influences(\n",
    "                agent_positions=positions[t-1],\n",
    "                agent_rotations=rotations[t-1],\n",
    "                beacon_positions=beacon_positions,\n",
    "                velocity=velocity,\n",
    "                sensing_radius=sensing_radius,\n",
    "                dt=dt,\n",
    "                influence_weight=influence_weight,\n",
    "                internal_focus=internal_focus\n",
    "            )\n",
    "\n",
    "            # Store positions and orientations for each time step\n",
    "            positions[t] = ps\n",
    "            rotations[t] = rs\n",
    "            neighbors[t] = num_neighbors\n",
    "\n",
    "        neighbors[0] = neighbors[1]\n",
    "\n",
    "        rotations = rotations[:,:,np.newaxis]\n",
    "        neighbors = neighbors[:,:,np.newaxis]\n",
    "\n",
    "\n",
    "\n",
    "    return np.concatenate((positions, rotations, neighbors), axis=-1)"
   ],
   "outputs": [],
   "execution_count": 52
  },
  {
   "cell_type": "code",
   "id": "a3fd7c62de2ff278",
   "metadata": {
    "ExecuteTime": {
     "end_time": "2025-07-30T18:47:52.789360Z",
     "start_time": "2025-07-30T18:47:52.757152Z"
    }
   },
   "source": [
    "class TogetherFlowSimulator:\n",
    "\n",
    "    def __init__(self,\n",
    "                 num_agents: int = 12,\n",
    "                 num_beacons: int = 1,\n",
    "                 room_size: tuple = (8, 10),\n",
    "                 dt: float = 0.001,\n",
    "                 internal_focus: float = 0.1,\n",
    "                 time_horizon: float = 30.,\n",
    "                 downsample: bool = True,\n",
    "                 downsample_factor: int = 10\n",
    "                 ):\n",
    "        self.num_agents = num_agents\n",
    "        self.num_beacons = num_beacons\n",
    "        self.room_size = room_size\n",
    "        self.dt = dt\n",
    "        self.internal_focus = internal_focus\n",
    "        self.time_horizon = time_horizon\n",
    "        self.downsample = downsample\n",
    "        self.downsample_factor = downsample_factor\n",
    "\n",
    "\n",
    "    def sample(self, batch_shape: int | tuple = (1,)) -> dict[str, np.ndarray]:\n",
    "\n",
    "        batch_size = batch_shape[0]\n",
    "        thetas = []\n",
    "        samples = []\n",
    "\n",
    "        for i in range(batch_size):\n",
    "            theta = complete_pooling_prior()\n",
    "            sim = simulator_fun(\n",
    "                theta=theta,\n",
    "                num_agents=self.num_agents,\n",
    "                num_beacons=self.num_beacons,\n",
    "                room_size=self.room_size,\n",
    "                dt=self.dt,\n",
    "                internal_focus=self.internal_focus,\n",
    "                time_horizon=self.time_horizon\n",
    "            )\n",
    "            thetas.append(theta)\n",
    "            samples.append(sim)\n",
    "\n",
    "        thetas = np.array(thetas)\n",
    "        samples = np.array(samples)\n",
    "\n",
    "        if self.downsample:\n",
    "            samples = samples[:,::self.downsample_factor,:,:]\n",
    "\n",
    "        return dict(\n",
    "            w = thetas[:,0],\n",
    "            r = thetas[:,1],\n",
    "            v = thetas[:,2],\n",
    "            positions = samples[:,:,:,0:2],\n",
    "            rotations = samples[:,:,:,2],\n",
    "            neighbors = samples[:,:,:,3]\n",
    "        )"
   ],
   "outputs": [],
   "execution_count": 54
  },
  {
   "cell_type": "code",
   "id": "77d5a1f3641a32af",
   "metadata": {
    "ExecuteTime": {
     "end_time": "2025-07-30T18:47:53.871890Z",
     "start_time": "2025-07-30T18:47:53.849251Z"
    }
   },
   "source": [
    "simulator = TogetherFlowSimulator(num_agents=49)"
   ],
   "outputs": [],
   "execution_count": 55
  },
  {
   "cell_type": "code",
   "id": "d023cd448fdc688",
   "metadata": {
    "ExecuteTime": {
     "end_time": "2025-07-30T18:48:02.852607Z",
     "start_time": "2025-07-30T18:47:54.391861Z"
    }
   },
   "source": [
    "test_sims = simulator.sample(batch_shape=(10,))"
   ],
   "outputs": [],
   "execution_count": 56
  },
  {
   "cell_type": "code",
   "id": "41bfaf2c0c7a136c",
   "metadata": {
    "ExecuteTime": {
     "end_time": "2025-07-30T18:48:03.815132Z",
     "start_time": "2025-07-30T18:48:03.795229Z"
    }
   },
   "source": [
    "print(test_sims['w'].shape)\n",
    "print(test_sims['r'].shape)\n",
    "print(test_sims['v'].shape)\n",
    "print(test_sims['positions'].shape)\n",
    "print(test_sims['rotations'].shape)\n",
    "print(test_sims['neighbors'].shape)"
   ],
   "outputs": [
    {
     "name": "stdout",
     "output_type": "stream",
     "text": [
      "(10,)\n",
      "(10,)\n",
      "(10,)\n",
      "(10, 3000, 49, 2)\n",
      "(10, 3000, 49)\n",
      "(10, 3000, 49)\n"
     ]
    }
   ],
   "execution_count": 57
  },
  {
   "cell_type": "markdown",
   "id": "f581a8b8107de537",
   "metadata": {},
   "source": [
    "### Priors"
   ]
  },
  {
   "cell_type": "markdown",
   "id": "c7d3e491282812d7",
   "metadata": {},
   "source": [
    "### Adapter"
   ]
  },
  {
   "cell_type": "code",
   "id": "69137094735b10b1",
   "metadata": {
    "ExecuteTime": {
     "end_time": "2025-07-30T18:48:38.664747Z",
     "start_time": "2025-07-30T18:48:38.633677Z"
    }
   },
   "source": [
    "adapter = (\n",
    "    bf.adapters.Adapter()\n",
    "    .convert_dtype(\"float64\", \"float32\")\n",
    "    .as_time_series([\"positions\", \"rotations\", \"neighbors\"])\n",
    "    .expand_dims(['rotations', 'neighbors'], axis=-1)\n",
    "    .expand_dims(['w', 'r', 'v'], axis=-1)\n",
    "    .concatenate(['w', 'r', 'v'], into=\"inference_variables\")\n",
    "    .concatenate([\"positions\", \"rotations\", \"neighbors\"], into=\"summary_variables\", axis=-1)\n",
    ")"
   ],
   "outputs": [],
   "execution_count": 58
  },
  {
   "cell_type": "code",
   "id": "d452bff0a8f006f7",
   "metadata": {
    "ExecuteTime": {
     "end_time": "2025-07-30T18:48:40.796994Z",
     "start_time": "2025-07-30T18:48:39.128258Z"
    }
   },
   "source": [
    "adapted_simulator = TogetherFlowSimulator(num_agents=49)\n",
    "adapter_sim = adapter(adapted_simulator.sample(batch_shape=(2,)))"
   ],
   "outputs": [],
   "execution_count": 59
  },
  {
   "cell_type": "code",
   "id": "94267ce51c15bc59",
   "metadata": {
    "ExecuteTime": {
     "end_time": "2025-07-30T18:48:41.391337Z",
     "start_time": "2025-07-30T18:48:41.371267Z"
    }
   },
   "source": [
    "print(adapter_sim['summary_variables'].shape)\n",
    "print(adapter_sim['inference_variables'].shape)"
   ],
   "outputs": [
    {
     "name": "stdout",
     "output_type": "stream",
     "text": [
      "(2, 3000, 49, 4)\n",
      "(2, 3)\n"
     ]
    }
   ],
   "execution_count": 60
  },
  {
   "cell_type": "markdown",
   "id": "bb6da22bb3c43d6b",
   "metadata": {},
   "source": [
    "### Neural Approximator"
   ]
  },
  {
   "cell_type": "code",
   "id": "c666e214434b7ffa",
   "metadata": {
    "ExecuteTime": {
     "end_time": "2025-07-30T18:48:42.654869Z",
     "start_time": "2025-07-30T18:48:42.631264Z"
    }
   },
   "source": [
    "from bayesflow.networks import SummaryNetwork"
   ],
   "outputs": [],
   "execution_count": 61
  },
  {
   "cell_type": "code",
   "id": "a96a61ad3bcfccff",
   "metadata": {
    "ExecuteTime": {
     "end_time": "2025-07-30T18:48:43.779254Z",
     "start_time": "2025-07-30T18:48:43.757538Z"
    }
   },
   "source": [
    "class HierarchicalNetwork(SummaryNetwork):\n",
    "\n",
    "\n",
    "    def __init__(self, networks, **kwargs):\n",
    "        super().__init__(**kwargs)\n",
    "        self.networks = networks\n",
    "\n",
    "    def call(self, x, return_all=False, **kwargs):\n",
    "\n",
    "        if return_all:\n",
    "            outputs = []\n",
    "            for net in self.networks:\n",
    "                x = net(x, **kwargs)\n",
    "                outputs.append(x)\n",
    "            return outputs\n",
    "        else:\n",
    "            for net in self.networks:\n",
    "                x = net(x, **kwargs)\n",
    "            return x\n",
    "\n"
   ],
   "outputs": [],
   "execution_count": 62
  },
  {
   "cell_type": "code",
   "id": "a45ebbfd8f0a1a38",
   "metadata": {
    "ExecuteTime": {
     "end_time": "2025-07-30T18:48:44.855482Z",
     "start_time": "2025-07-30T18:48:44.776724Z"
    }
   },
   "source": [
    "# How do we go about the summary network, since HierarchicalNetwork has not been implemented yet?\n",
    "\n",
    "# Need to ask Stefan about this.\n",
    "summary_net = HierarchicalNetwork([\n",
    "    keras.layers.TimeDistributed(keras.layers.LSTM(units=256)),\n",
    "    bf.networks.SetTransformer(summary_dim=32)\n",
    "])"
   ],
   "outputs": [],
   "execution_count": 63
  },
  {
   "cell_type": "code",
   "id": "e31c14fc18c97048",
   "metadata": {
    "jupyter": {
     "is_executing": true
    },
    "ExecuteTime": {
     "start_time": "2025-07-30T18:48:45.756587Z"
    }
   },
   "source": "inference_net = bf.networks.DiffusionModel()",
   "outputs": [],
   "execution_count": null
  },
  {
   "cell_type": "code",
   "id": "6a4a56474df53e0a",
   "metadata": {
    "ExecuteTime": {
     "end_time": "2025-07-30T17:10:37.577789Z",
     "start_time": "2025-07-30T17:10:37.557562Z"
    }
   },
   "source": [
    "workflow = bf.workflows.BasicWorkflow(\n",
    "    simulator=adapted_simulator,\n",
    "    adapter=adapter,\n",
    "    inference_network=inference_net,\n",
    "    summary_network=summary_net,\n",
    ")"
   ],
   "outputs": [],
   "execution_count": 49
  },
  {
   "cell_type": "code",
   "id": "291b97683c82f7ad",
   "metadata": {
    "ExecuteTime": {
     "end_time": "2025-07-30T17:13:08.575412Z",
     "start_time": "2025-07-30T17:10:38.317166Z"
    }
   },
   "source": [
    "train_set = workflow.simulate((200,))\n",
    "test_set = workflow.simulate((10,))"
   ],
   "outputs": [],
   "execution_count": 50
  },
  {
   "cell_type": "code",
   "id": "65a6ecfd4c7bd774",
   "metadata": {
    "ExecuteTime": {
     "end_time": "2025-07-30T17:40:00.630719Z",
     "start_time": "2025-07-30T17:25:45.949690Z"
    }
   },
   "source": [
    "history = workflow.fit_offline(\n",
    "    data=train_set,\n",
    "    validation_set=test_set,\n",
    "    batch_size=32,\n",
    "    epochs=1\n",
    ")"
   ],
   "outputs": [
    {
     "name": "stderr",
     "output_type": "stream",
     "text": [
      "INFO:bayesflow:Fitting on dataset instance of OfflineDataset.\n",
      "INFO:bayesflow:Building on a test batch.\n"
     ]
    },
    {
     "ename": "KeyboardInterrupt",
     "evalue": "",
     "output_type": "error",
     "traceback": [
      "\u001B[31m---------------------------------------------------------------------------\u001B[39m",
      "\u001B[31mKeyboardInterrupt\u001B[39m                         Traceback (most recent call last)",
      "\u001B[36mCell\u001B[39m\u001B[36m \u001B[39m\u001B[32mIn[51]\u001B[39m\u001B[32m, line 1\u001B[39m\n\u001B[32m----> \u001B[39m\u001B[32m1\u001B[39m history = \u001B[43mworkflow\u001B[49m\u001B[43m.\u001B[49m\u001B[43mfit_offline\u001B[49m\u001B[43m(\u001B[49m\n\u001B[32m      2\u001B[39m \u001B[43m    \u001B[49m\u001B[43mdata\u001B[49m\u001B[43m=\u001B[49m\u001B[43mtrain_set\u001B[49m\u001B[43m,\u001B[49m\n\u001B[32m      3\u001B[39m \u001B[43m    \u001B[49m\u001B[43mvalidation_set\u001B[49m\u001B[43m=\u001B[49m\u001B[43mtest_set\u001B[49m\u001B[43m,\u001B[49m\n\u001B[32m      4\u001B[39m \u001B[43m    \u001B[49m\u001B[43mbatch_size\u001B[49m\u001B[43m=\u001B[49m\u001B[32;43m32\u001B[39;49m\u001B[43m,\u001B[49m\n\u001B[32m      5\u001B[39m \u001B[43m    \u001B[49m\u001B[43mepochs\u001B[49m\u001B[43m=\u001B[49m\u001B[32;43m1\u001B[39;49m\n\u001B[32m      6\u001B[39m \u001B[43m)\u001B[49m\n",
      "\u001B[36mFile \u001B[39m\u001B[32m~/Documents/Research/Projects/TogetherFlow/.venv/lib/python3.12/site-packages/bayesflow/workflows/basic_workflow.py:722\u001B[39m, in \u001B[36mBasicWorkflow.fit_offline\u001B[39m\u001B[34m(self, data, epochs, batch_size, keep_optimizer, validation_data, augmentations, **kwargs)\u001B[39m\n\u001B[32m    677\u001B[39m \u001B[38;5;250m\u001B[39m\u001B[33;03m\"\"\"\u001B[39;00m\n\u001B[32m    678\u001B[39m \u001B[33;03mTrain the approximator offline using a fixed dataset. This approach will be faster than online training,\u001B[39;00m\n\u001B[32m    679\u001B[39m \u001B[33;03msince no computation time is spent in generating new data for each batch, but it assumes that simulations\u001B[39;00m\n\u001B[32m   (...)\u001B[39m\u001B[32m    717\u001B[39m \u001B[33;03m    metric evolution over epochs.\u001B[39;00m\n\u001B[32m    718\u001B[39m \u001B[33;03m\"\"\"\u001B[39;00m\n\u001B[32m    720\u001B[39m dataset = OfflineDataset(data=data, batch_size=batch_size, adapter=\u001B[38;5;28mself\u001B[39m.adapter, augmentations=augmentations)\n\u001B[32m--> \u001B[39m\u001B[32m722\u001B[39m \u001B[38;5;28;01mreturn\u001B[39;00m \u001B[38;5;28;43mself\u001B[39;49m\u001B[43m.\u001B[49m\u001B[43m_fit\u001B[49m\u001B[43m(\u001B[49m\n\u001B[32m    723\u001B[39m \u001B[43m    \u001B[49m\u001B[43mdataset\u001B[49m\u001B[43m,\u001B[49m\n\u001B[32m    724\u001B[39m \u001B[43m    \u001B[49m\u001B[43mepochs\u001B[49m\u001B[43m,\u001B[49m\n\u001B[32m    725\u001B[39m \u001B[43m    \u001B[49m\u001B[43mstrategy\u001B[49m\u001B[43m=\u001B[49m\u001B[33;43m\"\u001B[39;49m\u001B[33;43moffline\u001B[39;49m\u001B[33;43m\"\u001B[39;49m\u001B[43m,\u001B[49m\n\u001B[32m    726\u001B[39m \u001B[43m    \u001B[49m\u001B[43mkeep_optimizer\u001B[49m\u001B[43m=\u001B[49m\u001B[43mkeep_optimizer\u001B[49m\u001B[43m,\u001B[49m\n\u001B[32m    727\u001B[39m \u001B[43m    \u001B[49m\u001B[43mvalidation_data\u001B[49m\u001B[43m=\u001B[49m\u001B[43mvalidation_data\u001B[49m\u001B[43m,\u001B[49m\n\u001B[32m    728\u001B[39m \u001B[43m    \u001B[49m\u001B[43m*\u001B[49m\u001B[43m*\u001B[49m\u001B[43mkwargs\u001B[49m\u001B[43m,\u001B[49m\n\u001B[32m    729\u001B[39m \u001B[43m\u001B[49m\u001B[43m)\u001B[49m\n",
      "\u001B[36mFile \u001B[39m\u001B[32m~/Documents/Research/Projects/TogetherFlow/.venv/lib/python3.12/site-packages/bayesflow/workflows/basic_workflow.py:964\u001B[39m, in \u001B[36mBasicWorkflow._fit\u001B[39m\u001B[34m(self, dataset, epochs, strategy, keep_optimizer, validation_data, **kwargs)\u001B[39m\n\u001B[32m    961\u001B[39m     \u001B[38;5;28mself\u001B[39m.approximator.compile(optimizer=\u001B[38;5;28mself\u001B[39m.optimizer, metrics=kwargs.pop(\u001B[33m\"\u001B[39m\u001B[33mmetrics\u001B[39m\u001B[33m\"\u001B[39m, \u001B[38;5;28;01mNone\u001B[39;00m))\n\u001B[32m    963\u001B[39m \u001B[38;5;28;01mtry\u001B[39;00m:\n\u001B[32m--> \u001B[39m\u001B[32m964\u001B[39m     \u001B[38;5;28mself\u001B[39m.history = \u001B[38;5;28;43mself\u001B[39;49m\u001B[43m.\u001B[49m\u001B[43mapproximator\u001B[49m\u001B[43m.\u001B[49m\u001B[43mfit\u001B[49m\u001B[43m(\u001B[49m\n\u001B[32m    965\u001B[39m \u001B[43m        \u001B[49m\u001B[43mdataset\u001B[49m\u001B[43m=\u001B[49m\u001B[43mdataset\u001B[49m\u001B[43m,\u001B[49m\u001B[43m \u001B[49m\u001B[43mepochs\u001B[49m\u001B[43m=\u001B[49m\u001B[43mepochs\u001B[49m\u001B[43m,\u001B[49m\u001B[43m \u001B[49m\u001B[43mvalidation_data\u001B[49m\u001B[43m=\u001B[49m\u001B[43mvalidation_data\u001B[49m\u001B[43m,\u001B[49m\u001B[43m \u001B[49m\u001B[43m*\u001B[49m\u001B[43m*\u001B[49m\u001B[43mkwargs\u001B[49m\n\u001B[32m    966\u001B[39m \u001B[43m    \u001B[49m\u001B[43m)\u001B[49m\n\u001B[32m    967\u001B[39m     \u001B[38;5;28mself\u001B[39m._on_training_finished()\n\u001B[32m    968\u001B[39m     \u001B[38;5;28;01mreturn\u001B[39;00m \u001B[38;5;28mself\u001B[39m.history\n",
      "\u001B[36mFile \u001B[39m\u001B[32m~/Documents/Research/Projects/TogetherFlow/.venv/lib/python3.12/site-packages/bayesflow/approximators/continuous_approximator.py:315\u001B[39m, in \u001B[36mContinuousApproximator.fit\u001B[39m\u001B[34m(self, *args, **kwargs)\u001B[39m\n\u001B[32m    263\u001B[39m \u001B[38;5;28;01mdef\u001B[39;00m\u001B[38;5;250m \u001B[39m\u001B[34mfit\u001B[39m(\u001B[38;5;28mself\u001B[39m, *args, **kwargs):\n\u001B[32m    264\u001B[39m \u001B[38;5;250m    \u001B[39m\u001B[33;03m\"\"\"\u001B[39;00m\n\u001B[32m    265\u001B[39m \u001B[33;03m    Trains the approximator on the provided dataset or on-demand data generated from the given simulator.\u001B[39;00m\n\u001B[32m    266\u001B[39m \u001B[33;03m    If `dataset` is not provided, a dataset is built from the `simulator`.\u001B[39;00m\n\u001B[32m   (...)\u001B[39m\u001B[32m    313\u001B[39m \u001B[33;03m        If both `dataset` and `simulator` are provided or neither is provided.\u001B[39;00m\n\u001B[32m    314\u001B[39m \u001B[33;03m    \"\"\"\u001B[39;00m\n\u001B[32m--> \u001B[39m\u001B[32m315\u001B[39m     \u001B[38;5;28;01mreturn\u001B[39;00m \u001B[38;5;28;43msuper\u001B[39;49m\u001B[43m(\u001B[49m\u001B[43m)\u001B[49m\u001B[43m.\u001B[49m\u001B[43mfit\u001B[49m\u001B[43m(\u001B[49m\u001B[43m*\u001B[49m\u001B[43margs\u001B[49m\u001B[43m,\u001B[49m\u001B[43m \u001B[49m\u001B[43m*\u001B[49m\u001B[43m*\u001B[49m\u001B[43mkwargs\u001B[49m\u001B[43m,\u001B[49m\u001B[43m \u001B[49m\u001B[43madapter\u001B[49m\u001B[43m=\u001B[49m\u001B[38;5;28;43mself\u001B[39;49m\u001B[43m.\u001B[49m\u001B[43madapter\u001B[49m\u001B[43m)\u001B[49m\n",
      "\u001B[36mFile \u001B[39m\u001B[32m~/Documents/Research/Projects/TogetherFlow/.venv/lib/python3.12/site-packages/bayesflow/approximators/approximator.py:137\u001B[39m, in \u001B[36mApproximator.fit\u001B[39m\u001B[34m(self, dataset, simulator, **kwargs)\u001B[39m\n\u001B[32m    135\u001B[39m     mock_data = keras.tree.map_structure(keras.ops.convert_to_tensor, mock_data)\n\u001B[32m    136\u001B[39m     mock_data_shapes = keras.tree.map_structure(keras.ops.shape, mock_data)\n\u001B[32m--> \u001B[39m\u001B[32m137\u001B[39m     \u001B[38;5;28;43mself\u001B[39;49m\u001B[43m.\u001B[49m\u001B[43mbuild\u001B[49m\u001B[43m(\u001B[49m\u001B[43mmock_data_shapes\u001B[49m\u001B[43m)\u001B[49m\n\u001B[32m    139\u001B[39m \u001B[38;5;28;01mreturn\u001B[39;00m \u001B[38;5;28msuper\u001B[39m().fit(dataset=dataset, **kwargs)\n",
      "\u001B[36mFile \u001B[39m\u001B[32m~/Documents/Research/Projects/TogetherFlow/.venv/lib/python3.12/site-packages/keras/src/layers/layer.py:232\u001B[39m, in \u001B[36mLayer.__new__.<locals>.build_wrapper\u001B[39m\u001B[34m(*args, **kwargs)\u001B[39m\n\u001B[32m    230\u001B[39m \u001B[38;5;28;01mwith\u001B[39;00m obj._open_name_scope():\n\u001B[32m    231\u001B[39m     obj._path = current_path()\n\u001B[32m--> \u001B[39m\u001B[32m232\u001B[39m     \u001B[43moriginal_build_method\u001B[49m\u001B[43m(\u001B[49m\u001B[43m*\u001B[49m\u001B[43margs\u001B[49m\u001B[43m,\u001B[49m\u001B[43m \u001B[49m\u001B[43m*\u001B[49m\u001B[43m*\u001B[49m\u001B[43mkwargs\u001B[49m\u001B[43m)\u001B[49m\n\u001B[32m    233\u001B[39m \u001B[38;5;66;03m# Record build config.\u001B[39;00m\n\u001B[32m    234\u001B[39m signature = inspect.signature(original_build_method)\n",
      "\u001B[36mFile \u001B[39m\u001B[32m~/Documents/Research/Projects/TogetherFlow/.venv/lib/python3.12/site-packages/bayesflow/approximators/continuous_approximator.py:79\u001B[39m, in \u001B[36mContinuousApproximator.build\u001B[39m\u001B[34m(self, data_shapes)\u001B[39m\n\u001B[32m     77\u001B[39m \u001B[38;5;28;01mif\u001B[39;00m \u001B[38;5;28mself\u001B[39m.summary_network \u001B[38;5;129;01mis\u001B[39;00m \u001B[38;5;129;01mnot\u001B[39;00m \u001B[38;5;28;01mNone\u001B[39;00m:\n\u001B[32m     78\u001B[39m     \u001B[38;5;28;01mif\u001B[39;00m \u001B[38;5;129;01mnot\u001B[39;00m \u001B[38;5;28mself\u001B[39m.summary_network.built:\n\u001B[32m---> \u001B[39m\u001B[32m79\u001B[39m         \u001B[38;5;28;43mself\u001B[39;49m\u001B[43m.\u001B[49m\u001B[43msummary_network\u001B[49m\u001B[43m.\u001B[49m\u001B[43mbuild\u001B[49m\u001B[43m(\u001B[49m\u001B[43mdata_shapes\u001B[49m\u001B[43m[\u001B[49m\u001B[33;43m\"\u001B[39;49m\u001B[33;43msummary_variables\u001B[39;49m\u001B[33;43m\"\u001B[39;49m\u001B[43m]\u001B[49m\u001B[43m)\u001B[49m\n\u001B[32m     80\u001B[39m     summary_outputs_shape = \u001B[38;5;28mself\u001B[39m.summary_network.compute_output_shape(data_shapes[\u001B[33m\"\u001B[39m\u001B[33msummary_variables\u001B[39m\u001B[33m\"\u001B[39m])\n\u001B[32m     82\u001B[39m \u001B[38;5;66;03m# Compute inference_conditions_shape by combining original and summary outputs\u001B[39;00m\n",
      "\u001B[36mFile \u001B[39m\u001B[32m~/Documents/Research/Projects/TogetherFlow/.venv/lib/python3.12/site-packages/keras/src/layers/layer.py:232\u001B[39m, in \u001B[36mLayer.__new__.<locals>.build_wrapper\u001B[39m\u001B[34m(*args, **kwargs)\u001B[39m\n\u001B[32m    230\u001B[39m \u001B[38;5;28;01mwith\u001B[39;00m obj._open_name_scope():\n\u001B[32m    231\u001B[39m     obj._path = current_path()\n\u001B[32m--> \u001B[39m\u001B[32m232\u001B[39m     \u001B[43moriginal_build_method\u001B[49m\u001B[43m(\u001B[49m\u001B[43m*\u001B[49m\u001B[43margs\u001B[49m\u001B[43m,\u001B[49m\u001B[43m \u001B[49m\u001B[43m*\u001B[49m\u001B[43m*\u001B[49m\u001B[43mkwargs\u001B[49m\u001B[43m)\u001B[49m\n\u001B[32m    233\u001B[39m \u001B[38;5;66;03m# Record build config.\u001B[39;00m\n\u001B[32m    234\u001B[39m signature = inspect.signature(original_build_method)\n",
      "\u001B[36mFile \u001B[39m\u001B[32m~/Documents/Research/Projects/TogetherFlow/.venv/lib/python3.12/site-packages/bayesflow/utils/decorators.py:95\u001B[39m, in \u001B[36margument_callback.<locals>.callback_wrapper.<locals>.wrapper\u001B[39m\u001B[34m(*args, **kwargs)\u001B[39m\n\u001B[32m     92\u001B[39m     args = \u001B[38;5;28mlist\u001B[39m(args)\n\u001B[32m     93\u001B[39m     args[argpos] = callback(args[argpos])\n\u001B[32m---> \u001B[39m\u001B[32m95\u001B[39m \u001B[38;5;28;01mreturn\u001B[39;00m \u001B[43mfn\u001B[49m\u001B[43m(\u001B[49m\u001B[43m*\u001B[49m\u001B[43margs\u001B[49m\u001B[43m,\u001B[49m\u001B[43m \u001B[49m\u001B[43m*\u001B[49m\u001B[43m*\u001B[49m\u001B[43mkwargs\u001B[49m\u001B[43m)\u001B[49m\n",
      "\u001B[36mFile \u001B[39m\u001B[32m~/Documents/Research/Projects/TogetherFlow/.venv/lib/python3.12/site-packages/bayesflow/networks/summary_network.py:18\u001B[39m, in \u001B[36mSummaryNetwork.build\u001B[39m\u001B[34m(self, input_shape)\u001B[39m\n\u001B[32m     15\u001B[39m \u001B[38;5;129m@sanitize_input_shape\u001B[39m\n\u001B[32m     16\u001B[39m \u001B[38;5;28;01mdef\u001B[39;00m\u001B[38;5;250m \u001B[39m\u001B[34mbuild\u001B[39m(\u001B[38;5;28mself\u001B[39m, input_shape):\n\u001B[32m     17\u001B[39m     x = keras.ops.zeros(input_shape)\n\u001B[32m---> \u001B[39m\u001B[32m18\u001B[39m     z = \u001B[38;5;28;43mself\u001B[39;49m\u001B[43m.\u001B[49m\u001B[43mcall\u001B[49m\u001B[43m(\u001B[49m\u001B[43mx\u001B[49m\u001B[43m)\u001B[49m\n\u001B[32m     20\u001B[39m     \u001B[38;5;28;01mif\u001B[39;00m \u001B[38;5;28mself\u001B[39m.base_distribution \u001B[38;5;129;01mis\u001B[39;00m \u001B[38;5;129;01mnot\u001B[39;00m \u001B[38;5;28;01mNone\u001B[39;00m:\n\u001B[32m     21\u001B[39m         \u001B[38;5;28mself\u001B[39m.base_distribution.build(keras.ops.shape(z))\n",
      "\u001B[36mCell\u001B[39m\u001B[36m \u001B[39m\u001B[32mIn[42]\u001B[39m\u001B[32m, line 18\u001B[39m, in \u001B[36mHierarchicalNetwork.call\u001B[39m\u001B[34m(self, x, return_all, **kwargs)\u001B[39m\n\u001B[32m     16\u001B[39m \u001B[38;5;28;01melse\u001B[39;00m:\n\u001B[32m     17\u001B[39m     \u001B[38;5;28;01mfor\u001B[39;00m net \u001B[38;5;129;01min\u001B[39;00m \u001B[38;5;28mself\u001B[39m.networks:\n\u001B[32m---> \u001B[39m\u001B[32m18\u001B[39m         x = \u001B[43mnet\u001B[49m\u001B[43m(\u001B[49m\u001B[43mx\u001B[49m\u001B[43m,\u001B[49m\u001B[43m \u001B[49m\u001B[43m*\u001B[49m\u001B[43m*\u001B[49m\u001B[43mkwargs\u001B[49m\u001B[43m)\u001B[49m\n\u001B[32m     19\u001B[39m     \u001B[38;5;28;01mreturn\u001B[39;00m x\n",
      "\u001B[36mFile \u001B[39m\u001B[32m~/Documents/Research/Projects/TogetherFlow/.venv/lib/python3.12/site-packages/keras/src/utils/traceback_utils.py:117\u001B[39m, in \u001B[36mfilter_traceback.<locals>.error_handler\u001B[39m\u001B[34m(*args, **kwargs)\u001B[39m\n\u001B[32m    115\u001B[39m filtered_tb = \u001B[38;5;28;01mNone\u001B[39;00m\n\u001B[32m    116\u001B[39m \u001B[38;5;28;01mtry\u001B[39;00m:\n\u001B[32m--> \u001B[39m\u001B[32m117\u001B[39m     \u001B[38;5;28;01mreturn\u001B[39;00m \u001B[43mfn\u001B[49m\u001B[43m(\u001B[49m\u001B[43m*\u001B[49m\u001B[43margs\u001B[49m\u001B[43m,\u001B[49m\u001B[43m \u001B[49m\u001B[43m*\u001B[49m\u001B[43m*\u001B[49m\u001B[43mkwargs\u001B[49m\u001B[43m)\u001B[49m\n\u001B[32m    118\u001B[39m \u001B[38;5;28;01mexcept\u001B[39;00m \u001B[38;5;167;01mException\u001B[39;00m \u001B[38;5;28;01mas\u001B[39;00m e:\n\u001B[32m    119\u001B[39m     filtered_tb = _process_traceback_frames(e.__traceback__)\n",
      "\u001B[36mFile \u001B[39m\u001B[32m~/Documents/Research/Projects/TogetherFlow/.venv/lib/python3.12/site-packages/keras/src/layers/layer.py:936\u001B[39m, in \u001B[36mLayer.__call__\u001B[39m\u001B[34m(self, *args, **kwargs)\u001B[39m\n\u001B[32m    934\u001B[39m         outputs = \u001B[38;5;28msuper\u001B[39m().\u001B[34m__call__\u001B[39m(*args, **kwargs)\n\u001B[32m    935\u001B[39m \u001B[38;5;28;01melse\u001B[39;00m:\n\u001B[32m--> \u001B[39m\u001B[32m936\u001B[39m     outputs = \u001B[38;5;28;43msuper\u001B[39;49m\u001B[43m(\u001B[49m\u001B[43m)\u001B[49m\u001B[43m.\u001B[49m\u001B[34;43m__call__\u001B[39;49m\u001B[43m(\u001B[49m\u001B[43m*\u001B[49m\u001B[43margs\u001B[49m\u001B[43m,\u001B[49m\u001B[43m \u001B[49m\u001B[43m*\u001B[49m\u001B[43m*\u001B[49m\u001B[43mkwargs\u001B[49m\u001B[43m)\u001B[49m\n\u001B[32m    937\u001B[39m \u001B[38;5;66;03m# Change the layout for the layer output if needed.\u001B[39;00m\n\u001B[32m    938\u001B[39m \u001B[38;5;66;03m# This is useful for relayout intermediate tensor in the model\u001B[39;00m\n\u001B[32m    939\u001B[39m \u001B[38;5;66;03m# to achieve the optimal performance.\u001B[39;00m\n\u001B[32m    940\u001B[39m distribution = distribution_lib.distribution()\n",
      "\u001B[36mFile \u001B[39m\u001B[32m~/Documents/Research/Projects/TogetherFlow/.venv/lib/python3.12/site-packages/keras/src/utils/traceback_utils.py:117\u001B[39m, in \u001B[36mfilter_traceback.<locals>.error_handler\u001B[39m\u001B[34m(*args, **kwargs)\u001B[39m\n\u001B[32m    115\u001B[39m filtered_tb = \u001B[38;5;28;01mNone\u001B[39;00m\n\u001B[32m    116\u001B[39m \u001B[38;5;28;01mtry\u001B[39;00m:\n\u001B[32m--> \u001B[39m\u001B[32m117\u001B[39m     \u001B[38;5;28;01mreturn\u001B[39;00m \u001B[43mfn\u001B[49m\u001B[43m(\u001B[49m\u001B[43m*\u001B[49m\u001B[43margs\u001B[49m\u001B[43m,\u001B[49m\u001B[43m \u001B[49m\u001B[43m*\u001B[49m\u001B[43m*\u001B[49m\u001B[43mkwargs\u001B[49m\u001B[43m)\u001B[49m\n\u001B[32m    118\u001B[39m \u001B[38;5;28;01mexcept\u001B[39;00m \u001B[38;5;167;01mException\u001B[39;00m \u001B[38;5;28;01mas\u001B[39;00m e:\n\u001B[32m    119\u001B[39m     filtered_tb = _process_traceback_frames(e.__traceback__)\n",
      "\u001B[36mFile \u001B[39m\u001B[32m~/Documents/Research/Projects/TogetherFlow/.venv/lib/python3.12/site-packages/keras/src/ops/operation.py:58\u001B[39m, in \u001B[36mOperation.__call__\u001B[39m\u001B[34m(self, *args, **kwargs)\u001B[39m\n\u001B[32m     53\u001B[39m                 call_fn = \u001B[38;5;28mself\u001B[39m.call\n\u001B[32m     54\u001B[39m     call_fn = traceback_utils.inject_argument_info_in_traceback(\n\u001B[32m     55\u001B[39m         call_fn,\n\u001B[32m     56\u001B[39m         object_name=(\u001B[33mf\u001B[39m\u001B[33m\"\u001B[39m\u001B[38;5;132;01m{\u001B[39;00m\u001B[38;5;28mself\u001B[39m.\u001B[34m__class__\u001B[39m.\u001B[34m__name__\u001B[39m\u001B[38;5;132;01m}\u001B[39;00m\u001B[33m.call()\u001B[39m\u001B[33m\"\u001B[39m),\n\u001B[32m     57\u001B[39m     )\n\u001B[32m---> \u001B[39m\u001B[32m58\u001B[39m     \u001B[38;5;28;01mreturn\u001B[39;00m \u001B[43mcall_fn\u001B[49m\u001B[43m(\u001B[49m\u001B[43m*\u001B[49m\u001B[43margs\u001B[49m\u001B[43m,\u001B[49m\u001B[43m \u001B[49m\u001B[43m*\u001B[49m\u001B[43m*\u001B[49m\u001B[43mkwargs\u001B[49m\u001B[43m)\u001B[49m\n\u001B[32m     60\u001B[39m \u001B[38;5;66;03m# Plain flow.\u001B[39;00m\n\u001B[32m     61\u001B[39m \u001B[38;5;28;01mif\u001B[39;00m any_symbolic_tensors(args, kwargs):\n",
      "\u001B[36mFile \u001B[39m\u001B[32m~/Documents/Research/Projects/TogetherFlow/.venv/lib/python3.12/site-packages/keras/src/utils/traceback_utils.py:156\u001B[39m, in \u001B[36minject_argument_info_in_traceback.<locals>.error_handler\u001B[39m\u001B[34m(*args, **kwargs)\u001B[39m\n\u001B[32m    154\u001B[39m bound_signature = \u001B[38;5;28;01mNone\u001B[39;00m\n\u001B[32m    155\u001B[39m \u001B[38;5;28;01mtry\u001B[39;00m:\n\u001B[32m--> \u001B[39m\u001B[32m156\u001B[39m     \u001B[38;5;28;01mreturn\u001B[39;00m \u001B[43mfn\u001B[49m\u001B[43m(\u001B[49m\u001B[43m*\u001B[49m\u001B[43margs\u001B[49m\u001B[43m,\u001B[49m\u001B[43m \u001B[49m\u001B[43m*\u001B[49m\u001B[43m*\u001B[49m\u001B[43mkwargs\u001B[49m\u001B[43m)\u001B[49m\n\u001B[32m    157\u001B[39m \u001B[38;5;28;01mexcept\u001B[39;00m \u001B[38;5;167;01mException\u001B[39;00m \u001B[38;5;28;01mas\u001B[39;00m e:\n\u001B[32m    158\u001B[39m     \u001B[38;5;28;01mif\u001B[39;00m \u001B[38;5;28mhasattr\u001B[39m(e, \u001B[33m\"\u001B[39m\u001B[33m_keras_call_info_injected\u001B[39m\u001B[33m\"\u001B[39m):\n\u001B[32m    159\u001B[39m         \u001B[38;5;66;03m# Only inject info for the innermost failing call\u001B[39;00m\n",
      "\u001B[36mFile \u001B[39m\u001B[32m~/Documents/Research/Projects/TogetherFlow/.venv/lib/python3.12/site-packages/keras/src/layers/rnn/time_distributed.py:126\u001B[39m, in \u001B[36mTimeDistributed.call\u001B[39m\u001B[34m(self, inputs, training, mask)\u001B[39m\n\u001B[32m    122\u001B[39m \u001B[38;5;66;03m# Implementation #1: is the time axis is static, use a Python for loop.\u001B[39;00m\n\u001B[32m    124\u001B[39m \u001B[38;5;28;01mif\u001B[39;00m inputs.shape[\u001B[32m0\u001B[39m] \u001B[38;5;129;01mis\u001B[39;00m \u001B[38;5;129;01mnot\u001B[39;00m \u001B[38;5;28;01mNone\u001B[39;00m:\n\u001B[32m    125\u001B[39m     outputs = ops.stack(\n\u001B[32m--> \u001B[39m\u001B[32m126\u001B[39m         [\u001B[43mstep_function\u001B[49m\u001B[43m(\u001B[49m\u001B[43mi\u001B[49m\u001B[43m)\u001B[49m \u001B[38;5;28;01mfor\u001B[39;00m i \u001B[38;5;129;01min\u001B[39;00m \u001B[38;5;28mrange\u001B[39m(inputs.shape[\u001B[32m0\u001B[39m])]\n\u001B[32m    127\u001B[39m     )\n\u001B[32m    128\u001B[39m     \u001B[38;5;28;01mreturn\u001B[39;00m time_distributed_transpose(outputs)\n\u001B[32m    130\u001B[39m \u001B[38;5;66;03m# Implementation #2: use backend.vectorized_map.\u001B[39;00m\n",
      "\u001B[36mFile \u001B[39m\u001B[32m~/Documents/Research/Projects/TogetherFlow/.venv/lib/python3.12/site-packages/keras/src/layers/rnn/time_distributed.py:120\u001B[39m, in \u001B[36mTimeDistributed.call.<locals>.step_function\u001B[39m\u001B[34m(i)\u001B[39m\n\u001B[32m    118\u001B[39m \u001B[38;5;28;01mif\u001B[39;00m \u001B[38;5;28mself\u001B[39m.layer._call_has_training_arg:\n\u001B[32m    119\u001B[39m     kwargs[\u001B[33m\"\u001B[39m\u001B[33mtraining\u001B[39m\u001B[33m\"\u001B[39m] = training\n\u001B[32m--> \u001B[39m\u001B[32m120\u001B[39m \u001B[38;5;28;01mreturn\u001B[39;00m \u001B[38;5;28;43mself\u001B[39;49m\u001B[43m.\u001B[49m\u001B[43mlayer\u001B[49m\u001B[43m.\u001B[49m\u001B[43mcall\u001B[49m\u001B[43m(\u001B[49m\u001B[43minputs\u001B[49m\u001B[43m[\u001B[49m\u001B[43mi\u001B[49m\u001B[43m]\u001B[49m\u001B[43m,\u001B[49m\u001B[43m \u001B[49m\u001B[43m*\u001B[49m\u001B[43m*\u001B[49m\u001B[43mkwargs\u001B[49m\u001B[43m)\u001B[49m\n",
      "\u001B[36mFile \u001B[39m\u001B[32m~/Documents/Research/Projects/TogetherFlow/.venv/lib/python3.12/site-packages/keras/src/layers/rnn/lstm.py:583\u001B[39m, in \u001B[36mLSTM.call\u001B[39m\u001B[34m(self, sequences, initial_state, mask, training)\u001B[39m\n\u001B[32m    582\u001B[39m \u001B[38;5;28;01mdef\u001B[39;00m\u001B[38;5;250m \u001B[39m\u001B[34mcall\u001B[39m(\u001B[38;5;28mself\u001B[39m, sequences, initial_state=\u001B[38;5;28;01mNone\u001B[39;00m, mask=\u001B[38;5;28;01mNone\u001B[39;00m, training=\u001B[38;5;28;01mFalse\u001B[39;00m):\n\u001B[32m--> \u001B[39m\u001B[32m583\u001B[39m     \u001B[38;5;28;01mreturn\u001B[39;00m \u001B[38;5;28;43msuper\u001B[39;49m\u001B[43m(\u001B[49m\u001B[43m)\u001B[49m\u001B[43m.\u001B[49m\u001B[43mcall\u001B[49m\u001B[43m(\u001B[49m\n\u001B[32m    584\u001B[39m \u001B[43m        \u001B[49m\u001B[43msequences\u001B[49m\u001B[43m,\u001B[49m\u001B[43m \u001B[49m\u001B[43mmask\u001B[49m\u001B[43m=\u001B[49m\u001B[43mmask\u001B[49m\u001B[43m,\u001B[49m\u001B[43m \u001B[49m\u001B[43mtraining\u001B[49m\u001B[43m=\u001B[49m\u001B[43mtraining\u001B[49m\u001B[43m,\u001B[49m\u001B[43m \u001B[49m\u001B[43minitial_state\u001B[49m\u001B[43m=\u001B[49m\u001B[43minitial_state\u001B[49m\n\u001B[32m    585\u001B[39m \u001B[43m    \u001B[49m\u001B[43m)\u001B[49m\n",
      "\u001B[36mFile \u001B[39m\u001B[32m~/Documents/Research/Projects/TogetherFlow/.venv/lib/python3.12/site-packages/keras/src/layers/rnn/rnn.py:406\u001B[39m, in \u001B[36mRNN.call\u001B[39m\u001B[34m(self, sequences, initial_state, mask, training)\u001B[39m\n\u001B[32m    400\u001B[39m \u001B[38;5;66;03m# Prepopulate the dropout state so that the inner_loop is stateless\u001B[39;00m\n\u001B[32m    401\u001B[39m \u001B[38;5;66;03m# this is particularly important for JAX backend.\u001B[39;00m\n\u001B[32m    402\u001B[39m \u001B[38;5;28mself\u001B[39m._maybe_config_dropout_masks(\n\u001B[32m    403\u001B[39m     \u001B[38;5;28mself\u001B[39m.cell, sequences[:, \u001B[32m0\u001B[39m, :], initial_state\n\u001B[32m    404\u001B[39m )\n\u001B[32m--> \u001B[39m\u001B[32m406\u001B[39m last_output, outputs, states = \u001B[38;5;28;43mself\u001B[39;49m\u001B[43m.\u001B[49m\u001B[43minner_loop\u001B[49m\u001B[43m(\u001B[49m\n\u001B[32m    407\u001B[39m \u001B[43m    \u001B[49m\u001B[43msequences\u001B[49m\u001B[43m=\u001B[49m\u001B[43msequences\u001B[49m\u001B[43m,\u001B[49m\n\u001B[32m    408\u001B[39m \u001B[43m    \u001B[49m\u001B[43minitial_state\u001B[49m\u001B[43m=\u001B[49m\u001B[43minitial_state\u001B[49m\u001B[43m,\u001B[49m\n\u001B[32m    409\u001B[39m \u001B[43m    \u001B[49m\u001B[43mmask\u001B[49m\u001B[43m=\u001B[49m\u001B[43mmask\u001B[49m\u001B[43m,\u001B[49m\n\u001B[32m    410\u001B[39m \u001B[43m    \u001B[49m\u001B[43mtraining\u001B[49m\u001B[43m=\u001B[49m\u001B[43mtraining\u001B[49m\u001B[43m,\u001B[49m\n\u001B[32m    411\u001B[39m \u001B[43m\u001B[49m\u001B[43m)\u001B[49m\n\u001B[32m    412\u001B[39m last_output = ops.cast(last_output, \u001B[38;5;28mself\u001B[39m.compute_dtype)\n\u001B[32m    413\u001B[39m outputs = ops.cast(outputs, \u001B[38;5;28mself\u001B[39m.compute_dtype)\n",
      "\u001B[36mFile \u001B[39m\u001B[32m~/Documents/Research/Projects/TogetherFlow/.venv/lib/python3.12/site-packages/keras/src/layers/rnn/lstm.py:578\u001B[39m, in \u001B[36mLSTM.inner_loop\u001B[39m\u001B[34m(self, sequences, initial_state, mask, training)\u001B[39m\n\u001B[32m    571\u001B[39m \u001B[38;5;28;01mif\u001B[39;00m \u001B[38;5;28mself\u001B[39m.use_cudnn \u001B[38;5;129;01mis\u001B[39;00m \u001B[38;5;28;01mTrue\u001B[39;00m:\n\u001B[32m    572\u001B[39m     \u001B[38;5;28;01mraise\u001B[39;00m \u001B[38;5;167;01mValueError\u001B[39;00m(\n\u001B[32m    573\u001B[39m         \u001B[33m\"\u001B[39m\u001B[33muse_cudnn=True was specified, \u001B[39m\u001B[33m\"\u001B[39m\n\u001B[32m    574\u001B[39m         \u001B[33m\"\u001B[39m\u001B[33mbut cuDNN is not supported for this layer configuration \u001B[39m\u001B[33m\"\u001B[39m\n\u001B[32m    575\u001B[39m         \u001B[33m\"\u001B[39m\u001B[33mwith this backend. Pass use_cudnn=\u001B[39m\u001B[33m'\u001B[39m\u001B[33mauto\u001B[39m\u001B[33m'\u001B[39m\u001B[33m to fallback \u001B[39m\u001B[33m\"\u001B[39m\n\u001B[32m    576\u001B[39m         \u001B[33m\"\u001B[39m\u001B[33mto a non-cuDNN implementation.\u001B[39m\u001B[33m\"\u001B[39m\n\u001B[32m    577\u001B[39m     )\n\u001B[32m--> \u001B[39m\u001B[32m578\u001B[39m \u001B[38;5;28;01mreturn\u001B[39;00m \u001B[38;5;28;43msuper\u001B[39;49m\u001B[43m(\u001B[49m\u001B[43m)\u001B[49m\u001B[43m.\u001B[49m\u001B[43minner_loop\u001B[49m\u001B[43m(\u001B[49m\n\u001B[32m    579\u001B[39m \u001B[43m    \u001B[49m\u001B[43msequences\u001B[49m\u001B[43m,\u001B[49m\u001B[43m \u001B[49m\u001B[43minitial_state\u001B[49m\u001B[43m,\u001B[49m\u001B[43m \u001B[49m\u001B[43mmask\u001B[49m\u001B[43m=\u001B[49m\u001B[43mmask\u001B[49m\u001B[43m,\u001B[49m\u001B[43m \u001B[49m\u001B[43mtraining\u001B[49m\u001B[43m=\u001B[49m\u001B[43mtraining\u001B[49m\n\u001B[32m    580\u001B[39m \u001B[43m\u001B[49m\u001B[43m)\u001B[49m\n",
      "\u001B[36mFile \u001B[39m\u001B[32m~/Documents/Research/Projects/TogetherFlow/.venv/lib/python3.12/site-packages/keras/src/layers/rnn/rnn.py:346\u001B[39m, in \u001B[36mRNN.inner_loop\u001B[39m\u001B[34m(self, sequences, initial_state, mask, training)\u001B[39m\n\u001B[32m    343\u001B[39m \u001B[38;5;28;01mif\u001B[39;00m \u001B[38;5;129;01mnot\u001B[39;00m tree.is_nested(initial_state):\n\u001B[32m    344\u001B[39m     initial_state = [initial_state]\n\u001B[32m--> \u001B[39m\u001B[32m346\u001B[39m \u001B[38;5;28;01mreturn\u001B[39;00m \u001B[43mbackend\u001B[49m\u001B[43m.\u001B[49m\u001B[43mrnn\u001B[49m\u001B[43m(\u001B[49m\n\u001B[32m    347\u001B[39m \u001B[43m    \u001B[49m\u001B[43mstep\u001B[49m\u001B[43m,\u001B[49m\n\u001B[32m    348\u001B[39m \u001B[43m    \u001B[49m\u001B[43msequences\u001B[49m\u001B[43m,\u001B[49m\n\u001B[32m    349\u001B[39m \u001B[43m    \u001B[49m\u001B[43minitial_state\u001B[49m\u001B[43m,\u001B[49m\n\u001B[32m    350\u001B[39m \u001B[43m    \u001B[49m\u001B[43mgo_backwards\u001B[49m\u001B[43m=\u001B[49m\u001B[38;5;28;43mself\u001B[39;49m\u001B[43m.\u001B[49m\u001B[43mgo_backwards\u001B[49m\u001B[43m,\u001B[49m\n\u001B[32m    351\u001B[39m \u001B[43m    \u001B[49m\u001B[43mmask\u001B[49m\u001B[43m=\u001B[49m\u001B[43mmask\u001B[49m\u001B[43m,\u001B[49m\n\u001B[32m    352\u001B[39m \u001B[43m    \u001B[49m\u001B[43munroll\u001B[49m\u001B[43m=\u001B[49m\u001B[38;5;28;43mself\u001B[39;49m\u001B[43m.\u001B[49m\u001B[43munroll\u001B[49m\u001B[43m,\u001B[49m\n\u001B[32m    353\u001B[39m \u001B[43m    \u001B[49m\u001B[43minput_length\u001B[49m\u001B[43m=\u001B[49m\u001B[43msequences\u001B[49m\u001B[43m.\u001B[49m\u001B[43mshape\u001B[49m\u001B[43m[\u001B[49m\u001B[32;43m1\u001B[39;49m\u001B[43m]\u001B[49m\u001B[43m,\u001B[49m\n\u001B[32m    354\u001B[39m \u001B[43m    \u001B[49m\u001B[43mzero_output_for_mask\u001B[49m\u001B[43m=\u001B[49m\u001B[38;5;28;43mself\u001B[39;49m\u001B[43m.\u001B[49m\u001B[43mzero_output_for_mask\u001B[49m\u001B[43m,\u001B[49m\n\u001B[32m    355\u001B[39m \u001B[43m    \u001B[49m\u001B[43mreturn_all_outputs\u001B[49m\u001B[43m=\u001B[49m\u001B[38;5;28;43mself\u001B[39;49m\u001B[43m.\u001B[49m\u001B[43mreturn_sequences\u001B[49m\u001B[43m,\u001B[49m\n\u001B[32m    356\u001B[39m \u001B[43m\u001B[49m\u001B[43m)\u001B[49m\n",
      "\u001B[36mFile \u001B[39m\u001B[32m~/Documents/Research/Projects/TogetherFlow/.venv/lib/python3.12/site-packages/keras/src/backend/jax/rnn.py:198\u001B[39m, in \u001B[36mrnn\u001B[39m\u001B[34m(step_function, inputs, initial_states, go_backwards, mask, constants, unroll, input_length, time_major, zero_output_for_mask, return_all_outputs)\u001B[39m\n\u001B[32m    193\u001B[39m     scope = stateless_scope.StatelessScope()\n\u001B[32m    194\u001B[39m \u001B[38;5;28;01mwith\u001B[39;00m scope:\n\u001B[32m    195\u001B[39m     \u001B[38;5;66;03m# We must use a stateless scope because `scan` will involve\u001B[39;00m\n\u001B[32m    196\u001B[39m     \u001B[38;5;66;03m# JAX tracing -- any variable update at this stage would\u001B[39;00m\n\u001B[32m    197\u001B[39m     \u001B[38;5;66;03m# be a leak.\u001B[39;00m\n\u001B[32m--> \u001B[39m\u001B[32m198\u001B[39m     new_states, outputs = \u001B[43mlax\u001B[49m\u001B[43m.\u001B[49m\u001B[43mscan\u001B[49m\u001B[43m(\u001B[49m\n\u001B[32m    199\u001B[39m \u001B[43m        \u001B[49m\u001B[43mf\u001B[49m\u001B[43m=\u001B[49m\u001B[43m_step\u001B[49m\u001B[43m,\u001B[49m\n\u001B[32m    200\u001B[39m \u001B[43m        \u001B[49m\u001B[43minit\u001B[49m\u001B[43m=\u001B[49m\u001B[43minitial_states\u001B[49m\u001B[43m,\u001B[49m\n\u001B[32m    201\u001B[39m \u001B[43m        \u001B[49m\u001B[43mxs\u001B[49m\u001B[43m=\u001B[49m\u001B[43mscan_xs\u001B[49m\u001B[43m,\u001B[49m\n\u001B[32m    202\u001B[39m \u001B[43m        \u001B[49m\u001B[43mreverse\u001B[49m\u001B[43m=\u001B[49m\u001B[43mgo_backwards\u001B[49m\u001B[43m,\u001B[49m\n\u001B[32m    203\u001B[39m \u001B[43m    \u001B[49m\u001B[43m)\u001B[49m\n\u001B[32m    204\u001B[39m \u001B[38;5;28;01mif\u001B[39;00m go_backwards:\n\u001B[32m    205\u001B[39m     outputs = jnp.flip(outputs, axis=\u001B[32m0\u001B[39m)\n",
      "    \u001B[31m[... skipping hidden 1 frame]\u001B[39m\n",
      "\u001B[36mFile \u001B[39m\u001B[32m~/Documents/Research/Projects/TogetherFlow/.venv/lib/python3.12/site-packages/jax/_src/lax/control_flow/loops.py:353\u001B[39m, in \u001B[36mscan\u001B[39m\u001B[34m(f, init, xs, length, reverse, unroll, _split_transpose)\u001B[39m\n\u001B[32m    347\u001B[39m ext_to_ext_fwd = [\n\u001B[32m    348\u001B[39m     in_idx - \u001B[38;5;28mlen\u001B[39m(consts) \u001B[38;5;28;01mif\u001B[39;00m in_idx \u001B[38;5;129;01mis\u001B[39;00m \u001B[38;5;129;01mnot\u001B[39;00m \u001B[38;5;28;01mNone\u001B[39;00m \u001B[38;5;129;01mand\u001B[39;00m\n\u001B[32m    349\u001B[39m     in_idx >= num_carry + \u001B[38;5;28mlen\u001B[39m(consts) \u001B[38;5;28;01melse\u001B[39;00m \u001B[38;5;28;01mNone\u001B[39;00m \u001B[38;5;28;01mfor\u001B[39;00m in_idx \u001B[38;5;129;01min\u001B[39;00m ext_fwd]\n\u001B[32m    350\u001B[39m jaxpr = pe.prune_closed_jaxpr_outputs(\n\u001B[32m    351\u001B[39m     jaxpr, [\u001B[38;5;28;01mTrue\u001B[39;00m] * num_carry + [i \u001B[38;5;129;01mis\u001B[39;00m \u001B[38;5;28;01mNone\u001B[39;00m \u001B[38;5;28;01mfor\u001B[39;00m i \u001B[38;5;129;01min\u001B[39;00m ext_to_ext_fwd])\n\u001B[32m--> \u001B[39m\u001B[32m353\u001B[39m out = \u001B[43mscan_p\u001B[49m\u001B[43m.\u001B[49m\u001B[43mbind\u001B[49m\u001B[43m(\u001B[49m\u001B[43m*\u001B[49m\u001B[43mconsts\u001B[49m\u001B[43m,\u001B[49m\u001B[43m \u001B[49m\u001B[43m*\u001B[49m\u001B[43min_flat\u001B[49m\u001B[43m,\u001B[49m\n\u001B[32m    354\u001B[39m \u001B[43m                  \u001B[49m\u001B[43mreverse\u001B[49m\u001B[43m=\u001B[49m\u001B[43mreverse\u001B[49m\u001B[43m,\u001B[49m\u001B[43m \u001B[49m\u001B[43mlength\u001B[49m\u001B[43m=\u001B[49m\u001B[43mlength\u001B[49m\u001B[43m,\u001B[49m\u001B[43m \u001B[49m\u001B[43mjaxpr\u001B[49m\u001B[43m=\u001B[49m\u001B[43mjaxpr\u001B[49m\u001B[43m,\u001B[49m\n\u001B[32m    355\u001B[39m \u001B[43m                  \u001B[49m\u001B[43mnum_consts\u001B[49m\u001B[43m=\u001B[49m\u001B[38;5;28;43mlen\u001B[39;49m\u001B[43m(\u001B[49m\u001B[43mconsts\u001B[49m\u001B[43m)\u001B[49m\u001B[43m,\u001B[49m\u001B[43m \u001B[49m\u001B[43mnum_carry\u001B[49m\u001B[43m=\u001B[49m\u001B[43mnum_carry\u001B[49m\u001B[43m,\u001B[49m\n\u001B[32m    356\u001B[39m \u001B[43m                  \u001B[49m\u001B[43mlinear\u001B[49m\u001B[43m=\u001B[49m\u001B[43m(\u001B[49m\u001B[38;5;28;43;01mFalse\u001B[39;49;00m\u001B[43m,\u001B[49m\u001B[43m)\u001B[49m\u001B[43m \u001B[49m\u001B[43m*\u001B[49m\u001B[43m \u001B[49m\u001B[43m(\u001B[49m\u001B[38;5;28;43mlen\u001B[39;49m\u001B[43m(\u001B[49m\u001B[43mconsts\u001B[49m\u001B[43m)\u001B[49m\u001B[43m \u001B[49m\u001B[43m+\u001B[49m\u001B[43m \u001B[49m\u001B[38;5;28;43mlen\u001B[39;49m\u001B[43m(\u001B[49m\u001B[43min_flat\u001B[49m\u001B[43m)\u001B[49m\u001B[43m)\u001B[49m\u001B[43m,\u001B[49m\n\u001B[32m    357\u001B[39m \u001B[43m                  \u001B[49m\u001B[43munroll\u001B[49m\u001B[43m=\u001B[49m\u001B[43munroll\u001B[49m\u001B[43m,\u001B[49m\u001B[43m \u001B[49m\u001B[43m_split_transpose\u001B[49m\u001B[43m=\u001B[49m\u001B[43m_split_transpose\u001B[49m\u001B[43m)\u001B[49m\n\u001B[32m    359\u001B[39m \u001B[38;5;66;03m# Apply input to output forwarding that was computed above.\u001B[39;00m\n\u001B[32m    360\u001B[39m carry_out, out = split_list(out, [num_carry])\n",
      "\u001B[36mFile \u001B[39m\u001B[32m~/Documents/Research/Projects/TogetherFlow/.venv/lib/python3.12/site-packages/jax/_src/core.py:576\u001B[39m, in \u001B[36mPrimitive.bind\u001B[39m\u001B[34m(self, *args, **params)\u001B[39m\n\u001B[32m    574\u001B[39m \u001B[38;5;28;01mdef\u001B[39;00m\u001B[38;5;250m \u001B[39m\u001B[34mbind\u001B[39m(\u001B[38;5;28mself\u001B[39m, *args, **params):\n\u001B[32m    575\u001B[39m   args = args \u001B[38;5;28;01mif\u001B[39;00m \u001B[38;5;28mself\u001B[39m.skip_canonicalization \u001B[38;5;28;01melse\u001B[39;00m \u001B[38;5;28mmap\u001B[39m(canonicalize_value, args)\n\u001B[32m--> \u001B[39m\u001B[32m576\u001B[39m   \u001B[38;5;28;01mreturn\u001B[39;00m \u001B[38;5;28;43mself\u001B[39;49m\u001B[43m.\u001B[49m\u001B[43m_true_bind\u001B[49m\u001B[43m(\u001B[49m\u001B[43m*\u001B[49m\u001B[43margs\u001B[49m\u001B[43m,\u001B[49m\u001B[43m \u001B[49m\u001B[43m*\u001B[49m\u001B[43m*\u001B[49m\u001B[43mparams\u001B[49m\u001B[43m)\u001B[49m\n",
      "\u001B[36mFile \u001B[39m\u001B[32m~/Documents/Research/Projects/TogetherFlow/.venv/lib/python3.12/site-packages/jax/_src/core.py:592\u001B[39m, in \u001B[36mPrimitive._true_bind\u001B[39m\u001B[34m(self, *args, **params)\u001B[39m\n\u001B[32m    590\u001B[39m trace_ctx.set_trace(eval_trace)\n\u001B[32m    591\u001B[39m \u001B[38;5;28;01mtry\u001B[39;00m:\n\u001B[32m--> \u001B[39m\u001B[32m592\u001B[39m   \u001B[38;5;28;01mreturn\u001B[39;00m \u001B[38;5;28;43mself\u001B[39;49m\u001B[43m.\u001B[49m\u001B[43mbind_with_trace\u001B[49m\u001B[43m(\u001B[49m\u001B[43mprev_trace\u001B[49m\u001B[43m,\u001B[49m\u001B[43m \u001B[49m\u001B[43margs\u001B[49m\u001B[43m,\u001B[49m\u001B[43m \u001B[49m\u001B[43mparams\u001B[49m\u001B[43m)\u001B[49m\n\u001B[32m    593\u001B[39m \u001B[38;5;28;01mfinally\u001B[39;00m:\n\u001B[32m    594\u001B[39m   trace_ctx.set_trace(prev_trace)\n",
      "\u001B[36mFile \u001B[39m\u001B[32m~/Documents/Research/Projects/TogetherFlow/.venv/lib/python3.12/site-packages/jax/_src/core.py:602\u001B[39m, in \u001B[36mPrimitive.bind_with_trace\u001B[39m\u001B[34m(self, trace, args, params)\u001B[39m\n\u001B[32m    599\u001B[39m   \u001B[38;5;28;01mwith\u001B[39;00m set_current_trace(trace):\n\u001B[32m    600\u001B[39m     \u001B[38;5;28;01mreturn\u001B[39;00m \u001B[38;5;28mself\u001B[39m.to_lojax(*args, **params)  \u001B[38;5;66;03m# type: ignore\u001B[39;00m\n\u001B[32m--> \u001B[39m\u001B[32m602\u001B[39m \u001B[38;5;28;01mreturn\u001B[39;00m \u001B[43mtrace\u001B[49m\u001B[43m.\u001B[49m\u001B[43mprocess_primitive\u001B[49m\u001B[43m(\u001B[49m\u001B[38;5;28;43mself\u001B[39;49m\u001B[43m,\u001B[49m\u001B[43m \u001B[49m\u001B[43margs\u001B[49m\u001B[43m,\u001B[49m\u001B[43m \u001B[49m\u001B[43mparams\u001B[49m\u001B[43m)\u001B[49m\n",
      "\u001B[36mFile \u001B[39m\u001B[32m~/Documents/Research/Projects/TogetherFlow/.venv/lib/python3.12/site-packages/jax/_src/core.py:1126\u001B[39m, in \u001B[36mEvalTrace.process_primitive\u001B[39m\u001B[34m(self, primitive, args, params)\u001B[39m\n\u001B[32m   1124\u001B[39m args = \u001B[38;5;28mmap\u001B[39m(full_lower, args)\n\u001B[32m   1125\u001B[39m check_eval_args(args)\n\u001B[32m-> \u001B[39m\u001B[32m1126\u001B[39m \u001B[38;5;28;01mreturn\u001B[39;00m \u001B[43mprimitive\u001B[49m\u001B[43m.\u001B[49m\u001B[43mimpl\u001B[49m\u001B[43m(\u001B[49m\u001B[43m*\u001B[49m\u001B[43margs\u001B[49m\u001B[43m,\u001B[49m\u001B[43m \u001B[49m\u001B[43m*\u001B[49m\u001B[43m*\u001B[49m\u001B[43mparams\u001B[49m\u001B[43m)\u001B[49m\n",
      "\u001B[36mFile \u001B[39m\u001B[32m~/Documents/Research/Projects/TogetherFlow/.venv/lib/python3.12/site-packages/jax/_src/dispatch.py:91\u001B[39m, in \u001B[36mapply_primitive\u001B[39m\u001B[34m(prim, *args, **params)\u001B[39m\n\u001B[32m     89\u001B[39m prev = lib.jax_jit.swap_thread_local_state_disable_jit(\u001B[38;5;28;01mFalse\u001B[39;00m)\n\u001B[32m     90\u001B[39m \u001B[38;5;28;01mtry\u001B[39;00m:\n\u001B[32m---> \u001B[39m\u001B[32m91\u001B[39m   outs = \u001B[43mfun\u001B[49m\u001B[43m(\u001B[49m\u001B[43m*\u001B[49m\u001B[43margs\u001B[49m\u001B[43m)\u001B[49m\n\u001B[32m     92\u001B[39m \u001B[38;5;28;01mfinally\u001B[39;00m:\n\u001B[32m     93\u001B[39m   lib.jax_jit.swap_thread_local_state_disable_jit(prev)\n",
      "    \u001B[31m[... skipping hidden 1 frame]\u001B[39m\n",
      "\u001B[36mFile \u001B[39m\u001B[32m~/Documents/Research/Projects/TogetherFlow/.venv/lib/python3.12/site-packages/jax/_src/pjit.py:260\u001B[39m, in \u001B[36m_cpp_pjit.<locals>.cache_miss\u001B[39m\u001B[34m(*args, **kwargs)\u001B[39m\n\u001B[32m    255\u001B[39m \u001B[38;5;28;01mif\u001B[39;00m config.no_tracing.value:\n\u001B[32m    256\u001B[39m   \u001B[38;5;28;01mraise\u001B[39;00m \u001B[38;5;167;01mRuntimeError\u001B[39;00m(\u001B[33mf\u001B[39m\u001B[33m\"\u001B[39m\u001B[33mre-tracing function \u001B[39m\u001B[38;5;132;01m{\u001B[39;00mjit_info.fun_sourceinfo\u001B[38;5;132;01m}\u001B[39;00m\u001B[33m for \u001B[39m\u001B[33m\"\u001B[39m\n\u001B[32m    257\u001B[39m                      \u001B[33m\"\u001B[39m\u001B[33m`jit`, but \u001B[39m\u001B[33m'\u001B[39m\u001B[33mno_tracing\u001B[39m\u001B[33m'\u001B[39m\u001B[33m is set\u001B[39m\u001B[33m\"\u001B[39m)\n\u001B[32m    259\u001B[39m outs, out_flat, out_tree, args_flat, jaxpr, executable, pgle_profiler = \\\n\u001B[32m--> \u001B[39m\u001B[32m260\u001B[39m     \u001B[43m_python_pjit_helper\u001B[49m\u001B[43m(\u001B[49m\u001B[43mfun\u001B[49m\u001B[43m,\u001B[49m\u001B[43m \u001B[49m\u001B[43mjit_info\u001B[49m\u001B[43m,\u001B[49m\u001B[43m \u001B[49m\u001B[43m*\u001B[49m\u001B[43margs\u001B[49m\u001B[43m,\u001B[49m\u001B[43m \u001B[49m\u001B[43m*\u001B[49m\u001B[43m*\u001B[49m\u001B[43mkwargs\u001B[49m\u001B[43m)\u001B[49m\n\u001B[32m    262\u001B[39m maybe_fastpath_data = _get_fastpath_data(\n\u001B[32m    263\u001B[39m     executable, out_tree, args_flat, out_flat, jaxpr.effects, jaxpr.consts,\n\u001B[32m    264\u001B[39m     jit_info.abstracted_axes, pgle_profiler)\n\u001B[32m    266\u001B[39m \u001B[38;5;28;01mreturn\u001B[39;00m outs, maybe_fastpath_data, _need_to_rebuild_with_fdo(pgle_profiler)\n",
      "\u001B[36mFile \u001B[39m\u001B[32m~/Documents/Research/Projects/TogetherFlow/.venv/lib/python3.12/site-packages/jax/_src/pjit.py:147\u001B[39m, in \u001B[36m_python_pjit_helper\u001B[39m\u001B[34m(fun, jit_info, *args, **kwargs)\u001B[39m\n\u001B[32m    145\u001B[39m   args_flat = \u001B[38;5;28mmap\u001B[39m(core.full_lower, args_flat)\n\u001B[32m    146\u001B[39m   core.check_eval_args(args_flat)\n\u001B[32m--> \u001B[39m\u001B[32m147\u001B[39m   out_flat, compiled, profiler = \u001B[43m_pjit_call_impl_python\u001B[49m\u001B[43m(\u001B[49m\u001B[43m*\u001B[49m\u001B[43margs_flat\u001B[49m\u001B[43m,\u001B[49m\u001B[43m \u001B[49m\u001B[43m*\u001B[49m\u001B[43m*\u001B[49m\u001B[43mp\u001B[49m\u001B[43m.\u001B[49m\u001B[43mparams\u001B[49m\u001B[43m)\u001B[49m\n\u001B[32m    148\u001B[39m \u001B[38;5;28;01melse\u001B[39;00m:\n\u001B[32m    149\u001B[39m   out_flat = jit_p.bind(*args_flat, **p.params)\n",
      "\u001B[36mFile \u001B[39m\u001B[32m~/Documents/Research/Projects/TogetherFlow/.venv/lib/python3.12/site-packages/jax/_src/pjit.py:1755\u001B[39m, in \u001B[36m_pjit_call_impl_python\u001B[39m\u001B[34m(jaxpr, in_shardings, out_shardings, in_layouts, out_layouts, donated_invars, ctx_mesh, name, keep_unused, inline, compiler_options_kvs, *args)\u001B[39m\n\u001B[32m   1743\u001B[39m compiler_options_kvs = compiler_options_kvs + \u001B[38;5;28mtuple\u001B[39m(pgle_compile_options.items())\n\u001B[32m   1744\u001B[39m \u001B[38;5;66;03m# Passing mutable PGLE profile here since it should be extracted by JAXPR to\u001B[39;00m\n\u001B[32m   1745\u001B[39m \u001B[38;5;66;03m# initialize the fdo_profile compile option.\u001B[39;00m\n\u001B[32m   1746\u001B[39m compiled = \u001B[43m_resolve_and_lower\u001B[49m\u001B[43m(\u001B[49m\n\u001B[32m   1747\u001B[39m \u001B[43m    \u001B[49m\u001B[43margs\u001B[49m\u001B[43m,\u001B[49m\u001B[43m \u001B[49m\u001B[43mjaxpr\u001B[49m\u001B[43m=\u001B[49m\u001B[43mjaxpr\u001B[49m\u001B[43m,\u001B[49m\u001B[43m \u001B[49m\u001B[43min_shardings\u001B[49m\u001B[43m=\u001B[49m\u001B[43min_shardings\u001B[49m\u001B[43m,\u001B[49m\n\u001B[32m   1748\u001B[39m \u001B[43m    \u001B[49m\u001B[43mout_shardings\u001B[49m\u001B[43m=\u001B[49m\u001B[43mout_shardings\u001B[49m\u001B[43m,\u001B[49m\u001B[43m \u001B[49m\u001B[43min_layouts\u001B[49m\u001B[43m=\u001B[49m\u001B[43min_layouts\u001B[49m\u001B[43m,\u001B[49m\n\u001B[32m   1749\u001B[39m \u001B[43m    \u001B[49m\u001B[43mout_layouts\u001B[49m\u001B[43m=\u001B[49m\u001B[43mout_layouts\u001B[49m\u001B[43m,\u001B[49m\u001B[43m \u001B[49m\u001B[43mdonated_invars\u001B[49m\u001B[43m=\u001B[49m\u001B[43mdonated_invars\u001B[49m\u001B[43m,\u001B[49m\n\u001B[32m   1750\u001B[39m \u001B[43m    \u001B[49m\u001B[43mctx_mesh\u001B[49m\u001B[43m=\u001B[49m\u001B[43mctx_mesh\u001B[49m\u001B[43m,\u001B[49m\u001B[43m \u001B[49m\u001B[43mname\u001B[49m\u001B[43m=\u001B[49m\u001B[43mname\u001B[49m\u001B[43m,\u001B[49m\u001B[43m \u001B[49m\u001B[43mkeep_unused\u001B[49m\u001B[43m=\u001B[49m\u001B[43mkeep_unused\u001B[49m\u001B[43m,\u001B[49m\n\u001B[32m   1751\u001B[39m \u001B[43m    \u001B[49m\u001B[43minline\u001B[49m\u001B[43m=\u001B[49m\u001B[43minline\u001B[49m\u001B[43m,\u001B[49m\u001B[43m \u001B[49m\u001B[43mlowering_platforms\u001B[49m\u001B[43m=\u001B[49m\u001B[38;5;28;43;01mNone\u001B[39;49;00m\u001B[43m,\u001B[49m\n\u001B[32m   1752\u001B[39m \u001B[43m    \u001B[49m\u001B[43mlowering_parameters\u001B[49m\u001B[43m=\u001B[49m\u001B[43mmlir\u001B[49m\u001B[43m.\u001B[49m\u001B[43mLoweringParameters\u001B[49m\u001B[43m(\u001B[49m\u001B[43m)\u001B[49m\u001B[43m,\u001B[49m\n\u001B[32m   1753\u001B[39m \u001B[43m    \u001B[49m\u001B[43mpgle_profiler\u001B[49m\u001B[43m=\u001B[49m\u001B[43mpgle_profiler\u001B[49m\u001B[43m,\u001B[49m\n\u001B[32m   1754\u001B[39m \u001B[43m    \u001B[49m\u001B[43mcompiler_options_kvs\u001B[49m\u001B[43m=\u001B[49m\u001B[43mcompiler_options_kvs\u001B[49m\u001B[43m,\u001B[49m\n\u001B[32m-> \u001B[39m\u001B[32m1755\u001B[39m \u001B[43m\u001B[49m\u001B[43m)\u001B[49m\u001B[43m.\u001B[49m\u001B[43mcompile\u001B[49m\u001B[43m(\u001B[49m\u001B[43m)\u001B[49m\n\u001B[32m   1757\u001B[39m \u001B[38;5;66;03m# This check is expensive so only do it if enable_checks is on.\u001B[39;00m\n\u001B[32m   1758\u001B[39m \u001B[38;5;28;01mif\u001B[39;00m compiled._auto_spmd_lowering \u001B[38;5;129;01mand\u001B[39;00m config.enable_checks.value:\n",
      "\u001B[36mFile \u001B[39m\u001B[32m~/Documents/Research/Projects/TogetherFlow/.venv/lib/python3.12/site-packages/jax/_src/interpreters/pxla.py:2436\u001B[39m, in \u001B[36mMeshComputation.compile\u001B[39m\u001B[34m(self, compiler_options, device_assignment)\u001B[39m\n\u001B[32m   2433\u001B[39m \u001B[38;5;28;01massert\u001B[39;00m \u001B[38;5;28misinstance\u001B[39m(compilation_device_list, (\u001B[38;5;28mtype\u001B[39m(\u001B[38;5;28;01mNone\u001B[39;00m), xc.DeviceList))\n\u001B[32m   2435\u001B[39m \u001B[38;5;28;01mif\u001B[39;00m \u001B[38;5;28mself\u001B[39m._executable \u001B[38;5;129;01mis\u001B[39;00m \u001B[38;5;28;01mNone\u001B[39;00m \u001B[38;5;129;01mor\u001B[39;00m compiler_options_kvs \u001B[38;5;129;01mor\u001B[39;00m device_assignment:\n\u001B[32m-> \u001B[39m\u001B[32m2436\u001B[39m   executable = \u001B[43mUnloadedMeshExecutable\u001B[49m\u001B[43m.\u001B[49m\u001B[43mfrom_hlo\u001B[49m\u001B[43m(\u001B[49m\n\u001B[32m   2437\u001B[39m \u001B[43m      \u001B[49m\u001B[38;5;28;43mself\u001B[39;49m\u001B[43m.\u001B[49m\u001B[43m_name\u001B[49m\u001B[43m,\u001B[49m\u001B[43m \u001B[49m\u001B[38;5;28;43mself\u001B[39;49m\u001B[43m.\u001B[49m\u001B[43m_hlo\u001B[49m\u001B[43m,\u001B[49m\u001B[43m \u001B[49m\u001B[43m*\u001B[49m\u001B[43m*\u001B[49m\u001B[38;5;28;43mself\u001B[39;49m\u001B[43m.\u001B[49m\u001B[43mcompile_args\u001B[49m\u001B[43m,\u001B[49m\n\u001B[32m   2438\u001B[39m \u001B[43m      \u001B[49m\u001B[43mcompiler_options_kvs\u001B[49m\u001B[43m=\u001B[49m\u001B[43mcompiler_options_kvs\u001B[49m\u001B[43m,\u001B[49m\n\u001B[32m   2439\u001B[39m \u001B[43m      \u001B[49m\u001B[43mdevice_list\u001B[49m\u001B[43m=\u001B[49m\u001B[43mcompilation_device_list\u001B[49m\u001B[43m)\u001B[49m\n\u001B[32m   2440\u001B[39m   \u001B[38;5;28;01mif\u001B[39;00m \u001B[38;5;129;01mnot\u001B[39;00m compiler_options_kvs:\n\u001B[32m   2441\u001B[39m     \u001B[38;5;28mself\u001B[39m._executable = executable\n",
      "\u001B[36mFile \u001B[39m\u001B[32m~/Documents/Research/Projects/TogetherFlow/.venv/lib/python3.12/site-packages/jax/_src/interpreters/pxla.py:2997\u001B[39m, in \u001B[36mUnloadedMeshExecutable.from_hlo\u001B[39m\u001B[34m(***failed resolving arguments***)\u001B[39m\n\u001B[32m   2994\u001B[39m       \u001B[38;5;28;01mbreak\u001B[39;00m\n\u001B[32m   2996\u001B[39m util.test_event(\u001B[33m\"\u001B[39m\u001B[33mpxla_cached_compilation\u001B[39m\u001B[33m\"\u001B[39m)\n\u001B[32m-> \u001B[39m\u001B[32m2997\u001B[39m xla_executable = \u001B[43m_cached_compilation\u001B[49m\u001B[43m(\u001B[49m\n\u001B[32m   2998\u001B[39m \u001B[43m    \u001B[49m\u001B[43mhlo\u001B[49m\u001B[43m,\u001B[49m\u001B[43m \u001B[49m\u001B[43mname\u001B[49m\u001B[43m,\u001B[49m\u001B[43m \u001B[49m\u001B[43mmesh\u001B[49m\u001B[43m,\u001B[49m\u001B[43m \u001B[49m\u001B[43mspmd_lowering\u001B[49m\u001B[43m,\u001B[49m\n\u001B[32m   2999\u001B[39m \u001B[43m    \u001B[49m\u001B[43mtuple_args\u001B[49m\u001B[43m,\u001B[49m\u001B[43m \u001B[49m\u001B[43mauto_spmd_lowering\u001B[49m\u001B[43m,\u001B[49m\u001B[43m \u001B[49m\u001B[43mallow_prop_to_inputs\u001B[49m\u001B[43m,\u001B[49m\n\u001B[32m   3000\u001B[39m \u001B[43m    \u001B[49m\u001B[43mallow_prop_to_outputs\u001B[49m\u001B[43m,\u001B[49m\u001B[43m \u001B[49m\u001B[38;5;28;43mtuple\u001B[39;49m\u001B[43m(\u001B[49m\u001B[43mhost_callbacks\u001B[49m\u001B[43m)\u001B[49m\u001B[43m,\u001B[49m\u001B[43m \u001B[49m\u001B[43mbackend\u001B[49m\u001B[43m,\u001B[49m\u001B[43m \u001B[49m\u001B[43mdevice_list\u001B[49m\u001B[43m,\u001B[49m\n\u001B[32m   3001\u001B[39m \u001B[43m    \u001B[49m\u001B[43mpmap_nreps\u001B[49m\u001B[43m,\u001B[49m\u001B[43m \u001B[49m\u001B[43mcompiler_options_kvs\u001B[49m\u001B[43m,\u001B[49m\u001B[43m \u001B[49m\u001B[43mpgle_profiler\u001B[49m\u001B[43m)\u001B[49m\n\u001B[32m   3003\u001B[39m \u001B[38;5;28;01mif\u001B[39;00m auto_spmd_lowering:\n\u001B[32m   3004\u001B[39m   \u001B[38;5;28;01massert\u001B[39;00m mesh \u001B[38;5;129;01mis\u001B[39;00m \u001B[38;5;129;01mnot\u001B[39;00m \u001B[38;5;28;01mNone\u001B[39;00m\n",
      "\u001B[36mFile \u001B[39m\u001B[32m~/Documents/Research/Projects/TogetherFlow/.venv/lib/python3.12/site-packages/jax/_src/interpreters/pxla.py:2779\u001B[39m, in \u001B[36m_cached_compilation\u001B[39m\u001B[34m(computation, name, mesh, spmd_lowering, tuple_args, auto_spmd_lowering, allow_prop_to_inputs, allow_prop_to_outputs, host_callbacks, backend, da, pmap_nreps, compiler_options_kvs, pgle_profiler)\u001B[39m\n\u001B[32m   2771\u001B[39m compile_options = create_compile_options(\n\u001B[32m   2772\u001B[39m     computation, mesh, spmd_lowering, tuple_args, auto_spmd_lowering,\n\u001B[32m   2773\u001B[39m     allow_prop_to_inputs, allow_prop_to_outputs, backend,\n\u001B[32m   2774\u001B[39m     dev, pmap_nreps, compiler_options)\n\u001B[32m   2776\u001B[39m \u001B[38;5;28;01mwith\u001B[39;00m dispatch.log_elapsed_time(\n\u001B[32m   2777\u001B[39m     \u001B[33m\"\u001B[39m\u001B[33mFinished XLA compilation of \u001B[39m\u001B[38;5;132;01m{fun_name}\u001B[39;00m\u001B[33m in \u001B[39m\u001B[38;5;132;01m{elapsed_time:.9f}\u001B[39;00m\u001B[33m sec\u001B[39m\u001B[33m\"\u001B[39m,\n\u001B[32m   2778\u001B[39m     fun_name=name, event=dispatch.BACKEND_COMPILE_EVENT):\n\u001B[32m-> \u001B[39m\u001B[32m2779\u001B[39m   xla_executable = \u001B[43mcompiler\u001B[49m\u001B[43m.\u001B[49m\u001B[43mcompile_or_get_cached\u001B[49m\u001B[43m(\u001B[49m\n\u001B[32m   2780\u001B[39m \u001B[43m      \u001B[49m\u001B[43mbackend\u001B[49m\u001B[43m,\u001B[49m\u001B[43m \u001B[49m\u001B[43mcomputation\u001B[49m\u001B[43m,\u001B[49m\u001B[43m \u001B[49m\u001B[43mdev\u001B[49m\u001B[43m,\u001B[49m\u001B[43m \u001B[49m\u001B[43mcompile_options\u001B[49m\u001B[43m,\u001B[49m\u001B[43m \u001B[49m\u001B[43mhost_callbacks\u001B[49m\u001B[43m,\u001B[49m\n\u001B[32m   2781\u001B[39m \u001B[43m      \u001B[49m\u001B[43mda\u001B[49m\u001B[43m,\u001B[49m\u001B[43m \u001B[49m\u001B[43mpgle_profiler\u001B[49m\u001B[43m)\u001B[49m\n\u001B[32m   2782\u001B[39m \u001B[38;5;28;01mreturn\u001B[39;00m xla_executable\n",
      "\u001B[36mFile \u001B[39m\u001B[32m~/Documents/Research/Projects/TogetherFlow/.venv/lib/python3.12/site-packages/jax/_src/compiler.py:492\u001B[39m, in \u001B[36mcompile_or_get_cached\u001B[39m\u001B[34m(backend, computation, devices, compile_options, host_callbacks, executable_devices, pgle_profiler)\u001B[39m\n\u001B[32m    490\u001B[39m \u001B[38;5;28;01melse\u001B[39;00m:\n\u001B[32m    491\u001B[39m   log_persistent_cache_miss(module_name, cache_key)\n\u001B[32m--> \u001B[39m\u001B[32m492\u001B[39m   \u001B[38;5;28;01mreturn\u001B[39;00m \u001B[43m_compile_and_write_cache\u001B[49m\u001B[43m(\u001B[49m\n\u001B[32m    493\u001B[39m \u001B[43m      \u001B[49m\u001B[43mbackend\u001B[49m\u001B[43m,\u001B[49m\n\u001B[32m    494\u001B[39m \u001B[43m      \u001B[49m\u001B[43mcomputation\u001B[49m\u001B[43m,\u001B[49m\n\u001B[32m    495\u001B[39m \u001B[43m      \u001B[49m\u001B[43mexecutable_devices\u001B[49m\u001B[43m,\u001B[49m\n\u001B[32m    496\u001B[39m \u001B[43m      \u001B[49m\u001B[43mcompile_options\u001B[49m\u001B[43m,\u001B[49m\n\u001B[32m    497\u001B[39m \u001B[43m      \u001B[49m\u001B[43mhost_callbacks\u001B[49m\u001B[43m,\u001B[49m\n\u001B[32m    498\u001B[39m \u001B[43m      \u001B[49m\u001B[43mmodule_name\u001B[49m\u001B[43m,\u001B[49m\n\u001B[32m    499\u001B[39m \u001B[43m      \u001B[49m\u001B[43mcache_key\u001B[49m\u001B[43m,\u001B[49m\n\u001B[32m    500\u001B[39m \u001B[43m  \u001B[49m\u001B[43m)\u001B[49m\n",
      "\u001B[36mFile \u001B[39m\u001B[32m~/Documents/Research/Projects/TogetherFlow/.venv/lib/python3.12/site-packages/jax/_src/compiler.py:760\u001B[39m, in \u001B[36m_compile_and_write_cache\u001B[39m\u001B[34m(backend, computation, executable_devices, compile_options, host_callbacks, module_name, cache_key)\u001B[39m\n\u001B[32m    750\u001B[39m \u001B[38;5;28;01mdef\u001B[39;00m\u001B[38;5;250m \u001B[39m\u001B[34m_compile_and_write_cache\u001B[39m(\n\u001B[32m    751\u001B[39m     backend: xc.Client,\n\u001B[32m    752\u001B[39m     computation: ir.Module,\n\u001B[32m   (...)\u001B[39m\u001B[32m    757\u001B[39m     cache_key: \u001B[38;5;28mstr\u001B[39m,\n\u001B[32m    758\u001B[39m ) -> xc.LoadedExecutable:\n\u001B[32m    759\u001B[39m   start_time = time.monotonic()\n\u001B[32m--> \u001B[39m\u001B[32m760\u001B[39m   executable = \u001B[43mbackend_compile_and_load\u001B[49m\u001B[43m(\u001B[49m\n\u001B[32m    761\u001B[39m \u001B[43m      \u001B[49m\u001B[43mbackend\u001B[49m\u001B[43m,\u001B[49m\u001B[43m \u001B[49m\u001B[43mcomputation\u001B[49m\u001B[43m,\u001B[49m\u001B[43m \u001B[49m\u001B[43mexecutable_devices\u001B[49m\u001B[43m,\u001B[49m\u001B[43m \u001B[49m\u001B[43mcompile_options\u001B[49m\u001B[43m,\u001B[49m\u001B[43m \u001B[49m\u001B[43mhost_callbacks\u001B[49m\n\u001B[32m    762\u001B[39m \u001B[43m  \u001B[49m\u001B[43m)\u001B[49m\n\u001B[32m    763\u001B[39m   compile_time = time.monotonic() - start_time\n\u001B[32m    764\u001B[39m   _cache_write(\n\u001B[32m    765\u001B[39m       cache_key, compile_time, module_name, backend, executable, host_callbacks\n\u001B[32m    766\u001B[39m   )\n",
      "\u001B[36mFile \u001B[39m\u001B[32m~/Documents/Research/Projects/TogetherFlow/.venv/lib/python3.12/site-packages/jax/_src/profiler.py:354\u001B[39m, in \u001B[36mannotate_function.<locals>.wrapper\u001B[39m\u001B[34m(*args, **kwargs)\u001B[39m\n\u001B[32m    351\u001B[39m \u001B[38;5;129m@wraps\u001B[39m(func)\n\u001B[32m    352\u001B[39m \u001B[38;5;28;01mdef\u001B[39;00m\u001B[38;5;250m \u001B[39m\u001B[34mwrapper\u001B[39m(*args, **kwargs):\n\u001B[32m    353\u001B[39m   \u001B[38;5;28;01mwith\u001B[39;00m TraceAnnotation(name, **decorator_kwargs):\n\u001B[32m--> \u001B[39m\u001B[32m354\u001B[39m     \u001B[38;5;28;01mreturn\u001B[39;00m \u001B[43mfunc\u001B[49m\u001B[43m(\u001B[49m\u001B[43m*\u001B[49m\u001B[43margs\u001B[49m\u001B[43m,\u001B[49m\u001B[43m \u001B[49m\u001B[43m*\u001B[49m\u001B[43m*\u001B[49m\u001B[43mkwargs\u001B[49m\u001B[43m)\u001B[49m\n",
      "\u001B[36mFile \u001B[39m\u001B[32m~/Documents/Research/Projects/TogetherFlow/.venv/lib/python3.12/site-packages/jax/_src/compiler.py:377\u001B[39m, in \u001B[36mbackend_compile_and_load\u001B[39m\u001B[34m(backend, module, executable_devices, options, host_callbacks)\u001B[39m\n\u001B[32m    368\u001B[39m       \u001B[38;5;28;01mreturn\u001B[39;00m backend.compile_and_load(\n\u001B[32m    369\u001B[39m           built_c,\n\u001B[32m    370\u001B[39m           executable_devices=executable_devices,\n\u001B[32m    371\u001B[39m           compile_options=options,\n\u001B[32m    372\u001B[39m           host_callbacks=host_callbacks,\n\u001B[32m    373\u001B[39m       )\n\u001B[32m    374\u001B[39m     \u001B[38;5;66;03m# Some backends don't have `host_callbacks` option yet\u001B[39;00m\n\u001B[32m    375\u001B[39m     \u001B[38;5;66;03m# TODO(sharadmv): remove this fallback when all backends allow `compile`\u001B[39;00m\n\u001B[32m    376\u001B[39m     \u001B[38;5;66;03m# to take in `host_callbacks`\u001B[39;00m\n\u001B[32m--> \u001B[39m\u001B[32m377\u001B[39m     \u001B[38;5;28;01mreturn\u001B[39;00m \u001B[43mbackend\u001B[49m\u001B[43m.\u001B[49m\u001B[43mcompile_and_load\u001B[49m\u001B[43m(\u001B[49m\n\u001B[32m    378\u001B[39m \u001B[43m        \u001B[49m\u001B[43mbuilt_c\u001B[49m\u001B[43m,\u001B[49m\n\u001B[32m    379\u001B[39m \u001B[43m        \u001B[49m\u001B[43mexecutable_devices\u001B[49m\u001B[43m=\u001B[49m\u001B[43mexecutable_devices\u001B[49m\u001B[43m,\u001B[49m\n\u001B[32m    380\u001B[39m \u001B[43m        \u001B[49m\u001B[43mcompile_options\u001B[49m\u001B[43m=\u001B[49m\u001B[43moptions\u001B[49m\u001B[43m,\u001B[49m\n\u001B[32m    381\u001B[39m \u001B[43m    \u001B[49m\u001B[43m)\u001B[49m\n\u001B[32m    382\u001B[39m \u001B[38;5;28;01mexcept\u001B[39;00m xc.XlaRuntimeError \u001B[38;5;28;01mas\u001B[39;00m e:\n\u001B[32m    383\u001B[39m   \u001B[38;5;28;01mfor\u001B[39;00m error_handler \u001B[38;5;129;01min\u001B[39;00m _XLA_RUNTIME_ERROR_HANDLERS:\n",
      "\u001B[31mKeyboardInterrupt\u001B[39m: "
     ]
    }
   ],
   "execution_count": 51
  },
  {
   "cell_type": "code",
   "execution_count": null,
   "id": "9283779c089c873d",
   "metadata": {},
   "outputs": [],
   "source": [
    "plots = workflow.plot_default_diagnostics(\n",
    "\n",
    ")"
   ]
  }
 ],
 "metadata": {
  "kernelspec": {
   "display_name": "Python 3 (ipykernel)",
   "language": "python",
   "name": "python3"
  },
  "language_info": {
   "codemirror_mode": {
    "name": "ipython",
    "version": 3
   },
   "file_extension": ".py",
   "mimetype": "text/x-python",
   "name": "python",
   "nbconvert_exporter": "python",
   "pygments_lexer": "ipython3",
   "version": "3.12.3"
  }
 },
 "nbformat": 4,
 "nbformat_minor": 5
}
