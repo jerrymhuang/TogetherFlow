{
 "cells": [
  {
   "cell_type": "markdown",
   "id": "cbc0affd9dd09133",
   "metadata": {},
   "source": [
    "# Togetherflow\n",
    "**Emergent agent motion dynamics in immersive rooms**\n",
    "\n",
    "In this notebook, we implement Togetherflow, a computational cognitive model that characterizes the motion pattern of human agents in immersive rooms."
   ]
  },
  {
   "cell_type": "code",
   "id": "33adef3436b0c4",
   "metadata": {
    "ExecuteTime": {
     "end_time": "2025-01-14T19:24:15.995341Z",
     "start_time": "2025-01-14T19:24:15.785558Z"
    }
   },
   "source": [
    "%load_ext autoreload\n",
    "%autoreload 2"
   ],
   "outputs": [
    {
     "name": "stdout",
     "output_type": "stream",
     "text": [
      "The autoreload extension is already loaded. To reload it, use:\n",
      "  %reload_ext autoreload\n"
     ]
    }
   ],
   "execution_count": 96
  },
  {
   "cell_type": "code",
   "id": "58a234e561141dcf",
   "metadata": {
    "ExecuteTime": {
     "end_time": "2025-01-14T19:24:16.901664Z",
     "start_time": "2025-01-14T19:24:16.695877Z"
    }
   },
   "source": [
    "%matplotlib inline"
   ],
   "outputs": [],
   "execution_count": 97
  },
  {
   "cell_type": "code",
   "id": "initial_id",
   "metadata": {
    "ExecuteTime": {
     "end_time": "2025-01-14T19:24:17.243889Z",
     "start_time": "2025-01-14T19:24:17.017832Z"
    }
   },
   "source": [
    "import numpy as np\n",
    "import matplotlib.pyplot as plt\n",
    "# from functools import partial\n",
    "\n",
    "np.set_printoptions(suppress=True)"
   ],
   "outputs": [],
   "execution_count": 98
  },
  {
   "cell_type": "code",
   "id": "55f319eee80ddfd8",
   "metadata": {
    "ExecuteTime": {
     "end_time": "2025-01-14T19:24:17.915530Z",
     "start_time": "2025-01-14T19:24:17.716318Z"
    }
   },
   "source": [
    "import tensorflow as tf\n",
    "import bayesflow as bf\n",
    "from bayesflow.simulation import Prior, Simulator, GenerativeModel"
   ],
   "outputs": [],
   "execution_count": 99
  },
  {
   "cell_type": "code",
   "id": "ec74dc4a9d760f13",
   "metadata": {
    "ExecuteTime": {
     "end_time": "2025-01-14T20:30:14.094784Z",
     "start_time": "2025-01-14T20:30:13.878637Z"
    }
   },
   "source": [
    "from initializations import (\n",
    "    initialize_agents, \n",
    "    initialize_beacons\n",
    ")\n",
    "from influences import (\n",
    "    position_influence,\n",
    "    rotation_influence,\n",
    "    alignment_influence,\n",
    "    cohesion_influence\n",
    ")\n",
    "from simulations import (\n",
    "    look_at_beacon,\n",
    "    move_to_beacon,\n",
    "    look_with_neighbors,\n",
    "    walk_with_neighbors,\n",
    "    individual_motion,\n",
    "    collective_motion,\n",
    "    main_simulator\n",
    ")"
   ],
   "outputs": [],
   "execution_count": 136
  },
  {
   "cell_type": "markdown",
   "id": "14ebdadb56ec740d",
   "metadata": {},
   "source": [
    "## Initializations"
   ]
  },
  {
   "cell_type": "code",
   "id": "7325df4491f6e16d",
   "metadata": {
    "ExecuteTime": {
     "end_time": "2025-01-14T19:51:38.191639Z",
     "start_time": "2025-01-14T19:51:37.985723Z"
    }
   },
   "source": [
    "agent_positions, agent_rotations = initialize_agents()\n",
    "beacon_positions = initialize_beacons()\n",
    "agent_rotations.shape"
   ],
   "outputs": [
    {
     "data": {
      "text/plain": [
       "(12, 1)"
      ]
     },
     "execution_count": 124,
     "metadata": {},
     "output_type": "execute_result"
    }
   ],
   "execution_count": 124
  },
  {
   "cell_type": "markdown",
   "id": "a53b6f4c573a3d0a",
   "metadata": {},
   "source": [
    "## Influences"
   ]
  },
  {
   "metadata": {},
   "cell_type": "markdown",
   "source": "### 1. Positional influence (individual)",
   "id": "29243877f478e456"
  },
  {
   "metadata": {
    "ExecuteTime": {
     "end_time": "2025-01-14T19:51:40.231398Z",
     "start_time": "2025-01-14T19:51:40.021421Z"
    }
   },
   "cell_type": "code",
   "source": [
    "d = position_influence(agent_positions[0], beacon_positions[1])\n",
    "d"
   ],
   "id": "d5632c85a3c4dd9e",
   "outputs": [
    {
     "data": {
      "text/plain": [
       "1.5128574082324888"
      ]
     },
     "execution_count": 125,
     "metadata": {},
     "output_type": "execute_result"
    }
   ],
   "execution_count": 125
  },
  {
   "metadata": {},
   "cell_type": "markdown",
   "source": "### 2. Rotational influence (individual)",
   "id": "3a0113a60ba1e6bf"
  },
  {
   "metadata": {
    "ExecuteTime": {
     "end_time": "2025-01-14T19:51:49.507075Z",
     "start_time": "2025-01-14T19:51:49.299489Z"
    }
   },
   "cell_type": "code",
   "source": [
    "direction = rotation_influence(\n",
    "    agent_positions[0], agent_rotations[0], beacon_positions[1],\n",
    ")\n",
    "direction"
   ],
   "id": "e16bdf0899882efc",
   "outputs": [
    {
     "data": {
      "text/plain": [
       "-0.08669560074380683"
      ]
     },
     "execution_count": 127,
     "metadata": {},
     "output_type": "execute_result"
    }
   ],
   "execution_count": 127
  },
  {
   "metadata": {},
   "cell_type": "markdown",
   "source": "## Combined external influence for individual motion",
   "id": "b2fb764cf9122ac6"
  },
  {
   "metadata": {
    "ExecuteTime": {
     "end_time": "2025-01-14T19:51:55.833134Z",
     "start_time": "2025-01-14T19:51:54.673413Z"
    }
   },
   "cell_type": "code",
   "source": [
    "positions, rotations = individual_motion(\n",
    "    agent_positions[2], agent_rotations[2], beacon_positions[3]\n",
    ")"
   ],
   "id": "6f241cfc877cb88a",
   "outputs": [],
   "execution_count": 130
  },
  {
   "metadata": {},
   "cell_type": "markdown",
   "source": "",
   "id": "d2d56a98dd99e211"
  },
  {
   "metadata": {},
   "cell_type": "markdown",
   "source": "## 3. Alignment influence (collective)",
   "id": "15a71840608929d1"
  },
  {
   "metadata": {
    "ExecuteTime": {
     "end_time": "2025-01-14T21:34:05.930738Z",
     "start_time": "2025-01-14T21:34:05.721841Z"
    }
   },
   "cell_type": "code",
   "source": "type(agent_rotations[0].item())",
   "id": "d00c3c54ab674101",
   "outputs": [
    {
     "data": {
      "text/plain": [
       "float"
      ]
     },
     "execution_count": 141,
     "metadata": {},
     "output_type": "execute_result"
    }
   ],
   "execution_count": 141
  },
  {
   "metadata": {
    "ExecuteTime": {
     "end_time": "2025-01-14T21:36:21.284983Z",
     "start_time": "2025-01-14T21:36:21.022158Z"
    }
   },
   "cell_type": "code",
   "source": [
    "p = alignment_influence(\n",
    "    agent_positions[3],\n",
    "    agent_positions,\n",
    "    agent_rotations\n",
    ")"
   ],
   "id": "9b7d3c28e9258f57",
   "outputs": [
    {
     "ename": "TypingError",
     "evalue": "Failed in nopython mode pipeline (step: nopython frontend)\n\u001B[1m\u001B[1m\u001B[1mNo implementation of function Function(<built-in function array>) found for signature:\n \n >>> array(list(array(float32, 1d, C))<iv=None>)\n \nThere are 2 candidate implementations:\n\u001B[1m      - Of which 2 did not match due to:\n      Overload in function 'impl_np_array': File: numba\\np\\arrayobj.py: Line 5432.\n        With argument(s): '(list(array(float32, 1d, C))<iv=None>)':\u001B[0m\n\u001B[1m       Rejected as the implementation raised a specific error:\n         TypingError: Failed in nopython mode pipeline (step: nopython frontend)\n       \u001B[1m\u001B[1m\u001B[1mNo implementation of function Function(<intrinsic np_array>) found for signature:\n        \n        >>> np_array(list(array(float32, 1d, C))<iv=None>, none)\n        \n       There are 2 candidate implementations:\n       \u001B[1m      - Of which 2 did not match due to:\n             Intrinsic in function 'np_array': File: numba\\np\\arrayobj.py: Line 5406.\n               With argument(s): '(list(array(float32, 1d, C))<iv=None>, none)':\u001B[0m\n       \u001B[1m       Rejected as the implementation raised a specific error:\n                TypingError: \u001B[1marray(float32, 1d, C) not allowed in a homogeneous sequence\u001B[0m\u001B[0m\n         raised from C:\\Users\\Gerald Wong\\Documents\\Native\\Permanent\\TogetherFlow\\env\\lib\\site-packages\\numba\\core\\typing\\npydecl.py:477\n       \u001B[0m\n       \u001B[0m\u001B[1mDuring: resolving callee type: Function(<intrinsic np_array>)\u001B[0m\n       \u001B[0m\u001B[1mDuring: typing of call at C:\\Users\\Gerald Wong\\Documents\\Native\\Permanent\\TogetherFlow\\env\\lib\\site-packages\\numba\\np\\arrayobj.py (5443)\n       \u001B[0m\n       \u001B[1m\n       File \"..\\env\\lib\\site-packages\\numba\\np\\arrayobj.py\", line 5443:\u001B[0m\n       \u001B[1m    def impl(object, dtype=None):\n       \u001B[1m        return np_array(object, dtype)\n       \u001B[0m        \u001B[1m^\u001B[0m\u001B[0m\n\u001B[0m\n  raised from C:\\Users\\Gerald Wong\\Documents\\Native\\Permanent\\TogetherFlow\\env\\lib\\site-packages\\numba\\core\\typeinfer.py:1091\n\u001B[0m\n\u001B[0m\u001B[1mDuring: resolving callee type: Function(<built-in function array>)\u001B[0m\n\u001B[0m\u001B[1mDuring: typing of call at C:\\Users\\Gerald Wong\\Documents\\Native\\Permanent\\TogetherFlow\\togetherflow\\influences.py (125)\n\u001B[0m\n\u001B[1m\nFile \"influences.py\", line 125:\u001B[0m\n\u001B[1mdef alignment_influence(\n    <source elided>\n    neighbor_rotations = np.array(neighbor_rotations)\n\u001B[1m    averaged_rotation = np.sum(neighbor_rotations) / len(neighbor_rotations)\n\u001B[0m    \u001B[1m^\u001B[0m\u001B[0m\n",
     "output_type": "error",
     "traceback": [
      "\u001B[1;31m---------------------------------------------------------------------------\u001B[0m",
      "\u001B[1;31mTypingError\u001B[0m                               Traceback (most recent call last)",
      "Cell \u001B[1;32mIn[142], line 1\u001B[0m\n\u001B[1;32m----> 1\u001B[0m p \u001B[38;5;241m=\u001B[39m \u001B[43malignment_influence\u001B[49m\u001B[43m(\u001B[49m\n\u001B[0;32m      2\u001B[0m \u001B[43m    \u001B[49m\u001B[43magent_positions\u001B[49m\u001B[43m[\u001B[49m\u001B[38;5;241;43m3\u001B[39;49m\u001B[43m]\u001B[49m\u001B[43m,\u001B[49m\n\u001B[0;32m      3\u001B[0m \u001B[43m    \u001B[49m\u001B[43magent_positions\u001B[49m\u001B[43m,\u001B[49m\n\u001B[0;32m      4\u001B[0m \u001B[43m    \u001B[49m\u001B[43magent_rotations\u001B[49m\n\u001B[0;32m      5\u001B[0m \u001B[43m)\u001B[49m\n",
      "File \u001B[1;32m~\\Documents\\Native\\Permanent\\TogetherFlow\\env\\lib\\site-packages\\numba\\core\\dispatcher.py:423\u001B[0m, in \u001B[0;36m_DispatcherBase._compile_for_args\u001B[1;34m(self, *args, **kws)\u001B[0m\n\u001B[0;32m    419\u001B[0m         msg \u001B[38;5;241m=\u001B[39m (\u001B[38;5;124mf\u001B[39m\u001B[38;5;124m\"\u001B[39m\u001B[38;5;132;01m{\u001B[39;00m\u001B[38;5;28mstr\u001B[39m(e)\u001B[38;5;241m.\u001B[39mrstrip()\u001B[38;5;132;01m}\u001B[39;00m\u001B[38;5;124m \u001B[39m\u001B[38;5;130;01m\\n\u001B[39;00m\u001B[38;5;130;01m\\n\u001B[39;00m\u001B[38;5;124mThis error may have been caused \u001B[39m\u001B[38;5;124m\"\u001B[39m\n\u001B[0;32m    420\u001B[0m                \u001B[38;5;124mf\u001B[39m\u001B[38;5;124m\"\u001B[39m\u001B[38;5;124mby the following argument(s):\u001B[39m\u001B[38;5;130;01m\\n\u001B[39;00m\u001B[38;5;132;01m{\u001B[39;00margs_str\u001B[38;5;132;01m}\u001B[39;00m\u001B[38;5;130;01m\\n\u001B[39;00m\u001B[38;5;124m\"\u001B[39m)\n\u001B[0;32m    421\u001B[0m         e\u001B[38;5;241m.\u001B[39mpatch_message(msg)\n\u001B[1;32m--> 423\u001B[0m     \u001B[43merror_rewrite\u001B[49m\u001B[43m(\u001B[49m\u001B[43me\u001B[49m\u001B[43m,\u001B[49m\u001B[43m \u001B[49m\u001B[38;5;124;43m'\u001B[39;49m\u001B[38;5;124;43mtyping\u001B[39;49m\u001B[38;5;124;43m'\u001B[39;49m\u001B[43m)\u001B[49m\n\u001B[0;32m    424\u001B[0m \u001B[38;5;28;01mexcept\u001B[39;00m errors\u001B[38;5;241m.\u001B[39mUnsupportedError \u001B[38;5;28;01mas\u001B[39;00m e:\n\u001B[0;32m    425\u001B[0m     \u001B[38;5;66;03m# Something unsupported is present in the user code, add help info\u001B[39;00m\n\u001B[0;32m    426\u001B[0m     error_rewrite(e, \u001B[38;5;124m'\u001B[39m\u001B[38;5;124munsupported_error\u001B[39m\u001B[38;5;124m'\u001B[39m)\n",
      "File \u001B[1;32m~\\Documents\\Native\\Permanent\\TogetherFlow\\env\\lib\\site-packages\\numba\\core\\dispatcher.py:364\u001B[0m, in \u001B[0;36m_DispatcherBase._compile_for_args.<locals>.error_rewrite\u001B[1;34m(e, issue_type)\u001B[0m\n\u001B[0;32m    362\u001B[0m     \u001B[38;5;28;01mraise\u001B[39;00m e\n\u001B[0;32m    363\u001B[0m \u001B[38;5;28;01melse\u001B[39;00m:\n\u001B[1;32m--> 364\u001B[0m     \u001B[38;5;28;01mraise\u001B[39;00m e\u001B[38;5;241m.\u001B[39mwith_traceback(\u001B[38;5;28;01mNone\u001B[39;00m)\n",
      "\u001B[1;31mTypingError\u001B[0m: Failed in nopython mode pipeline (step: nopython frontend)\n\u001B[1m\u001B[1m\u001B[1mNo implementation of function Function(<built-in function array>) found for signature:\n \n >>> array(list(array(float32, 1d, C))<iv=None>)\n \nThere are 2 candidate implementations:\n\u001B[1m      - Of which 2 did not match due to:\n      Overload in function 'impl_np_array': File: numba\\np\\arrayobj.py: Line 5432.\n        With argument(s): '(list(array(float32, 1d, C))<iv=None>)':\u001B[0m\n\u001B[1m       Rejected as the implementation raised a specific error:\n         TypingError: Failed in nopython mode pipeline (step: nopython frontend)\n       \u001B[1m\u001B[1m\u001B[1mNo implementation of function Function(<intrinsic np_array>) found for signature:\n        \n        >>> np_array(list(array(float32, 1d, C))<iv=None>, none)\n        \n       There are 2 candidate implementations:\n       \u001B[1m      - Of which 2 did not match due to:\n             Intrinsic in function 'np_array': File: numba\\np\\arrayobj.py: Line 5406.\n               With argument(s): '(list(array(float32, 1d, C))<iv=None>, none)':\u001B[0m\n       \u001B[1m       Rejected as the implementation raised a specific error:\n                TypingError: \u001B[1marray(float32, 1d, C) not allowed in a homogeneous sequence\u001B[0m\u001B[0m\n         raised from C:\\Users\\Gerald Wong\\Documents\\Native\\Permanent\\TogetherFlow\\env\\lib\\site-packages\\numba\\core\\typing\\npydecl.py:477\n       \u001B[0m\n       \u001B[0m\u001B[1mDuring: resolving callee type: Function(<intrinsic np_array>)\u001B[0m\n       \u001B[0m\u001B[1mDuring: typing of call at C:\\Users\\Gerald Wong\\Documents\\Native\\Permanent\\TogetherFlow\\env\\lib\\site-packages\\numba\\np\\arrayobj.py (5443)\n       \u001B[0m\n       \u001B[1m\n       File \"..\\env\\lib\\site-packages\\numba\\np\\arrayobj.py\", line 5443:\u001B[0m\n       \u001B[1m    def impl(object, dtype=None):\n       \u001B[1m        return np_array(object, dtype)\n       \u001B[0m        \u001B[1m^\u001B[0m\u001B[0m\n\u001B[0m\n  raised from C:\\Users\\Gerald Wong\\Documents\\Native\\Permanent\\TogetherFlow\\env\\lib\\site-packages\\numba\\core\\typeinfer.py:1091\n\u001B[0m\n\u001B[0m\u001B[1mDuring: resolving callee type: Function(<built-in function array>)\u001B[0m\n\u001B[0m\u001B[1mDuring: typing of call at C:\\Users\\Gerald Wong\\Documents\\Native\\Permanent\\TogetherFlow\\togetherflow\\influences.py (125)\n\u001B[0m\n\u001B[1m\nFile \"influences.py\", line 125:\u001B[0m\n\u001B[1mdef alignment_influence(\n    <source elided>\n    neighbor_rotations = np.array(neighbor_rotations)\n\u001B[1m    averaged_rotation = np.sum(neighbor_rotations) / len(neighbor_rotations)\n\u001B[0m    \u001B[1m^\u001B[0m\u001B[0m\n"
     ]
    }
   ],
   "execution_count": 142
  },
  {
   "metadata": {},
   "cell_type": "markdown",
   "source": "## 4. Cohesion influence (collective)",
   "id": "8762df5f83ee8415"
  },
  {
   "metadata": {},
   "cell_type": "code",
   "outputs": [],
   "execution_count": null,
   "source": "",
   "id": "e74250c1eeed871"
  },
  {
   "metadata": {},
   "cell_type": "markdown",
   "source": "## Combined influence for collective motion",
   "id": "e1df1c5952c5af29"
  },
  {
   "metadata": {},
   "cell_type": "markdown",
   "source": "# Prior",
   "id": "223595f8d68ca74b"
  },
  {
   "metadata": {},
   "cell_type": "code",
   "outputs": [],
   "execution_count": null,
   "source": [
    "param_names = [\n",
    "    r\"$w$\",\n",
    "    r\"$r$\",\n",
    "    r\"$v$\",\n",
    "    # r\"$\\eta$\",\n",
    "    # r\"$\\kappa$\"\n",
    "]"
   ],
   "id": "9659bc6d4fb1dfaa"
  },
  {
   "metadata": {},
   "cell_type": "markdown",
   "source": "# Configurator",
   "id": "28e0024f0c36faee"
  },
  {
   "metadata": {},
   "cell_type": "code",
   "outputs": [],
   "execution_count": null,
   "source": [
    "def configurator(input_dict: dict = None, transpose: bool = True):\n",
    "    \n",
    "    output_dict = {}\n",
    "    output_dict['parameters'] = input_dict['prior_draws'].astype(np.float32)\n",
    "    x = input_dict['sim_data'] / 10. \n",
    "    if transpose:\n",
    "        x = np.transpose(x, (0, 2, 1, 3))\n",
    "    output_dict['summary_conditions'] = x.astype(np.float32)\n",
    "    return output_dict"
   ],
   "id": "b5071bafd9f86021"
  },
  {
   "metadata": {},
   "cell_type": "markdown",
   "source": "# Neural Approximator",
   "id": "9e34a20b8ecf8e2a"
  },
  {
   "metadata": {},
   "cell_type": "code",
   "outputs": [],
   "execution_count": null,
   "source": [
    "# This one generalizes over different numbers of agents\n",
    "summary_net = bf.summary_networks.HierarchicalNetwork([\n",
    "    tf.keras.layers.TimeDistributed(tf.keras.layers.LSTM(units=128)),\n",
    "    bf.networks.SetTransformer(num_inducing_points=None, input_dim=128, summary_dim=64)\n",
    "])\n",
    "\n",
    "inference_net = bf.inference_networks.InvertibleNetwork(\n",
    "    num_params=3, \n",
    "    num_coupling_layers=6,\n",
    "    coupling_design=\"affine\",\n",
    "    coupling_settings={\n",
    "        'kernel_regularizer': None,\n",
    "        'dropout_prob': 0.0\n",
    "    }\n",
    ")\n",
    "\n",
    "amortizer = bf.amortizers.AmortizedPosterior(\n",
    "    summary_net=summary_net, \n",
    "    inference_net=inference_net\n",
    ")"
   ],
   "id": "29e3b1984dc72219"
  },
  {
   "metadata": {},
   "cell_type": "markdown",
   "source": "# Training",
   "id": "36406110843d215"
  },
  {
   "metadata": {},
   "cell_type": "code",
   "outputs": [],
   "execution_count": null,
   "source": [
    "# trainer = bf.trainers.Trainer(\n",
    "#     amortizer=amortizer,\n",
    "#     generative_model=model,\n",
    "#     configurator=configurator\n",
    "# )"
   ],
   "id": "b5a0dfd6ff6c3d55"
  },
  {
   "metadata": {},
   "cell_type": "markdown",
   "source": "### Offline training",
   "id": "4ed1e90a8c98f4bb"
  },
  {
   "metadata": {},
   "cell_type": "code",
   "outputs": [],
   "execution_count": null,
   "source": "# training_set = model(1000) ",
   "id": "132c6eefe02dfc26"
  },
  {
   "metadata": {},
   "cell_type": "code",
   "outputs": [],
   "execution_count": null,
   "source": "# losses = trainer.train_offline(training_set, epochs=100, batch_size=100, validation_sims=model(200))",
   "id": "7b15c82eacfe30ea"
  }
 ],
 "metadata": {
  "kernelspec": {
   "display_name": "tflow",
   "language": "python",
   "name": "env"
  },
  "language_info": {
   "codemirror_mode": {
    "name": "ipython",
    "version": 3
   },
   "file_extension": ".py",
   "mimetype": "text/x-python",
   "name": "python",
   "nbconvert_exporter": "python",
   "pygments_lexer": "ipython3",
   "version": "3.10.11"
  }
 },
 "nbformat": 4,
 "nbformat_minor": 5
}
