{
 "cells": [
  {
   "metadata": {
    "ExecuteTime": {
     "end_time": "2025-05-26T22:36:04.662831Z",
     "start_time": "2025-05-26T22:36:04.650812Z"
    }
   },
   "cell_type": "code",
   "source": [
    "import os\n",
    "if \"KERAS_BACKEND\" not in os.environ:\n",
    "    # set this to \"torch\", \"tensorflow\", or \"jax\"\n",
    "    os.environ[\"KERAS_BACKEND\"] = \"tensorflow\""
   ],
   "id": "cf0cffd476ccf4cd",
   "outputs": [],
   "execution_count": 1
  },
  {
   "metadata": {
    "ExecuteTime": {
     "end_time": "2025-05-26T22:36:05.022637Z",
     "start_time": "2025-05-26T22:36:05.012466Z"
    }
   },
   "cell_type": "code",
   "source": [
    "import numpy as np\n",
    "import matplotlib.pyplot as plt\n",
    "import seaborn as sns\n",
    "\n",
    "from functools import partial\n",
    "\n",
    "np.set_printoptions(suppress=True)"
   ],
   "id": "initial_id",
   "outputs": [],
   "execution_count": 2
  },
  {
   "metadata": {
    "ExecuteTime": {
     "end_time": "2025-05-26T22:36:05.271280Z",
     "start_time": "2025-05-26T22:36:05.056207Z"
    }
   },
   "cell_type": "code",
   "source": "from boundary_conditions import bound_agent_position",
   "id": "7c7fb1f6daacee20",
   "outputs": [],
   "execution_count": 3
  },
  {
   "metadata": {
    "ExecuteTime": {
     "end_time": "2025-05-26T22:36:08.578144Z",
     "start_time": "2025-05-26T22:36:05.302829Z"
    }
   },
   "cell_type": "code",
   "source": [
    "import keras\n",
    "\n",
    "import bayesflow as bf"
   ],
   "id": "6d81cae3105ed6bc",
   "outputs": [
    {
     "name": "stderr",
     "output_type": "stream",
     "text": [
      "INFO:bayesflow:Using backend 'tensorflow'\n"
     ]
    }
   ],
   "execution_count": 4
  },
  {
   "metadata": {
    "ExecuteTime": {
     "end_time": "2025-05-26T22:36:08.640498Z",
     "start_time": "2025-05-26T22:36:08.628878Z"
    }
   },
   "cell_type": "code",
   "source": [
    "# As far as I know, Numba cannot be used\n",
    "# from numba import njit"
   ],
   "id": "7767e0f7213ad2d8",
   "outputs": [],
   "execution_count": 5
  },
  {
   "metadata": {},
   "cell_type": "markdown",
   "source": [
    "## Generative Model Definition\n",
    "\n",
    "The movement of any agent $a = 1, ..., A$ is both related to: 1) its interaction with surrounding neighbors $i = 1, ..., I$, which we call *internal influence*, and 2) their motivation to the surrounding spatial objects $b = 1, ..., B$, which we call *external influence*. These influences are modulated by a stationary weight, $w_a$:\n",
    "\n",
    "\\begin{equation}\n",
    "    \\theta_{a, t} = w_a \\theta_{a|j, t} + (1 - w_a) \\theta_{a|i, t}.\n",
    "\\end{equation}"
   ],
   "id": "623755d3f637f5fe"
  },
  {
   "metadata": {},
   "cell_type": "markdown",
   "source": [
    "### Meta-Variables\n",
    "\n",
    "First, we define some meta-variables, such as the number of agents to simulate, the number of spatial beacons present in the environment, etc."
   ],
   "id": "7c597724cb72656c"
  },
  {
   "metadata": {
    "ExecuteTime": {
     "end_time": "2025-05-26T22:36:08.671418Z",
     "start_time": "2025-05-26T22:36:08.659333Z"
    }
   },
   "cell_type": "code",
   "source": [
    "num_agents = 12\n",
    "num_beacons = 2\n",
    "room_size = (8., 10.)\n",
    "world_size = 25."
   ],
   "id": "e78ab1f1dba7dd9b",
   "outputs": [],
   "execution_count": 6
  },
  {
   "metadata": {},
   "cell_type": "markdown",
   "source": "### Agent Initialization",
   "id": "1d7e42c6024224dc"
  },
  {
   "metadata": {
    "ExecuteTime": {
     "end_time": "2025-05-26T22:36:08.702545Z",
     "start_time": "2025-05-26T22:36:08.689996Z"
    }
   },
   "cell_type": "code",
   "source": [
    "def initialize_agents(\n",
    "    num_agents: int = 12,\n",
    "    room_size: tuple = (8., 10.),\n",
    "):\n",
    "    \"\"\"\n",
    "    Generate random positions and orientations for agents.\n",
    "\n",
    "    Parameters\n",
    "    ----------\n",
    "    num_agents : int, optional\n",
    "        Number of agents to generate (default is 100).\n",
    "    room_size : float, optional\n",
    "        The size of the boundary within which positions are generated (default is 100.0).\n",
    "\n",
    "    Returns\n",
    "    -------\n",
    "    tuple of np.ndarray\n",
    "        A tuple containing the positions (np.ndarray) and orientations (np.ndarray) of the agents.\n",
    "    \"\"\"\n",
    "\n",
    "    # Generate random positions within the boundary size centered at 0\n",
    "    x = (np.random.random(size=num_agents).astype(np.float32) - 0.5) * room_size[0]\n",
    "    y = (np.random.random(size=num_agents).astype(np.float32) - 0.5) * room_size[1]\n",
    "    positions = np.vstack((x, y)).T\n",
    "\n",
    "    # Generate random orientations (angles in radians between 0 and 2*pi)\n",
    "    rotations = np.random.random(size=(num_agents, )).astype(np.float32) * np.pi * 2\n",
    "\n",
    "    return positions.astype(np.float32), rotations.astype(np.float32)"
   ],
   "id": "69955ec69ce490f7",
   "outputs": [],
   "execution_count": 7
  },
  {
   "metadata": {
    "ExecuteTime": {
     "end_time": "2025-05-26T22:36:08.734100Z",
     "start_time": "2025-05-26T22:36:08.720378Z"
    }
   },
   "cell_type": "code",
   "source": [
    "agent_positions, agent_rotations = initialize_agents(room_size=room_size, num_agents=12)\n",
    "agent_positions[0]"
   ],
   "id": "a1dfb303904be884",
   "outputs": [
    {
     "data": {
      "text/plain": [
       "array([1.7448397, 2.8740354], dtype=float32)"
      ]
     },
     "execution_count": 8,
     "metadata": {},
     "output_type": "execute_result"
    }
   ],
   "execution_count": 8
  },
  {
   "metadata": {},
   "cell_type": "markdown",
   "source": "### Beacon Initialization",
   "id": "3cecc37ae822ed94"
  },
  {
   "metadata": {
    "ExecuteTime": {
     "end_time": "2025-05-26T22:36:08.781006Z",
     "start_time": "2025-05-26T22:36:08.768418Z"
    }
   },
   "cell_type": "code",
   "source": [
    "def initialize_beacons(\n",
    "        num_beacons = 10,\n",
    "        room_sensing_range = 50.\n",
    "):\n",
    "\n",
    "    \"\"\"\n",
    "    Initialize beacons following a uniform distribution scaled to the room's sensing boundary\n",
    "\n",
    "    Parameters\n",
    "    ----------\n",
    "    num_beacons : int, default: 10\n",
    "        Number of beacons to initialize.\n",
    "    room_sensing_range : float, default: 50.0\n",
    "        Sensing distance of the room for the beacons to matter.\n",
    "\n",
    "    Returns\n",
    "    -------\n",
    "    beacons      : np.ndarray of shape (num_beacons, 2)\n",
    "        Initial positions of the beacons.\n",
    "    \"\"\"\n",
    "\n",
    "    beacons = (np.random.random(size=(num_beacons, 2)) - 0.5) * room_sensing_range\n",
    "    return beacons.astype(np.float32)"
   ],
   "id": "692d0c7b0c12d6b4",
   "outputs": [],
   "execution_count": 9
  },
  {
   "metadata": {
    "ExecuteTime": {
     "end_time": "2025-05-26T22:36:08.828364Z",
     "start_time": "2025-05-26T22:36:08.817298Z"
    }
   },
   "cell_type": "code",
   "source": [
    "beacon_positions = initialize_beacons(num_beacons=1, room_sensing_range=world_size)\n",
    "beacon_positions"
   ],
   "id": "90efc1b2f6f33528",
   "outputs": [
    {
     "data": {
      "text/plain": [
       "array([[-7.7377133,  7.6874027]], dtype=float32)"
      ]
     },
     "execution_count": 10,
     "metadata": {},
     "output_type": "execute_result"
    }
   ],
   "execution_count": 10
  },
  {
   "metadata": {},
   "cell_type": "markdown",
   "source": [
    "## External Influence: drift-diffusion vector\n",
    "\n",
    "We want to compute the influence of agent movement direction within a single time step. For this, we specify our internal influence as a 2D drift diffusion model, where the agents are approach a spatial beacon within the room's boundary by reorienting its locomotive direction.\n",
    "\n",
    "\\begin{equation}\n",
    "    \\theta_{a|j, t} = \\theta_{a|j, t-1} + \\omega_a \\mathrm{d}t + \\mathrm{d}\\phi_t,\n",
    "\\end{equation}\n",
    "\n",
    "\\begin{align}\n",
    "    \\mathrm{d}\\mathbf{x}_{a|j, t}\n",
    "    &= v_{a|j}\\mathrm{d}t \\frac{\\mathbf{x}_{a|j}}{||\\mathbf{x}_{a|j}||} + \\sigma_{a|j} \\mathrm{d}\\mathrm{W}_t \\\\\n",
    "    &= v_{a}\\mathrm{d}t\n",
    "    \\begin{bmatrix}\n",
    "        \\cos \\theta_{a|j, t} \\\\\n",
    "        \\sin \\theta_{a|j, t}\n",
    "    \\end{bmatrix} + \\sigma_{a|j} \\mathrm{d}\\mathrm{W}_t,% \\sqrt{\\mathrm{d}t} Z_t.\n",
    "\\end{align}"
   ],
   "id": "322fa08fd256efed"
  },
  {
   "metadata": {
    "ExecuteTime": {
     "end_time": "2025-05-26T22:36:08.921575Z",
     "start_time": "2025-05-26T22:36:08.908034Z"
    }
   },
   "cell_type": "code",
   "source": [
    "def external_influence(\n",
    "    agent_position,\n",
    "    beacon_position,\n",
    "    noise = False,\n",
    "    noise_amplitude = 0.01\n",
    "):\n",
    "    \"\"\"\n",
    "    Generate a drift-diffusion vector in 2D space for a single agent\n",
    "    based on a target location (in this case, the position of a beacon).\n",
    "\n",
    "    Parameters\n",
    "    ----------\n",
    "    agent_position : np.ndarray\n",
    "        The position of the agent.\n",
    "    target_position : np.ndarray\n",
    "        The position of the target beacon.\n",
    "    focus : float, optional\n",
    "        The dispersion of a von Mises distribution for rotational noise influenced by the neighbors.\n",
    "        The higher the value is, the less perturbation there would be.\n",
    "    noise: bool, optional\n",
    "        Whether the focus is interpreted as noise amplitude.\n",
    "\n",
    "    Returns\n",
    "    -------\n",
    "    np.ndarray\n",
    "        A 2D vector representing the drift-diffusion process towards the target (beacon).\n",
    "    \"\"\"\n",
    "    # Calculate the angle towards the beacon (in radian)\n",
    "    beacon_direction = np.arctan2(\n",
    "        beacon_position[1] - agent_position[1],\n",
    "        beacon_position[0] - agent_position[0]\n",
    "    )\n",
    "\n",
    "    # Generate a random direction with drift around the target angle\n",
    "    if noise:\n",
    "        beacon_direction = beacon_direction + (np.random.random() - 0.5) * noise_amplitude\n",
    "        # beacon_direction = beacon_direction + np.random.vonmises(0., 8.) * noise_amplitude\n",
    "\n",
    "    # Convert the angle to a unit vector in 2D space\n",
    "    v = np.array([np.cos(beacon_direction), np.sin(beacon_direction)], dtype=np.float32)\n",
    "\n",
    "    return v"
   ],
   "id": "9530303c0429c6e",
   "outputs": [],
   "execution_count": 11
  },
  {
   "metadata": {},
   "cell_type": "markdown",
   "source": [
    "## Internal Influence: particle dynamics\n",
    "\n",
    "Its influence by a collective group of agents is modeled as a self-propelling particle system, as expressed in the Vicsek model:\n",
    "\n",
    "\\begin{align}\n",
    "    \\theta_{a|i, t} &= \\langle \\theta_{i, t}\\rangle_{|\\mathbf{x}_a - \\mathbf{x}_i| < r_a, i \\in I} + \\eta_{a,t-1}, \\\\\n",
    "    \\mathrm{d} \\mathbf{x}_{a|i,t} &= v_{a,t} \\mathrm{d}t\n",
    "    \\begin{bmatrix}\n",
    "        \\cos \\theta_{a|i, t} \\\\\n",
    "        \\sin \\theta_{a|i, t}\n",
    "    \\end{bmatrix},\n",
    "\\end{align}"
   ],
   "id": "b8186c8f6083f763"
  },
  {
   "metadata": {
    "ExecuteTime": {
     "end_time": "2025-05-26T22:36:08.998232Z",
     "start_time": "2025-05-26T22:36:08.984384Z"
    }
   },
   "cell_type": "code",
   "source": [
    "def internal_influence(\n",
    "        self_position,\n",
    "        other_positions,\n",
    "        other_rotations,\n",
    "        sensing_radius = 1.5,\n",
    "        focus = 0.01,\n",
    "        noise = False\n",
    "):\n",
    "    \"\"\"\n",
    "    Generate an influence vector for a single agent\n",
    "    based on the angular component of the Vicsek model.\n",
    "\n",
    "    Parameters\n",
    "    ----------\n",
    "    self_position : np.ndarray of shape (2,)\n",
    "        A 2D vector representing the position of the agent\n",
    "    other_positions : np.ndarray of shape (2,)\n",
    "        A 2D vector representing the positions of the neighboring agents.\n",
    "    other_rotations : np.ndarray of shape (2,)\n",
    "        A 2D vector representing the rotations of the neighboring agents.\n",
    "    sensing_radius : float\n",
    "        The sensing radius within which agents interact with their neighbors.\n",
    "    focus : float, optional\n",
    "        The dispersion of a von Mises distribution for rotational noise influenced by the neighbors.\n",
    "        The higher the value is, the less perturbation there would be.\n",
    "    noise: bool, optional\n",
    "        Whether the focus is interpreted as noise amplitude.\n",
    "\n",
    "    Returns\n",
    "    -------\n",
    "    np.ndarray\n",
    "        A 2D unit vector representing the averaged influence direction with added noise.\n",
    "    \"\"\"\n",
    "\n",
    "    neighbor_rotations = []\n",
    "\n",
    "    for i in range(len(other_positions)):\n",
    "        dx = other_positions[i, 0] - self_position[0]\n",
    "        dy = other_positions[i, 1] - self_position[1]\n",
    "        d = (dx ** 2 + dy ** 2) ** 0.5\n",
    "\n",
    "        if d <= sensing_radius and d > 0:\n",
    "            neighbor_rotations.append(other_rotations[i])\n",
    "\n",
    "    if len(neighbor_rotations) == 0:\n",
    "        return np.array([0.0, 0.0], dtype=np.float32)\n",
    "\n",
    "    neighbor_rotations = np.array(neighbor_rotations)\n",
    "    averaged_rotation = np.sum(neighbor_rotations) / len(neighbor_rotations)\n",
    "\n",
    "    if noise:\n",
    "        deviation = (np.random.random() - 0.5) * focus\n",
    "    else:\n",
    "        deviation = np.random.vonmises(mu=0., kappa=4.) * focus\n",
    "    direction = averaged_rotation + deviation\n",
    "\n",
    "    v = np.array([np.cos(direction), np.sin(direction)], dtype=np.float32)\n",
    "\n",
    "    return v"
   ],
   "id": "1f7129d3d52d1784",
   "outputs": [],
   "execution_count": 12
  },
  {
   "metadata": {},
   "cell_type": "markdown",
   "source": [
    "## Putting everything together: combined influences\n",
    "\n",
    "The combined influences allow us to update the agents' positions and rotations together."
   ],
   "id": "d0eb58db671d160c"
  },
  {
   "metadata": {
    "ExecuteTime": {
     "end_time": "2025-05-26T22:36:09.075160Z",
     "start_time": "2025-05-26T22:36:09.062603Z"
    }
   },
   "cell_type": "code",
   "source": [
    "def count_neighbors(self_position, other_positions, sensing_radius = 1.5):\n",
    "    \"\"\"\n",
    "    Helper function that counts the number of neighbors\n",
    "\n",
    "    Parameters\n",
    "    ----------\n",
    "    self_position   : np.ndarray of size (2)\n",
    "        The position of the agent itself\n",
    "    other_positions : np.ndarray of size (num_agents, 2)\n",
    "        The positions of all agents\n",
    "    sensing_radius  : float, default: 1.5\n",
    "        The sensing radius of the agent\n",
    "\n",
    "    Returns\n",
    "    -------\n",
    "    num_neighbors   : int, default: 0\n",
    "        The number of neighbors within the agent's sensing radius.\n",
    "    \"\"\"\n",
    "\n",
    "    num_neighbors = 0\n",
    "\n",
    "    for i in range(len(other_positions)):\n",
    "        dx = other_positions[i, 0] - self_position[0]\n",
    "        dy = other_positions[i, 1] - self_position[1]\n",
    "        d = (dx ** 2 + dy ** 2) ** 0.5\n",
    "\n",
    "        if d <= sensing_radius and d > 0:\n",
    "            num_neighbors += 1\n",
    "\n",
    "    return num_neighbors"
   ],
   "id": "49222407ea620c8f",
   "outputs": [],
   "execution_count": 13
  },
  {
   "metadata": {
    "ExecuteTime": {
     "end_time": "2025-05-26T22:36:09.105735Z",
     "start_time": "2025-05-26T22:36:09.092634Z"
    }
   },
   "cell_type": "code",
   "source": [
    "num_neighbors = count_neighbors(agent_positions[8], agent_positions)\n",
    "num_neighbors"
   ],
   "id": "77764dbd1777e36b",
   "outputs": [
    {
     "data": {
      "text/plain": [
       "1"
      ]
     },
     "execution_count": 14,
     "metadata": {},
     "output_type": "execute_result"
    }
   ],
   "execution_count": 14
  },
  {
   "metadata": {
    "ExecuteTime": {
     "end_time": "2025-05-26T22:36:09.152631Z",
     "start_time": "2025-05-26T22:36:09.138225Z"
    }
   },
   "cell_type": "code",
   "source": [
    "def combined_influences(\n",
    "    agent_positions: np.ndarray = None,\n",
    "    agent_rotations: np.ndarray = None,\n",
    "    beacon_positions: np.ndarray = None,\n",
    "    velocity: float = 1.0,\n",
    "    sensing_radius: float = 2.5,\n",
    "    dt: float = 0.1,\n",
    "    influence_weight: float = 0.5,\n",
    "    internal_focus: float = 0.1\n",
    "):\n",
    "    \"\"\"\n",
    "    Update the positions and orientations of a single agent\n",
    "    based on velocity and influence vectors.\n",
    "\n",
    "    Parameters\n",
    "    ----------\n",
    "    agent_positions : np.ndarray\n",
    "        Current positions of the agents.\n",
    "    agent_rotations : np.ndarray\n",
    "        Current orientations of the agents.\n",
    "    beacon_positions : np.ndarray\n",
    "        Positions of the beacons.\n",
    "    velocity : float, optional\n",
    "        The speed at which agents move (default is 1.0).\n",
    "    sensing_radius : float, optional\n",
    "        The sensing radius within which agents interact with their neighbors.\n",
    "    dt : float, optional\n",
    "        The time step for updating positions and orientations (default is 0.1).\n",
    "    influence_weight : float, optional\n",
    "        The weight of influence_vector1 in determining new orientations (default is 0.7).\n",
    "    external_focus : float, optional\n",
    "        Concentration of the agent's rotational noise influenced by the beacons\n",
    "    internal_focus : float, optional\n",
    "        Concentration of the agent's rotational noise influenced by the neighbors\n",
    "\n",
    "    Returns\n",
    "    -------\n",
    "    tuple of np.ndarray\n",
    "        Updated positions (np.ndarray) and orientations (np.ndarray) of the agents.\n",
    "    \"\"\"\n",
    "\n",
    "    assert (len(agent_positions) == len(agent_rotations))\n",
    "\n",
    "    num_agents = agent_positions.shape[0]\n",
    "    num_beacons = beacon_positions.shape[0]\n",
    "\n",
    "    # Create new numpy arrays for the updated agent positions and rotations\n",
    "    new_agent_positions = np.zeros((num_agents, 2))\n",
    "    new_agent_rotations = np.zeros((num_agents, ))\n",
    "    num_neighbors = np.zeros((num_agents, ))\n",
    "\n",
    "\n",
    "    for i in range(num_agents):\n",
    "\n",
    "        num_neighbors[i] = count_neighbors(agent_positions[i], agent_positions)\n",
    "\n",
    "        # Generate the ddm vector for the agent based on its closest beacon\n",
    "        distance_to_beacon = []\n",
    "\n",
    "        for b in range(num_beacons):\n",
    "            bx = beacon_positions[b, 0] - agent_positions[i, 0]\n",
    "            by = beacon_positions[b, 1] - agent_positions[i, 1]\n",
    "            distance_to_beacon.append((bx * bx + by * by) ** 0.5)\n",
    "\n",
    "        beacon_id = np.argmin(np.array(distance_to_beacon))\n",
    "\n",
    "        ddm_vector = external_influence(\n",
    "            agent_positions[i],\n",
    "            beacon_positions[beacon_id],\n",
    "            #focus=external_focus\n",
    "        )\n",
    "\n",
    "        # Generate the vicsek vector for the agent based on its neighbors (all agents)\n",
    "        vicsek_vector = internal_influence(\n",
    "            self_position=agent_positions[i],\n",
    "            other_positions=agent_positions,\n",
    "            other_rotations=agent_rotations,\n",
    "            sensing_radius=sensing_radius,\n",
    "            focus=internal_focus\n",
    "        )\n",
    "\n",
    "        # Update orientations based on two influence vectors\n",
    "        ddm_influence = np.arctan2(ddm_vector[1], ddm_vector[0])\n",
    "        vicsek_influence = np.arctan2(vicsek_vector[1], vicsek_vector[0])\n",
    "\n",
    "        # Combine influences to update orientations with different weights\n",
    "        new_agent_rotations[i] = agent_rotations[i] + (influence_weight * ddm_influence + (1 - influence_weight) * vicsek_influence) * dt\n",
    "\n",
    "        # Ensure orientations are within the range [0, 2*pi]\n",
    "        new_agent_rotations[i] = np.mod(new_agent_rotations[i], 2 * np.pi)\n",
    "\n",
    "        # Update positions based on current orientations\n",
    "        new_agent_positions[i, 0] = agent_positions[i, 0] + velocity * np.cos(new_agent_rotations[i].item()) * dt\n",
    "        new_agent_positions[i, 1] = agent_positions[i, 1] + velocity * np.sin(new_agent_rotations[i].item()) * dt\n",
    "\n",
    "        new_agent_positions[i] = bound_agent_position(new_agent_positions[i], room_size=room_size)\n",
    "\n",
    "    return new_agent_positions, new_agent_rotations, num_neighbors"
   ],
   "id": "8745190d61c56ce3",
   "outputs": [],
   "execution_count": 15
  },
  {
   "metadata": {
    "ExecuteTime": {
     "end_time": "2025-05-26T22:36:09.805044Z",
     "start_time": "2025-05-26T22:36:09.170053Z"
    }
   },
   "cell_type": "code",
   "source": [
    "agent_positions, agent_rotations = initialize_agents(12, room_size=room_size)\n",
    "beacon_positions = initialize_beacons(num_beacons=2)\n",
    "new_agent_positions, new_agent_rotations, num_neighbors = combined_influences(agent_positions, agent_rotations, beacon_positions)"
   ],
   "id": "6a12b3b4383bdf92",
   "outputs": [],
   "execution_count": 16
  },
  {
   "metadata": {
    "ExecuteTime": {
     "end_time": "2025-05-26T22:36:09.836138Z",
     "start_time": "2025-05-26T22:36:09.821353Z"
    }
   },
   "cell_type": "code",
   "source": "np.concatenate([agent_positions, new_agent_positions], axis=1)",
   "id": "6226b2947f10bc12",
   "outputs": [
    {
     "data": {
      "text/plain": [
       "array([[ 0.52777195,  1.8755722 ,  0.47879451,  1.96275713],\n",
       "       [-0.75915217, -0.13827354, -0.8544591 , -0.10799832],\n",
       "       [ 1.23642159, -4.06857395,  1.32386227, -4.1170933 ],\n",
       "       [-0.24189854,  2.24508238, -0.22932493,  2.34428875],\n",
       "       [-2.62722397,  2.20944691, -2.70857234,  2.26760567],\n",
       "       [ 0.45569086, -4.53195953,  0.42902384, -4.62833832],\n",
       "       [-2.68190432,  0.11350274, -2.5828818 ,  0.09955492],\n",
       "       [ 3.19812536, -0.23577958,  3.0985981 , -0.22606748],\n",
       "       [ 0.76414108,  3.79125166,  0.78290946,  3.69302871],\n",
       "       [ 0.20055532, -3.33235931,  0.14255311, -3.25089925],\n",
       "       [-1.61876726,  4.82627821, -1.61433829,  4.72637634],\n",
       "       [-3.49128389, -4.62007475, -3.55339788, -4.69844472]])"
      ]
     },
     "execution_count": 17,
     "metadata": {},
     "output_type": "execute_result"
    }
   ],
   "execution_count": 17
  },
  {
   "metadata": {
    "ExecuteTime": {
     "end_time": "2025-05-26T22:36:09.928699Z",
     "start_time": "2025-05-26T22:36:09.914668Z"
    }
   },
   "cell_type": "code",
   "source": "np.vstack([agent_rotations, new_agent_rotations]).T",
   "id": "6d0bd9a3c2b38853",
   "outputs": [
    {
     "data": {
      "text/plain": [
       "array([[2.30850577, 2.08262727],\n",
       "       [3.04219413, 2.83401358],\n",
       "       [5.99008894, 5.77660093],\n",
       "       [1.66652465, 1.44472658],\n",
       "       [2.70275617, 2.52091362],\n",
       "       [4.6115675 , 4.44245249],\n",
       "       [6.05885839, 6.14325085],\n",
       "       [3.12550497, 3.04431826],\n",
       "       [4.87390375, 4.90119246],\n",
       "       [2.30699277, 2.18955225],\n",
       "       [4.82217455, 4.75669323],\n",
       "       [4.08271885, 4.04219266]])"
      ]
     },
     "execution_count": 18,
     "metadata": {},
     "output_type": "execute_result"
    }
   ],
   "execution_count": 18
  },
  {
   "metadata": {
    "ExecuteTime": {
     "end_time": "2025-05-26T22:36:10.066430Z",
     "start_time": "2025-05-26T22:36:10.053683Z"
    }
   },
   "cell_type": "code",
   "source": "num_neighbors",
   "id": "ab7ef9d6df643aa",
   "outputs": [
    {
     "data": {
      "text/plain": [
       "array([1., 0., 2., 1., 0., 2., 0., 0., 0., 2., 0., 0.])"
      ]
     },
     "execution_count": 19,
     "metadata": {},
     "output_type": "execute_result"
    }
   ],
   "execution_count": 19
  },
  {
   "metadata": {},
   "cell_type": "markdown",
   "source": [
    "## Simulation Loop\n",
    "\n",
    "The update allows us to continuously simulate the agents' positions and rotations at a given interval"
   ],
   "id": "25bfa1803f2f644a"
  },
  {
   "metadata": {
    "ExecuteTime": {
     "end_time": "2025-05-26T22:36:10.159492Z",
     "start_time": "2025-05-26T22:36:10.148757Z"
    }
   },
   "cell_type": "code",
   "source": [
    "def simulator_fun(\n",
    "    theta = None,\n",
    "    num_agents: int = 12,\n",
    "    num_beacons: int = 1,\n",
    "    room_size: tuple = (8, 10),\n",
    "    velocity: float = 1.0,\n",
    "    dt: float = 0.001,\n",
    "    influence_weight: float = 0.7,\n",
    "    sensing_radius: float = 10.0,\n",
    "    internal_focus: float = 0.1,\n",
    "    time_horizon: float = 30.\n",
    "):\n",
    "    \"\"\"\n",
    "    Run the simulation and store the time series of positions and orientations of agents.\n",
    "\n",
    "    Parameters\n",
    "    ----------\n",
    "    theta : np.ndarray\n",
    "        Prior parameters specifying the internal properties of the agents\n",
    "    num_agents : int, optional\n",
    "        Number of agents to generate (default is 100).\n",
    "    num_beacons : int, optional\n",
    "        Number of beacons to generate (default is 1).\n",
    "    room_size : float, optional\n",
    "        The size of the boundary within which positions are generated (default is 100).\n",
    "    velocity : float, optional\n",
    "        The speed at which agents move (default is 1.0).\n",
    "    dt : float, optional\n",
    "        The time step for the update (default is 0.1).\n",
    "    influence_weight : float, optional\n",
    "        The weight for influence_vector1 in determining new orientations (default is 0.7).\n",
    "    sensing_radius : float, optional\n",
    "        The sensing radius for the Vicsek model (default is 10.0).\n",
    "    num_timesteps : int, optional\n",
    "        The number of steps to simulate (default is 100).\n",
    "\n",
    "    Returns\n",
    "    -------\n",
    "    tuple of np.ndarray\n",
    "        The time series of positions and orientations of the agents.\n",
    "    \"\"\"\n",
    "\n",
    "    if theta is not None:\n",
    "        influence_weight = theta[0]\n",
    "        sensing_radius = theta[1]\n",
    "        velocity = theta[2]\n",
    "        #internal_focus = theta[3]\n",
    "\n",
    "\n",
    "    num_timesteps = int(time_horizon / dt)\n",
    "\n",
    "    # Apply radial bound with sigmoid transformation for the sensing radius\n",
    "    # (r_min, r_max) = (1., 5.)\n",
    "    # sensing_radius = r_min + (r_max - r_min) * (1. / (1. + np.exp(-sensing_radius)))\n",
    "\n",
    "    # Initialize positions and orientations\n",
    "    initial_positions, initial_rotations = initialize_agents(num_agents, room_size=room_size)\n",
    "\n",
    "    # Initialize arrays to store time series of positions and orientations\n",
    "    positions = np.zeros((num_timesteps, num_agents, 2))\n",
    "    rotations = np.zeros((num_timesteps, num_agents, ))\n",
    "    neighbors = np.zeros((num_timesteps, num_agents, ))\n",
    "    positions[0] = initial_positions\n",
    "    rotations[0] = initial_rotations\n",
    "\n",
    "    # Initialize beacons\n",
    "    beacon_positions = initialize_beacons(num_beacons)\n",
    "\n",
    "    # Simulation loop\n",
    "    for t in range(1, num_timesteps):\n",
    "        ps, rs, num_neighbors = combined_influences(\n",
    "            agent_positions=positions[t-1],\n",
    "            agent_rotations=rotations[t-1],\n",
    "            beacon_positions=beacon_positions,\n",
    "            velocity=velocity,\n",
    "            sensing_radius=sensing_radius,\n",
    "            dt=dt,\n",
    "            influence_weight=influence_weight,\n",
    "            internal_focus=internal_focus\n",
    "        )\n",
    "\n",
    "        # Store positions and orientations for each time step\n",
    "        positions[t] = ps\n",
    "        rotations[t] = rs\n",
    "        neighbors[t] = num_neighbors\n",
    "\n",
    "    neighbors[0] = neighbors[1]\n",
    "\n",
    "    rotations = rotations[:,:,np.newaxis]\n",
    "    neighbors = neighbors[:,:,np.newaxis]\n",
    "\n",
    "    # return np.concatenate((positions, rotations, neighbors), axis=-1)\n",
    "    return dict(\n",
    "        positions=positions,\n",
    "        rotations=rotations,\n",
    "        neighbors=neighbors\n",
    "    )"
   ],
   "id": "ffcbc6acb0544952",
   "outputs": [],
   "execution_count": 20
  },
  {
   "metadata": {
    "ExecuteTime": {
     "end_time": "2025-05-26T22:40:06.831568Z",
     "start_time": "2025-05-26T22:36:10.224099Z"
    }
   },
   "cell_type": "code",
   "source": "simulation = simulator_fun(num_agents=49)",
   "id": "37f0f765f8eb81d7",
   "outputs": [],
   "execution_count": 21
  },
  {
   "metadata": {},
   "cell_type": "markdown",
   "source": "",
   "id": "11acfdaa561f5a73"
  },
  {
   "metadata": {
    "ExecuteTime": {
     "end_time": "2025-05-26T22:40:06.879225Z",
     "start_time": "2025-05-26T22:40:06.872644Z"
    }
   },
   "cell_type": "code",
   "source": [
    "print(simulation['positions'].shape)\n",
    "print(simulation['rotations'].shape)\n",
    "print(simulation['neighbors'].shape)"
   ],
   "id": "fc998233aa0e7cba",
   "outputs": [
    {
     "name": "stdout",
     "output_type": "stream",
     "text": [
      "(30000, 49, 2)\n",
      "(30000, 49, 1)\n",
      "(30000, 49, 1)\n"
     ]
    }
   ],
   "execution_count": 22
  },
  {
   "metadata": {},
   "cell_type": "markdown",
   "source": "### Priors",
   "id": "f581a8b8107de537"
  },
  {
   "metadata": {
    "ExecuteTime": {
     "end_time": "2025-05-26T22:40:06.956555Z",
     "start_time": "2025-05-26T22:40:06.943526Z"
    }
   },
   "cell_type": "code",
   "source": [
    "def prior_fun():\n",
    "    weight = np.random.beta(2, 2)\n",
    "    radius = np.random.gamma(5, 1)\n",
    "    v = np.random.beta(2, 2) * 2.\n",
    "    #focus = np.random.beta(2, 5)\n",
    "    return {\"w\": weight, \"r\": radius, \"v\": v}"
   ],
   "id": "5c2b0cd059b978cc",
   "outputs": [],
   "execution_count": 23
  },
  {
   "metadata": {
    "ExecuteTime": {
     "end_time": "2025-05-26T22:40:07.002824Z",
     "start_time": "2025-05-26T22:40:06.989713Z"
    }
   },
   "cell_type": "code",
   "source": [
    "theta = prior_fun()\n",
    "theta['w']"
   ],
   "id": "e49e5db80dbf508d",
   "outputs": [
    {
     "data": {
      "text/plain": [
       "0.9098471467133625"
      ]
     },
     "execution_count": 24,
     "metadata": {},
     "output_type": "execute_result"
    }
   ],
   "execution_count": 24
  },
  {
   "metadata": {
    "ExecuteTime": {
     "end_time": "2025-05-26T22:40:07.050103Z",
     "start_time": "2025-05-26T22:40:07.037068Z"
    }
   },
   "cell_type": "code",
   "source": "simulator = bf.make_simulator([prior_fun, simulator_fun])",
   "id": "3a0131630dcd83d4",
   "outputs": [],
   "execution_count": 25
  },
  {
   "metadata": {
    "ExecuteTime": {
     "end_time": "2025-05-26T22:40:27.779963Z",
     "start_time": "2025-05-26T22:40:07.067824Z"
    }
   },
   "cell_type": "code",
   "source": "simulator.sample(1)",
   "id": "1f81b6e68858dad7",
   "outputs": [
    {
     "data": {
      "text/plain": [
       "{'w': array([[0.43134128]]),\n",
       " 'r': array([[11.32109287]]),\n",
       " 'v': array([[0.07871468]]),\n",
       " 'positions': array([[[[  2.84511185,   0.03266394],\n",
       "          [ -1.76991057,  -0.59853107],\n",
       "          [  0.91232634,  -1.98190475],\n",
       "          ...,\n",
       "          [  1.58007526,   1.20747328],\n",
       "          [ -2.58071184,   4.14224625],\n",
       "          [  2.04509068,   4.52865219]],\n",
       " \n",
       "         [[  2.84610721,   0.0327601 ],\n",
       "          [ -1.77043446,  -0.59938285],\n",
       "          [  0.91328092,  -1.98220268],\n",
       "          ...,\n",
       "          [  1.58104157,   1.20773067],\n",
       "          [ -2.58027522,   4.14314589],\n",
       "          [  2.04492553,   4.52766592]],\n",
       " \n",
       "         [[  2.84710265,   0.03285552],\n",
       "          [ -1.77095899,  -0.60023425],\n",
       "          [  0.91423524,  -1.98250147],\n",
       "          ...,\n",
       "          [  1.58200806,   1.20798739],\n",
       "          [ -2.57983813,   4.14404531],\n",
       "          [  2.04475964,   4.52667978]],\n",
       " \n",
       "         ...,\n",
       " \n",
       "         [[149.66056697,   1.23412451],\n",
       "          [ -0.7515738 ,  -4.3127016 ],\n",
       "          [  3.59406313,  -4.42048473],\n",
       "          ...,\n",
       "          [  1.6440561 ,   3.04106282],\n",
       "          [ -2.18203314,  -0.99854461],\n",
       "          [  2.66663611, 285.85194541]],\n",
       " \n",
       "         [[149.6713244 ,   1.23477742],\n",
       "          [ -0.75255075,  -4.31291507],\n",
       "          [  3.59339401,  -4.42122788],\n",
       "          ...,\n",
       "          [  1.64496298,   3.0414842 ],\n",
       "          [ -2.18178889,  -0.99951433],\n",
       "          [  2.66740275, 285.86130333]],\n",
       " \n",
       "         [[149.68208322,   1.23542872],\n",
       "          [ -0.75352793,  -4.31312751],\n",
       "          [  3.59272398,  -4.42197022],\n",
       "          ...,\n",
       "          [  1.64587019,   3.04190488],\n",
       "          [ -2.18154562,  -1.00048428],\n",
       "          [  2.66816866, 285.87066039]]]]),\n",
       " 'rotations': array([[[[0.09703473],\n",
       "          [4.16170025],\n",
       "          [5.98155642],\n",
       "          ...,\n",
       "          [0.26098761],\n",
       "          [1.12133241],\n",
       "          [4.5472188 ]],\n",
       " \n",
       "         [[0.0963052 ],\n",
       "          [4.16097935],\n",
       "          [5.98065598],\n",
       "          ...,\n",
       "          [0.26032063],\n",
       "          [1.11896117],\n",
       "          [4.54647872]],\n",
       " \n",
       "         [[0.09557163],\n",
       "          [4.16022997],\n",
       "          [5.97976371],\n",
       "          ...,\n",
       "          [0.25962887],\n",
       "          [1.11843313],\n",
       "          [4.54573148]],\n",
       " \n",
       "         ...,\n",
       " \n",
       "         [[0.71355604],\n",
       "          [3.35781484],\n",
       "          [3.98056453],\n",
       "          ...,\n",
       "          [0.43581112],\n",
       "          [4.96015677],\n",
       "          [5.58712   ]],\n",
       " \n",
       "         [[0.71142602],\n",
       "          [3.35672389],\n",
       "          [3.97936417],\n",
       "          ...,\n",
       "          [0.4349738 ],\n",
       "          [4.95913124],\n",
       "          [5.58598472]],\n",
       " \n",
       "         [[0.709296  ],\n",
       "          [3.35566158],\n",
       "          [3.97814414],\n",
       "          ...,\n",
       "          [0.43419422],\n",
       "          [4.95812837],\n",
       "          [5.58484944]]]]),\n",
       " 'neighbors': array([[[[0.],\n",
       "          [1.],\n",
       "          [0.],\n",
       "          ...,\n",
       "          [0.],\n",
       "          [0.],\n",
       "          [1.]],\n",
       " \n",
       "         [[0.],\n",
       "          [1.],\n",
       "          [0.],\n",
       "          ...,\n",
       "          [0.],\n",
       "          [0.],\n",
       "          [1.]],\n",
       " \n",
       "         [[0.],\n",
       "          [1.],\n",
       "          [0.],\n",
       "          ...,\n",
       "          [0.],\n",
       "          [0.],\n",
       "          [1.]],\n",
       " \n",
       "         ...,\n",
       " \n",
       "         [[0.],\n",
       "          [0.],\n",
       "          [0.],\n",
       "          ...,\n",
       "          [1.],\n",
       "          [0.],\n",
       "          [0.]],\n",
       " \n",
       "         [[0.],\n",
       "          [0.],\n",
       "          [0.],\n",
       "          ...,\n",
       "          [1.],\n",
       "          [0.],\n",
       "          [0.]],\n",
       " \n",
       "         [[0.],\n",
       "          [0.],\n",
       "          [0.],\n",
       "          ...,\n",
       "          [1.],\n",
       "          [0.],\n",
       "          [0.]]]])}"
      ]
     },
     "execution_count": 26,
     "metadata": {},
     "output_type": "execute_result"
    }
   ],
   "execution_count": 26
  },
  {
   "metadata": {
    "ExecuteTime": {
     "end_time": "2025-05-26T22:40:27.857852Z",
     "start_time": "2025-05-26T22:40:27.812680Z"
    }
   },
   "cell_type": "code",
   "source": "prior_samples = simulator.simulators[0].sample(1000)",
   "id": "8bec90cb2c2b7989",
   "outputs": [],
   "execution_count": 27
  },
  {
   "metadata": {
    "ExecuteTime": {
     "end_time": "2025-05-26T22:40:38.275547Z",
     "start_time": "2025-05-26T22:40:27.907855Z"
    }
   },
   "cell_type": "code",
   "source": [
    "grid = bf.diagnostics.plots.pairs_samples(\n",
    "    prior_samples, variable_keys=[\"w\", \"r\", \"v\"]\n",
    ")"
   ],
   "id": "556c010e702a8812",
   "outputs": [
    {
     "data": {
      "text/plain": [
       "<Figure size 750x750 with 15 Axes>"
      ],
      "image/png": "[encoded data removed]"
     },
     "metadata": {},
     "output_type": "display_data"
    }
   ],
   "execution_count": 28
  },
  {
   "metadata": {},
   "cell_type": "markdown",
   "source": "### Adapter",
   "id": "c7d3e491282812d7"
  },
  {
   "metadata": {
    "ExecuteTime": {
     "end_time": "2025-05-26T22:51:33.545705Z",
     "start_time": "2025-05-26T22:51:33.533440Z"
    }
   },
   "cell_type": "code",
   "source": [
    "adapter = (\n",
    "    bf.adapters.Adapter()\n",
    "    .convert_dtype(\"float64\", \"float32\")\n",
    "    .as_time_series([\"positions\", \"rotations\", \"neighbors\"])\n",
    "    .concatenate(['w', 'r', 'v'], into=\"inference_variables\")\n",
    "    .concatenate([\"positions\", \"rotations\", \"neighbors\"], into=\"summary_variables\")\n",
    ")"
   ],
   "id": "69137094735b10b1",
   "outputs": [],
   "execution_count": 35
  },
  {
   "metadata": {
    "ExecuteTime": {
     "end_time": "2025-05-26T23:01:41.818408Z",
     "start_time": "2025-05-26T23:01:02.038260Z"
    }
   },
   "cell_type": "code",
   "source": "adapter_sim = adapter(simulator.sample(2))",
   "id": "d452bff0a8f006f7",
   "outputs": [],
   "execution_count": 36
  },
  {
   "metadata": {},
   "cell_type": "code",
   "outputs": [],
   "execution_count": null,
   "source": "",
   "id": "69c0c38d5c4b53"
  },
  {
   "metadata": {},
   "cell_type": "markdown",
   "source": "### Neural Approximator",
   "id": "bb6da22bb3c43d6b"
  },
  {
   "metadata": {
    "ExecuteTime": {
     "end_time": "2025-05-26T23:37:09.133238Z",
     "start_time": "2025-05-26T23:37:08.987287Z"
    }
   },
   "cell_type": "code",
   "source": [
    "# How do we go about the summary network, since HierarchicalNetwork has not been implemented yet?\n",
    "\n",
    "# Need to ask Stefan about this.\n",
    "summary_net = bf.networks.TimeSeriesTransformer()"
   ],
   "id": "a45ebbfd8f0a1a38",
   "outputs": [],
   "execution_count": 39
  },
  {
   "metadata": {
    "ExecuteTime": {
     "end_time": "2025-05-26T23:35:40.472155Z",
     "start_time": "2025-05-26T23:35:40.384993Z"
    }
   },
   "cell_type": "code",
   "source": "inference_net = bf.networks.FlowMatching()",
   "id": "e31c14fc18c97048",
   "outputs": [],
   "execution_count": 38
  },
  {
   "metadata": {
    "ExecuteTime": {
     "end_time": "2025-05-26T23:37:13.191886Z",
     "start_time": "2025-05-26T23:37:13.170809Z"
    }
   },
   "cell_type": "code",
   "source": [
    "workflow = bf.workflows.BasicWorkflow(\n",
    "    simulator=simulator,\n",
    "    adapter=adapter,\n",
    "    inference_network=inference_net,\n",
    "    summary_network=summary_net\n",
    ")"
   ],
   "id": "6a4a56474df53e0a",
   "outputs": [],
   "execution_count": 40
  },
  {
   "metadata": {},
   "cell_type": "code",
   "outputs": [],
   "execution_count": null,
   "source": "",
   "id": "218e61be81ef4fd4"
  }
 ],
 "metadata": {
  "kernelspec": {
   "display_name": "Python 3",
   "language": "python",
   "name": "python3"
  },
  "language_info": {
   "codemirror_mode": {
    "name": "ipython",
    "version": 2
   },
   "file_extension": ".py",
   "mimetype": "text/x-python",
   "name": "python",
   "nbconvert_exporter": "python",
   "pygments_lexer": "ipython2",
   "version": "2.7.6"
  }
 },
 "nbformat": 4,
 "nbformat_minor": 5
}
