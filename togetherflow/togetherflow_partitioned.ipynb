{
 "cells": [
  {
   "cell_type": "markdown",
   "id": "cbc0affd9dd09133",
   "metadata": {},
   "source": [
    "# Togetherflow\n",
    "**Emergent agent motion dynamics in immersive rooms**\n",
    "\n",
    "In this notebook, we implement Togetherflow, a computational cognitive model that characterizes the motion pattern of human agents in immersive rooms."
   ]
  },
  {
   "cell_type": "code",
   "id": "33adef3436b0c4",
   "metadata": {
    "ExecuteTime": {
     "end_time": "2025-01-14T22:32:20.166132Z",
     "start_time": "2025-01-14T22:32:20.057839Z"
    }
   },
   "source": [
    "%load_ext autoreload\n",
    "%autoreload 2"
   ],
   "outputs": [],
   "execution_count": 1
  },
  {
   "cell_type": "code",
   "id": "initial_id",
   "metadata": {
    "ExecuteTime": {
     "end_time": "2025-01-14T22:32:29.665114Z",
     "start_time": "2025-01-14T22:32:29.548505Z"
    }
   },
   "source": [
    "import numpy as np\n",
    "import matplotlib.pyplot as plt\n",
    "# from functools import partial\n",
    "\n",
    "np.set_printoptions(suppress=True)"
   ],
   "outputs": [],
   "execution_count": 2
  },
  {
   "cell_type": "code",
   "id": "55f319eee80ddfd8",
   "metadata": {
    "ExecuteTime": {
     "end_time": "2025-01-14T22:32:44.801673Z",
     "start_time": "2025-01-14T22:32:44.604801Z"
    }
   },
   "source": [
    "import tensorflow as tf\n",
    "import bayesflow as bf\n",
    "from bayesflow.simulation import Prior, Simulator, GenerativeModel"
   ],
   "outputs": [],
   "execution_count": 4
  },
  {
   "cell_type": "code",
   "id": "ec74dc4a9d760f13",
   "metadata": {
    "ExecuteTime": {
     "end_time": "2025-01-14T22:36:35.935135Z",
     "start_time": "2025-01-14T22:36:35.739298Z"
    }
   },
   "source": [
    "from initializations import (\n",
    "    initialize_agents, \n",
    "    initialize_beacons\n",
    ")\n",
    "from influences import (\n",
    "    position_influence,\n",
    "    rotation_influence,\n",
    "    alignment_influence,\n",
    "    cohesion_influence\n",
    ")\n",
    "from simulations import (\n",
    "    look_at_beacon,\n",
    "    move_to_beacon,\n",
    "    look_with_neighbors,\n",
    "    walk_with_neighbors,\n",
    "    individual_motion,\n",
    "    collective_motion,\n",
    "    main_simulator\n",
    ")"
   ],
   "outputs": [],
   "execution_count": 19
  },
  {
   "cell_type": "markdown",
   "id": "14ebdadb56ec740d",
   "metadata": {},
   "source": [
    "## Initializations"
   ]
  },
  {
   "cell_type": "code",
   "id": "7325df4491f6e16d",
   "metadata": {
    "ExecuteTime": {
     "end_time": "2025-01-14T22:32:48.985662Z",
     "start_time": "2025-01-14T22:32:47.212213Z"
    }
   },
   "source": [
    "agent_positions, agent_rotations = initialize_agents()\n",
    "beacon_positions = initialize_beacons()\n",
    "agent_rotations.shape"
   ],
   "outputs": [
    {
     "data": {
      "text/plain": [
       "(12, 1)"
      ]
     },
     "execution_count": 6,
     "metadata": {},
     "output_type": "execute_result"
    }
   ],
   "execution_count": 6
  },
  {
   "cell_type": "markdown",
   "id": "a53b6f4c573a3d0a",
   "metadata": {},
   "source": [
    "## Influences"
   ]
  },
  {
   "metadata": {},
   "cell_type": "markdown",
   "source": "### 1. Positional influence (individual)",
   "id": "29243877f478e456"
  },
  {
   "metadata": {
    "ExecuteTime": {
     "end_time": "2025-01-14T22:32:51.558506Z",
     "start_time": "2025-01-14T22:32:51.045649Z"
    }
   },
   "cell_type": "code",
   "source": [
    "d = position_influence(agent_positions[0], beacon_positions[1])\n",
    "d"
   ],
   "id": "d5632c85a3c4dd9e",
   "outputs": [
    {
     "data": {
      "text/plain": [
       "-0.3499339717200477"
      ]
     },
     "execution_count": 7,
     "metadata": {},
     "output_type": "execute_result"
    }
   ],
   "execution_count": 7
  },
  {
   "metadata": {},
   "cell_type": "markdown",
   "source": "### 2. Rotational influence (individual)",
   "id": "3a0113a60ba1e6bf"
  },
  {
   "metadata": {
    "ExecuteTime": {
     "end_time": "2025-01-14T22:32:54.945493Z",
     "start_time": "2025-01-14T22:32:53.513513Z"
    }
   },
   "cell_type": "code",
   "source": [
    "direction = rotation_influence(\n",
    "    agent_positions[0], agent_rotations[0], beacon_positions[1],\n",
    ")\n",
    "direction"
   ],
   "id": "e16bdf0899882efc",
   "outputs": [
    {
     "data": {
      "text/plain": [
       "-0.4561170875082565"
      ]
     },
     "execution_count": 8,
     "metadata": {},
     "output_type": "execute_result"
    }
   ],
   "execution_count": 8
  },
  {
   "metadata": {},
   "cell_type": "markdown",
   "source": "## Combined external influence for individual motion",
   "id": "b2fb764cf9122ac6"
  },
  {
   "metadata": {
    "ExecuteTime": {
     "end_time": "2025-01-14T22:32:58.145449Z",
     "start_time": "2025-01-14T22:32:56.154391Z"
    }
   },
   "cell_type": "code",
   "source": [
    "positions, rotations = individual_motion(\n",
    "    agent_positions[2], agent_rotations[2], beacon_positions[3]\n",
    ")\n",
    "\n",
    "plt.plot(rotations)"
   ],
   "id": "6f241cfc877cb88a",
   "outputs": [
    {
     "data": {
      "text/plain": [
       "[<matplotlib.lines.Line2D at 0x283b6bdf430>]"
      ]
     },
     "execution_count": 9,
     "metadata": {},
     "output_type": "execute_result"
    },
    {
     "data": {
      "text/plain": [
       "<Figure size 640x480 with 1 Axes>"
      ],
      "image/png": "[encoded data removed]"
     },
     "metadata": {},
     "output_type": "display_data"
    }
   ],
   "execution_count": 9
  },
  {
   "metadata": {},
   "cell_type": "markdown",
   "source": "",
   "id": "d2d56a98dd99e211"
  },
  {
   "metadata": {},
   "cell_type": "markdown",
   "source": "## 3. Alignment influence (collective)",
   "id": "15a71840608929d1"
  },
  {
   "metadata": {
    "ExecuteTime": {
     "end_time": "2025-01-14T22:33:03.479598Z",
     "start_time": "2025-01-14T22:33:03.278082Z"
    }
   },
   "cell_type": "code",
   "source": "type(agent_rotations[0].item())",
   "id": "d00c3c54ab674101",
   "outputs": [
    {
     "data": {
      "text/plain": [
       "float"
      ]
     },
     "execution_count": 10,
     "metadata": {},
     "output_type": "execute_result"
    }
   ],
   "execution_count": 10
  },
  {
   "metadata": {
    "ExecuteTime": {
     "end_time": "2025-01-14T22:37:05.859491Z",
     "start_time": "2025-01-14T22:37:05.659665Z"
    }
   },
   "cell_type": "code",
   "source": [
    "p = alignment_influence(\n",
    "    agent_positions[3],\n",
    "    agent_positions,\n",
    "    agent_rotations\n",
    ")\n",
    "\n",
    "type(p)"
   ],
   "id": "9b7d3c28e9258f57",
   "outputs": [
    {
     "data": {
      "text/plain": [
       "list"
      ]
     },
     "execution_count": 22,
     "metadata": {},
     "output_type": "execute_result"
    }
   ],
   "execution_count": 22
  },
  {
   "metadata": {},
   "cell_type": "markdown",
   "source": "## 4. Cohesion influence (collective)",
   "id": "8762df5f83ee8415"
  },
  {
   "metadata": {},
   "cell_type": "code",
   "outputs": [],
   "execution_count": null,
   "source": "",
   "id": "e74250c1eeed871"
  },
  {
   "metadata": {},
   "cell_type": "markdown",
   "source": "## Combined influence for collective motion",
   "id": "e1df1c5952c5af29"
  },
  {
   "metadata": {},
   "cell_type": "markdown",
   "source": "# Prior",
   "id": "223595f8d68ca74b"
  },
  {
   "metadata": {},
   "cell_type": "code",
   "outputs": [],
   "execution_count": null,
   "source": [
    "param_names = [\n",
    "    r\"$w$\",\n",
    "    r\"$r$\",\n",
    "    r\"$v$\",\n",
    "    # r\"$\\eta$\",\n",
    "    # r\"$\\kappa$\"\n",
    "]"
   ],
   "id": "9659bc6d4fb1dfaa"
  },
  {
   "metadata": {},
   "cell_type": "markdown",
   "source": "# Configurator",
   "id": "28e0024f0c36faee"
  },
  {
   "metadata": {},
   "cell_type": "code",
   "outputs": [],
   "execution_count": null,
   "source": [
    "def configurator(input_dict: dict = None, transpose: bool = True):\n",
    "    \n",
    "    output_dict = {}\n",
    "    output_dict['parameters'] = input_dict['prior_draws'].astype(np.float32)\n",
    "    x = input_dict['sim_data'] / 10. \n",
    "    if transpose:\n",
    "        x = np.transpose(x, (0, 2, 1, 3))\n",
    "    output_dict['summary_conditions'] = x.astype(np.float32)\n",
    "    return output_dict"
   ],
   "id": "b5071bafd9f86021"
  },
  {
   "metadata": {},
   "cell_type": "markdown",
   "source": "# Neural Approximator",
   "id": "9e34a20b8ecf8e2a"
  },
  {
   "metadata": {},
   "cell_type": "code",
   "outputs": [],
   "execution_count": null,
   "source": [
    "# This one generalizes over different numbers of agents\n",
    "summary_net = bf.summary_networks.HierarchicalNetwork([\n",
    "    tf.keras.layers.TimeDistributed(tf.keras.layers.LSTM(units=128)),\n",
    "    bf.networks.SetTransformer(num_inducing_points=None, input_dim=128, summary_dim=64)\n",
    "])\n",
    "\n",
    "inference_net = bf.inference_networks.InvertibleNetwork(\n",
    "    num_params=3, \n",
    "    num_coupling_layers=6,\n",
    "    coupling_design=\"affine\",\n",
    "    coupling_settings={\n",
    "        'kernel_regularizer': None,\n",
    "        'dropout_prob': 0.0\n",
    "    }\n",
    ")\n",
    "\n",
    "amortizer = bf.amortizers.AmortizedPosterior(\n",
    "    summary_net=summary_net, \n",
    "    inference_net=inference_net\n",
    ")"
   ],
   "id": "29e3b1984dc72219"
  },
  {
   "metadata": {},
   "cell_type": "markdown",
   "source": "# Training",
   "id": "36406110843d215"
  },
  {
   "metadata": {},
   "cell_type": "code",
   "outputs": [],
   "execution_count": null,
   "source": [
    "# trainer = bf.trainers.Trainer(\n",
    "#     amortizer=amortizer,\n",
    "#     generative_model=model,\n",
    "#     configurator=configurator\n",
    "# )"
   ],
   "id": "b5a0dfd6ff6c3d55"
  },
  {
   "metadata": {},
   "cell_type": "markdown",
   "source": "### Offline training",
   "id": "4ed1e90a8c98f4bb"
  },
  {
   "metadata": {},
   "cell_type": "code",
   "outputs": [],
   "execution_count": null,
   "source": "# training_set = model(1000) ",
   "id": "132c6eefe02dfc26"
  },
  {
   "metadata": {},
   "cell_type": "code",
   "outputs": [],
   "execution_count": null,
   "source": "# losses = trainer.train_offline(training_set, epochs=100, batch_size=100, validation_sims=model(200))",
   "id": "7b15c82eacfe30ea"
  }
 ],
 "metadata": {
  "kernelspec": {
   "display_name": "tflow",
   "language": "python",
   "name": "env"
  },
  "language_info": {
   "codemirror_mode": {
    "name": "ipython",
    "version": 3
   },
   "file_extension": ".py",
   "mimetype": "text/x-python",
   "name": "python",
   "nbconvert_exporter": "python",
   "pygments_lexer": "ipython3",
   "version": "3.10.11"
  }
 },
 "nbformat": 4,
 "nbformat_minor": 5
}
