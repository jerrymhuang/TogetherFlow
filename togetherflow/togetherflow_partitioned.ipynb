{
 "cells": [
  {
   "cell_type": "markdown",
   "id": "cbc0affd9dd09133",
   "metadata": {},
   "source": [
    "# Togetherflow\n",
    "**Emergent agent motion dynamics in immersive rooms**\n",
    "\n",
    "In this notebook, we implement Togetherflow, a computational cognitive model that characterizes the motion pattern of human agents in immersive rooms."
   ]
  },
  {
   "cell_type": "code",
   "id": "33adef3436b0c4",
   "metadata": {
    "ExecuteTime": {
     "end_time": "2025-01-16T00:23:03.096436Z",
     "start_time": "2025-01-16T00:23:02.788581Z"
    }
   },
   "source": [
    "%load_ext autoreload\n",
    "%autoreload 2"
   ],
   "outputs": [
    {
     "name": "stdout",
     "output_type": "stream",
     "text": [
      "The autoreload extension is already loaded. To reload it, use:\n",
      "  %reload_ext autoreload\n"
     ]
    }
   ],
   "execution_count": 204
  },
  {
   "cell_type": "code",
   "id": "initial_id",
   "metadata": {
    "ExecuteTime": {
     "end_time": "2025-01-16T00:23:08.119569Z",
     "start_time": "2025-01-16T00:23:07.906649Z"
    }
   },
   "source": [
    "import numpy as np\n",
    "import matplotlib.pyplot as plt\n",
    "# from functools import partial\n",
    "\n",
    "np.set_printoptions(suppress=True)"
   ],
   "outputs": [],
   "execution_count": 205
  },
  {
   "cell_type": "code",
   "id": "55f319eee80ddfd8",
   "metadata": {
    "ExecuteTime": {
     "end_time": "2025-01-16T00:23:08.478336Z",
     "start_time": "2025-01-16T00:23:08.256684Z"
    }
   },
   "source": [
    "import tensorflow as tf\n",
    "import bayesflow as bf\n",
    "from bayesflow.simulation import Prior, Simulator, GenerativeModel"
   ],
   "outputs": [],
   "execution_count": 206
  },
  {
   "cell_type": "code",
   "id": "ec74dc4a9d760f13",
   "metadata": {
    "ExecuteTime": {
     "end_time": "2025-01-16T00:59:02.287934Z",
     "start_time": "2025-01-16T00:59:01.882838Z"
    }
   },
   "source": [
    "from initializations import initialize_agents, initialize_beacons\n",
    "from simulations import motion_simulation\n",
    "\n",
    "from priors import (\n",
    "    complete_pooling_prior\n",
    ")"
   ],
   "outputs": [],
   "execution_count": 220
  },
  {
   "cell_type": "markdown",
   "id": "14ebdadb56ec740d",
   "metadata": {},
   "source": [
    "## Initializations\n",
    "\n",
    "First, we need to initialize some agents and some beacons."
   ]
  },
  {
   "cell_type": "code",
   "id": "7325df4491f6e16d",
   "metadata": {
    "ExecuteTime": {
     "end_time": "2025-01-16T00:23:10.310137Z",
     "start_time": "2025-01-16T00:23:10.095271Z"
    }
   },
   "source": [
    "agent_positions, agent_rotations = initialize_agents()\n",
    "beacon_positions = initialize_beacons()\n",
    "agent_rotations.shape"
   ],
   "outputs": [
    {
     "data": {
      "text/plain": [
       "(12, 1)"
      ]
     },
     "execution_count": 208,
     "metadata": {},
     "output_type": "execute_result"
    }
   ],
   "execution_count": 208
  },
  {
   "cell_type": "markdown",
   "id": "a53b6f4c573a3d0a",
   "metadata": {},
   "source": [
    "## Influences\n",
    "\n",
    "There are 4 influence vectors to an agent:\n",
    "* **Positional influence** (individual): drift-diffusion process for agent displacement (locomotion);\n",
    "* **Rotational influence** (individual): drift-diffusion process for agent orientation (head movement);\n",
    "* **Cohesion influence** (collective): active particle dynamics for agent position following;\n",
    "* **Alignment influence** (collective): active particle dynamics for agent orientation following.\n",
    "\n",
    "The implementation of all influences can be found in the `influences` module."
   ]
  },
  {
   "metadata": {},
   "cell_type": "markdown",
   "source": [
    "## Final simulation\n",
    "\n",
    "Combining all influences yields the final simulation."
   ],
   "id": "63673f996d104f95"
  },
  {
   "metadata": {
    "ExecuteTime": {
     "end_time": "2025-01-16T01:07:23.744552Z",
     "start_time": "2025-01-16T01:07:23.446120Z"
    }
   },
   "cell_type": "code",
   "source": [
    "sim_positions, sim_rotations = motion_simulation(\n",
    "    agent_positions=agent_positions, \n",
    "    agent_rotations=agent_rotations, \n",
    "    beacon_positions=beacon_positions\n",
    ")\n",
    "\n",
    "sim_positions"
   ],
   "id": "ca333878d7954885",
   "outputs": [
    {
     "data": {
      "text/plain": [
       "array([[[-2.5423832 ,  1.5869689 ],\n",
       "        [ 1.1488757 ,  1.8642533 ],\n",
       "        [ 1.906488  , -2.5600734 ],\n",
       "        ...,\n",
       "        [ 1.3689766 ,  2.3151743 ],\n",
       "        [ 1.9968624 , -0.6965947 ],\n",
       "        [ 0.8874407 ,  0.31693697]],\n",
       "\n",
       "       [[-2.5337138 ,  1.5956382 ],\n",
       "        [ 1.2249972 ,  1.9403747 ],\n",
       "        [ 1.9607716 , -2.5057898 ],\n",
       "        ...,\n",
       "        [ 1.33085   ,  2.2770479 ],\n",
       "        [ 2.057854  , -0.63560325],\n",
       "        [ 0.95112205,  0.38061833]],\n",
       "\n",
       "       [[-2.5237892 ,  1.6055628 ],\n",
       "        [ 1.3025787 ,  2.0179563 ],\n",
       "        [ 2.0156531 , -2.4509082 ],\n",
       "        ...,\n",
       "        [ 1.2948837 ,  2.2410815 ],\n",
       "        [ 2.1189013 , -0.57455593],\n",
       "        [ 1.0132352 ,  0.44273147]],\n",
       "\n",
       "       ...,\n",
       "\n",
       "       [[-2.0750568 ,  2.0542958 ],\n",
       "        [ 1.2572119 ,  1.9725897 ],\n",
       "        [ 6.5204296 ,  2.0538547 ],\n",
       "        ...,\n",
       "        [ 1.1217018 ,  2.0679026 ],\n",
       "        [ 4.7323895 ,  2.038936  ],\n",
       "        [ 2.6775184 ,  2.107015  ]],\n",
       "\n",
       "       [[-2.0757897 ,  2.0535629 ],\n",
       "        [ 1.3371881 ,  2.052566  ],\n",
       "        [ 6.442494  ,  1.9759189 ],\n",
       "        ...,\n",
       "        [ 1.0824208 ,  2.0286214 ],\n",
       "        [ 4.811632  ,  2.1181784 ],\n",
       "        [ 2.6386456 ,  2.0681422 ]],\n",
       "\n",
       "       [[-2.0746117 ,  2.054741  ],\n",
       "        [ 1.2585529 ,  1.9739308 ],\n",
       "        [ 6.5206814 ,  2.0541065 ],\n",
       "        ...,\n",
       "        [ 1.1989092 ,  2.1451097 ],\n",
       "        [ 4.7330766 ,  2.0396225 ],\n",
       "        [ 2.5996933 ,  2.0291898 ]]], dtype=float32)"
      ]
     },
     "execution_count": 223,
     "metadata": {},
     "output_type": "execute_result"
    }
   ],
   "execution_count": 223
  },
  {
   "metadata": {},
   "cell_type": "markdown",
   "source": "# Priors",
   "id": "223595f8d68ca74b"
  },
  {
   "metadata": {},
   "cell_type": "code",
   "outputs": [],
   "execution_count": null,
   "source": "param_names = [r\"$w$\", r\"$r$\", r\"$v$\"]",
   "id": "9659bc6d4fb1dfaa"
  },
  {
   "metadata": {},
   "cell_type": "markdown",
   "source": "# Configurator",
   "id": "28e0024f0c36faee"
  },
  {
   "metadata": {},
   "cell_type": "code",
   "outputs": [],
   "execution_count": null,
   "source": [
    "def configurator(input_dict: dict = None, transpose: bool = True):\n",
    "    \n",
    "    output_dict = {}\n",
    "    output_dict['parameters'] = input_dict['prior_draws'].astype(np.float32)\n",
    "    x = input_dict['sim_data'] / 10. \n",
    "    if transpose:\n",
    "        x = np.transpose(x, (0, 2, 1, 3))\n",
    "    output_dict['summary_conditions'] = x.astype(np.float32)\n",
    "    return output_dict"
   ],
   "id": "b5071bafd9f86021"
  },
  {
   "metadata": {},
   "cell_type": "markdown",
   "source": "# Neural Approximator",
   "id": "9e34a20b8ecf8e2a"
  },
  {
   "metadata": {},
   "cell_type": "code",
   "outputs": [],
   "execution_count": null,
   "source": [
    "# This one generalizes over different numbers of agents\n",
    "summary_net = bf.summary_networks.HierarchicalNetwork([\n",
    "    tf.keras.layers.TimeDistributed(tf.keras.layers.LSTM(units=128)),\n",
    "    bf.networks.SetTransformer(num_inducing_points=None, input_dim=128, summary_dim=64)\n",
    "])\n",
    "\n",
    "inference_net = bf.inference_networks.InvertibleNetwork(\n",
    "    num_params=3, \n",
    "    num_coupling_layers=6,\n",
    "    coupling_design=\"affine\",\n",
    "    coupling_settings={\n",
    "        'kernel_regularizer': None,\n",
    "        'dropout_prob': 0.0\n",
    "    }\n",
    ")\n",
    "\n",
    "amortizer = bf.amortizers.AmortizedPosterior(\n",
    "    summary_net=summary_net, \n",
    "    inference_net=inference_net\n",
    ")"
   ],
   "id": "29e3b1984dc72219"
  },
  {
   "metadata": {},
   "cell_type": "markdown",
   "source": "# Training",
   "id": "36406110843d215"
  },
  {
   "metadata": {},
   "cell_type": "code",
   "outputs": [],
   "execution_count": null,
   "source": [
    "# trainer = bf.trainers.Trainer(\n",
    "#     amortizer=amortizer,\n",
    "#     generative_model=model,\n",
    "#     configurator=configurator\n",
    "# )"
   ],
   "id": "b5a0dfd6ff6c3d55"
  },
  {
   "metadata": {},
   "cell_type": "markdown",
   "source": [
    "### Offline training\n",
    "\n",
    "To make sure that the model is trainable."
   ],
   "id": "4ed1e90a8c98f4bb"
  },
  {
   "metadata": {},
   "cell_type": "code",
   "outputs": [],
   "execution_count": null,
   "source": "# training_set = model(1000) ",
   "id": "132c6eefe02dfc26"
  },
  {
   "metadata": {},
   "cell_type": "code",
   "outputs": [],
   "execution_count": null,
   "source": "# losses = trainer.train_offline(training_set, epochs=100, batch_size=100, validation_sims=model(200))",
   "id": "7b15c82eacfe30ea"
  }
 ],
 "metadata": {
  "kernelspec": {
   "display_name": "tflow",
   "language": "python",
   "name": "env"
  },
  "language_info": {
   "codemirror_mode": {
    "name": "ipython",
    "version": 3
   },
   "file_extension": ".py",
   "mimetype": "text/x-python",
   "name": "python",
   "nbconvert_exporter": "python",
   "pygments_lexer": "ipython3",
   "version": "3.10.11"
  }
 },
 "nbformat": 4,
 "nbformat_minor": 5
}
