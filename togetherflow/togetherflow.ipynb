{
 "cells": [
  {
   "cell_type": "markdown",
   "id": "cbc0affd9dd09133",
   "metadata": {},
   "source": [
    "# Togetherflow\n",
    "**Emergent agent motion dynamics in immersive rooms**\n",
    "\n",
    "In this notebook, we implement Togetherflow, a computational cognitive model that characterizes the motion pattern of human agents in immersive rooms."
   ]
  },
  {
   "cell_type": "code",
   "id": "33adef3436b0c4",
   "metadata": {
    "ExecuteTime": {
     "end_time": "2025-01-14T14:19:10.303395Z",
     "start_time": "2025-01-14T14:19:10.081926Z"
    }
   },
   "source": [
    "%load_ext autoreload\n",
    "%autoreload 2"
   ],
   "outputs": [
    {
     "name": "stdout",
     "output_type": "stream",
     "text": [
      "The autoreload extension is already loaded. To reload it, use:\n",
      "  %reload_ext autoreload\n"
     ]
    }
   ],
   "execution_count": 20
  },
  {
   "cell_type": "code",
   "id": "58a234e561141dcf",
   "metadata": {
    "ExecuteTime": {
     "end_time": "2025-01-14T14:19:10.554800Z",
     "start_time": "2025-01-14T14:19:10.352925Z"
    }
   },
   "source": [
    "%matplotlib inline"
   ],
   "outputs": [],
   "execution_count": 21
  },
  {
   "cell_type": "code",
   "id": "initial_id",
   "metadata": {
    "ExecuteTime": {
     "end_time": "2025-01-14T14:19:10.852449Z",
     "start_time": "2025-01-14T14:19:10.642704Z"
    }
   },
   "source": [
    "import numpy as np\n",
    "import matplotlib.pyplot as plt\n",
    "# from functools import partial\n",
    "\n",
    "np.set_printoptions(suppress=True)"
   ],
   "outputs": [],
   "execution_count": 22
  },
  {
   "cell_type": "code",
   "id": "55f319eee80ddfd8",
   "metadata": {
    "ExecuteTime": {
     "end_time": "2025-01-14T14:19:11.681274Z",
     "start_time": "2025-01-14T14:19:11.479009Z"
    }
   },
   "source": [
    "import tensorflow as tf\n",
    "import bayesflow as bf\n",
    "from bayesflow.simulation import Prior, Simulator, GenerativeModel"
   ],
   "outputs": [],
   "execution_count": 23
  },
  {
   "cell_type": "code",
   "id": "ec74dc4a9d760f13",
   "metadata": {
    "ExecuteTime": {
     "end_time": "2025-01-14T14:32:25.591312Z",
     "start_time": "2025-01-14T14:32:25.389250Z"
    }
   },
   "source": [
    "from initializations import (\n",
    "    initialize_agents, \n",
    "    initialize_beacons\n",
    ")\n",
    "from influences import (\n",
    "    position_influence,\n",
    "    rotation_influence,\n",
    "    alignment_influence,\n",
    "    cohesion_influence\n",
    ")\n",
    "from simulations import (\n",
    "    look_at_beacon,\n",
    "    move_to_beacon\n",
    ")\n",
    "from diagnostics import plot_rotation_influence"
   ],
   "outputs": [],
   "execution_count": 45
  },
  {
   "cell_type": "markdown",
   "id": "14ebdadb56ec740d",
   "metadata": {},
   "source": [
    "## Initializations"
   ]
  },
  {
   "cell_type": "code",
   "id": "7325df4491f6e16d",
   "metadata": {
    "ExecuteTime": {
     "end_time": "2025-01-14T14:19:13.425657Z",
     "start_time": "2025-01-14T14:19:13.228054Z"
    }
   },
   "source": [
    "agent_positions, agent_rotations = initialize_agents()\n",
    "beacon_positions = initialize_beacons()"
   ],
   "outputs": [],
   "execution_count": 25
  },
  {
   "cell_type": "markdown",
   "id": "a53b6f4c573a3d0a",
   "metadata": {},
   "source": [
    "## Influences"
   ]
  },
  {
   "metadata": {},
   "cell_type": "markdown",
   "source": "### 1. Positional influence (individual)",
   "id": "29243877f478e456"
  },
  {
   "metadata": {
    "ExecuteTime": {
     "end_time": "2025-01-14T14:19:15.274013Z",
     "start_time": "2025-01-14T14:19:15.066358Z"
    }
   },
   "cell_type": "code",
   "source": [
    "a = agent_positions[0]\n",
    "a"
   ],
   "id": "6d7b4635fef44fdf",
   "outputs": [
    {
     "data": {
      "text/plain": [
       "array([-3.5330856 ,  0.52699804], dtype=float32)"
      ]
     },
     "execution_count": 26,
     "metadata": {},
     "output_type": "execute_result"
    }
   ],
   "execution_count": 26
  },
  {
   "metadata": {
    "ExecuteTime": {
     "end_time": "2025-01-14T14:19:16.010938Z",
     "start_time": "2025-01-14T14:19:15.802326Z"
    }
   },
   "cell_type": "code",
   "source": [
    "b = beacon_positions[1]\n",
    "b"
   ],
   "id": "dff6b8cee2c70ed6",
   "outputs": [
    {
     "data": {
      "text/plain": [
       "array([3.7892935, 4.5694785], dtype=float32)"
      ]
     },
     "execution_count": 27,
     "metadata": {},
     "output_type": "execute_result"
    }
   ],
   "execution_count": 27
  },
  {
   "metadata": {
    "ExecuteTime": {
     "end_time": "2025-01-14T14:19:17.607425Z",
     "start_time": "2025-01-14T14:19:17.183297Z"
    }
   },
   "cell_type": "code",
   "source": [
    "d = position_influence(agent_positions[0], beacon_positions[1])\n",
    "d"
   ],
   "id": "d5632c85a3c4dd9e",
   "outputs": [
    {
     "data": {
      "text/plain": [
       "array([0.8744937 , 0.48503688], dtype=float32)"
      ]
     },
     "execution_count": 28,
     "metadata": {},
     "output_type": "execute_result"
    }
   ],
   "execution_count": 28
  },
  {
   "metadata": {
    "ExecuteTime": {
     "end_time": "2025-01-14T14:32:34.876627Z",
     "start_time": "2025-01-14T14:32:34.358571Z"
    }
   },
   "cell_type": "code",
   "source": [
    "positions = move_to_beacon(agent_positions[0], beacon_positions[1])\n",
    "positions"
   ],
   "id": "507aed8125f12992",
   "outputs": [
    {
     "data": {
      "text/plain": [
       "array([[-3.5330856 ,  0.52699804],\n",
       "       [-3.489405  ,  0.55132914],\n",
       "       [-3.4456723 ,  0.5755665 ],\n",
       "       ...,\n",
       "       [ 3.775882  ,  4.5642705 ],\n",
       "       [ 3.822511  ,  4.582319  ],\n",
       "       [ 3.775962  ,  4.564065  ]], dtype=float32)"
      ]
     },
     "execution_count": 46,
     "metadata": {},
     "output_type": "execute_result"
    }
   ],
   "execution_count": 46
  },
  {
   "metadata": {},
   "cell_type": "markdown",
   "source": "### 2. Rotational influence (individual)",
   "id": "3a0113a60ba1e6bf"
  },
  {
   "metadata": {
    "ExecuteTime": {
     "end_time": "2025-01-14T16:58:55.341977Z",
     "start_time": "2025-01-14T16:58:54.541942Z"
    }
   },
   "cell_type": "code",
   "source": [
    "direction = rotation_influence(\n",
    "    agent_positions[0], agent_rotations[0], beacon_positions[1],\n",
    ")\n",
    "direction"
   ],
   "id": "e16bdf0899882efc",
   "outputs": [
    {
     "data": {
      "text/plain": [
       "1.3914412260055542"
      ]
     },
     "execution_count": 49,
     "metadata": {},
     "output_type": "execute_result"
    }
   ],
   "execution_count": 49
  },
  {
   "cell_type": "code",
   "id": "37c9fdd2e1428a66",
   "metadata": {
    "ExecuteTime": {
     "end_time": "2025-01-14T16:59:06.596447Z",
     "start_time": "2025-01-14T16:59:06.292359Z"
    }
   },
   "source": [
    "num_agents = len(agent_positions)\n",
    "e = np.empty((num_agents, 2))\n",
    "for i in range(num_agents):\n",
    "    influence = rotation_influence(\n",
    "        agent_positions[i], agent_rotations[i], \n",
    "        beacon_positions[0]\n",
    "    )\n",
    "    e[i, 0] = np.cos(influence)\n",
    "    e[i, 1] = np.sin(influence)\n",
    "\n",
    "e"
   ],
   "outputs": [
    {
     "data": {
      "text/plain": [
       "array([[ 0.4969887 , -0.86775701],\n",
       "       [ 0.92379263,  0.38289316],\n",
       "       [-0.62760785, -0.77852963],\n",
       "       [-0.70075539, -0.71340163],\n",
       "       [ 0.11962873,  0.9928187 ],\n",
       "       [-0.99948238,  0.03217109],\n",
       "       [-0.63345323,  0.77378098],\n",
       "       [ 0.72803942, -0.68553527],\n",
       "       [-0.74905375,  0.66250923],\n",
       "       [-0.07583761,  0.99712018],\n",
       "       [ 0.46086734, -0.88746904],\n",
       "       [ 0.20529991,  0.97869911]])"
      ]
     },
     "execution_count": 50,
     "metadata": {},
     "output_type": "execute_result"
    }
   ],
   "execution_count": 50
  },
  {
   "cell_type": "code",
   "id": "53d9e8f040fcda34",
   "metadata": {
    "ExecuteTime": {
     "end_time": "2025-01-14T17:01:14.280767Z",
     "start_time": "2025-01-14T17:01:13.814431Z"
    }
   },
   "source": [
    "rotations = look_at_beacon(\n",
    "    agent_rotation=agent_rotations[0],\n",
    "    beacon_influence=beacon_positions[1],\n",
    "    drift_rate=np.pi * 0.1,\n",
    "    noise=0.05,\n",
    "    timesteps=1000\n",
    ")\n",
    "\n",
    "f, ax = plt.subplots(1, 1, figsize=(16, 4))\n",
    "ax = plt.plot(np.linspace(0, 1, 101), rotations)"
   ],
   "outputs": [
    {
     "ename": "TypeError",
     "evalue": "some keyword arguments unexpected",
     "output_type": "error",
     "traceback": [
      "\u001B[1;31m---------------------------------------------------------------------------\u001B[0m",
      "\u001B[1;31mTypeError\u001B[0m                                 Traceback (most recent call last)",
      "Cell \u001B[1;32mIn[53], line 1\u001B[0m\n\u001B[1;32m----> 1\u001B[0m rotations \u001B[38;5;241m=\u001B[39m \u001B[43mlook_at_beacon\u001B[49m\u001B[43m(\u001B[49m\n\u001B[0;32m      2\u001B[0m \u001B[43m    \u001B[49m\u001B[43magent_rotation\u001B[49m\u001B[38;5;241;43m=\u001B[39;49m\u001B[43magent_rotations\u001B[49m\u001B[43m[\u001B[49m\u001B[38;5;241;43m0\u001B[39;49m\u001B[43m]\u001B[49m\u001B[43m,\u001B[49m\n\u001B[0;32m      3\u001B[0m \u001B[43m    \u001B[49m\u001B[43mbeacon_influence\u001B[49m\u001B[38;5;241;43m=\u001B[39;49m\u001B[43mbeacon_positions\u001B[49m\u001B[43m[\u001B[49m\u001B[38;5;241;43m1\u001B[39;49m\u001B[43m]\u001B[49m\u001B[43m,\u001B[49m\n\u001B[0;32m      4\u001B[0m \u001B[43m    \u001B[49m\u001B[43mdrift_rate\u001B[49m\u001B[38;5;241;43m=\u001B[39;49m\u001B[43mnp\u001B[49m\u001B[38;5;241;43m.\u001B[39;49m\u001B[43mpi\u001B[49m\u001B[43m \u001B[49m\u001B[38;5;241;43m*\u001B[39;49m\u001B[43m \u001B[49m\u001B[38;5;241;43m0.1\u001B[39;49m\u001B[43m,\u001B[49m\n\u001B[0;32m      5\u001B[0m \u001B[43m    \u001B[49m\u001B[43mnoise\u001B[49m\u001B[38;5;241;43m=\u001B[39;49m\u001B[38;5;241;43m0.05\u001B[39;49m\u001B[43m,\u001B[49m\n\u001B[0;32m      6\u001B[0m \u001B[43m    \u001B[49m\u001B[43mtimesteps\u001B[49m\u001B[38;5;241;43m=\u001B[39;49m\u001B[38;5;241;43m1000\u001B[39;49m\n\u001B[0;32m      7\u001B[0m \u001B[43m)\u001B[49m\n\u001B[0;32m      9\u001B[0m f, ax \u001B[38;5;241m=\u001B[39m plt\u001B[38;5;241m.\u001B[39msubplots(\u001B[38;5;241m1\u001B[39m, \u001B[38;5;241m1\u001B[39m, figsize\u001B[38;5;241m=\u001B[39m(\u001B[38;5;241m16\u001B[39m, \u001B[38;5;241m4\u001B[39m))\n\u001B[0;32m     10\u001B[0m ax \u001B[38;5;241m=\u001B[39m plt\u001B[38;5;241m.\u001B[39mplot(np\u001B[38;5;241m.\u001B[39mlinspace(\u001B[38;5;241m0\u001B[39m, \u001B[38;5;241m1\u001B[39m, \u001B[38;5;241m101\u001B[39m), rotations)\n",
      "\u001B[1;31mTypeError\u001B[0m: some keyword arguments unexpected"
     ]
    }
   ],
   "execution_count": 53
  },
  {
   "metadata": {
    "ExecuteTime": {
     "end_time": "2024-12-18T14:56:44.589509Z",
     "start_time": "2024-12-18T14:56:44.376204Z"
    }
   },
   "cell_type": "code",
   "source": [
    "type(agent_positions[0, 0])\n",
    "type(beacon_positions[0, 0])"
   ],
   "id": "e8db1427454532f1",
   "outputs": [
    {
     "data": {
      "text/plain": [
       "numpy.float32"
      ]
     },
     "execution_count": 55,
     "metadata": {},
     "output_type": "execute_result"
    }
   ],
   "execution_count": 55
  },
  {
   "metadata": {
    "ExecuteTime": {
     "end_time": "2024-12-18T14:59:57.642434Z",
     "start_time": "2024-12-18T14:59:57.371835Z"
    }
   },
   "cell_type": "code",
   "source": [
    "positions = move_to_beacon(\n",
    "    agent_position=agent_positions[0],\n",
    "    beacon_position=beacon_positions[0]\n",
    ")"
   ],
   "id": "7669049b1f183871",
   "outputs": [
    {
     "ename": "TypingError",
     "evalue": "Failed in nopython mode pipeline (step: nopython frontend)\n\u001B[1m\u001B[1mCannot unify array(float32, 2d, C) and array(float64, 1d, C) for 'positions.2', defined at C:\\Users\\Gerald Wong\\Documents\\Native\\Permanent\\TogetherFlow\\notebooks\\togetherflow\\simulations.py (173)\n\u001B[1m\nFile \"simulations.py\", line 173:\u001B[0m\n\u001B[1mdef move_to_beacon(\n    <source elided>\n\n\u001B[1m        noise = noise_amplitude * (np.random.random(size=2) - 0.5)\n\u001B[0m        \u001B[1m^\u001B[0m\u001B[0m\n\u001B[0m\n\u001B[0m\u001B[1mDuring: typing of assignment at C:\\Users\\Gerald Wong\\Documents\\Native\\Permanent\\TogetherFlow\\notebooks\\togetherflow\\simulations.py (173)\u001B[0m\n\u001B[1m\nFile \"simulations.py\", line 173:\u001B[0m\n\u001B[1mdef move_to_beacon(\n    <source elided>\n\n\u001B[1m        noise = noise_amplitude * (np.random.random(size=2) - 0.5)\n\u001B[0m        \u001B[1m^\u001B[0m\u001B[0m\n",
     "output_type": "error",
     "traceback": [
      "\u001B[1;31m---------------------------------------------------------------------------\u001B[0m",
      "\u001B[1;31mTypingError\u001B[0m                               Traceback (most recent call last)",
      "Cell \u001B[1;32mIn[65], line 1\u001B[0m\n\u001B[1;32m----> 1\u001B[0m positions \u001B[38;5;241m=\u001B[39m \u001B[43mmove_to_beacon\u001B[49m\u001B[43m(\u001B[49m\n\u001B[0;32m      2\u001B[0m \u001B[43m    \u001B[49m\u001B[43magent_position\u001B[49m\u001B[38;5;241;43m=\u001B[39;49m\u001B[43magent_positions\u001B[49m\u001B[43m[\u001B[49m\u001B[38;5;241;43m0\u001B[39;49m\u001B[43m]\u001B[49m\u001B[43m,\u001B[49m\n\u001B[0;32m      3\u001B[0m \u001B[43m    \u001B[49m\u001B[43mbeacon_position\u001B[49m\u001B[38;5;241;43m=\u001B[39;49m\u001B[43mbeacon_positions\u001B[49m\u001B[43m[\u001B[49m\u001B[38;5;241;43m0\u001B[39;49m\u001B[43m]\u001B[49m\n\u001B[0;32m      4\u001B[0m \u001B[43m)\u001B[49m\n",
      "File \u001B[1;32m~\\Documents\\Native\\Permanent\\TogetherFlow\\env\\lib\\site-packages\\numba\\core\\dispatcher.py:423\u001B[0m, in \u001B[0;36m_DispatcherBase._compile_for_args\u001B[1;34m(self, *args, **kws)\u001B[0m\n\u001B[0;32m    419\u001B[0m         msg \u001B[38;5;241m=\u001B[39m (\u001B[38;5;124mf\u001B[39m\u001B[38;5;124m\"\u001B[39m\u001B[38;5;132;01m{\u001B[39;00m\u001B[38;5;28mstr\u001B[39m(e)\u001B[38;5;241m.\u001B[39mrstrip()\u001B[38;5;132;01m}\u001B[39;00m\u001B[38;5;124m \u001B[39m\u001B[38;5;130;01m\\n\u001B[39;00m\u001B[38;5;130;01m\\n\u001B[39;00m\u001B[38;5;124mThis error may have been caused \u001B[39m\u001B[38;5;124m\"\u001B[39m\n\u001B[0;32m    420\u001B[0m                \u001B[38;5;124mf\u001B[39m\u001B[38;5;124m\"\u001B[39m\u001B[38;5;124mby the following argument(s):\u001B[39m\u001B[38;5;130;01m\\n\u001B[39;00m\u001B[38;5;132;01m{\u001B[39;00margs_str\u001B[38;5;132;01m}\u001B[39;00m\u001B[38;5;130;01m\\n\u001B[39;00m\u001B[38;5;124m\"\u001B[39m)\n\u001B[0;32m    421\u001B[0m         e\u001B[38;5;241m.\u001B[39mpatch_message(msg)\n\u001B[1;32m--> 423\u001B[0m     \u001B[43merror_rewrite\u001B[49m\u001B[43m(\u001B[49m\u001B[43me\u001B[49m\u001B[43m,\u001B[49m\u001B[43m \u001B[49m\u001B[38;5;124;43m'\u001B[39;49m\u001B[38;5;124;43mtyping\u001B[39;49m\u001B[38;5;124;43m'\u001B[39;49m\u001B[43m)\u001B[49m\n\u001B[0;32m    424\u001B[0m \u001B[38;5;28;01mexcept\u001B[39;00m errors\u001B[38;5;241m.\u001B[39mUnsupportedError \u001B[38;5;28;01mas\u001B[39;00m e:\n\u001B[0;32m    425\u001B[0m     \u001B[38;5;66;03m# Something unsupported is present in the user code, add help info\u001B[39;00m\n\u001B[0;32m    426\u001B[0m     error_rewrite(e, \u001B[38;5;124m'\u001B[39m\u001B[38;5;124munsupported_error\u001B[39m\u001B[38;5;124m'\u001B[39m)\n",
      "File \u001B[1;32m~\\Documents\\Native\\Permanent\\TogetherFlow\\env\\lib\\site-packages\\numba\\core\\dispatcher.py:364\u001B[0m, in \u001B[0;36m_DispatcherBase._compile_for_args.<locals>.error_rewrite\u001B[1;34m(e, issue_type)\u001B[0m\n\u001B[0;32m    362\u001B[0m     \u001B[38;5;28;01mraise\u001B[39;00m e\n\u001B[0;32m    363\u001B[0m \u001B[38;5;28;01melse\u001B[39;00m:\n\u001B[1;32m--> 364\u001B[0m     \u001B[38;5;28;01mraise\u001B[39;00m e\u001B[38;5;241m.\u001B[39mwith_traceback(\u001B[38;5;28;01mNone\u001B[39;00m)\n",
      "\u001B[1;31mTypingError\u001B[0m: Failed in nopython mode pipeline (step: nopython frontend)\n\u001B[1m\u001B[1mCannot unify array(float32, 2d, C) and array(float64, 1d, C) for 'positions.2', defined at C:\\Users\\Gerald Wong\\Documents\\Native\\Permanent\\TogetherFlow\\notebooks\\togetherflow\\simulations.py (173)\n\u001B[1m\nFile \"simulations.py\", line 173:\u001B[0m\n\u001B[1mdef move_to_beacon(\n    <source elided>\n\n\u001B[1m        noise = noise_amplitude * (np.random.random(size=2) - 0.5)\n\u001B[0m        \u001B[1m^\u001B[0m\u001B[0m\n\u001B[0m\n\u001B[0m\u001B[1mDuring: typing of assignment at C:\\Users\\Gerald Wong\\Documents\\Native\\Permanent\\TogetherFlow\\notebooks\\togetherflow\\simulations.py (173)\u001B[0m\n\u001B[1m\nFile \"simulations.py\", line 173:\u001B[0m\n\u001B[1mdef move_to_beacon(\n    <source elided>\n\n\u001B[1m        noise = noise_amplitude * (np.random.random(size=2) - 0.5)\n\u001B[0m        \u001B[1m^\u001B[0m\u001B[0m\n"
     ]
    }
   ],
   "execution_count": 65
  },
  {
   "metadata": {},
   "cell_type": "code",
   "outputs": [],
   "execution_count": null,
   "source": "",
   "id": "6f241cfc877cb88a"
  }
 ],
 "metadata": {
  "kernelspec": {
   "display_name": "tflow",
   "language": "python",
   "name": "env"
  },
  "language_info": {
   "codemirror_mode": {
    "name": "ipython",
    "version": 3
   },
   "file_extension": ".py",
   "mimetype": "text/x-python",
   "name": "python",
   "nbconvert_exporter": "python",
   "pygments_lexer": "ipython3",
   "version": "3.10.11"
  }
 },
 "nbformat": 4,
 "nbformat_minor": 5
}
