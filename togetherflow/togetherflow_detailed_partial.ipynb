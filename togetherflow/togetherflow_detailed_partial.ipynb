{
 "cells": [
  {
   "cell_type": "code",
   "id": "initial_id",
   "metadata": {
    "collapsed": true,
    "ExecuteTime": {
     "end_time": "2025-01-31T04:47:53.329272Z",
     "start_time": "2025-01-31T04:47:53.206611Z"
    }
   },
   "source": [
    "%load_ext autoreload\n",
    "%autoreload 2\n",
    "\n",
    "%matplotlib inline"
   ],
   "outputs": [],
   "execution_count": 1
  },
  {
   "metadata": {
    "ExecuteTime": {
     "end_time": "2025-01-31T04:50:31.268049Z",
     "start_time": "2025-01-31T04:50:31.014516Z"
    }
   },
   "cell_type": "code",
   "source": [
    "import numpy as np\n",
    "import seaborn as sns\n",
    "import matplotlib.pyplot as plt\n",
    "\n",
    "from functools import partial"
   ],
   "id": "32bc6bde18788cac",
   "outputs": [],
   "execution_count": 4
  },
  {
   "metadata": {
    "ExecuteTime": {
     "end_time": "2025-01-31T04:50:40.068524Z",
     "start_time": "2025-01-31T04:50:39.847879Z"
    }
   },
   "cell_type": "code",
   "source": [
    "import tensorflow as tf\n",
    "import bayesflow as bf\n",
    "\n",
    "from bayesflow.simulation import TwoLevelPrior, Simulator, TwoLevelGenerativeModel"
   ],
   "id": "8e23a3cdf493a76",
   "outputs": [],
   "execution_count": 5
  },
  {
   "metadata": {
    "ExecuteTime": {
     "end_time": "2025-01-31T04:52:06.472191Z",
     "start_time": "2025-01-31T04:52:06.002421Z"
    }
   },
   "cell_type": "code",
   "source": [
    "from simulations import motion_simulation\n",
    "\n",
    "from priors import partial_pooling_prior"
   ],
   "id": "4411181de397ec06",
   "outputs": [],
   "execution_count": 6
  },
  {
   "metadata": {},
   "cell_type": "code",
   "outputs": [],
   "execution_count": null,
   "source": "",
   "id": "8fc2290cac5b8434"
  }
 ],
 "metadata": {
  "kernelspec": {
   "display_name": "Python 3",
   "language": "python",
   "name": "python3"
  },
  "language_info": {
   "codemirror_mode": {
    "name": "ipython",
    "version": 2
   },
   "file_extension": ".py",
   "mimetype": "text/x-python",
   "name": "python",
   "nbconvert_exporter": "python",
   "pygments_lexer": "ipython2",
   "version": "2.7.6"
  }
 },
 "nbformat": 4,
 "nbformat_minor": 5
}
