{
 "cells": [
  {
   "cell_type": "code",
   "id": "initial_id",
   "metadata": {
    "collapsed": true,
    "ExecuteTime": {
     "end_time": "2025-02-02T21:39:24.831079Z",
     "start_time": "2025-02-02T21:39:24.711498Z"
    }
   },
   "source": [
    "%load_ext autoreload\n",
    "%autoreload 2\n",
    "\n",
    "%matplotlib inline"
   ],
   "outputs": [],
   "execution_count": 1
  },
  {
   "metadata": {
    "ExecuteTime": {
     "end_time": "2025-02-02T21:39:27.946700Z",
     "start_time": "2025-02-02T21:39:27.874062Z"
    }
   },
   "cell_type": "code",
   "source": [
    "import numpy as np\n",
    "import seaborn as sns\n",
    "import matplotlib.pyplot as plt\n",
    "\n",
    "from functools import partial"
   ],
   "id": "32bc6bde18788cac",
   "outputs": [],
   "execution_count": 2
  },
  {
   "metadata": {
    "ExecuteTime": {
     "end_time": "2025-02-02T21:39:40.675526Z",
     "start_time": "2025-02-02T21:39:40.469052Z"
    }
   },
   "cell_type": "code",
   "source": [
    "import tensorflow as tf\n",
    "import bayesflow as bf\n",
    "\n",
    "from bayesflow.simulation import TwoLevelPrior, Simulator, TwoLevelGenerativeModel"
   ],
   "id": "8e23a3cdf493a76",
   "outputs": [],
   "execution_count": 4
  },
  {
   "metadata": {
    "ExecuteTime": {
     "end_time": "2025-02-02T21:43:43.984795Z",
     "start_time": "2025-02-02T21:43:43.782695Z"
    }
   },
   "cell_type": "code",
   "source": [
    "from simulations import motion_simulation\n",
    "\n",
    "from priors import hyperprior, partial_pooling_prior"
   ],
   "id": "4411181de397ec06",
   "outputs": [],
   "execution_count": 16
  },
  {
   "metadata": {},
   "cell_type": "markdown",
   "source": "### Priors",
   "id": "8b9d16c091f092d8"
  },
  {
   "metadata": {
    "ExecuteTime": {
     "end_time": "2025-02-02T21:43:45.505739Z",
     "start_time": "2025-02-02T21:43:44.735008Z"
    }
   },
   "cell_type": "code",
   "source": [
    "hp = hyperprior()\n",
    "\n",
    "cp = partial_pooling_prior(hp)\n",
    "print(cp)"
   ],
   "id": "5bafa15436ef7f64",
   "outputs": [
    {
     "name": "stdout",
     "output_type": "stream",
     "text": [
      "[[0.26672792]\n",
      " [0.4212296 ]\n",
      " [0.08860958]\n",
      " [0.43914992]\n",
      " [0.03875182]\n",
      " [0.87109095]\n",
      " [0.28194758]\n",
      " [0.2678501 ]\n",
      " [0.21025921]\n",
      " [0.8769641 ]\n",
      " [0.26688305]\n",
      " [0.23276968]\n",
      " [2.4888427 ]\n",
      " [0.7952821 ]]\n"
     ]
    }
   ],
   "execution_count": 17
  },
  {
   "metadata": {
    "ExecuteTime": {
     "end_time": "2025-02-02T21:43:46.992087Z",
     "start_time": "2025-02-02T21:43:46.767512Z"
    }
   },
   "cell_type": "code",
   "source": [
    "prior = TwoLevelPrior(\n",
    "    hyper_prior_fun=hyperprior, local_prior_fun=partial_pooling_prior\n",
    ")\n",
    "\n",
    "prior(batch_size=2)"
   ],
   "id": "f65f7d6da93a510b",
   "outputs": [
    {
     "data": {
      "text/plain": [
       "{'hyper_parameters': array([[1.4357991, 2.0523562],\n",
       "        [3.4396904, 4.555244 ]], dtype=float32),\n",
       " 'local_parameters': array([[[0.09520295],\n",
       "         [0.40848586],\n",
       "         [0.5258297 ],\n",
       "         [0.07763314],\n",
       "         [0.15850537],\n",
       "         [0.08740133],\n",
       "         [0.5265664 ],\n",
       "         [0.3157772 ],\n",
       "         [0.3719211 ],\n",
       "         [0.14310126],\n",
       "         [0.54610896],\n",
       "         [0.06187329],\n",
       "         [0.47477   ],\n",
       "         [0.5296258 ]],\n",
       " \n",
       "        [[0.1998386 ],\n",
       "         [0.12895277],\n",
       "         [0.5405927 ],\n",
       "         [0.5563774 ],\n",
       "         [0.13475129],\n",
       "         [0.66413087],\n",
       "         [0.62042266],\n",
       "         [0.30435526],\n",
       "         [0.32309386],\n",
       "         [0.63569283],\n",
       "         [0.42795968],\n",
       "         [0.214888  ],\n",
       "         [0.53156996],\n",
       "         [0.56481755]]], dtype=float32),\n",
       " 'batchable_context': None,\n",
       " 'non_batchable_context': None}"
      ]
     },
     "execution_count": 18,
     "metadata": {},
     "output_type": "execute_result"
    }
   ],
   "execution_count": 18
  },
  {
   "metadata": {
    "ExecuteTime": {
     "end_time": "2025-02-02T21:40:35.255599Z",
     "start_time": "2025-02-02T21:40:35.055938Z"
    }
   },
   "cell_type": "code",
   "source": "",
   "id": "8fc2290cac5b8434",
   "outputs": [
    {
     "data": {
      "text/plain": [
       "(2, 14, 1)"
      ]
     },
     "execution_count": 10,
     "metadata": {},
     "output_type": "execute_result"
    }
   ],
   "execution_count": 10
  },
  {
   "metadata": {},
   "cell_type": "code",
   "outputs": [],
   "execution_count": null,
   "source": "",
   "id": "9751ce312ccbd418"
  }
 ],
 "metadata": {
  "kernelspec": {
   "display_name": "Python 3",
   "language": "python",
   "name": "python3"
  },
  "language_info": {
   "codemirror_mode": {
    "name": "ipython",
    "version": 2
   },
   "file_extension": ".py",
   "mimetype": "text/x-python",
   "name": "python",
   "nbconvert_exporter": "python",
   "pygments_lexer": "ipython2",
   "version": "2.7.6"
  }
 },
 "nbformat": 4,
 "nbformat_minor": 5
}
