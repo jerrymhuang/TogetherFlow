{
 "cells": [
  {
   "cell_type": "code",
   "id": "initial_id",
   "metadata": {
    "collapsed": true,
    "ExecuteTime": {
     "end_time": "2025-02-02T21:39:24.831079Z",
     "start_time": "2025-02-02T21:39:24.711498Z"
    }
   },
   "source": [
    "%load_ext autoreload\n",
    "%autoreload 2\n",
    "\n",
    "%matplotlib inline"
   ],
   "outputs": [],
   "execution_count": 1
  },
  {
   "metadata": {
    "ExecuteTime": {
     "end_time": "2025-02-02T21:39:27.946700Z",
     "start_time": "2025-02-02T21:39:27.874062Z"
    }
   },
   "cell_type": "code",
   "source": [
    "import numpy as np\n",
    "import seaborn as sns\n",
    "import matplotlib.pyplot as plt\n",
    "\n",
    "from functools import partial"
   ],
   "id": "32bc6bde18788cac",
   "outputs": [],
   "execution_count": 2
  },
  {
   "metadata": {
    "ExecuteTime": {
     "end_time": "2025-02-02T21:39:40.675526Z",
     "start_time": "2025-02-02T21:39:40.469052Z"
    }
   },
   "cell_type": "code",
   "source": [
    "import tensorflow as tf\n",
    "import bayesflow as bf\n",
    "\n",
    "from bayesflow.simulation import TwoLevelPrior, Simulator, TwoLevelGenerativeModel"
   ],
   "id": "8e23a3cdf493a76",
   "outputs": [],
   "execution_count": 4
  },
  {
   "metadata": {
    "ExecuteTime": {
     "end_time": "2025-02-02T21:43:43.984795Z",
     "start_time": "2025-02-02T21:43:43.782695Z"
    }
   },
   "cell_type": "code",
   "source": [
    "from simulations import motion_simulation\n",
    "\n",
    "from priors import hyperprior, partial_pooling_prior"
   ],
   "id": "4411181de397ec06",
   "outputs": [],
   "execution_count": 16
  },
  {
   "metadata": {},
   "cell_type": "markdown",
   "source": "### Priors",
   "id": "8b9d16c091f092d8"
  },
  {
   "metadata": {
    "ExecuteTime": {
     "end_time": "2025-02-02T21:43:45.505739Z",
     "start_time": "2025-02-02T21:43:44.735008Z"
    }
   },
   "cell_type": "code",
   "source": [
    "hp = hyperprior()\n",
    "\n",
    "cp = partial_pooling_prior(hp)\n",
    "print(cp)"
   ],
   "id": "5bafa15436ef7f64",
   "outputs": [
    {
     "name": "stdout",
     "output_type": "stream",
     "text": [
      "[[0.26672792]\n",
      " [0.4212296 ]\n",
      " [0.08860958]\n",
      " [0.43914992]\n",
      " [0.03875182]\n",
      " [0.87109095]\n",
      " [0.28194758]\n",
      " [0.2678501 ]\n",
      " [0.21025921]\n",
      " [0.8769641 ]\n",
      " [0.26688305]\n",
      " [0.23276968]\n",
      " [2.4888427 ]\n",
      " [0.7952821 ]]\n"
     ]
    }
   ],
   "execution_count": 17
  },
  {
   "metadata": {
    "ExecuteTime": {
     "end_time": "2025-02-03T20:37:49.339796Z",
     "start_time": "2025-02-03T20:37:49.129916Z"
    }
   },
   "cell_type": "code",
   "source": [
    "cp = np.broadcast_to(cp, shape=(14, 1000))\n",
    "cp"
   ],
   "id": "400bd0124af219f2",
   "outputs": [
    {
     "data": {
      "text/plain": [
       "array([[0.26672792, 0.26672792, 0.26672792, ..., 0.26672792, 0.26672792,\n",
       "        0.26672792],\n",
       "       [0.4212296 , 0.4212296 , 0.4212296 , ..., 0.4212296 , 0.4212296 ,\n",
       "        0.4212296 ],\n",
       "       [0.08860958, 0.08860958, 0.08860958, ..., 0.08860958, 0.08860958,\n",
       "        0.08860958],\n",
       "       ...,\n",
       "       [0.23276968, 0.23276968, 0.23276968, ..., 0.23276968, 0.23276968,\n",
       "        0.23276968],\n",
       "       [2.4888427 , 2.4888427 , 2.4888427 , ..., 2.4888427 , 2.4888427 ,\n",
       "        2.4888427 ],\n",
       "       [0.7952821 , 0.7952821 , 0.7952821 , ..., 0.7952821 , 0.7952821 ,\n",
       "        0.7952821 ]], dtype=float32)"
      ]
     },
     "execution_count": 31,
     "metadata": {},
     "output_type": "execute_result"
    }
   ],
   "execution_count": 31
  },
  {
   "metadata": {
    "ExecuteTime": {
     "end_time": "2025-02-02T22:52:03.462823Z",
     "start_time": "2025-02-02T22:52:02.992787Z"
    }
   },
   "cell_type": "code",
   "source": [
    "prior = TwoLevelPrior(\n",
    "    hyper_prior_fun=hyperprior, local_prior_fun=partial_pooling_prior\n",
    ")\n",
    "\n",
    "prior_sim = prior(batch_size=2)"
   ],
   "id": "f65f7d6da93a510b",
   "outputs": [],
   "execution_count": 19
  },
  {
   "metadata": {
    "ExecuteTime": {
     "end_time": "2025-02-02T22:53:56.999917Z",
     "start_time": "2025-02-02T22:53:56.778216Z"
    }
   },
   "cell_type": "code",
   "source": "prior_sim",
   "id": "8fc2290cac5b8434",
   "outputs": [
    {
     "data": {
      "text/plain": [
       "{'hyper_parameters': array([[2.0360334, 4.1073613],\n",
       "        [1.4970682, 1.9025397]], dtype=float32),\n",
       " 'local_parameters': array([[[0.4439463 ],\n",
       "         [0.52344114],\n",
       "         [0.39286813],\n",
       "         [0.34129867],\n",
       "         [0.16328123],\n",
       "         [0.16817789],\n",
       "         [0.31374916],\n",
       "         [0.22664496],\n",
       "         [0.14051908],\n",
       "         [0.51978993],\n",
       "         [0.45400244],\n",
       "         [0.1358099 ],\n",
       "         [2.7438633 ],\n",
       "         [0.4552013 ]],\n",
       " \n",
       "        [[0.32083222],\n",
       "         [0.42817718],\n",
       "         [0.5055262 ],\n",
       "         [0.05203931],\n",
       "         [0.57843053],\n",
       "         [0.37952772],\n",
       "         [0.6916801 ],\n",
       "         [0.43617317],\n",
       "         [0.24263586],\n",
       "         [0.88701415],\n",
       "         [0.5365249 ],\n",
       "         [0.28120878],\n",
       "         [3.2451754 ],\n",
       "         [1.5670679 ]]], dtype=float32),\n",
       " 'batchable_context': None,\n",
       " 'non_batchable_context': None}"
      ]
     },
     "execution_count": 25,
     "metadata": {},
     "output_type": "execute_result"
    }
   ],
   "execution_count": 25
  },
  {
   "metadata": {
    "ExecuteTime": {
     "end_time": "2025-02-03T15:11:38.742730Z",
     "start_time": "2025-02-03T15:11:38.391976Z"
    }
   },
   "cell_type": "code",
   "source": "params = prior_sim[\"local_parameters\"]",
   "id": "9751ce312ccbd418",
   "outputs": [],
   "execution_count": 27
  },
  {
   "metadata": {
    "ExecuteTime": {
     "end_time": "2025-02-03T20:41:51.557050Z",
     "start_time": "2025-02-03T20:41:51.330103Z"
    }
   },
   "cell_type": "code",
   "source": [
    "weight = 0.4\n",
    "weights = np.array([weight])\n",
    "weights = np.broadcast_to(weights, shape=(14, 1))\n",
    "weights"
   ],
   "id": "af7ae1ed98174bab",
   "outputs": [
    {
     "data": {
      "text/plain": [
       "array([[0.4],\n",
       "       [0.4],\n",
       "       [0.4],\n",
       "       [0.4],\n",
       "       [0.4],\n",
       "       [0.4],\n",
       "       [0.4],\n",
       "       [0.4],\n",
       "       [0.4],\n",
       "       [0.4],\n",
       "       [0.4],\n",
       "       [0.4],\n",
       "       [0.4],\n",
       "       [0.4]])"
      ]
     },
     "execution_count": 33,
     "metadata": {},
     "output_type": "execute_result"
    }
   ],
   "execution_count": 33
  },
  {
   "metadata": {},
   "cell_type": "code",
   "outputs": [],
   "execution_count": null,
   "source": "",
   "id": "d4b89f7b4869c1cb"
  }
 ],
 "metadata": {
  "kernelspec": {
   "display_name": "Python 3",
   "language": "python",
   "name": "python3"
  },
  "language_info": {
   "codemirror_mode": {
    "name": "ipython",
    "version": 2
   },
   "file_extension": ".py",
   "mimetype": "text/x-python",
   "name": "python",
   "nbconvert_exporter": "python",
   "pygments_lexer": "ipython2",
   "version": "2.7.6"
  }
 },
 "nbformat": 4,
 "nbformat_minor": 5
}
