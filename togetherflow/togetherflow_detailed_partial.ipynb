{
 "cells": [
  {
   "cell_type": "code",
   "id": "initial_id",
   "metadata": {
    "collapsed": true,
    "ExecuteTime": {
     "end_time": "2025-01-31T04:47:53.329272Z",
     "start_time": "2025-01-31T04:47:53.206611Z"
    }
   },
   "source": [
    "%load_ext autoreload\n",
    "%autoreload 2\n",
    "\n",
    "%matplotlib inline"
   ],
   "outputs": [],
   "execution_count": 1
  },
  {
   "metadata": {
    "ExecuteTime": {
     "end_time": "2025-01-31T04:50:31.268049Z",
     "start_time": "2025-01-31T04:50:31.014516Z"
    }
   },
   "cell_type": "code",
   "source": [
    "import numpy as np\n",
    "import seaborn as sns\n",
    "import matplotlib.pyplot as plt\n",
    "\n",
    "from functools import partial"
   ],
   "id": "32bc6bde18788cac",
   "outputs": [],
   "execution_count": 4
  },
  {
   "metadata": {
    "ExecuteTime": {
     "end_time": "2025-01-31T04:50:40.068524Z",
     "start_time": "2025-01-31T04:50:39.847879Z"
    }
   },
   "cell_type": "code",
   "source": [
    "import tensorflow as tf\n",
    "import bayesflow as bf\n",
    "\n",
    "from bayesflow.simulation import TwoLevelPrior, Simulator, TwoLevelGenerativeModel"
   ],
   "id": "8e23a3cdf493a76",
   "outputs": [],
   "execution_count": 5
  },
  {
   "metadata": {
    "ExecuteTime": {
     "end_time": "2025-01-31T14:43:47.217618Z",
     "start_time": "2025-01-31T14:43:46.904842Z"
    }
   },
   "cell_type": "code",
   "source": [
    "from simulations import motion_simulation\n",
    "\n",
    "from priors import hyperprior, partial_pooling_prior"
   ],
   "id": "4411181de397ec06",
   "outputs": [],
   "execution_count": 32
  },
  {
   "metadata": {},
   "cell_type": "markdown",
   "source": "### Priors",
   "id": "8b9d16c091f092d8"
  },
  {
   "metadata": {
    "ExecuteTime": {
     "end_time": "2025-01-31T15:04:58.406317Z",
     "start_time": "2025-01-31T15:04:58.080504Z"
    }
   },
   "cell_type": "code",
   "source": [
    "prior = TwoLevelPrior(\n",
    "    hyper_prior_fun=hyperprior, local_prior_fun=partial_pooling_prior\n",
    ")\n",
    "\n",
    "sim = prior(batch_size=2)"
   ],
   "id": "f65f7d6da93a510b",
   "outputs": [],
   "execution_count": 37
  },
  {
   "metadata": {
    "ExecuteTime": {
     "end_time": "2025-01-31T15:05:01.307353Z",
     "start_time": "2025-01-31T15:05:01.078793Z"
    }
   },
   "cell_type": "code",
   "source": "sim['local_parameters'].shape",
   "id": "8fc2290cac5b8434",
   "outputs": [
    {
     "data": {
      "text/plain": [
       "(2, 14, 1)"
      ]
     },
     "execution_count": 38,
     "metadata": {},
     "output_type": "execute_result"
    }
   ],
   "execution_count": 38
  },
  {
   "metadata": {},
   "cell_type": "code",
   "outputs": [],
   "execution_count": null,
   "source": "",
   "id": "9751ce312ccbd418"
  }
 ],
 "metadata": {
  "kernelspec": {
   "display_name": "Python 3",
   "language": "python",
   "name": "python3"
  },
  "language_info": {
   "codemirror_mode": {
    "name": "ipython",
    "version": 2
   },
   "file_extension": ".py",
   "mimetype": "text/x-python",
   "name": "python",
   "nbconvert_exporter": "python",
   "pygments_lexer": "ipython2",
   "version": "2.7.6"
  }
 },
 "nbformat": 4,
 "nbformat_minor": 5
}
