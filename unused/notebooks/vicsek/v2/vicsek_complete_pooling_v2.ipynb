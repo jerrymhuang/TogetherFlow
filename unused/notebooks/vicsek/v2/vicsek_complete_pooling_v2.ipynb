{
 "cells": [
  {
   "cell_type": "code",
   "id": "initial_id",
   "metadata": {
    "collapsed": true,
    "ExecuteTime": {
     "end_time": "2024-10-25T15:08:33.699259Z",
     "start_time": "2024-10-25T15:07:58.285485Z"
    }
   },
   "source": [
    "import os\n",
    "os.environ[\"KERAS_BACKEND\"] = \"tensorflow\"\n",
    "\n",
    "import numpy as np\n",
    "import pandas as pd\n",
    "import seaborn as sns\n",
    "import matplotlib.pyplot as plt\n",
    "\n",
    "import keras\n",
    "import bayesflow as bf\n",
    "\n",
    "from numba import njit"
   ],
   "outputs": [],
   "execution_count": 1
  },
  {
   "metadata": {},
   "cell_type": "markdown",
   "source": "# Settings",
   "id": "68a71139a93fd1c9"
  },
  {
   "metadata": {
    "ExecuteTime": {
     "end_time": "2024-10-25T15:29:20.104318Z",
     "start_time": "2024-10-25T15:29:20.092301Z"
    }
   },
   "cell_type": "code",
   "source": [
    "num_agents = 12\n",
    "boundary_size = 10"
   ],
   "id": "a3d9071d14b8a4e1",
   "outputs": [],
   "execution_count": 5
  },
  {
   "metadata": {},
   "cell_type": "markdown",
   "source": "# Priors",
   "id": "e16185a1d69872a0"
  },
  {
   "metadata": {
    "ExecuteTime": {
     "end_time": "2024-10-25T15:11:02.086834Z",
     "start_time": "2024-10-25T15:11:02.070676Z"
    }
   },
   "cell_type": "code",
   "source": [
    "def r_prior():\n",
    "    r = np.random.beta(a=2., b=5.)\n",
    "    return dict(r=r)\n",
    "\n",
    "def v_prior():\n",
    "    v = np.random.beta(a=2., b=2.)\n",
    "    return dict(v=v)"
   ],
   "id": "a271957310117525",
   "outputs": [],
   "execution_count": 3
  },
  {
   "metadata": {},
   "cell_type": "markdown",
   "source": "# Agent Initialization",
   "id": "701d796f3656381d"
  },
  {
   "metadata": {
    "ExecuteTime": {
     "end_time": "2024-10-25T15:36:26.407961Z",
     "start_time": "2024-10-25T15:36:26.397302Z"
    }
   },
   "cell_type": "code",
   "source": [
    "def initialize_agents(\n",
    "        num_agents=12,\n",
    "        boundary_size=10.0,\n",
    "):\n",
    "    \"\"\"\n",
    "    Initialize agent positions and directions.\n",
    "    \n",
    "    Parameters\n",
    "    ----------\n",
    "    num_agents      : int, default: 12\n",
    "        Number of agents to initialize. \n",
    "    boundary_size   : float, default: 10.0\n",
    "        Size of the boundary (in meters).\n",
    "    \n",
    "    Returns\n",
    "    -------\n",
    "    positions      : np.ndarray of shape (num_agents, 2)\n",
    "        Initial positions of the agents.\n",
    "    directions      : np.ndarray of shape (num_agents, )\n",
    "        Initial directions of the agents. \n",
    "    \"\"\"\n",
    "    positions = np.random.random(size=(num_agents, 2)).astype(np.float32) * boundary_size\n",
    "    directions = np.random.random(size=num_agents).astype(np.float32) * 2 * np.pi\n",
    "\n",
    "    return positions, directions"
   ],
   "id": "b14c706f9c006da2",
   "outputs": [],
   "execution_count": 17
  },
  {
   "metadata": {
    "ExecuteTime": {
     "end_time": "2024-10-25T17:09:46.607557Z",
     "start_time": "2024-10-25T17:09:46.585681Z"
    }
   },
   "cell_type": "code",
   "source": [
    "positions, directions = initialize_agents()\n",
    "np.cos(directions)\n"
   ],
   "id": "c99d49250a977211",
   "outputs": [
    {
     "data": {
      "text/plain": [
       "array([-0.8617079 ,  0.42061913, -0.8374381 , -0.6778944 , -0.1251095 ,\n",
       "       -0.21365082, -0.9965513 , -0.21216832, -0.41049558,  0.66310114,\n",
       "        0.7954716 ,  0.34798738], dtype=float32)"
      ]
     },
     "execution_count": 20,
     "metadata": {},
     "output_type": "execute_result"
    }
   ],
   "execution_count": 20
  },
  {
   "metadata": {
    "ExecuteTime": {
     "end_time": "2024-10-25T17:13:35.681661Z",
     "start_time": "2024-10-25T17:13:35.243045Z"
    }
   },
   "cell_type": "code",
   "source": [
    "fig, ax = plt.subplots(1, 1, figsize=(8, 8))\n",
    "\n",
    "ax.quiver(positions[:, 0], positions[:, 1], np.cos(directions), np.sin(directions), angles='xy', scale_units=\"xy\", scale=4, width=0.002)\n",
    "ax.scatter(positions[:, 0], positions[:, 1], c='g', s=10)"
   ],
   "id": "89f0c5524f0e2117",
   "outputs": [
    {
     "data": {
      "text/plain": [
       "<matplotlib.collections.PathCollection at 0x1c676b8a3e0>"
      ]
     },
     "execution_count": 36,
     "metadata": {},
     "output_type": "execute_result"
    },
    {
     "data": {
      "text/plain": [
       "<Figure size 800x800 with 1 Axes>"
      ],
      "image/png": "[encoded data removed]"
     },
     "metadata": {},
     "output_type": "display_data"
    }
   ],
   "execution_count": 36
  },
  {
   "metadata": {},
   "cell_type": "markdown",
   "source": "# Forward Model",
   "id": "30d0f526cf091f9"
  },
  {
   "metadata": {
    "ExecuteTime": {
     "end_time": "2024-10-25T21:35:46.377478Z",
     "start_time": "2024-10-25T21:35:46.361075Z"
    }
   },
   "cell_type": "code",
   "source": [
    "def vicsek_model(\n",
    "        sensing_radius = 2.,\n",
    "        velocity = 1.,\n",
    "        num_agents=12,\n",
    "        boundary_size=10,\n",
    "        num_timesteps=1000,\n",
    "):\n",
    "    \n",
    "    # Initialize positions and directions for each agent\n",
    "    positions = np.zeros((num_timesteps + 1, num_agents, 2))\n",
    "    directions = np.zeros((num_timesteps + 1, num_agents, 1))\n",
    "    \n",
    "    initial_positions, initial_directions = initialize_agents(num_agents, boundary_size)\n",
    "    positions[0] = initial_positions.copy()\n",
    "    directions[0] = initial_directions[:,np.newaxis].copy()\n",
    "    \n",
    "    # Loop over each timestep\n",
    "    for t in range(num_timesteps):\n",
    "        # For each timestep, initialize directions for the agents\n",
    "        new_directions = np.zeros(num_agents)\n",
    "        \n",
    "        # For each agent, collect neighbors within its sensing range\n",
    "        for i in range(num_agents):\n",
    "            \n",
    "    \n",
    "    return positions, directions"
   ],
   "id": "bd062f83449b82f3",
   "outputs": [],
   "execution_count": 42
  },
  {
   "metadata": {
    "ExecuteTime": {
     "end_time": "2024-10-25T21:35:46.846Z",
     "start_time": "2024-10-25T21:35:46.829988Z"
    }
   },
   "cell_type": "code",
   "source": [
    "positions, directions = vicsek_model()\n",
    "positions"
   ],
   "id": "b3526f476d3cf2a8",
   "outputs": [
    {
     "data": {
      "text/plain": [
       "array([[[6.47449732, 4.24953508],\n",
       "        [2.99235082, 5.0029211 ],\n",
       "        [5.1310339 , 2.7837801 ],\n",
       "        ...,\n",
       "        [3.2009263 , 0.40078384],\n",
       "        [3.88660431, 0.70317215],\n",
       "        [9.29216766, 3.96509433]],\n",
       "\n",
       "       [[0.        , 0.        ],\n",
       "        [0.        , 0.        ],\n",
       "        [0.        , 0.        ],\n",
       "        ...,\n",
       "        [0.        , 0.        ],\n",
       "        [0.        , 0.        ],\n",
       "        [0.        , 0.        ]],\n",
       "\n",
       "       [[0.        , 0.        ],\n",
       "        [0.        , 0.        ],\n",
       "        [0.        , 0.        ],\n",
       "        ...,\n",
       "        [0.        , 0.        ],\n",
       "        [0.        , 0.        ],\n",
       "        [0.        , 0.        ]],\n",
       "\n",
       "       ...,\n",
       "\n",
       "       [[0.        , 0.        ],\n",
       "        [0.        , 0.        ],\n",
       "        [0.        , 0.        ],\n",
       "        ...,\n",
       "        [0.        , 0.        ],\n",
       "        [0.        , 0.        ],\n",
       "        [0.        , 0.        ]],\n",
       "\n",
       "       [[0.        , 0.        ],\n",
       "        [0.        , 0.        ],\n",
       "        [0.        , 0.        ],\n",
       "        ...,\n",
       "        [0.        , 0.        ],\n",
       "        [0.        , 0.        ],\n",
       "        [0.        , 0.        ]],\n",
       "\n",
       "       [[0.        , 0.        ],\n",
       "        [0.        , 0.        ],\n",
       "        [0.        , 0.        ],\n",
       "        ...,\n",
       "        [0.        , 0.        ],\n",
       "        [0.        , 0.        ],\n",
       "        [0.        , 0.        ]]])"
      ]
     },
     "execution_count": 43,
     "metadata": {},
     "output_type": "execute_result"
    }
   ],
   "execution_count": 43
  },
  {
   "metadata": {},
   "cell_type": "code",
   "outputs": [],
   "execution_count": null,
   "source": "",
   "id": "bdbfc6596ec6fc90"
  }
 ],
 "metadata": {
  "kernelspec": {
   "display_name": "Python 3",
   "language": "python",
   "name": "python3"
  },
  "language_info": {
   "codemirror_mode": {
    "name": "ipython",
    "version": 2
   },
   "file_extension": ".py",
   "mimetype": "text/x-python",
   "name": "python",
   "nbconvert_exporter": "python",
   "pygments_lexer": "ipython2",
   "version": "2.7.6"
  }
 },
 "nbformat": 4,
 "nbformat_minor": 5
}
