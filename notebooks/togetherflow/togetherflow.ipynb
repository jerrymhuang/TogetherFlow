{
 "cells": [
  {
   "metadata": {},
   "cell_type": "markdown",
   "source": [
    "# Togetherflow\n",
    "**Emergent agent motion dynamics in immersive rooms**\n",
    "\n",
    "In this notebook, we implement Togetherflow, a computational cognitive model that characterizes the motion pattern of human agents in immersive rooms."
   ],
   "id": "cbc0affd9dd09133"
  },
  {
   "metadata": {
    "ExecuteTime": {
     "end_time": "2024-12-13T22:50:24.288969Z",
     "start_time": "2024-12-13T22:50:24.196686Z"
    }
   },
   "cell_type": "code",
   "source": [
    "%matplotlib notebook\n",
    "\n",
    "%load_ext autoreload\n",
    "%autoreload 2"
   ],
   "id": "33adef3436b0c4",
   "outputs": [],
   "execution_count": 1
  },
  {
   "metadata": {
    "ExecuteTime": {
     "end_time": "2024-12-13T22:50:28.464549Z",
     "start_time": "2024-12-13T22:50:28.048680Z"
    }
   },
   "cell_type": "code",
   "source": [
    "import numpy as np\n",
    "import matplotlib.pyplot as plt\n",
    "import seaborn as sns\n",
    "\n",
    "from numba import njit\n",
    "from functools import partial\n",
    "\n",
    "np.set_printoptions(suppress=True)"
   ],
   "id": "initial_id",
   "outputs": [],
   "execution_count": 2
  },
  {
   "metadata": {
    "ExecuteTime": {
     "end_time": "2024-12-13T22:51:00.621556Z",
     "start_time": "2024-12-13T22:51:00.419183Z"
    }
   },
   "cell_type": "code",
   "source": [
    "import tensorflow as tf\n",
    "import bayesflow as bf\n",
    "from bayesflow.simulation import Prior, Simulator, GenerativeModel"
   ],
   "id": "55f319eee80ddfd8",
   "outputs": [],
   "execution_count": 4
  },
  {
   "metadata": {
    "ExecuteTime": {
     "end_time": "2024-12-13T22:59:58.739036Z",
     "start_time": "2024-12-13T22:59:58.469356Z"
    }
   },
   "cell_type": "code",
   "source": [
    "from initializations import initialize_agents, initialize_beacons\n",
    "from influences import external_influence, internal_influence\n",
    "from priors import complete_pooling_prior_fun"
   ],
   "id": "ec74dc4a9d760f13",
   "outputs": [],
   "execution_count": 8
  },
  {
   "metadata": {},
   "cell_type": "markdown",
   "source": "## Initializations",
   "id": "14ebdadb56ec740d"
  },
  {
   "metadata": {
    "ExecuteTime": {
     "end_time": "2024-12-13T23:08:25.885927Z",
     "start_time": "2024-12-13T23:08:23.708794Z"
    }
   },
   "cell_type": "code",
   "source": [
    "agent_positions, agent_rotations = initialize_agents()\n",
    "beacon_positions = initialize_beacons()"
   ],
   "id": "7325df4491f6e16d",
   "outputs": [],
   "execution_count": 9
  },
  {
   "metadata": {
    "ExecuteTime": {
     "end_time": "2024-12-13T23:08:39.606088Z",
     "start_time": "2024-12-13T23:08:39.382493Z"
    }
   },
   "cell_type": "code",
   "source": "print(agent_positions.shape, agent_rotations.shape, beacon_positions.shape)",
   "id": "56e88cb736ff28df",
   "outputs": [
    {
     "name": "stdout",
     "output_type": "stream",
     "text": [
      "(12, 2) (12, 1) (10, 2)\n"
     ]
    }
   ],
   "execution_count": 10
  },
  {
   "metadata": {},
   "cell_type": "markdown",
   "source": "## Influences",
   "id": "a53b6f4c573a3d0a"
  },
  {
   "metadata": {
    "ExecuteTime": {
     "end_time": "2024-12-13T23:11:31.405383Z",
     "start_time": "2024-12-13T23:11:31.210193Z"
    }
   },
   "cell_type": "code",
   "source": [
    "num_agents = len(agent_positions)\n",
    "e = np.empty((num_agents, 2))\n",
    "for i in range(num_agents):\n",
    "    e[i] = external_influence(agent_positions[i], beacon_positions[0])\n",
    "\n",
    "e"
   ],
   "id": "37c9fdd2e1428a66",
   "outputs": [
    {
     "data": {
      "text/plain": [
       "array([[-0.97257817,  0.23257625],\n",
       "       [-0.97231847, -0.2336596 ],\n",
       "       [-0.87719506, -0.48013419],\n",
       "       [-0.98946327, -0.1447843 ],\n",
       "       [-0.96907985,  0.24674734],\n",
       "       [-0.8691864 , -0.49448451],\n",
       "       [-0.86833376,  0.49598032],\n",
       "       [-0.7900911 ,  0.61298949],\n",
       "       [-0.53179044, -0.84687597],\n",
       "       [-0.95193934,  0.30628669],\n",
       "       [-0.23039827, -0.97309643],\n",
       "       [-0.9921177 ,  0.12530924]])"
      ]
     },
     "execution_count": 13,
     "metadata": {},
     "output_type": "execute_result"
    }
   ],
   "execution_count": 13
  },
  {
   "metadata": {},
   "cell_type": "code",
   "outputs": [],
   "execution_count": null,
   "source": "",
   "id": "1e4b55676492f61e"
  }
 ],
 "metadata": {
  "kernelspec": {
   "display_name": "Python 3",
   "language": "python",
   "name": "python3"
  },
  "language_info": {
   "codemirror_mode": {
    "name": "ipython",
    "version": 2
   },
   "file_extension": ".py",
   "mimetype": "text/x-python",
   "name": "python",
   "nbconvert_exporter": "python",
   "pygments_lexer": "ipython2",
   "version": "2.7.6"
  }
 },
 "nbformat": 4,
 "nbformat_minor": 5
}
