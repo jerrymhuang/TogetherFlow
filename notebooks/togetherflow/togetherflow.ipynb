{
 "cells": [
  {
   "metadata": {},
   "cell_type": "markdown",
   "source": [
    "# Togetherflow\n",
    "**Emergent agent motion dynamics in immersive rooms**\n",
    "\n",
    "In this notebook, we implement Togetherflow, a computational cognitive model that characterizes the motion pattern of human agents in immersive rooms."
   ],
   "id": "3160aa9b7b6423b8"
  },
  {
   "metadata": {
    "ExecuteTime": {
     "end_time": "2024-11-26T06:40:46.611338Z",
     "start_time": "2024-11-26T06:40:46.578469Z"
    }
   },
   "cell_type": "code",
   "source": [
    "import numpy as np\n",
    "import pandas as pd\n",
    "import matplotlib.pyplot as plt\n",
    "import matplotlib.animation as animation\n",
    "import seaborn as sns\n",
    "\n",
    "from scipy import stats\n",
    "from IPython.display import HTML\n",
    "\n",
    "np.set_printoptions(suppress=True)"
   ],
   "id": "6affc593b86588ae",
   "outputs": [],
   "execution_count": 53
  },
  {
   "metadata": {
    "ExecuteTime": {
     "end_time": "2024-11-26T06:40:48.413130Z",
     "start_time": "2024-11-26T06:40:48.397910Z"
    }
   },
   "cell_type": "code",
   "source": [
    "import tensorflow as tf\n",
    "import bayesflow as bf\n",
    "from bayesflow.simulation import Prior, Simulator, GenerativeModel"
   ],
   "id": "93cad931185e8374",
   "outputs": [],
   "execution_count": 54
  },
  {
   "metadata": {},
   "cell_type": "markdown",
   "source": [
    "## Generative Model Definition\n",
    "\n",
    "The movement of any agent $a = 1, ..., A$ is both related to: 1) its interaction with surrounding neighbors $i = 1, ..., I$, which we call *internal influence*, and 2) their motivation to the surrounding spatial objects $j = 1, ..., J$, which we call *external influence*. These influences are modulated by a stationary weight, $w_a$:\n",
    "\n",
    "\\begin{equation}\n",
    "    \\theta_{a, t} = w_a \\theta_{a|j, t} + (1 - w_a) \\theta_{a|i, t}.\n",
    "\\end{equation}"
   ],
   "id": "9658492a077e97a0"
  },
  {
   "metadata": {},
   "cell_type": "markdown",
   "source": [
    "### Meta-Variables\n",
    "\n",
    "First, we define some meta-variables, such as the number of agents to simulate, the number of spatial beacons present in the environment, etc."
   ],
   "id": "4259991c7e791999"
  },
  {
   "metadata": {
    "ExecuteTime": {
     "end_time": "2024-11-26T06:40:57.176547Z",
     "start_time": "2024-11-26T06:40:57.166171Z"
    }
   },
   "cell_type": "code",
   "source": [
    "num_agents = 12\n",
    "num_beacons = 2\n",
    "room_size = (8., 10.)\n",
    "world_size = 25."
   ],
   "id": "b9c6adac11e148d9",
   "outputs": [],
   "execution_count": 55
  },
  {
   "metadata": {},
   "cell_type": "markdown",
   "source": [
    "### Agent Initialization\n",
    "\n",
    "First, we initialize the agents with a randomized position and orientation, both uniformly distributed."
   ],
   "id": "efa1ed5c2b67daf7"
  },
  {
   "metadata": {
    "ExecuteTime": {
     "end_time": "2024-11-26T05:04:49.723856Z",
     "start_time": "2024-11-26T05:04:49.705331Z"
    }
   },
   "cell_type": "code",
   "source": [
    "def initialize_agents(\n",
    "        num_agents: int = 100, \n",
    "        boundary_size: float = 100.0\n",
    ") -> tuple[np.ndarray, np.ndarray]:\n",
    "    \"\"\"\n",
    "    Generate random positions and orientations for agents.\n",
    "\n",
    "    Parameters\n",
    "    ----------\n",
    "    num_agents : int, optional\n",
    "        Number of agents to generate (default is 100).\n",
    "    boundary_size : float, optional\n",
    "        The size of the boundary within which positions are generated (default is 100.0).\n",
    "\n",
    "    Returns\n",
    "    -------\n",
    "    tuple of np.ndarray\n",
    "        A tuple containing the positions (np.ndarray) and orientations (np.ndarray) of the agents.\n",
    "    \"\"\"\n",
    "    \n",
    "    # Generate random positions within the boundary size centered at 0\n",
    "    positions = np.random.uniform(-boundary_size * 0.5, boundary_size * 0.5, (num_agents, 2))\n",
    "    \n",
    "    # Generate random orientations (angles in radians between 0 and 2*pi)\n",
    "    orientations = np.random.uniform(0, 2 * np.pi, num_agents)\n",
    "    \n",
    "    return positions, orientations"
   ],
   "id": "51952cb988f59d1e",
   "outputs": [],
   "execution_count": 7
  },
  {
   "metadata": {
    "ExecuteTime": {
     "end_time": "2024-11-26T06:49:30.097465Z",
     "start_time": "2024-11-26T06:49:30.082434Z"
    }
   },
   "cell_type": "code",
   "source": [
    "agent_positions, agent_directions = initialize_agents(boundary_size=room_size)\n",
    "np.cos(agent_directions)"
   ],
   "id": "821eaed55db551a3",
   "outputs": [
    {
     "data": {
      "text/plain": [
       "array([[ 0.5264093 ],\n",
       "       [ 0.5004875 ],\n",
       "       [ 0.8032966 ],\n",
       "       [-0.8912787 ],\n",
       "       [ 0.8759352 ],\n",
       "       [-0.89904433],\n",
       "       [ 0.4725748 ],\n",
       "       [-0.9750324 ],\n",
       "       [-0.8698092 ],\n",
       "       [-0.9135189 ],\n",
       "       [ 0.6402145 ],\n",
       "       [ 0.89513695]], dtype=float32)"
      ]
     },
     "execution_count": 56,
     "metadata": {},
     "output_type": "execute_result"
    }
   ],
   "execution_count": 56
  },
  {
   "metadata": {
    "ExecuteTime": {
     "end_time": "2024-11-26T06:49:37.028002Z",
     "start_time": "2024-11-26T06:49:36.802123Z"
    }
   },
   "cell_type": "code",
   "source": [
    "from matplotlib.patches import FancyBboxPatch\n",
    "\n",
    "fig, ax = plt.subplots(1, 1, figsize=(7, 8))\n",
    "\n",
    "# Create a rounded rectangle with translucent face color\n",
    "rounded_rect = FancyBboxPatch(\n",
    "    (-5, -6),       # Lower left corner\n",
    "    width=10.,        # Width\n",
    "    height=12.,       # Height\n",
    "    boxstyle=\"round,pad=0.1,rounding_size=1.5\",  # Rounded box\n",
    "    edgecolor=(0.53, 0.81, 0.92, 1),\n",
    "    facecolor=(0.53, 0.81, 0.92, 0.2),\n",
    "    linewidth=3,\n",
    "    alpha=0.2         # Set opacity level (0 is fully transparent, 1 is fully opaque)\n",
    ")\n",
    "\n",
    "ax.add_patch(rounded_rect)\n",
    "ax.quiver(\n",
    "    agent_positions[:, 0], agent_positions[:, 1], \n",
    "    np.cos(agent_directions), np.sin(agent_directions), \n",
    "    angles='xy', scale_units=\"xy\", \n",
    "    scale=2, width=0.005\n",
    ")\n",
    "ax.scatter(agent_positions[:, 0], agent_positions[:, 1], c='g', s=30)\n",
    "ax.set_xlim([-7, 7])\n",
    "ax.set_ylim([-8, 8])\n",
    "ax.set_xlabel('x')\n",
    "ax.set_ylabel('y')"
   ],
   "id": "c6e251f22f1ce3fc",
   "outputs": [
    {
     "data": {
      "text/plain": [
       "Text(0, 0.5, 'y')"
      ]
     },
     "execution_count": 57,
     "metadata": {},
     "output_type": "execute_result"
    },
    {
     "data": {
      "text/plain": [
       "<Figure size 700x800 with 1 Axes>"
      ],
      "image/png": "[encoded data removed]"
     },
     "metadata": {},
     "output_type": "display_data"
    }
   ],
   "execution_count": 57
  },
  {
   "metadata": {},
   "cell_type": "markdown",
   "source": [
    "### Beacon initialization\n",
    "\n",
    "To intrinsically motivate the agents, we need a set of virtual beacons that are populated within the environment. The beacons have a freer representation with only positions needed."
   ],
   "id": "d32f0945c82f1da0"
  },
  {
   "metadata": {
    "ExecuteTime": {
     "end_time": "2024-11-26T15:54:52.861602Z",
     "start_time": "2024-11-26T15:54:52.841326Z"
    }
   },
   "cell_type": "code",
   "source": [
    "def initialize_beacons(\n",
    "        num_beacons = 10,\n",
    "        room_sensing_range = 50.\n",
    "):\n",
    "    \n",
    "    \"\"\"\n",
    "    Initialize beacons following a uniform distribution scaled to the room's sensing boundary\n",
    "    \n",
    "    Parameters\n",
    "    ----------\n",
    "    num_beacons : int, default: 10\n",
    "        Number of beacons to initialize.\n",
    "    environment_size : float, default: 50.0\n",
    "        Size of the environment for the generation of beacons.\n",
    "    \n",
    "    Returns\n",
    "    -------\n",
    "    beacons      : np.ndarray of shape (num_beacons, 2)\n",
    "        Initial positions of the beacons. \n",
    "    \"\"\"\n",
    "    \n",
    "    beacons = np.random.uniform(-room_sensing_range * 0.5, room_sensing_range * 0.5, size=(num_beacons, 2))\n",
    "    return beacons"
   ],
   "id": "82551c4e3ba9a4bc",
   "outputs": [],
   "execution_count": 64
  },
  {
   "metadata": {
    "ExecuteTime": {
     "end_time": "2024-11-26T15:55:01.342125Z",
     "start_time": "2024-11-26T15:55:01.328093Z"
    }
   },
   "cell_type": "code",
   "source": [
    "beacon_positions = initialize_beacons(num_beacons=6, room_sensing_range=world_size)\n",
    "beacon_positions"
   ],
   "id": "7ea13da39adf26f2",
   "outputs": [
    {
     "data": {
      "text/plain": [
       "array([[ -1.67943343,  -0.23836843],\n",
       "       [ -2.46262895,   3.93469523],\n",
       "       [ -3.8878074 ,  -8.23378974],\n",
       "       [  9.68740198,   5.12821082],\n",
       "       [  5.0523001 , -11.38435313],\n",
       "       [  4.57129722,   5.94357728]])"
      ]
     },
     "execution_count": 65,
     "metadata": {},
     "output_type": "execute_result"
    }
   ],
   "execution_count": 65
  },
  {
   "metadata": {
    "ExecuteTime": {
     "end_time": "2024-11-26T15:55:04.740858Z",
     "start_time": "2024-11-26T15:55:04.481880Z"
    }
   },
   "cell_type": "code",
   "source": [
    "fig, ax = plt.subplots(1, 1, figsize=(7, 8))\n",
    "\n",
    "# Create a rounded rectangle with translucent face color\n",
    "rounded_rect = FancyBboxPatch(\n",
    "    (-5, -6),       # Lower left corner\n",
    "    width=10.,        # Width\n",
    "    height=12.,       # Height\n",
    "    boxstyle=\"round,pad=0.1,rounding_size=1.5\",  # Rounded box\n",
    "    edgecolor=(0.53, 0.81, 0.92, 1),\n",
    "    facecolor=(0.53, 0.81, 0.92, 0.2),\n",
    "    linewidth=3,\n",
    "    alpha=0.2         # Set opacity level (0 is fully transparent, 1 is fully opaque)\n",
    ")\n",
    "\n",
    "ax.add_patch(rounded_rect)\n",
    "ax.quiver(\n",
    "    agent_positions[:, 0], agent_positions[:, 1], \n",
    "    np.cos(agent_directions), np.sin(agent_directions), \n",
    "    angles='xy', scale_units=\"xy\", \n",
    "    scale=2, width=0.005\n",
    ")\n",
    "ax.scatter(agent_positions[:, 0], agent_positions[:, 1], c='g', s=30)\n",
    "ax.scatter(beacon_positions[:, 0], beacon_positions[:, 1], c='r', s=30)\n",
    "ax.set_xlim([-0.5 * world_size, 0.5 * world_size])\n",
    "ax.set_ylim([-0.5 * world_size, 0.5 * world_size])\n",
    "ax.set_xlabel('x')\n",
    "ax.set_ylabel('y')"
   ],
   "id": "58905c250d86bcc6",
   "outputs": [
    {
     "data": {
      "text/plain": [
       "Text(0, 0.5, 'y')"
      ]
     },
     "execution_count": 66,
     "metadata": {},
     "output_type": "execute_result"
    },
    {
     "data": {
      "text/plain": [
       "<Figure size 700x800 with 1 Axes>"
      ],
      "image/png": "[encoded data removed]"
     },
     "metadata": {},
     "output_type": "display_data"
    }
   ],
   "execution_count": 66
  },
  {
   "metadata": {},
   "cell_type": "markdown",
   "source": [
    "## Internal Influence: drift-diffusion vector\n",
    "\n",
    "We want to compute the influence of agent movement direction within a single time step. For this, we specify our internal influence as a 2D drift diffusion model, where the agents are approach a spatial beacon within the room's boundary by reorienting its locomotive direction.\n",
    "\n",
    "\\begin{equation}\n",
    "    \\theta_{a|j, t} = \\theta_{a|j, t-1} + \\omega_a \\mathrm{d}t + \\mathrm{d}\\phi_t,\n",
    "\\end{equation}\n",
    "\n",
    "\\begin{align}\n",
    "    \\mathrm{d}\\mathbf{x}_{a|j, t} \n",
    "    &= v_{a|j}\\mathrm{d}t \\frac{\\mathbf{x}_{a|j}}{||\\mathbf{x}_{a|j}||} + \\sigma_{a|j} \\mathrm{d}\\mathrm{W}_t \\\\\n",
    "    &= v_{a}\\mathrm{d}t     \n",
    "    \\begin{bmatrix}\n",
    "        \\cos \\theta_{a|j, t} \\\\\n",
    "        \\sin \\theta_{a|j, t}\n",
    "    \\end{bmatrix} + \\sigma_{a|j} \\mathrm{d}\\mathrm{W}_t,% \\sqrt{\\mathrm{d}t} Z_t.\n",
    "\\end{align}"
   ],
   "id": "e9542ab4709c2797"
  },
  {
   "metadata": {
    "ExecuteTime": {
     "end_time": "2024-11-26T18:43:56.750407Z",
     "start_time": "2024-11-26T18:43:56.737410Z"
    }
   },
   "cell_type": "code",
   "source": [
    "def internal_influence(\n",
    "    noise: float = 0.1, \n",
    "    target_position: np.ndarray = np.array([1.0, 1.0])\n",
    ") -> np.ndarray:\n",
    "    \"\"\"\n",
    "    Generate a drift-diffusion vector in 2D space based on a decision boundary.\n",
    "\n",
    "    Parameters\n",
    "    ----------\n",
    "    noise : float, optional\n",
    "        The rate of diffusion, which determines the variability of the direction (default is 0.1).\n",
    "    decision_boundary : np.ndarray, optional\n",
    "        A 2D point representing the decision boundary (default is np.array([1.0, 1.0])).\n",
    "\n",
    "    Returns\n",
    "    -------\n",
    "    np.ndarray\n",
    "        A 2D vector representing the drift-diffusion process towards the decision boundary.\n",
    "    \"\"\"\n",
    "    # Calculate the angle towards the decision boundary\n",
    "    target_angle = np.arctan2(target_position[1], target_position[0])\n",
    "    \n",
    "    # Generate a random direction with drift around the target angle\n",
    "    random_angle = np.random.normal(target_angle, noise)\n",
    "    \n",
    "    # Convert the angle to a unit vector in 2D space\n",
    "    v = np.array([np.cos(random_angle), np.sin(random_angle)])\n",
    "    \n",
    "    return v"
   ],
   "id": "5e2b631340d95c8a",
   "outputs": [],
   "execution_count": 69
  },
  {
   "metadata": {},
   "cell_type": "markdown",
   "source": [
    "### External Influence: particle dynamics\n",
    "\n",
    "Its influence by a collective group of agents is modeled as a self-propelling particle system, as expressed in the Vicsek model:\n",
    "\n",
    "\\begin{align}\n",
    "    \\theta_{a|i, t} &= \\langle \\theta_{i, t}\\rangle_{|\\mathbf{x}_a - \\mathbf{x}_i| < r_a, i \\in I} + \\eta_{a,t-1}, \\\\\n",
    "    \\mathrm{d} \\mathbf{x}_{a|i,t} &= v_{a,t} \\mathrm{d}t\n",
    "    \\begin{bmatrix}\n",
    "        \\cos \\theta_{a|i, t} \\\\\n",
    "        \\sin \\theta_{a|i, t}\n",
    "    \\end{bmatrix},\n",
    "\\end{align}"
   ],
   "id": "b7ed437861fa154d"
  },
  {
   "metadata": {
    "ExecuteTime": {
     "end_time": "2024-11-26T18:44:02.446793Z",
     "start_time": "2024-11-26T18:44:02.434063Z"
    }
   },
   "cell_type": "code",
   "source": [
    "def external_influence(\n",
    "        positions: np.ndarray, \n",
    "        orientations: np.ndarray, \n",
    "        sensing_radius: float, \n",
    "        noise: float = 0.1\n",
    ") -> np.ndarray:\n",
    "    \"\"\"\n",
    "    Generate an influence vector based on the angular component of the Vicsek model.\n",
    "\n",
    "    Parameters\n",
    "    ----------\n",
    "    positions : np.ndarray\n",
    "        Current positions of the agents.\n",
    "    orientations : np.ndarray\n",
    "        Current orientations of the agents.\n",
    "    sensing_radius : float\n",
    "        The sensing radius within which agents interact with their neighbors.\n",
    "    noise : float, optional\n",
    "        The level of noise to add to the average direction (default is 0.1).\n",
    "\n",
    "    Returns\n",
    "    -------\n",
    "    np.ndarray\n",
    "        A 2D unit vector representing the averaged influence direction with added noise.\n",
    "    \"\"\"\n",
    "    num_agents = positions.shape[0]\n",
    "    new_orientations = np.zeros_like(orientations)\n",
    "\n",
    "    for i in range(num_agents):\n",
    "        # Find neighbors within sensing radius\n",
    "        distances = np.linalg.norm(positions - positions[i], axis=1)\n",
    "        neighbors_idx = np.where(distances < sensing_radius)[0]\n",
    "        \n",
    "        # Calculate the average orientation of neighbors\n",
    "        mean_orientation = np.arctan2(\n",
    "            np.mean(np.sin(orientations[neighbors_idx])),\n",
    "            np.mean(np.cos(orientations[neighbors_idx]))\n",
    "        )\n",
    "        \n",
    "        # Add noise to the average orientation\n",
    "        noisy_orientation = mean_orientation + np.random.normal(0, noise)\n",
    "        new_orientations[i] = noisy_orientation\n",
    "    \n",
    "    # Convert the orientation to a unit vector in 2D space\n",
    "    mean_orientation = np.arctan2(np.mean(np.sin(new_orientations)), np.mean(np.cos(new_orientations)))\n",
    "    influence_vector = np.array([np.cos(mean_orientation), np.sin(mean_orientation)])\n",
    "    \n",
    "    return influence_vector"
   ],
   "id": "1f867d81fd0246df",
   "outputs": [],
   "execution_count": 70
  },
  {
   "metadata": {},
   "cell_type": "markdown",
   "source": "### Putting everything together: combined influences",
   "id": "89b26efb60883d8c"
  },
  {
   "metadata": {
    "ExecuteTime": {
     "end_time": "2024-11-26T18:44:05.754977Z",
     "start_time": "2024-11-26T18:44:05.740697Z"
    }
   },
   "cell_type": "code",
   "source": [
    "def update_positions_orientations(\n",
    "        agent_positions: np.ndarray, \n",
    "        agent_rotations: np.ndarray, \n",
    "        velocity: float = 1.0, \n",
    "        sensing_radius: float = 2.5,\n",
    "        ddm_vector: np.ndarray = None, \n",
    "        vicsek_vector: np.ndarray = None, \n",
    "        dt: float = 0.1, \n",
    "        influence_weight: float = 0.7\n",
    ") -> tuple[np.ndarray, np.ndarray]:\n",
    "    \"\"\"\n",
    "    Update the positions and orientations of agents based on velocity and influence vectors.\n",
    "\n",
    "    Parameters\n",
    "    ----------\n",
    "    positions : np.ndarray\n",
    "        Current positions of the agents.\n",
    "    orientations : np.ndarray\n",
    "        Current orientations of the agents.\n",
    "    velocity : float, optional\n",
    "        The speed at which agents move (default is 1.0).\n",
    "    influence_vector1 : np.ndarray, optional\n",
    "        The first influence vector affecting agent orientation. If None, it will be generated using drift-diffusion (default is None).\n",
    "    influence_vector2 : np.ndarray, optional\n",
    "        The second influence vector affecting agent orientation. If None, it will be generated using the Vicsek model (default is None).\n",
    "    delta_t : float, optional\n",
    "        The time step for updating positions and orientations (default is 0.1).\n",
    "    influence1_weight : float, optional\n",
    "        The weight of influence_vector1 in determining new orientations (default is 0.7).\n",
    "\n",
    "    Returns\n",
    "    -------\n",
    "    tuple of np.ndarray\n",
    "        Updated positions (np.ndarray) and orientations (np.ndarray) of the agents.\n",
    "    \"\"\"\n",
    "    # Generate influence_vector1 if not provided\n",
    "    if ddm_vector is None:\n",
    "        ddm_vector = internal_influence()\n",
    "    \n",
    "    # Generate influence_vector2 if not provided\n",
    "    if vicsek_vector is None:\n",
    "        vicsek_vector = external_influence(agent_rotations, sensing_radius=sensing_radius)\n",
    "    \n",
    "    # Update positions based on current orientations\n",
    "    agent_positions[:, 0] += velocity * np.cos(agent_rotations) * dt\n",
    "    agent_positions[:, 1] += velocity * np.sin(agent_rotations) * dt\n",
    "    \n",
    "    # Update orientations based on two influence vectors\n",
    "    ddm_influence = np.arctan2(ddm_vector[1], ddm_vector[0])\n",
    "    vicsek_influence = np.arctan2(vicsek_vector[1], vicsek_vector[0])\n",
    "    \n",
    "    # Combine influences to update orientations with different weights\n",
    "    agent_rotations += (influence_weight * ddm_influence + (1 - influence_weight) * vicsek_influence) * dt\n",
    "    \n",
    "    # Ensure orientations are within the range [0, 2*pi]\n",
    "    agent_rotations = np.mod(agent_rotations, 2 * np.pi)\n",
    "    \n",
    "    return agent_positions, agent_rotations"
   ],
   "id": "774c703377880763",
   "outputs": [],
   "execution_count": 71
  },
  {
   "metadata": {
    "ExecuteTime": {
     "end_time": "2024-11-26T20:25:21.445202Z",
     "start_time": "2024-11-26T20:25:21.429103Z"
    }
   },
   "cell_type": "code",
   "source": [
    "def simulator_fun(\n",
    "    num_agents: int = 100, \n",
    "    boundary_size: float = 100, \n",
    "    velocity: float = 1.0, \n",
    "    dt: float = 0.1, \n",
    "    influence_weight: float = 0.7, \n",
    "    sensing_radius: float = 10.0,\n",
    "    num_timesteps: int = 100\n",
    ") -> tuple[np.ndarray, np.ndarray]:\n",
    "    \"\"\"\n",
    "    Run the simulation and store the time series of positions and orientations of agents.\n",
    "\n",
    "    Parameters\n",
    "    ----------\n",
    "    num_agents : int, optional\n",
    "        Number of agents to generate (default is 100).\n",
    "    boundary_size : float, optional\n",
    "        The size of the boundary within which positions are generated (default is 100).\n",
    "    velocity : float, optional\n",
    "        The speed at which agents move (default is 1.0).\n",
    "    dt : float, optional\n",
    "        The time step for the update (default is 0.1).\n",
    "    influence_weight : float, optional\n",
    "        The weight for influence_vector1 in determining new orientations (default is 0.7).\n",
    "    sensing_radius : float, optional\n",
    "        The sensing radius for the Vicsek model (default is 10.0).\n",
    "    num_timesteps : int, optional\n",
    "        The number of steps to simulate (default is 100).\n",
    "\n",
    "    Returns\n",
    "    -------\n",
    "    tuple of np.ndarray\n",
    "        The time series of positions and orientations of the agents.\n",
    "    \"\"\"\n",
    "    # Initialize positions and orientations\n",
    "    positions, orientations = initialize_agents(num_agents, boundary_size)\n",
    "\n",
    "    # Initialize arrays to store time series of positions and orientations\n",
    "    positions = [positions.copy()]\n",
    "    orientations = [orientations.copy()]\n",
    "\n",
    "    # Simulation loop\n",
    "    for t in range(num_timesteps):\n",
    "        ddm_influence = internal_influence(target_position=np.array([1.0, 1.0]))  # Update the drift-diffusion vector each step\n",
    "        vicsek_influence = external_influence(positions, orientations, sensing_radius)  # Update the Vicsek influence vector each step\n",
    "        positions, orientations = update_positions_orientations(\n",
    "            positions, \n",
    "            orientations, \n",
    "            velocity, \n",
    "            sensing_radius,\n",
    "            ddm_influence, \n",
    "            vicsek_influence, \n",
    "            dt=dt, \n",
    "            influence_weight=influence_weight\n",
    "        )\n",
    "        \n",
    "        # Store positions and orientations for each time step\n",
    "        positions.append(positions.copy())\n",
    "        orientations.append(orientations.copy())\n",
    "\n",
    "    # Convert lists to numpy arrays for easier manipulation\n",
    "    positions = np.array(positions)\n",
    "    orientations = np.array(orientations)\n",
    "\n",
    "    return positions, orientations"
   ],
   "id": "d053d64adc048467",
   "outputs": [],
   "execution_count": 72
  },
  {
   "metadata": {},
   "cell_type": "markdown",
   "source": "# Priors",
   "id": "a38f8bea73ba7fb8"
  },
  {
   "metadata": {
    "ExecuteTime": {
     "end_time": "2024-11-26T00:49:47.635589Z",
     "start_time": "2024-11-26T00:49:47.624588Z"
    }
   },
   "cell_type": "code",
   "source": [
    "def prior_fun():\n",
    "    pass"
   ],
   "id": "d639f997ac83e909",
   "outputs": [],
   "execution_count": 49
  },
  {
   "metadata": {},
   "cell_type": "code",
   "outputs": [],
   "execution_count": null,
   "source": "",
   "id": "5cd289f52e735a3b"
  },
  {
   "metadata": {},
   "cell_type": "markdown",
   "source": "# Generative Model",
   "id": "d38234669123939d"
  },
  {
   "metadata": {
    "ExecuteTime": {
     "end_time": "2024-11-26T00:51:00.546640Z",
     "start_time": "2024-11-26T00:51:00.271590Z"
    }
   },
   "cell_type": "code",
   "source": [
    "prior = bf.simulation.Prior(prior_fun=prior_fun)\n",
    "\n",
    "simulator = bf.simulation.Simulator(simulator_fun=simulator_fun)\n",
    "\n",
    "model = bf.simulation.GenerativeModel(\n",
    "    prior=prior,\n",
    "    simulator=simulator,\n",
    "    simulator_is_batched=False\n",
    ")"
   ],
   "id": "a6102798c0400b16",
   "outputs": [
    {
     "ename": "TypeError",
     "evalue": "simulator_fun() takes 0 positional arguments but 1 was given",
     "output_type": "error",
     "traceback": [
      "\u001B[1;31m---------------------------------------------------------------------------\u001B[0m",
      "\u001B[1;31mTypeError\u001B[0m                                 Traceback (most recent call last)",
      "Cell \u001B[1;32mIn[52], line 5\u001B[0m\n\u001B[0;32m      1\u001B[0m prior \u001B[38;5;241m=\u001B[39m bf\u001B[38;5;241m.\u001B[39msimulation\u001B[38;5;241m.\u001B[39mPrior(prior_fun\u001B[38;5;241m=\u001B[39mprior_fun)\n\u001B[0;32m      3\u001B[0m simulator \u001B[38;5;241m=\u001B[39m bf\u001B[38;5;241m.\u001B[39msimulation\u001B[38;5;241m.\u001B[39mSimulator(simulator_fun\u001B[38;5;241m=\u001B[39msimulator_fun)\n\u001B[1;32m----> 5\u001B[0m model \u001B[38;5;241m=\u001B[39m \u001B[43mbf\u001B[49m\u001B[38;5;241;43m.\u001B[39;49m\u001B[43msimulation\u001B[49m\u001B[38;5;241;43m.\u001B[39;49m\u001B[43mGenerativeModel\u001B[49m\u001B[43m(\u001B[49m\n\u001B[0;32m      6\u001B[0m \u001B[43m    \u001B[49m\u001B[43mprior\u001B[49m\u001B[38;5;241;43m=\u001B[39;49m\u001B[43mprior\u001B[49m\u001B[43m,\u001B[49m\n\u001B[0;32m      7\u001B[0m \u001B[43m    \u001B[49m\u001B[43msimulator\u001B[49m\u001B[38;5;241;43m=\u001B[39;49m\u001B[43msimulator\u001B[49m\u001B[43m,\u001B[49m\n\u001B[0;32m      8\u001B[0m \u001B[43m    \u001B[49m\u001B[43msimulator_is_batched\u001B[49m\u001B[38;5;241;43m=\u001B[39;49m\u001B[38;5;28;43;01mFalse\u001B[39;49;00m\n\u001B[0;32m      9\u001B[0m \u001B[43m)\u001B[49m\n",
      "File \u001B[1;32m~\\Documents\\Native\\Permanent\\TogetherFlow\\env\\lib\\site-packages\\bayesflow\\simulation.py:766\u001B[0m, in \u001B[0;36mGenerativeModel.__init__\u001B[1;34m(self, prior, simulator, skip_test, prior_is_batched, simulator_is_batched, name)\u001B[0m\n\u001B[0;32m    763\u001B[0m \u001B[38;5;28mself\u001B[39m\u001B[38;5;241m.\u001B[39mparam_names \u001B[38;5;241m=\u001B[39m \u001B[38;5;28mself\u001B[39m\u001B[38;5;241m.\u001B[39mprior\u001B[38;5;241m.\u001B[39mparam_names\n\u001B[0;32m    765\u001B[0m \u001B[38;5;28;01mif\u001B[39;00m \u001B[38;5;129;01mnot\u001B[39;00m skip_test:\n\u001B[1;32m--> 766\u001B[0m     \u001B[38;5;28;43mself\u001B[39;49m\u001B[38;5;241;43m.\u001B[39;49m\u001B[43m_test\u001B[49m\u001B[43m(\u001B[49m\u001B[43m)\u001B[49m\n",
      "File \u001B[1;32m~\\Documents\\Native\\Permanent\\TogetherFlow\\env\\lib\\site-packages\\bayesflow\\simulation.py:889\u001B[0m, in \u001B[0;36mGenerativeModel._test\u001B[1;34m(self)\u001B[0m\n\u001B[0;32m    887\u001B[0m \u001B[38;5;66;03m# Use minimal n_sim > 1\u001B[39;00m\n\u001B[0;32m    888\u001B[0m _n_sim \u001B[38;5;241m=\u001B[39m GenerativeModel\u001B[38;5;241m.\u001B[39m_N_SIM_TEST\n\u001B[1;32m--> 889\u001B[0m out \u001B[38;5;241m=\u001B[39m \u001B[38;5;28;43mself\u001B[39;49m\u001B[43m(\u001B[49m\u001B[43m_n_sim\u001B[49m\u001B[43m)\u001B[49m\n\u001B[0;32m    891\u001B[0m \u001B[38;5;66;03m# Logger\u001B[39;00m\n\u001B[0;32m    892\u001B[0m logger \u001B[38;5;241m=\u001B[39m logging\u001B[38;5;241m.\u001B[39mgetLogger()\n",
      "File \u001B[1;32m~\\Documents\\Native\\Permanent\\TogetherFlow\\env\\lib\\site-packages\\bayesflow\\simulation.py:773\u001B[0m, in \u001B[0;36mGenerativeModel.__call__\u001B[1;34m(self, batch_size, **kwargs)\u001B[0m\n\u001B[0;32m    771\u001B[0m \u001B[38;5;66;03m# Forward inference\u001B[39;00m\n\u001B[0;32m    772\u001B[0m prior_out \u001B[38;5;241m=\u001B[39m \u001B[38;5;28mself\u001B[39m\u001B[38;5;241m.\u001B[39mprior(batch_size, \u001B[38;5;241m*\u001B[39m\u001B[38;5;241m*\u001B[39mkwargs\u001B[38;5;241m.\u001B[39mpop(\u001B[38;5;124m\"\u001B[39m\u001B[38;5;124mprior_args\u001B[39m\u001B[38;5;124m\"\u001B[39m, {}))\n\u001B[1;32m--> 773\u001B[0m sim_out \u001B[38;5;241m=\u001B[39m \u001B[38;5;28mself\u001B[39m\u001B[38;5;241m.\u001B[39msimulator(prior_out[\u001B[38;5;124m\"\u001B[39m\u001B[38;5;124mprior_draws\u001B[39m\u001B[38;5;124m\"\u001B[39m], \u001B[38;5;241m*\u001B[39m\u001B[38;5;241m*\u001B[39mkwargs\u001B[38;5;241m.\u001B[39mpop(\u001B[38;5;124m\"\u001B[39m\u001B[38;5;124msim_args\u001B[39m\u001B[38;5;124m\"\u001B[39m, {}))\n\u001B[0;32m    775\u001B[0m \u001B[38;5;66;03m# Prepare and fill placeholder dict\u001B[39;00m\n\u001B[0;32m    776\u001B[0m out_dict \u001B[38;5;241m=\u001B[39m {\n\u001B[0;32m    777\u001B[0m     DEFAULT_KEYS[\u001B[38;5;124m\"\u001B[39m\u001B[38;5;124mprior_non_batchable_context\u001B[39m\u001B[38;5;124m\"\u001B[39m]: prior_out[DEFAULT_KEYS[\u001B[38;5;124m\"\u001B[39m\u001B[38;5;124mnon_batchable_context\u001B[39m\u001B[38;5;124m\"\u001B[39m]],\n\u001B[0;32m    778\u001B[0m     DEFAULT_KEYS[\u001B[38;5;124m\"\u001B[39m\u001B[38;5;124mprior_batchable_context\u001B[39m\u001B[38;5;124m\"\u001B[39m]: prior_out[DEFAULT_KEYS[\u001B[38;5;124m\"\u001B[39m\u001B[38;5;124mbatchable_context\u001B[39m\u001B[38;5;124m\"\u001B[39m]],\n\u001B[1;32m   (...)\u001B[0m\n\u001B[0;32m    782\u001B[0m     DEFAULT_KEYS[\u001B[38;5;124m\"\u001B[39m\u001B[38;5;124msim_data\u001B[39m\u001B[38;5;124m\"\u001B[39m]: sim_out[DEFAULT_KEYS[\u001B[38;5;124m\"\u001B[39m\u001B[38;5;124msim_data\u001B[39m\u001B[38;5;124m\"\u001B[39m]],\n\u001B[0;32m    783\u001B[0m }\n",
      "File \u001B[1;32m~\\Documents\\Native\\Permanent\\TogetherFlow\\env\\lib\\site-packages\\bayesflow\\simulation.py:598\u001B[0m, in \u001B[0;36mSimulator.__call__\u001B[1;34m(self, params, *args, **kwargs)\u001B[0m\n\u001B[0;32m    596\u001B[0m \u001B[38;5;28;01mif\u001B[39;00m \u001B[38;5;28mself\u001B[39m\u001B[38;5;241m.\u001B[39mis_batched:\n\u001B[0;32m    597\u001B[0m     \u001B[38;5;28;01mreturn\u001B[39;00m \u001B[38;5;28mself\u001B[39m\u001B[38;5;241m.\u001B[39m_simulate_batched(params, out_dict, \u001B[38;5;241m*\u001B[39margs, \u001B[38;5;241m*\u001B[39m\u001B[38;5;241m*\u001B[39mkwargs)\n\u001B[1;32m--> 598\u001B[0m \u001B[38;5;28;01mreturn\u001B[39;00m \u001B[38;5;28mself\u001B[39m\u001B[38;5;241m.\u001B[39m_simulate_non_batched(params, out_dict, \u001B[38;5;241m*\u001B[39margs, \u001B[38;5;241m*\u001B[39m\u001B[38;5;241m*\u001B[39mkwargs)\n",
      "File \u001B[1;32m~\\Documents\\Native\\Permanent\\TogetherFlow\\env\\lib\\site-packages\\bayesflow\\simulation.py:655\u001B[0m, in \u001B[0;36mSimulator._simulate_non_batched\u001B[1;34m(self, params, out_dict, *args, **kwargs)\u001B[0m\n\u001B[0;32m    649\u001B[0m \u001B[38;5;66;03m# No context type\u001B[39;00m\n\u001B[0;32m    650\u001B[0m \u001B[38;5;28;01mif\u001B[39;00m (\n\u001B[0;32m    651\u001B[0m     out_dict[DEFAULT_KEYS[\u001B[38;5;124m\"\u001B[39m\u001B[38;5;124mbatchable_context\u001B[39m\u001B[38;5;124m\"\u001B[39m]] \u001B[38;5;129;01mis\u001B[39;00m \u001B[38;5;28;01mNone\u001B[39;00m\n\u001B[0;32m    652\u001B[0m     \u001B[38;5;129;01mand\u001B[39;00m out_dict[DEFAULT_KEYS[\u001B[38;5;124m\"\u001B[39m\u001B[38;5;124mnon_batchable_context\u001B[39m\u001B[38;5;124m\"\u001B[39m]] \u001B[38;5;129;01mis\u001B[39;00m \u001B[38;5;28;01mNone\u001B[39;00m\n\u001B[0;32m    653\u001B[0m ):\n\u001B[0;32m    654\u001B[0m     out_dict[DEFAULT_KEYS[\u001B[38;5;124m\"\u001B[39m\u001B[38;5;124msim_data\u001B[39m\u001B[38;5;124m\"\u001B[39m]] \u001B[38;5;241m=\u001B[39m np\u001B[38;5;241m.\u001B[39marray(\n\u001B[1;32m--> 655\u001B[0m         [\u001B[38;5;28mself\u001B[39m\u001B[38;5;241m.\u001B[39msimulator(non_batched_params[b], \u001B[38;5;241m*\u001B[39margs, \u001B[38;5;241m*\u001B[39m\u001B[38;5;241m*\u001B[39mkwargs) \u001B[38;5;28;01mfor\u001B[39;00m b \u001B[38;5;129;01min\u001B[39;00m \u001B[38;5;28mrange\u001B[39m(batch_size)]\n\u001B[0;32m    656\u001B[0m     )\n\u001B[0;32m    658\u001B[0m \u001B[38;5;66;03m# Only batchable context\u001B[39;00m\n\u001B[0;32m    659\u001B[0m \u001B[38;5;28;01melif\u001B[39;00m out_dict[\u001B[38;5;124m\"\u001B[39m\u001B[38;5;124mnon_batchable_context\u001B[39m\u001B[38;5;124m\"\u001B[39m] \u001B[38;5;129;01mis\u001B[39;00m \u001B[38;5;28;01mNone\u001B[39;00m:\n",
      "File \u001B[1;32m~\\Documents\\Native\\Permanent\\TogetherFlow\\env\\lib\\site-packages\\bayesflow\\simulation.py:655\u001B[0m, in \u001B[0;36m<listcomp>\u001B[1;34m(.0)\u001B[0m\n\u001B[0;32m    649\u001B[0m \u001B[38;5;66;03m# No context type\u001B[39;00m\n\u001B[0;32m    650\u001B[0m \u001B[38;5;28;01mif\u001B[39;00m (\n\u001B[0;32m    651\u001B[0m     out_dict[DEFAULT_KEYS[\u001B[38;5;124m\"\u001B[39m\u001B[38;5;124mbatchable_context\u001B[39m\u001B[38;5;124m\"\u001B[39m]] \u001B[38;5;129;01mis\u001B[39;00m \u001B[38;5;28;01mNone\u001B[39;00m\n\u001B[0;32m    652\u001B[0m     \u001B[38;5;129;01mand\u001B[39;00m out_dict[DEFAULT_KEYS[\u001B[38;5;124m\"\u001B[39m\u001B[38;5;124mnon_batchable_context\u001B[39m\u001B[38;5;124m\"\u001B[39m]] \u001B[38;5;129;01mis\u001B[39;00m \u001B[38;5;28;01mNone\u001B[39;00m\n\u001B[0;32m    653\u001B[0m ):\n\u001B[0;32m    654\u001B[0m     out_dict[DEFAULT_KEYS[\u001B[38;5;124m\"\u001B[39m\u001B[38;5;124msim_data\u001B[39m\u001B[38;5;124m\"\u001B[39m]] \u001B[38;5;241m=\u001B[39m np\u001B[38;5;241m.\u001B[39marray(\n\u001B[1;32m--> 655\u001B[0m         [\u001B[38;5;28mself\u001B[39m\u001B[38;5;241m.\u001B[39msimulator(non_batched_params[b], \u001B[38;5;241m*\u001B[39margs, \u001B[38;5;241m*\u001B[39m\u001B[38;5;241m*\u001B[39mkwargs) \u001B[38;5;28;01mfor\u001B[39;00m b \u001B[38;5;129;01min\u001B[39;00m \u001B[38;5;28mrange\u001B[39m(batch_size)]\n\u001B[0;32m    656\u001B[0m     )\n\u001B[0;32m    658\u001B[0m \u001B[38;5;66;03m# Only batchable context\u001B[39;00m\n\u001B[0;32m    659\u001B[0m \u001B[38;5;28;01melif\u001B[39;00m out_dict[\u001B[38;5;124m\"\u001B[39m\u001B[38;5;124mnon_batchable_context\u001B[39m\u001B[38;5;124m\"\u001B[39m] \u001B[38;5;129;01mis\u001B[39;00m \u001B[38;5;28;01mNone\u001B[39;00m:\n",
      "\u001B[1;31mTypeError\u001B[0m: simulator_fun() takes 0 positional arguments but 1 was given"
     ]
    }
   ],
   "execution_count": 52
  },
  {
   "metadata": {},
   "cell_type": "markdown",
   "source": "# Configurator",
   "id": "4c65e69c3f1780ad"
  },
  {
   "metadata": {
    "ExecuteTime": {
     "end_time": "2024-11-25T20:49:44.317744Z",
     "start_time": "2024-11-25T20:49:44.303226Z"
    }
   },
   "cell_type": "code",
   "source": [
    "def configurator(input_dict: dict = None, transpose: bool = True):\n",
    "    \n",
    "    output_dict = {}\n",
    "    output_dict['parameters'] = input_dict['prior_draws'].astype(np.float32)\n",
    "    x = input_dict['sim_data'] / 10. \n",
    "    if transpose:\n",
    "        x = np.transpose(x, (0, 2, 1, 3))\n",
    "    output_dict['summary_conditions'] = x.astype(np.float32)\n",
    "    return output_dict"
   ],
   "id": "c0da4b9a69a5e6e8",
   "outputs": [],
   "execution_count": 46
  },
  {
   "metadata": {},
   "cell_type": "markdown",
   "source": "# Neural Approximator",
   "id": "8a465e6568cebf17"
  },
  {
   "metadata": {
    "ExecuteTime": {
     "end_time": "2024-11-25T20:50:35.429909Z",
     "start_time": "2024-11-25T20:50:34.831205Z"
    }
   },
   "cell_type": "code",
   "source": [
    "# This one generalizes over different numbers of agents\n",
    "summary_net = bf.summary_networks.HierarchicalNetwork([\n",
    "    tf.keras.layers.TimeDistributed(tf.keras.layers.LSTM(units=128)),\n",
    "    bf.networks.SetTransformer(num_inducing_points=None, input_dim=128, summary_dim=64)\n",
    "])\n",
    "\n",
    "inference_net = bf.inference_networks.InvertibleNetwork(\n",
    "    num_params=2, \n",
    "    num_coupling_layers=5,\n",
    "    coupling_design=\"affine\",\n",
    "    coupling_settings={\n",
    "        'kernel_regularizer': None,\n",
    "        'dropout_prob': 0.0\n",
    "    }\n",
    ")\n",
    "\n",
    "\n",
    "amortizer = bf.amortizers.AmortizedPosterior(\n",
    "    summary_net=summary_net, \n",
    "    inference_net=inference_net\n",
    ")\n",
    "\n",
    "\n",
    "trainer = bf.trainers.Trainer(\n",
    "    amortizer=amortizer,\n",
    "    generative_model=model,\n",
    "    configurator=configurator\n",
    ")"
   ],
   "id": "c3407fab3fd86f7",
   "outputs": [
    {
     "name": "stdout",
     "output_type": "stream",
     "text": [
      "WARNING:tensorflow:From C:\\Users\\Gerald Wong\\Documents\\Native\\Permanent\\TogetherFlow\\env\\lib\\site-packages\\keras\\src\\layers\\rnn\\lstm.py:148: The name tf.executing_eagerly_outside_functions is deprecated. Please use tf.compat.v1.executing_eagerly_outside_functions instead.\n",
      "\n"
     ]
    },
    {
     "name": "stderr",
     "output_type": "stream",
     "text": [
      "WARNING:tensorflow:From C:\\Users\\Gerald Wong\\Documents\\Native\\Permanent\\TogetherFlow\\env\\lib\\site-packages\\keras\\src\\layers\\rnn\\lstm.py:148: The name tf.executing_eagerly_outside_functions is deprecated. Please use tf.compat.v1.executing_eagerly_outside_functions instead.\n",
      "\n"
     ]
    },
    {
     "ename": "NameError",
     "evalue": "name 'model' is not defined",
     "output_type": "error",
     "traceback": [
      "\u001B[1;31m---------------------------------------------------------------------------\u001B[0m",
      "\u001B[1;31mNameError\u001B[0m                                 Traceback (most recent call last)",
      "Cell \u001B[1;32mIn[47], line 26\u001B[0m\n\u001B[0;32m      7\u001B[0m inference_net \u001B[38;5;241m=\u001B[39m bf\u001B[38;5;241m.\u001B[39minference_networks\u001B[38;5;241m.\u001B[39mInvertibleNetwork(\n\u001B[0;32m      8\u001B[0m     num_params\u001B[38;5;241m=\u001B[39m\u001B[38;5;241m2\u001B[39m, \n\u001B[0;32m      9\u001B[0m     num_coupling_layers\u001B[38;5;241m=\u001B[39m\u001B[38;5;241m5\u001B[39m,\n\u001B[1;32m   (...)\u001B[0m\n\u001B[0;32m     14\u001B[0m     }\n\u001B[0;32m     15\u001B[0m )\n\u001B[0;32m     18\u001B[0m amortizer \u001B[38;5;241m=\u001B[39m bf\u001B[38;5;241m.\u001B[39mamortizers\u001B[38;5;241m.\u001B[39mAmortizedPosterior(\n\u001B[0;32m     19\u001B[0m     summary_net\u001B[38;5;241m=\u001B[39msummary_net, \n\u001B[0;32m     20\u001B[0m     inference_net\u001B[38;5;241m=\u001B[39minference_net\n\u001B[0;32m     21\u001B[0m )\n\u001B[0;32m     24\u001B[0m trainer \u001B[38;5;241m=\u001B[39m bf\u001B[38;5;241m.\u001B[39mtrainers\u001B[38;5;241m.\u001B[39mTrainer(\n\u001B[0;32m     25\u001B[0m     amortizer\u001B[38;5;241m=\u001B[39mamortizer,\n\u001B[1;32m---> 26\u001B[0m     generative_model\u001B[38;5;241m=\u001B[39m\u001B[43mmodel\u001B[49m,\n\u001B[0;32m     27\u001B[0m     configurator\u001B[38;5;241m=\u001B[39mconfigurator\n\u001B[0;32m     28\u001B[0m )\n",
      "\u001B[1;31mNameError\u001B[0m: name 'model' is not defined"
     ]
    }
   ],
   "execution_count": 47
  },
  {
   "metadata": {},
   "cell_type": "code",
   "outputs": [],
   "execution_count": null,
   "source": "",
   "id": "79aebadab77a3594"
  }
 ],
 "metadata": {
  "kernelspec": {
   "name": "env",
   "language": "python",
   "display_name": "env"
  }
 },
 "nbformat": 5,
 "nbformat_minor": 9
}
