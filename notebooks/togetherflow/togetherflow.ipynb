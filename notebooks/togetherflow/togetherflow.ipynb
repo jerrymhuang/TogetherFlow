{
 "cells": [
  {
   "metadata": {},
   "cell_type": "markdown",
   "source": [
    "# Togetherflow\n",
    "**Emergent agent motion dynamics in immersive rooms**\n",
    "\n",
    "In this notebook, we implement Togetherflow, a computational cognitive model that characterizes the motion pattern of human agents in room-oriented immersive systems (ROIS). "
   ],
   "id": "3160aa9b7b6423b8"
  },
  {
   "metadata": {
    "ExecuteTime": {
     "end_time": "2024-11-07T15:42:30.397341Z",
     "start_time": "2024-11-07T15:42:30.371486Z"
    }
   },
   "cell_type": "code",
   "source": [
    "import numpy as np\n",
    "import pandas as pd\n",
    "import matplotlib.pyplot as plt\n",
    "import seaborn as sns\n",
    "from scipy import stats\n",
    "\n",
    "np.set_printoptions(suppress=True)"
   ],
   "id": "6affc593b86588ae",
   "outputs": [],
   "execution_count": 38
  },
  {
   "metadata": {
    "ExecuteTime": {
     "end_time": "2024-11-07T15:42:35.579890Z",
     "start_time": "2024-11-07T15:42:35.562589Z"
    }
   },
   "cell_type": "code",
   "source": [
    "import tensorflow as tf\n",
    "import bayesflow as bf\n",
    "from bayesflow.simulation import Prior, Simulator, GenerativeModel"
   ],
   "id": "93cad931185e8374",
   "outputs": [],
   "execution_count": 39
  },
  {
   "metadata": {},
   "cell_type": "markdown",
   "source": [
    "## Generative Model Definition\n",
    "\n",
    "The movement of any agent $a = 1, ..., A$ is both related to: 1) its interaction with surrounding neighbors $i = 1, ..., I$, which we call *internal influence*, and 2) their motivation to the surrounding spatial objects $j = 1, ..., J$, which we call *external influence*. These influences are modulated by a stationary weight, $w_a$:\n",
    "\n",
    "\\begin{equation}\n",
    "    \\theta_{a, t} = w_a \\theta_{a|j, t} + (1 - w_a) \\theta_{a|i, t}.\n",
    "\\end{equation}"
   ],
   "id": "9658492a077e97a0"
  },
  {
   "metadata": {},
   "cell_type": "markdown",
   "source": [
    "### Agent Initialization\n",
    "\n",
    "First, we initialize the agents with a randomized position and orientation, both uniformly distributed."
   ],
   "id": "efa1ed5c2b67daf7"
  },
  {
   "metadata": {
    "ExecuteTime": {
     "end_time": "2024-11-04T14:41:23.671446Z",
     "start_time": "2024-11-04T14:41:23.649416Z"
    }
   },
   "cell_type": "code",
   "source": [
    "def initialize_agents(\n",
    "        num_agents=12,\n",
    "        boundary_size=np.array([10.0, 10.0]),\n",
    "):\n",
    "    \"\"\"\n",
    "    Initialize agent positions and directions.\n",
    "    \n",
    "    Parameters\n",
    "    ----------\n",
    "    num_agents      : int, default: 12\n",
    "        Number of agents to initialize. \n",
    "    boundary_size   : float, default: 10.0\n",
    "        Size of the boundary (in meters).\n",
    "    \n",
    "    Returns\n",
    "    -------\n",
    "    positions      : np.ndarray of shape (num_agents, 2)\n",
    "        Initial positions of the agents.\n",
    "    directions      : np.ndarray of shape (num_agents, )\n",
    "        Initial directions of the agents. \n",
    "    \"\"\"\n",
    "    positions = np.random.uniform(-0.5, 0.5, size=(num_agents, 2)).astype(np.float32) * boundary_size\n",
    "    directions = np.random.random(size=num_agents).astype(np.float32) * 2 * np.pi\n",
    "\n",
    "    return positions, directions"
   ],
   "id": "51952cb988f59d1e",
   "outputs": [],
   "execution_count": 12
  },
  {
   "metadata": {
    "ExecuteTime": {
     "end_time": "2024-11-04T14:41:24.187690Z",
     "start_time": "2024-11-04T14:41:24.163169Z"
    }
   },
   "cell_type": "code",
   "source": [
    "agent_positions, agent_directions = initialize_agents(boundary_size=[8.0, 10.0])\n",
    "np.cos(agent_directions)"
   ],
   "id": "821eaed55db551a3",
   "outputs": [
    {
     "data": {
      "text/plain": [
       "array([-0.12218574, -0.5637412 ,  0.3374026 , -0.06251641, -0.21798463,\n",
       "        0.21529771, -0.99850345, -0.99885005,  0.97555757,  0.8916326 ,\n",
       "        0.9976422 ,  0.1935969 ], dtype=float32)"
      ]
     },
     "execution_count": 13,
     "metadata": {},
     "output_type": "execute_result"
    }
   ],
   "execution_count": 13
  },
  {
   "metadata": {
    "ExecuteTime": {
     "end_time": "2024-11-04T15:06:01.981014Z",
     "start_time": "2024-11-04T15:06:01.802412Z"
    }
   },
   "cell_type": "code",
   "source": [
    "from matplotlib.patches import FancyBboxPatch\n",
    "\n",
    "fig, ax = plt.subplots(1, 1, figsize=(7, 8))\n",
    "\n",
    "# Create a rounded rectangle with translucent face color\n",
    "rounded_rect = FancyBboxPatch(\n",
    "    (-5, -6),       # Lower left corner\n",
    "    width=10.,        # Width\n",
    "    height=12.,       # Height\n",
    "    boxstyle=\"round,pad=0.1,rounding_size=1.5\",  # Rounded box\n",
    "    edgecolor=(0.53, 0.81, 0.92, 1),\n",
    "    facecolor=(0.53, 0.81, 0.92, 0.2),\n",
    "    linewidth=3,\n",
    "    alpha=0.2         # Set opacity level (0 is fully transparent, 1 is fully opaque)\n",
    ")\n",
    "\n",
    "ax.add_patch(rounded_rect)\n",
    "ax.quiver(\n",
    "    agent_positions[:, 0], agent_positions[:, 1], \n",
    "    np.cos(agent_directions), np.sin(agent_directions), \n",
    "    angles='xy', scale_units=\"xy\", \n",
    "    scale=4, width=0.005\n",
    ")\n",
    "ax.scatter(agent_positions[:, 0], agent_positions[:, 1], c='g', s=10)\n",
    "ax.set_xlim([-7, 7])\n",
    "ax.set_ylim([-8, 8])"
   ],
   "id": "c6e251f22f1ce3fc",
   "outputs": [
    {
     "data": {
      "text/plain": [
       "(-8.0, 8.0)"
      ]
     },
     "execution_count": 22,
     "metadata": {},
     "output_type": "execute_result"
    },
    {
     "data": {
      "text/plain": [
       "<Figure size 700x800 with 1 Axes>"
      ],
      "image/png": "[encoded data removed]"
     },
     "metadata": {},
     "output_type": "display_data"
    }
   ],
   "execution_count": 22
  },
  {
   "metadata": {},
   "cell_type": "markdown",
   "source": [
    "### Beacon initialization\n",
    "\n",
    "To motivate the agents, we need a set of virtual beacons that are populated within the environment. The beacons are represented more freely, with only positions needed."
   ],
   "id": "d32f0945c82f1da0"
  },
  {
   "metadata": {
    "ExecuteTime": {
     "end_time": "2024-11-07T23:56:39.505346Z",
     "start_time": "2024-11-07T23:56:39.483294Z"
    }
   },
   "cell_type": "code",
   "source": [
    "def initialize_beacons(\n",
    "        num_beacons = 10,\n",
    "        environment_size = 50.\n",
    "):\n",
    "    \n",
    "    \"\"\"\n",
    "    Initialize beacons.\n",
    "    \n",
    "    Parameters\n",
    "    ----------\n",
    "    num_beacons : int, default: 10\n",
    "        Number of beacons to initialize.\n",
    "    environment_size : float, default: 50.0\n",
    "        Size of the environment for the generation of beacons.\n",
    "    \n",
    "    Returns\n",
    "    -------\n",
    "    beacons      : np.ndarray of shape (num_beacons, 2)\n",
    "        Initial positions of the beacons. \n",
    "    \"\"\"\n",
    "    \n",
    "    beacons = np.random.uniform(-0.5, 0.5, size=(num_beacons, 2)).astype(np.float32) * environment_size\n",
    "    return beacons"
   ],
   "id": "82551c4e3ba9a4bc",
   "outputs": [],
   "execution_count": 42
  },
  {
   "metadata": {
    "ExecuteTime": {
     "end_time": "2024-11-07T23:57:31.224051Z",
     "start_time": "2024-11-07T23:57:31.207500Z"
    }
   },
   "cell_type": "code",
   "source": [
    "beacons = initialize_beacons(num_beacons=1, environment_size=100.0)\n",
    "beacons"
   ],
   "id": "60132b526bc8340c",
   "outputs": [
    {
     "data": {
      "text/plain": [
       "array([[-21.471886,  13.024135]], dtype=float32)"
      ]
     },
     "execution_count": 44,
     "metadata": {},
     "output_type": "execute_result"
    }
   ],
   "execution_count": 44
  },
  {
   "metadata": {},
   "cell_type": "code",
   "outputs": [],
   "execution_count": null,
   "source": "",
   "id": "7b9e9ffb739ea532"
  },
  {
   "metadata": {},
   "cell_type": "markdown",
   "source": [
    "## Internal Influence\n",
    "\n",
    "We want to compute the influence of agent movement direction within a single time step. For this, we specify our internal influence as a 2D drift diffusion model, where the agents are \n",
    "\n",
    "\\begin{equation}\n",
    "    \\theta_{a|j, t} = \\theta_{a|j, t-1} + \\omega_a \\mathrm{d}t + \\mathrm{d}\\phi_t,\n",
    "\\end{equation}\n",
    "\n",
    "\\begin{align}\n",
    "    \\mathrm{d}\\mathbf{x}_{a|j, t} \n",
    "    &= v_{a|j}\\mathrm{d}t \\frac{\\mathbf{x}_{a|j}}{||\\mathbf{x}_{a|j}||} + \\sigma_{a|j} \\mathrm{d}\\mathrm{W}_t \\\\\n",
    "    &= v_{a}\\mathrm{d}t     \n",
    "    \\begin{bmatrix}\n",
    "        \\cos \\theta_{a|j, t} \\\\\n",
    "        \\sin \\theta_{a|j, t}\n",
    "    \\end{bmatrix} + \\sigma_{a|j} \\mathrm{d}\\mathrm{W}_t,% \\sqrt{\\mathrm{d}t} Z_t.\n",
    "\\end{align}"
   ],
   "id": "e9542ab4709c2797"
  },
  {
   "metadata": {
    "ExecuteTime": {
     "end_time": "2024-11-07T23:50:24.138788Z",
     "start_time": "2024-11-07T23:50:24.116721Z"
    }
   },
   "cell_type": "code",
   "source": [
    "def internal_influence(\n",
    "        target_position,\n",
    "        agent_position,\n",
    "        agent_rotation,\n",
    "        movement_speed,\n",
    "        rotation_speed,\n",
    "        noise_level,\n",
    "        dt = 1.      \n",
    "):\n",
    "    \"\"\"\n",
    "    Internally influence the agent's position and direction for a single time step\n",
    "    given the target position and rotation speeds.\n",
    "    \n",
    "    Parameters\n",
    "    ----------\n",
    "    target_position : np.ndarray of shape (2,)\n",
    "        Position of the agent's target.\n",
    "    agent_position : np.ndarray of shape (2,)\n",
    "        Position of the agent.\n",
    "    agent_rotation : float\n",
    "        Orientation of the agent.\n",
    "    movement_speed : float\n",
    "        Speed of the agent's movement.\n",
    "    rotation_speed : float\n",
    "        Speed of the agent's rotation.\n",
    "    noise_level : float\n",
    "        Rotational noise level of the agent.\n",
    "    dt : float, default: 1.\n",
    "        Time step of the simulation.\n",
    "    \n",
    "    Returns\n",
    "    -------\n",
    "    new_position : np.ndarray of shape (2,)\n",
    "        Updated position of the agent.\n",
    "    new_rotation : float\n",
    "        Updated orientation of the agent.\n",
    "    \"\"\"\n",
    "    \n",
    "    \n",
    "    # Declare new agent positions and rotation\n",
    "    new_position = agent_position\n",
    "    new_rotation = agent_rotation\n",
    "    \n",
    "    # Compute relative orientation between the agent and the look-at target\n",
    "    target_orientation = np.arctan2(\n",
    "        target_position[1] - agent_position[1], \n",
    "        target_position[0] - agent_position[0]\n",
    "    )\n",
    "    \n",
    "    # Calculate drift rate and noise\n",
    "    drift = rotation_speed * (target_orientation - agent_rotation) * dt\n",
    "    noise = np.random.vonmises(mu=0, kappa=1 / (noise_level * noise_level))\n",
    "    \n",
    "    # Update and normalize agent rotation\n",
    "    new_rotation += drift + noise\n",
    "    new_rotation = (new_rotation + np.pi) % (2 * np.pi) - np.pi\n",
    "    \n",
    "    # Update agent position\n",
    "    new_position[0] += movement_speed * np.cos(new_rotation) * dt\n",
    "    new_position[1] += movement_speed * np.sin(new_rotation) * dt\n",
    "    \n",
    "    return new_position, new_rotation"
   ],
   "id": "aedf94caf15f19b4",
   "outputs": [],
   "execution_count": 41
  },
  {
   "metadata": {},
   "cell_type": "code",
   "outputs": [],
   "execution_count": null,
   "source": "beacon_positions = initialize_beacon()",
   "id": "817c4e1d21589ac9"
  },
  {
   "metadata": {},
   "cell_type": "markdown",
   "source": [
    "### External Influence\n",
    "\n",
    "Its influence by a collective group of agents is modeled as a self-propelling particle system:\n",
    "\n",
    "\\begin{align}\n",
    "    \\theta_{a|i, t} &= \\langle \\theta_{i, t}\\rangle_{|\\mathbf{x}_a - \\mathbf{x}_i| < r_a, i \\in I} + \\eta_{a,t-1}, \\\\\n",
    "    \\mathrm{d} \\mathbf{x}_{a|i,t} &= v_{a,t} \\mathrm{d}t\n",
    "    \\begin{bmatrix}\n",
    "        \\cos \\theta_{a|i, t} \\\\\n",
    "        \\sin \\theta_{a|i, t}\n",
    "    \\end{bmatrix},\n",
    "\\end{align}"
   ],
   "id": "b7ed437861fa154d"
  },
  {
   "metadata": {},
   "cell_type": "markdown",
   "source": "",
   "id": "d495d82d20a3c76f"
  },
  {
   "metadata": {},
   "cell_type": "code",
   "outputs": [],
   "execution_count": null,
   "source": [
    "def agent_simulator(\n",
    "    theta,\n",
    "    num_agents=12,\n",
    "    num_timesteps=100,\n",
    "    boundary_size=10.0,\n",
    "):\n",
    "    \"\"\"\n",
    "    Simulate the movement trajectory of the agent, \n",
    "    as governed by the Vicsek model.\n",
    "    \n",
    "    Parameters\n",
    "    ----------\n",
    "    theta : np.ndarray of shape (2, )\n",
    "        Sampled priors for the model, including the \n",
    "        base sensing radius (r) and walking speed (v)\n",
    "        of the agents.\n",
    "    num_agents     : int, default: 12\n",
    "        Number of agents to simulate.\n",
    "    num_timesteps   : int, default: 100\n",
    "        Number of timesteps to simulate.\n",
    "    boundary_size   : float, default: 10.0\n",
    "        Size of the simulation boundary (in meters).\n",
    "    \n",
    "    Returns\n",
    "    -------\n",
    "    A concatenated NumPy array of combined trajectory \n",
    "    and direction of the agents as timeseries.\n",
    "    \"\"\"\n",
    "    \n",
    "    \n",
    "    # Unpack priors\n",
    "    r = theta[0]\n",
    "    v = theta[1]\n",
    "    w = theta[2]\n",
    "    drift = theta[3]\n",
    "    \n",
    "    # Scale radius with half of boundary size (for realism)\n",
    "    radius = r * boundary_size * 0.5\n",
    "\n",
    "    # Store trajectories and headings\n",
    "    paths = np.zeros((num_timesteps + 1, num_agents, 2))\n",
    "    headings = np.zeros((num_timesteps + 1, num_agents, 1))\n",
    "\n",
    "    # Initialize positions and directions for each agent\n",
    "    positions, directions = initialize_agents(num_agents, boundary_size)\n",
    "    paths[0] = positions\n",
    "    headings[0] = directions[:, np.newaxis]\n",
    "    \n",
    "    # Initialize beacons\n",
    "    beacon_positions = initialize_beacons()\n",
    "\n",
    "    # Loop over each timestep\n",
    "    for t in range(num_timesteps):\n",
    "        \n",
    "        # For each timestep, initialize directions for the agents\n",
    "        new_directions = np.zeros(num_agents)\n",
    "        \n",
    "        # For each agent, collect neighbors within its sensing range\n",
    "        for i in range(num_agents):\n",
    "            relative_positions = positions - beacon_positions[i]\n",
    "            \n",
    "            neighbors = []\n",
    "            # If there are any neighbors, average over their directions \n",
    "            # and assign it as the new direction. \n",
    "            for j in range(num_agents):\n",
    "                if i != j and np.linalg.norm(positions[i] - positions[j]) < radius:\n",
    "                    neighbors.append(directions[j])\n",
    "            if neighbors:\n",
    "                avg_direction = np.mean(np.array(neighbors))\n",
    "                new_directions[i] = avg_direction + np.random.uniform(-0.01, 0.01)\n",
    "            else:\n",
    "                new_directions[i] = directions[i] \n",
    "\n",
    "        directions = np.copy(new_directions)\n",
    "        \n",
    "        # Update position upon new direction\n",
    "        positions[:,0] += w * v * np.cos(directions) + (1 - w) * drift * np.sin(directions)\n",
    "        positions[:,1] += w * v * np.sin(directions) + (1 - w) * drift * np.cos(directions)\n",
    "        \n",
    "        # Assumes periodic boundary condition (for now)\n",
    "        positions = np.mod(np.copy(positions), boundary_size)\n",
    "\n",
    "        # Add timestamps to trajectories and headings\n",
    "        paths[t + 1] = np.copy(positions)\n",
    "        headings[t + 1] = np.copy(directions[:, np.newaxis])\n",
    "\n",
    "    return np.concatenate((paths, headings), axis=-1)"
   ],
   "id": "60f464b08cd327f2"
  }
 ],
 "metadata": {
  "kernelspec": {
   "name": "env",
   "language": "python",
   "display_name": "env"
  }
 },
 "nbformat": 5,
 "nbformat_minor": 9
}
