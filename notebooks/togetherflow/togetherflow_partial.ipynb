{
 "cells": [
  {
   "metadata": {},
   "cell_type": "markdown",
   "source": [
    "# Togetherflow: Partial Pooling\n",
    "**Emergent agent motion dynamics in immersive rooms**\n",
    "\n",
    "In this notebook, we implement Togetherflow, a computational cognitive model that characterizes the motion pattern of human agents in immersive rooms."
   ],
   "id": "ec5d25f2ecfd9f0c"
  },
  {
   "cell_type": "code",
   "id": "initial_id",
   "metadata": {
    "collapsed": true,
    "ExecuteTime": {
     "end_time": "2024-12-09T17:46:53.889939Z",
     "start_time": "2024-12-09T17:46:53.877664Z"
    }
   },
   "source": [
    "import numpy as np\n",
    "import matplotlib.pyplot as plt\n",
    "import matplotlib.animation as animation\n",
    "import seaborn as sns\n",
    "\n",
    "\n",
    "from scipy import stats\n",
    "from IPython.display import HTML\n",
    "from numba import njit\n",
    "from functools import partial\n",
    "\n",
    "np.set_printoptions(suppress=True)"
   ],
   "outputs": [],
   "execution_count": 16
  },
  {
   "metadata": {
    "ExecuteTime": {
     "end_time": "2024-12-09T21:05:09.959578Z",
     "start_time": "2024-12-09T21:05:09.939584Z"
    }
   },
   "cell_type": "code",
   "source": [
    "import tensorflow as tf\n",
    "import bayesflow as bf\n",
    "\n",
    "from bayesflow.simulation import Prior, Simulator, GenerativeModel\n",
    "# from bayesflow.simulation import TwoLevelPrior, Simulator, TwoLevelGenerativeModel\n",
    "\n",
    "from functools import partial"
   ],
   "id": "6f3ee90314c7f80a",
   "outputs": [],
   "execution_count": 30
  },
  {
   "metadata": {},
   "cell_type": "markdown",
   "source": [
    "## Generative Model Definition\n",
    "\n",
    "The movement of any agent $a = 1, ..., A$ is both related to: 1) its interaction with surrounding neighbors $i = 1, ..., I$, which we call *internal influence*, and 2) their motivation to the surrounding spatial objects $j = 1, ..., J$, which we call *external influence*. These influences are modulated by a stationary weight, $w_a$:\n",
    "\n",
    "\\begin{equation}\n",
    "    \\theta_{a, t} = w_a \\theta_{a|j, t} + (1 - w_a) \\theta_{a|i, t}.\n",
    "\\end{equation}"
   ],
   "id": "a09afe3ad59c086c"
  },
  {
   "metadata": {},
   "cell_type": "markdown",
   "source": [
    "### Meta-Variables\n",
    "\n",
    "First, we define some meta-variables, such as the number of agents to simulate, the number of spatial beacons present in the environment, etc."
   ],
   "id": "95359faf1b874a3d"
  },
  {
   "metadata": {
    "ExecuteTime": {
     "end_time": "2024-12-09T21:05:13.280874Z",
     "start_time": "2024-12-09T21:05:13.272916Z"
    }
   },
   "cell_type": "code",
   "source": [
    "num_agents = 12\n",
    "num_beacons = 2\n",
    "room_size = (8., 10.)\n",
    "world_size = 25."
   ],
   "id": "412e662d0bd884a",
   "outputs": [],
   "execution_count": 31
  },
  {
   "metadata": {},
   "cell_type": "markdown",
   "source": "## Hyperpriors and priors",
   "id": "e0042d5c7e8fb0b1"
  },
  {
   "metadata": {
    "ExecuteTime": {
     "end_time": "2024-12-09T21:05:14.734013Z",
     "start_time": "2024-12-09T21:05:14.715499Z"
    }
   },
   "cell_type": "code",
   "source": [
    "@njit\n",
    "def partial_pooling_prior_fun():\n",
    "    \n",
    "    alpha_r = np.random.random() * 9 + 1\n",
    "    alpha_v = np.random.random() * 4 + 1\n",
    "    beta_v = np.random.random() * 4 + 1\n",
    "    alpha_w = np.random.random() * 4 + 1\n",
    "    beta_w = np.random.random() * 4 + 1\n",
    "    \n",
    "    return np.array([alpha_r, alpha_v, alpha_w, beta_v, beta_w]).astype(np.float32)"
   ],
   "id": "629bc5408bba677f",
   "outputs": [],
   "execution_count": 32
  },
  {
   "metadata": {
    "ExecuteTime": {
     "end_time": "2024-12-09T21:05:15.873448Z",
     "start_time": "2024-12-09T21:05:15.856334Z"
    }
   },
   "cell_type": "code",
   "source": [
    "@njit\n",
    "def prior_fun(hyperpriors, num_agents=12):\n",
    "    \n",
    "    # Unpacking hyperpriors\n",
    "    alpha_r = hyperpriors[0]\n",
    "    alpha_v = hyperpriors[1]\n",
    "    beta_v = hyperpriors[2]\n",
    "    alpha_w = hyperpriors[3]\n",
    "    beta_w = hyperpriors[4]\n",
    "    \n",
    "    priors = np.empty((num_agents, 5), dtype=np.float32)\n",
    "    \n",
    "    for i in range(num_agents):\n",
    "        weight = np.random.beta(alpha_w, beta_w)\n",
    "        radius = np.random.gamma(alpha_r, 1)\n",
    "        v = np.random.beta(alpha_v, beta_v)\n",
    "        external_focus = np.random.vonmises(np.pi, 8.) - np.pi\n",
    "        internal_focus = np.random.vonmises(np.pi, 16.) - np.pi\n",
    "        priors[i] = np.array([weight, radius, v, external_focus, internal_focus], dtype=np.float32)\n",
    "        \n",
    "    return priors"
   ],
   "id": "6b2a6a245af569cc",
   "outputs": [],
   "execution_count": 33
  },
  {
   "metadata": {
    "ExecuteTime": {
     "end_time": "2024-12-09T21:05:23.266901Z",
     "start_time": "2024-12-09T21:05:23.252528Z"
    }
   },
   "cell_type": "code",
   "source": [
    "prior = bf.simulation.TwoLevelPrior(\n",
    "    hyper_prior_fun=partial_pooling_prior_fun,\n",
    "    local_prior_fun=prior_fun\n",
    ")"
   ],
   "id": "bb06e44410c05d0a",
   "outputs": [],
   "execution_count": 34
  },
  {
   "metadata": {
    "ExecuteTime": {
     "end_time": "2024-12-09T21:05:51.632787Z",
     "start_time": "2024-12-09T21:05:51.619240Z"
    }
   },
   "cell_type": "code",
   "source": [
    "prior_sim = prior(1)\n",
    "prior_sim['local_parameters'].shape"
   ],
   "id": "d8df719acb9fad45",
   "outputs": [
    {
     "data": {
      "text/plain": [
       "(1, 12, 5)"
      ]
     },
     "execution_count": 37,
     "metadata": {},
     "output_type": "execute_result"
    }
   ],
   "execution_count": 37
  },
  {
   "metadata": {},
   "cell_type": "markdown",
   "source": [
    "### Agent Initialization\n",
    "First, we initialize the agents with a randomized position and orientation, both uniformly distributed."
   ],
   "id": "946c3a8ad7c1020b"
  },
  {
   "metadata": {
    "ExecuteTime": {
     "end_time": "2024-12-09T17:47:17.720760Z",
     "start_time": "2024-12-09T17:47:17.688823Z"
    }
   },
   "cell_type": "code",
   "source": [
    "@njit\n",
    "def initialize_agents(\n",
    "    num_agents: int = 12, \n",
    "    room_size: tuple = (8., 10.),\n",
    "):\n",
    "    \"\"\"\n",
    "    Generate random positions and orientations for agents.\n",
    "\n",
    "    Parameters\n",
    "    ----------\n",
    "    num_agents : int, optional\n",
    "        Number of agents to generate (default is 100).\n",
    "    room_size : float, optional\n",
    "        The size of the boundary within which positions are generated (default is 100.0).\n",
    "\n",
    "    Returns\n",
    "    -------\n",
    "    tuple of np.ndarray\n",
    "        A tuple containing the positions (np.ndarray) and orientations (np.ndarray) of the agents.\n",
    "    \"\"\"\n",
    "    \n",
    "    # Generate random positions within the boundary size centered at 0\n",
    "    x = (np.random.random(size=num_agents).astype(np.float32) - 0.5) * room_size[0]\n",
    "    y = (np.random.random(size=num_agents).astype(np.float32) - 0.5) * room_size[1]\n",
    "    positions = np.vstack((x, y)).T\n",
    "    \n",
    "    # Generate random orientations (angles in radians between 0 and 2*pi)\n",
    "    rotations = np.random.random(size=(num_agents, )).astype(np.float32) * np.pi * 2\n",
    "    \n",
    "    return positions.astype(np.float32), rotations.astype(np.float32)"
   ],
   "id": "4f404bcb3061544",
   "outputs": [],
   "execution_count": 19
  },
  {
   "metadata": {},
   "cell_type": "markdown",
   "source": [
    "### Beacon initialization\n",
    "\n",
    "To intrinsically motivate the agents, we need a set of virtual beacons that are populated within the environment. The beacons have a freer representation with only positions needed."
   ],
   "id": "c8523e5fa3d56cdf"
  },
  {
   "metadata": {
    "ExecuteTime": {
     "end_time": "2024-12-09T17:47:23.519165Z",
     "start_time": "2024-12-09T17:47:23.507163Z"
    }
   },
   "cell_type": "code",
   "source": [
    "@njit\n",
    "def initialize_beacons(\n",
    "        num_beacons = 10,\n",
    "        room_sensing_range = 50.\n",
    "):\n",
    "    \n",
    "    \"\"\"\n",
    "    Initialize beacons following a uniform distribution scaled to the room's sensing boundary\n",
    "    \n",
    "    Parameters\n",
    "    ----------\n",
    "    num_beacons : int, default: 10\n",
    "        Number of beacons to initialize.\n",
    "    room_sensing_range : float, default: 50.0\n",
    "        Size of the environment for the generation of beacons.\n",
    "    \n",
    "    Returns\n",
    "    -------\n",
    "    beacons      : np.ndarray of shape (num_beacons, 2)\n",
    "        Initial positions of the beacons. \n",
    "    \"\"\"\n",
    "    \n",
    "    beacons = (np.random.random(size=(num_beacons, 2)) - 0.5) * room_sensing_range\n",
    "    return beacons.astype(np.float32)"
   ],
   "id": "38b3585336753b1e",
   "outputs": [],
   "execution_count": 20
  },
  {
   "metadata": {},
   "cell_type": "markdown",
   "source": [
    "## External Influence: drift-diffusion vector\n",
    "\n",
    "We want to compute the influence of agent movement direction within a single time step. For this, we specify our internal influence as a 2D drift diffusion model, where the agents are approach a spatial beacon within the room's boundary by reorienting its locomotive direction.\n",
    "\n",
    "\\begin{equation}\n",
    "    \\theta_{a|j, t} = \\theta_{a|j, t-1} + \\omega_a \\mathrm{d}t + \\mathrm{d}\\phi_t,\n",
    "\\end{equation}\n",
    "\n",
    "\\begin{align}\n",
    "    \\mathrm{d}\\mathbf{x}_{a|j, t} \n",
    "    &= v_{a|j}\\mathrm{d}t \\frac{\\mathbf{x}_{a|j}}{||\\mathbf{x}_{a|j}||} + \\sigma_{a|j} \\mathrm{d}\\mathrm{W}_t \\\\\n",
    "    &= v_{a}\\mathrm{d}t     \n",
    "    \\begin{bmatrix}\n",
    "        \\cos \\theta_{a|j, t} \\\\\n",
    "        \\sin \\theta_{a|j, t}\n",
    "    \\end{bmatrix} + \\sigma_{a|j} \\mathrm{d}\\mathrm{W}_t,% \\sqrt{\\mathrm{d}t} Z_t.\n",
    "\\end{align}"
   ],
   "id": "abd398a2985b3af7"
  },
  {
   "metadata": {
    "ExecuteTime": {
     "end_time": "2024-12-09T03:55:43.633880Z",
     "start_time": "2024-12-09T03:55:43.615121Z"
    }
   },
   "cell_type": "code",
   "source": [
    "@njit\n",
    "def external_influence( \n",
    "    agent_position,\n",
    "    target_position,\n",
    "    noise = 0.1\n",
    "):\n",
    "    \"\"\"\n",
    "    Generate a drift-diffusion vector in 2D space for a single agent \n",
    "    based on a target location (in this case, the position of a beacon).\n",
    "\n",
    "    Parameters\n",
    "    ----------\n",
    "    agent_position : np.ndarray\n",
    "        The position of the agent.\n",
    "    target_position : np.ndarray\n",
    "        The position of the target beacon.\n",
    "    noise : float, optional\n",
    "        The rate of diffusion, which determines the variability of the direction (default is 0.1).\n",
    "\n",
    "    Returns\n",
    "    -------\n",
    "    np.ndarray\n",
    "        A 2D vector representing the drift-diffusion process towards the target (beacon).\n",
    "    \"\"\"\n",
    "    # Calculate the angle towards the beacon (in radian)\n",
    "    target_angle = np.arctan2(\n",
    "        target_position[1] - agent_position[1], \n",
    "        target_position[0] - agent_position[0]\n",
    "    )\n",
    "    \n",
    "    # Generate a random direction with drift around the target angle\n",
    "    direction = np.random.vonmises(mu=target_angle, kappa=noise)\n",
    "    \n",
    "    # Convert the angle to a unit vector in 2D space\n",
    "    v = np.array([np.cos(direction), np.sin(direction)], dtype=np.float32)\n",
    "    \n",
    "    return v"
   ],
   "id": "baee136816ec7fd5",
   "outputs": [],
   "execution_count": 6
  },
  {
   "metadata": {},
   "cell_type": "markdown",
   "source": [
    "## Internal Influence: particle dynamics\n",
    "\n",
    "Its influence by a collective group of agents is modeled as a self-propelling particle system, as expressed in the Vicsek model:\n",
    "\n",
    "\\begin{align}\n",
    "    \\theta_{a|i, t} &= \\langle \\theta_{i, t}\\rangle_{|\\mathbf{x}_a - \\mathbf{x}_i| < r_a, i \\in I} + \\eta_{a,t-1}, \\\\\n",
    "    \\mathrm{d} \\mathbf{x}_{a|i,t} &= v_{a,t} \\mathrm{d}t\n",
    "    \\begin{bmatrix}\n",
    "        \\cos \\theta_{a|i, t} \\\\\n",
    "        \\sin \\theta_{a|i, t}\n",
    "    \\end{bmatrix},\n",
    "\\end{align}"
   ],
   "id": "d993e6f6dfdb3038"
  },
  {
   "metadata": {
    "ExecuteTime": {
     "end_time": "2024-12-09T03:56:18.875229Z",
     "start_time": "2024-12-09T03:56:18.860094Z"
    }
   },
   "cell_type": "code",
   "source": [
    "@njit \n",
    "def internal_influence(\n",
    "        self_position,\n",
    "        other_positions,\n",
    "        other_rotations,\n",
    "        sensing_radius = 1.5,\n",
    "        noise = 0.1\n",
    "):\n",
    "    \"\"\"\n",
    "    Generate an influence vector for a single agent \n",
    "    based on the angular component of the Vicsek model.\n",
    "\n",
    "    Parameters\n",
    "    ----------\n",
    "    self_position : np.ndarray of shape (2,)\n",
    "        A 2D vector representing the position of the agent\n",
    "    neighbor_positions : np.ndarray of shape (2,)\n",
    "        A 2D vector representing the positions of the neighboring agents.\n",
    "    neighbor_rotations : np.ndarray of shape (2,)\n",
    "        A 2D vector representing the rotations of the neighboring agents.\n",
    "    sensing_radius : float\n",
    "        The sensing radius within which agents interact with their neighbors.\n",
    "    noise : float, optional\n",
    "        The level of noise to add to the average direction (default is 0.1).\n",
    "\n",
    "    Returns\n",
    "    -------\n",
    "    np.ndarray\n",
    "        A 2D unit vector representing the averaged influence direction with added noise.\n",
    "    \"\"\"\n",
    "      \n",
    "    neighbor_rotations = []\n",
    "    \n",
    "    for i in range(len(other_positions)):\n",
    "        dx = other_positions[i, 0] - self_position[0]\n",
    "        dy = other_positions[i, 1] - self_position[1]\n",
    "        d = (dx ** 2 + dy ** 2) ** 0.5\n",
    "        \n",
    "        if d <= sensing_radius and d > 0:\n",
    "            neighbor_rotations.append(other_rotations[i])\n",
    "            \n",
    "    if len(neighbor_rotations) == 0:\n",
    "        return np.array([0.0, 0.0], dtype=np.float32)\n",
    "    \n",
    "    neighbor_rotations = np.array(neighbor_rotations)\n",
    "    averaged_rotation = np.sum(neighbor_rotations) / len(neighbor_rotations)\n",
    "    \n",
    "    noise_rotation = (np.random.random() - 0.5) * 2 * noise\n",
    "    direction = averaged_rotation + noise_rotation\n",
    "    \n",
    "    v = np.array([np.cos(direction), np.sin(direction)], dtype=np.float32) \n",
    "    \n",
    "    return v"
   ],
   "id": "5e92d44292218f7f",
   "outputs": [],
   "execution_count": 7
  },
  {
   "metadata": {},
   "cell_type": "markdown",
   "source": [
    "## Putting everything together: combined influences\n",
    "\n",
    "The combined influences allow us to update the agents' positions and rotations together."
   ],
   "id": "13c0b15cd53302c3"
  },
  {
   "metadata": {},
   "cell_type": "code",
   "outputs": [],
   "execution_count": null,
   "source": [
    "@njit\n",
    "def update_agents(\n",
    "    agent_positions: np.ndarray = None, \n",
    "    agent_rotations: np.ndarray = None,\n",
    "    beacon_positions: np.ndarray = None,\n",
    "    velocity: float = 1.0, \n",
    "    sensing_radius: float = 2.5,\n",
    "    dt: float = 0.1, \n",
    "    influence_weight: float = 0.5,\n",
    "    external_noise: float = 0.1,\n",
    "    internal_noise: float = 0.1\n",
    "):\n",
    "    \"\"\"\n",
    "    Update the positions and orientations of a single agent \n",
    "    based on velocity and influence vectors.\n",
    "\n",
    "    Parameters\n",
    "    ----------\n",
    "    agent_positions : np.ndarray\n",
    "        Current positions of the agents.\n",
    "    agent_rotations : np.ndarray\n",
    "        Current orientations of the agents.\n",
    "    velocity : float, optional\n",
    "        The speed at which agents move (default is 1.0).\n",
    "    sensing_radius : float, optional\n",
    "        The sensing radius within which agents interact with their neighbors.\n",
    "    dt : float, optional\n",
    "        The time step for updating positions and orientations (default is 0.1).\n",
    "    influence_weight : float, optional\n",
    "        The weight of influence_vector1 in determining new orientations (default is 0.7).\n",
    "\n",
    "    Returns\n",
    "    -------\n",
    "    tuple of np.ndarray\n",
    "        Updated positions (np.ndarray) and orientations (np.ndarray) of the agents.\n",
    "    \"\"\"\n",
    "    \n",
    "    assert (len(agent_positions) == len(agent_rotations))\n",
    "    \n",
    "    num_agents = agent_positions.shape[0]\n",
    "    num_beacons = beacon_positions.shape[0]\n",
    "    \n",
    "    # Create new numpy arrays for the updated agent positions and rotations\n",
    "    new_agent_positions = np.zeros((num_agents, 2))\n",
    "    new_agent_rotations = np.zeros((num_agents, ))\n",
    "    \n",
    "    for i in range(num_agents):\n",
    "        # Generate the ddm vector for the agent based on its closest beacon\n",
    "        distance_to_beacon = []\n",
    "        \n",
    "        for b in range(num_beacons):\n",
    "            bx = beacon_positions[b, 0] - agent_positions[i, 0]\n",
    "            by = beacon_positions[b, 1] - agent_positions[i, 1]\n",
    "            distance_to_beacon.append((bx * bx + by * by) ** 0.5)\n",
    "        \n",
    "        beacon_id = np.argmin(np.array(distance_to_beacon))\n",
    "        \n",
    "        ddm_vector = external_influence(\n",
    "            agent_positions[i], \n",
    "            beacon_positions[beacon_id],\n",
    "            noise=external_noise\n",
    "        )\n",
    "        \n",
    "        # Generate the vicsek vector for the agent based on its neighbors (all agents)\n",
    "        vicsek_vector = internal_influence(\n",
    "            self_position=agent_positions[i],\n",
    "            other_positions=agent_positions,\n",
    "            other_rotations=agent_rotations,\n",
    "            sensing_radius=sensing_radius,\n",
    "            noise=internal_noise\n",
    "        )\n",
    "\n",
    "        # Update orientations based on two influence vectors\n",
    "        ddm_influence = np.arctan2(ddm_vector[1], ddm_vector[0])\n",
    "        vicsek_influence = np.arctan2(vicsek_vector[1], vicsek_vector[0])\n",
    "        \n",
    "        # Combine influences to update orientations with different weights\n",
    "        new_agent_rotations[i] = agent_rotations[i] + (influence_weight * ddm_influence + (1 - influence_weight) * vicsek_influence) * dt\n",
    "        \n",
    "        # Ensure orientations are within the range [0, 2*pi]\n",
    "        new_agent_rotations[i] = np.mod(new_agent_rotations[i], 2 * np.pi)\n",
    "        \n",
    "        # Update positions based on current orientations\n",
    "        new_agent_positions[i, 0] = agent_positions[i, 0] + velocity * np.cos(new_agent_rotations[i].item()) * dt\n",
    "        new_agent_positions[i, 1] = agent_positions[i, 1] + velocity * np.sin(new_agent_rotations[i].item()) * dt\n",
    "    \n",
    "    return new_agent_positions, new_agent_rotations"
   ],
   "id": "ed773df5234411fa"
  },
  {
   "metadata": {},
   "cell_type": "markdown",
   "source": [
    "## Simulation Loop\n",
    "The update allows us to continuously simulate the agents' positions and rotations at a given interval"
   ],
   "id": "9fea369e1e7d1750"
  },
  {
   "metadata": {
    "ExecuteTime": {
     "end_time": "2024-12-09T03:58:09.131145Z",
     "start_time": "2024-12-09T03:58:09.118059Z"
    }
   },
   "cell_type": "code",
   "source": [
    "@njit\n",
    "def simulator_fun(\n",
    "    theta = None,\n",
    "    num_agents: int = 12, \n",
    "    num_beacons: int = 1,\n",
    "    room_size: tuple = (8, 10),\n",
    "    velocity: float = 1.0, \n",
    "    dt: float = 0.1, \n",
    "    influence_weight: float = 0.7, \n",
    "    sensing_radius: float = 10.0,\n",
    "    external_noise: float = 0.1,\n",
    "    internal_noise: float = 0.1,\n",
    "    num_timesteps: int = 1000\n",
    "):\n",
    "    \"\"\"\n",
    "    Run the simulation and store the time series of positions and orientations of agents.\n",
    "\n",
    "    Parameters\n",
    "    ----------\n",
    "    num_agents : int, optional\n",
    "        Number of agents to generate (default is 100).\n",
    "    num_beacons : int, optional\n",
    "        Number of beacons to generate (default is 1).\n",
    "    room_size : float, optional\n",
    "        The size of the boundary within which positions are generated (default is 100).\n",
    "    velocity : float, optional\n",
    "        The speed at which agents move (default is 1.0).\n",
    "    dt : float, optional\n",
    "        The time step for the update (default is 0.1).\n",
    "    influence_weight : float, optional\n",
    "        The weight for influence_vector1 in determining new orientations (default is 0.7).\n",
    "    sensing_radius : float, optional\n",
    "        The sensing radius for the Vicsek model (default is 10.0).\n",
    "    num_timesteps : int, optional\n",
    "        The number of steps to simulate (default is 100).\n",
    "\n",
    "    Returns\n",
    "    -------\n",
    "    tuple of np.ndarray\n",
    "        The time series of positions and orientations of the agents.\n",
    "    \"\"\"\n",
    "    \n",
    "    if theta is not None:\n",
    "        influence_weight = theta[0]\n",
    "        sensing_radius = theta[1]\n",
    "        velocity = theta[2]\n",
    "        external_noise = theta[3]\n",
    "        internal_noise = theta[4]\n",
    "    \n",
    "    \n",
    "    # Initialize positions and orientations\n",
    "    initial_positions, initial_rotations = initialize_agents(num_agents, room_size=room_size)\n",
    "\n",
    "    # Initialize arrays to store time series of positions and orientations\n",
    "    positions = np.zeros((num_timesteps, num_agents, 2))\n",
    "    rotations = np.zeros((num_timesteps, num_agents, ))\n",
    "    positions[0] = initial_positions\n",
    "    rotations[0] = initial_rotations\n",
    "    \n",
    "    # Initialize beacons\n",
    "    beacon_positions = initialize_beacons(num_beacons)\n",
    "\n",
    "    # Simulation loop\n",
    "    for t in range(1, num_timesteps):\n",
    "        ps, rs = update_agents(\n",
    "            agent_positions=positions[t-1], \n",
    "            agent_rotations=rotations[t-1], \n",
    "            beacon_positions=beacon_positions, \n",
    "            velocity=velocity, \n",
    "            sensing_radius=sensing_radius, \n",
    "            dt=dt, \n",
    "            influence_weight=influence_weight,\n",
    "            external_noise=external_noise,\n",
    "            internal_noise=internal_noise\n",
    "        )\n",
    "        \n",
    "        # Store positions and orientations for each time step\n",
    "        positions[t] = ps\n",
    "        rotations[t] = rs\n",
    "    \n",
    "    rotations = rotations[:,:,np.newaxis]\n",
    "\n",
    "    return np.concatenate((positions, rotations), axis=-1)"
   ],
   "id": "24bd296bb797e8e0",
   "outputs": [],
   "execution_count": 8
  },
  {
   "metadata": {},
   "cell_type": "markdown",
   "source": "## Partial Pooling Priors",
   "id": "38aaa7708c636209"
  },
  {
   "metadata": {
    "ExecuteTime": {
     "end_time": "2024-12-09T04:03:19.725803Z",
     "start_time": "2024-12-09T04:03:19.720797Z"
    }
   },
   "cell_type": "code",
   "source": [
    "param_names = [\n",
    "    r\"$\\alpha_r$\",\n",
    "    r\"$\\alpha_v$\",\n",
    "    r\"$\\beta_v$\",\n",
    "    r\"$\\alpha_w$\",\n",
    "    r\"$\\beta_w$\"\n",
    "]"
   ],
   "id": "888e4e52d901c151",
   "outputs": [],
   "execution_count": 15
  },
  {
   "metadata": {
    "ExecuteTime": {
     "end_time": "2024-12-09T03:58:47.597404Z",
     "start_time": "2024-12-09T03:58:47.584066Z"
    }
   },
   "cell_type": "code",
   "source": [
    "@njit\n",
    "def partial_pooling_prior_fun():\n",
    "    \n",
    "    alpha_r = np.random.random() * 9 + 1\n",
    "    alpha_v = np.random.random() * 4 + 1\n",
    "    beta_v = np.random.random() * 4 + 1\n",
    "    alpha_w = np.random.random() * 4 + 1\n",
    "    beta_w = np.random.random() * 4 + 1\n",
    "    \n",
    "    return np.array([alpha_r, alpha_v, alpha_w, beta_v, beta_w]).astype(np.float32)"
   ],
   "id": "5c706870d93d42a7",
   "outputs": [],
   "execution_count": 9
  },
  {
   "metadata": {
    "ExecuteTime": {
     "end_time": "2024-12-09T03:59:19.316911Z",
     "start_time": "2024-12-09T03:59:18.288405Z"
    }
   },
   "cell_type": "code",
   "source": [
    "theta = partial_pooling_prior_fun()\n",
    "theta"
   ],
   "id": "ca516950bcdea5d3",
   "outputs": [
    {
     "data": {
      "text/plain": [
       "array([7.6335654, 4.4284935, 1.3069049, 4.97394  , 3.888853 ],\n",
       "      dtype=float32)"
      ]
     },
     "execution_count": 11,
     "metadata": {},
     "output_type": "execute_result"
    }
   ],
   "execution_count": 11
  },
  {
   "metadata": {},
   "cell_type": "markdown",
   "source": "## Partial Pooling Generative Model",
   "id": "28e47cb9af6f2f9b"
  },
  {
   "metadata": {
    "ExecuteTime": {
     "end_time": "2024-12-09T03:59:04.331740Z",
     "start_time": "2024-12-09T03:59:04.313227Z"
    }
   },
   "cell_type": "code",
   "source": "# TODO",
   "id": "708755ac2eee7023",
   "outputs": [],
   "execution_count": 10
  },
  {
   "metadata": {},
   "cell_type": "markdown",
   "source": "# Configurator",
   "id": "5093cdc36301f686"
  },
  {
   "metadata": {
    "ExecuteTime": {
     "end_time": "2024-12-09T03:59:53.976054Z",
     "start_time": "2024-12-09T03:59:53.965074Z"
    }
   },
   "cell_type": "code",
   "source": [
    "def configurator(input_dict: dict = None, transpose: bool = True):\n",
    "    \n",
    "    output_dict = {}\n",
    "    output_dict['parameters'] = input_dict['prior_draws'].astype(np.float32)\n",
    "    x = input_dict['sim_data'] / 10. \n",
    "    if transpose:\n",
    "        x = np.transpose(x, (0, 2, 1, 3))\n",
    "    output_dict['summary_conditions'] = x.astype(np.float32)\n",
    "    return output_dict"
   ],
   "id": "57ed31f6830c39a6",
   "outputs": [],
   "execution_count": 12
  },
  {
   "metadata": {},
   "cell_type": "markdown",
   "source": "# Neural Approximator",
   "id": "628478544ffec3d5"
  },
  {
   "metadata": {
    "ExecuteTime": {
     "end_time": "2024-12-09T04:00:19.480144Z",
     "start_time": "2024-12-09T04:00:18.914017Z"
    }
   },
   "cell_type": "code",
   "source": [
    "# This one generalizes over different numbers of agents\n",
    "summary_net = bf.summary_networks.HierarchicalNetwork([\n",
    "    tf.keras.layers.TimeDistributed(tf.keras.layers.LSTM(units=128)),\n",
    "    bf.networks.SetTransformer(num_inducing_points=None, input_dim=128, summary_dim=64)\n",
    "])\n",
    "\n",
    "inference_net = bf.inference_networks.InvertibleNetwork(\n",
    "    num_params=5, \n",
    "    num_coupling_layers=6,\n",
    "    coupling_design=\"affine\",\n",
    "    coupling_settings={\n",
    "        'kernel_regularizer': None,\n",
    "        'dropout_prob': 0.0\n",
    "    }\n",
    ")\n",
    "\n",
    "\n",
    "amortizer = bf.amortizers.AmortizedPosterior(\n",
    "    summary_net=summary_net, \n",
    "    inference_net=inference_net\n",
    ")"
   ],
   "id": "79e603ae939b5335",
   "outputs": [],
   "execution_count": 14
  },
  {
   "metadata": {},
   "cell_type": "markdown",
   "source": "## Online Training",
   "id": "327f0dc4d8ecd531"
  },
  {
   "metadata": {},
   "cell_type": "code",
   "outputs": [],
   "execution_count": null,
   "source": [
    "trainer = bf.trainers.Trainer(\n",
    "    amortizer=amortizer,\n",
    "    generative_model=model,\n",
    "    configurator=configurator\n",
    ")"
   ],
   "id": "cd2d7e3ef7c83c1"
  },
  {
   "metadata": {},
   "cell_type": "code",
   "outputs": [],
   "execution_count": null,
   "source": "history = trainer.train_online(epochs=3, batch_size=32, iterations_per_epoch=500)",
   "id": "4a3187268a42a566"
  },
  {
   "metadata": {},
   "cell_type": "markdown",
   "source": "",
   "id": "8e205ccddb9b6ad8"
  },
  {
   "metadata": {},
   "cell_type": "markdown",
   "source": "## Diagnostics",
   "id": "7b3f27b007c012f9"
  },
  {
   "metadata": {},
   "cell_type": "code",
   "outputs": [],
   "execution_count": null,
   "source": [
    "validation_sim = model(400)\n",
    "validation_configured = configurator(validation_sim)\n",
    "\n",
    "validation_configured[\"parameters\"]"
   ],
   "id": "412c0d878cc0df88"
  },
  {
   "metadata": {},
   "cell_type": "code",
   "outputs": [],
   "execution_count": null,
   "source": [
    "post_samples = amortizer.sample(validation_configured, n_samples=1000)\n",
    "prior_samples = validation_configured[\"parameters\"]"
   ],
   "id": "907d01b78fe4463b"
  },
  {
   "metadata": {},
   "cell_type": "code",
   "outputs": [],
   "execution_count": null,
   "source": [
    "sns.set(rc={'axes.facecolor':'#FFFFFF00', 'figure.facecolor':'#FFFFFF00'})\n",
    "sns.set_style('whitegrid')\n",
    "\n",
    "g = bf.diagnostics.plot_recovery(\n",
    "    post_samples=post_samples, \n",
    "    prior_samples=prior_samples, \n",
    "    param_names=param_names,\n",
    "    color=\"#4E2A84\"\n",
    ")"
   ],
   "id": "5725e4cbebdadde4"
  },
  {
   "metadata": {},
   "cell_type": "code",
   "outputs": [],
   "execution_count": null,
   "source": "c = bf.diagnostics.plot_z_score_contraction(post_samples=post_samples, prior_samples=prior_samples, param_names=param_names)",
   "id": "a3878000c0e66a46"
  },
  {
   "metadata": {},
   "cell_type": "code",
   "outputs": [],
   "execution_count": null,
   "source": "h = bf.diagnostics.plot_sbc_histograms(post_samples=post_samples, prior_samples=prior_samples, param_names=param_names, num_bins=10)",
   "id": "643f7dad757ff5e"
  },
  {
   "metadata": {},
   "cell_type": "code",
   "outputs": [],
   "execution_count": null,
   "source": [
    "e = bf.diagnostics.plot_sbc_ecdf(\n",
    "    post_samples=post_samples, \n",
    "    prior_samples=prior_samples, \n",
    "    param_names=param_names, \n",
    "    difference=True,\n",
    "    rank_ecdf_color=\"#4E2A84\"    \n",
    ")"
   ],
   "id": "be937b60c66bfddb"
  },
  {
   "metadata": {},
   "cell_type": "code",
   "outputs": [],
   "execution_count": null,
   "source": "d = bf.diagnostics.plot_posterior_2d(posterior_draws=post_samples[1], prior_draws=prior_samples, param_names=param_names)",
   "id": "7028838ca96baada"
  }
 ],
 "metadata": {
  "kernelspec": {
   "display_name": "Python 3",
   "language": "python",
   "name": "python3"
  },
  "language_info": {
   "codemirror_mode": {
    "name": "ipython",
    "version": 2
   },
   "file_extension": ".py",
   "mimetype": "text/x-python",
   "name": "python",
   "nbconvert_exporter": "python",
   "pygments_lexer": "ipython2",
   "version": "2.7.6"
  }
 },
 "nbformat": 4,
 "nbformat_minor": 5
}
