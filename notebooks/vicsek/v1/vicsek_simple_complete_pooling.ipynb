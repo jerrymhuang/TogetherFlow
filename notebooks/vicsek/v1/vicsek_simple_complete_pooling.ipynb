{
 "cells": [
  {
   "cell_type": "code",
   "id": "initial_id",
   "metadata": {},
   "source": [
    "import numpy as np\n",
    "import matplotlib.pyplot as plt\n",
    "import seaborn as sns\n",
    "import matplotlib.animation as animation\n",
    "from IPython.display import HTML\n",
    "\n",
    "np.set_printoptions(suppress=True)\n",
    "\n",
    "import bayesflow as bf\n",
    "import tensorflow as tf\n",
    "\n",
    "from numba import njit\n",
    "from bayesflow.Simulati import Prior, Simulator, GenerativeModel"
   ],
   "outputs": [],
   "execution_count": null
  },
  {
   "metadata": {},
   "cell_type": "markdown",
   "source": [
    "# Vicsek model: complete pooling\n",
    "\n",
    "This notebook provides a baseline, flat estimate for parameters in the Vicsek model."
   ],
   "id": "2911f864148fe1f1"
  },
  {
   "cell_type": "code",
   "id": "acdf6d26",
   "metadata": {},
   "source": [
    "param_names = [r'$r$', r'$v$']\n",
    "\n",
    "@njit\n",
    "def prior_fun():\n",
    "    \"\"\"\n",
    "    Sample prior parameters for the agent group, \n",
    "    i.e., base scale of sensing radius (r) and walking speed (v). \n",
    "    \n",
    "    Returns\n",
    "    -------\n",
    "    Sampled priors as a NumPy array.\n",
    "    \"\"\"\n",
    "        \n",
    "    r = np.random.beta(2., 5.)\n",
    "    v = np.random.beta(2., 2.)\n",
    "    \n",
    "    return np.array([r, v], dtype=np.float32)"
   ],
   "outputs": [],
   "execution_count": null
  },
  {
   "metadata": {},
   "cell_type": "code",
   "source": [
    "test_prior = prior_fun()\n",
    "test_prior"
   ],
   "id": "b6b46af1b42ca2ec",
   "outputs": [],
   "execution_count": null
  },
  {
   "cell_type": "code",
   "id": "22c4a63c31a7847",
   "metadata": {},
   "source": [
    "@njit\n",
    "def initialize_agents(\n",
    "        num_agents=12,\n",
    "        boundary_size=10.0,\n",
    "):\n",
    "    \"\"\"\n",
    "    Initialize agent positions and directions.\n",
    "    \n",
    "    Parameters\n",
    "    ----------\n",
    "    num_agents      : int, default: 12\n",
    "        Number of agents to initialize. \n",
    "    boundary_size   : float, default: 10.0\n",
    "        Size of the boundary (in meters).\n",
    "    \n",
    "    Returns\n",
    "    -------\n",
    "    positions      : np.ndarray of shape (num_agents, 2)\n",
    "        Initial positions of the agents.\n",
    "    directions      : np.ndarray of shape (num_agents, )\n",
    "        Initial directions of the agents. \n",
    "    \"\"\"\n",
    "    positions = np.random.random(size=(num_agents, 2)).astype(np.float32) * boundary_size\n",
    "    directions = np.random.random(size=num_agents).astype(np.float32) * np.pi\n",
    "\n",
    "    return positions, directions"
   ],
   "outputs": [],
   "execution_count": null
  },
  {
   "metadata": {},
   "cell_type": "code",
   "source": [
    "positions, directions = initialize_agents()\n",
    "positions = positions + np.array([np.cos(directions), np.sin(directions)], dtype=np.float32).transpose()\n",
    "positions.shape"
   ],
   "id": "ed542b68d47a93d7",
   "outputs": [],
   "execution_count": null
  },
  {
   "cell_type": "code",
   "id": "a802bca92125bee4",
   "metadata": {},
   "source": [
    "@njit\n",
    "def simulator_fun(\n",
    "    theta,\n",
    "    num_agents=12,\n",
    "    num_timesteps=100,\n",
    "    boundary_size=10.0,\n",
    "):\n",
    "    \"\"\"\n",
    "    Simulate the movement trajectory of the agent, \n",
    "    as governed by the Vicsek model.\n",
    "    \n",
    "    Parameters\n",
    "    ----------\n",
    "    theta : np.ndarray of shape (2, )\n",
    "        Sampled priors for the model, including the \n",
    "        base sensing radius (r) and walking speed (v)\n",
    "        of the agents.\n",
    "    num_agents     : int, default: 12\n",
    "        Number of agents to simulate.\n",
    "    num_timesteps   : int, default: 100\n",
    "        Number of timesteps to simulate.\n",
    "    boundary_size   : float, default: 10.0\n",
    "        Size of the simulation boundary (in meters).\n",
    "    \n",
    "    Returns\n",
    "    -------\n",
    "    A concatenated NumPy array of combined trajectory \n",
    "    and direction of the agents as timeseries.\n",
    "    \"\"\"\n",
    "    \n",
    "    \n",
    "    # Unpack priors\n",
    "    r, v = theta[0], theta[1]\n",
    "    \n",
    "    # Scale radius with half of boundary size (for realism)\n",
    "    radius = r * boundary_size * 0.5\n",
    "\n",
    "    # Store trajectories and headings\n",
    "    paths = np.zeros((num_timesteps + 1, num_agents, 2))\n",
    "    headings = np.zeros((num_timesteps + 1, num_agents, 1))\n",
    "\n",
    "    # Initialize positions and directions for each agent\n",
    "    \n",
    "    positions, directions = initialize_agents(num_agents, boundary_size)\n",
    "    paths[0] = positions\n",
    "    headings[0] = directions[:, np.newaxis]\n",
    "\n",
    "    # Loop over each timestep\n",
    "    for t in range(num_timesteps):\n",
    "        # For each timestep, initialize directions for the agents\n",
    "        new_directions = np.zeros(num_agents)\n",
    "        \n",
    "        # For each agent, collect neighbors within its sensing range\n",
    "        for i in range(num_agents):\n",
    "            neighbors = []\n",
    "            # If there are any neighbors, average over their directions \n",
    "            # and assign it as the new direction. \n",
    "            for j in range(num_agents):\n",
    "                if i != j and np.linalg.norm(positions[i] - positions[j]) < radius:\n",
    "                    neighbors.append(directions[j])\n",
    "            if neighbors:\n",
    "                avg_direction = np.mean(np.array(neighbors))\n",
    "                new_directions[i] = avg_direction + np.random.uniform(-0.01, 0.01)\n",
    "            else:\n",
    "                new_directions[i] = directions[i]\n",
    "\n",
    "        directions = np.copy(new_directions)\n",
    "        \n",
    "        # Update position upon new direction\n",
    "        positions[:,0] += v * np.cos(directions)\n",
    "        positions[:,1] += v * np.sin(directions)\n",
    "        \n",
    "        # Assumes periodic boundary condition (for now)\n",
    "        positions = np.mod(np.copy(positions), boundary_size)\n",
    "\n",
    "        # Add timestamps to trajectories and headings\n",
    "        paths[t + 1] = np.copy(positions)\n",
    "        headings[t + 1] = np.copy(directions[:, np.newaxis])\n",
    "\n",
    "    return np.concatenate((paths, headings), axis=-1)"
   ],
   "outputs": [],
   "execution_count": null
  },
  {
   "metadata": {},
   "cell_type": "markdown",
   "source": "Querying the simulated results directly to the prior samples.",
   "id": "d3361ed4684ef5a2"
  },
  {
   "metadata": {},
   "cell_type": "code",
   "source": [
    "check_priors = prior_fun()\n",
    "\n",
    "check_simulator = simulator_fun(theta=check_priors)\n",
    "check_simulator.shape"
   ],
   "id": "df1bc5cf33efef90",
   "outputs": [],
   "execution_count": null
  },
  {
   "metadata": {},
   "cell_type": "code",
   "source": "check_priors",
   "id": "1d19b7c456a79522",
   "outputs": [],
   "execution_count": null
  },
  {
   "metadata": {},
   "cell_type": "code",
   "source": "average_heading = np.mean(check_simulator[:,:,-1], axis=1)",
   "id": "d1ad01ba5ca96398",
   "outputs": [],
   "execution_count": null
  },
  {
   "metadata": {},
   "cell_type": "code",
   "source": "sns.lineplot(data=average_heading)",
   "id": "b582a83605fdbd8d",
   "outputs": [],
   "execution_count": null
  },
  {
   "metadata": {},
   "cell_type": "code",
   "source": [
    "fig, axarr = plt.subplots(3, 4, figsize=(16, 12))\n",
    "\n",
    "for i, ax in enumerate(axarr.flat):\n",
    "    sns.lineplot(check_simulator[:,i,-1], ax=ax)\n",
    "    \n",
    "    if i >= 8:\n",
    "        ax.set_xlabel(\"time\")\n",
    "    if i % 4 == 0:\n",
    "        ax.set_ylabel(\"Directions\")\n",
    "    \n",
    "fig.tight_layout()"
   ],
   "id": "bee5d4daad35955b",
   "outputs": [],
   "execution_count": null
  },
  {
   "cell_type": "markdown",
   "id": "a4e920dc70c32905",
   "metadata": {},
   "source": "# Generative Model"
  },
  {
   "cell_type": "code",
   "id": "dbf4a7d6012daf78",
   "metadata": {},
   "source": [
    "prior = Prior(prior_fun=prior_fun)\n",
    "\n",
    "simulator = Simulator(simulator_fun=simulator_fun)\n",
    "\n",
    "model = GenerativeModel(prior=prior, simulator=simulator, simulator_is_batched=False, name=\"Vicsek\")"
   ],
   "outputs": [],
   "execution_count": null
  },
  {
   "metadata": {},
   "cell_type": "code",
   "source": [
    "def animate(paths, boundary_size = 10.0):\n",
    "    \n",
    "    positions = paths[:,:,0:2]\n",
    "    directions = paths[:,:,2:]\n",
    "    \n",
    "    fig, ax = plt.subplots(figsize=(4, 4))\n",
    "\n",
    "\n",
    "    def update(frame):\n",
    "        ax.clear()\n",
    "        quiver = ax.quiver(positions[frame, :, 0], positions[frame, :, 1], np.cos(directions[frame]), np.sin(directions[frame]))\n",
    "        quiver.set_offsets(positions[frame])\n",
    "        quiver.set_UVC(np.cos(directions[frame]), np.sin(directions[frame]))\n",
    "        ax.set_xlim(0, boundary_size)\n",
    "        ax.set_ylim(0, boundary_size)\n",
    "        return quiver,\n",
    "\n",
    "    a = animation.FuncAnimation(fig, update, frames=len(positions), blit=True, repeat=False)\n",
    "    plt.title(\"Vicsek Model\")\n",
    "    plt.xlabel(\"X\")\n",
    "    plt.ylabel(\"Y\")\n",
    "    \n",
    "    return a"
   ],
   "id": "838a17c3ed422a64",
   "outputs": [],
   "execution_count": null
  },
  {
   "metadata": {},
   "cell_type": "code",
   "source": [
    "pushforward_sim = model(4)['sim_data']\n",
    "\n",
    "for i in range(pushforward_sim.shape[0]):\n",
    "    a = animate(pushforward_sim[i])\n",
    "    v = HTML(a.to_jshtml())"
   ],
   "id": "788d1b6d2e5dc820",
   "outputs": [],
   "execution_count": null
  },
  {
   "cell_type": "markdown",
   "id": "45a552ea089f25b5",
   "metadata": {},
   "source": [
    "# Configurator"
   ]
  },
  {
   "cell_type": "code",
   "id": "b23d05b976706d81",
   "metadata": {},
   "source": [
    "def configurator(input_dict: dict = None, transpose: bool = True):\n",
    "    \n",
    "    output_dict = {}\n",
    "    output_dict['parameters'] = input_dict['prior_draws'].astype(np.float32)\n",
    "    x = input_dict['sim_data'] / 10. \n",
    "    if transpose:\n",
    "        x = np.transpose(x, (0, 2, 1, 3))\n",
    "    output_dict['summary_conditions'] = x.astype(np.float32)\n",
    "    return output_dict"
   ],
   "outputs": [],
   "execution_count": null
  },
  {
   "cell_type": "code",
   "id": "56e80210",
   "metadata": {},
   "source": [
    "# class StackedLSTM(tf.keras.Model):\n",
    "#     def __init__(self, summary_dim=32, lstm_units=512, hidden_units=512, dropout=0.05):\n",
    "#         super().__init__()\n",
    "        \n",
    "#         self.mlp = tf.keras.Sequential([\n",
    "#             tf.keras.layers.Dense(hidden_units, activation=\"mish\"),\n",
    "#             tf.keras.layers.Dropout(dropout),\n",
    "#             tf.keras.layers.Dense(hidden_units // 16)\n",
    "#         ])\n",
    "#         self.lstm = tf.keras.layers.LSTM(lstm_units, dropout=dropout)\n",
    "#         self.projector = tf.keras.layers.Dense(summary_dim)\n",
    "        \n",
    "#     def call(self, x, **kwargs):\n",
    "        \n",
    "#         old_shape = tf.shape(x)\n",
    "#         x = tf.reshape(x, shape=(old_shape[0], old_shape[1], -1))\n",
    "#         embeddings = self.mlp(x, **kwargs)\n",
    "#         rep = self.lstm(embeddings, **kwargs)\n",
    "#         proj = self.projector(rep)\n",
    "#         return proj"
   ],
   "outputs": [],
   "execution_count": null
  },
  {
   "cell_type": "markdown",
   "id": "e389e198ff68c591",
   "metadata": {},
   "source": "# Neural Approximator"
  },
  {
   "cell_type": "code",
   "id": "d7d69334d34e21a7",
   "metadata": {},
   "source": [
    "# This one generalizes over different numbers of agents\n",
    "summary_net = bf.summary_networks.HierarchicalNetwork([\n",
    "    tf.keras.layers.TimeDistributed(tf.keras.layers.LSTM(units=128)),\n",
    "    bf.networks.SetTransformer(num_inducing_points=None, input_dim=128, summary_dim=64)\n",
    "])"
   ],
   "outputs": [],
   "execution_count": null
  },
  {
   "cell_type": "code",
   "id": "8749f0d2907062",
   "metadata": {},
   "source": [
    "inference_net = bf.inference_networks.InvertibleNetwork(\n",
    "    num_params=2, \n",
    "    num_coupling_layers=5,\n",
    "    coupling_design=\"affine\",\n",
    "    coupling_settings={\n",
    "        'kernel_regularizer': None,\n",
    "        'dropout_prob': 0.0\n",
    "    }\n",
    ")\n",
    "\n",
    "\n",
    "amortizer = bf.amortizers.AmortizedPosterior(\n",
    "    summary_net=summary_net, \n",
    "    inference_net=inference_net\n",
    ")\n",
    "\n",
    "\n",
    "trainer = bf.trainers.Trainer(\n",
    "    amortizer=amortizer,\n",
    "    generative_model=model,\n",
    "    configurator=configurator\n",
    ")"
   ],
   "outputs": [],
   "execution_count": null
  },
  {
   "cell_type": "markdown",
   "id": "d3b078b76cd504f6",
   "metadata": {},
   "source": "# Online Training"
  },
  {
   "cell_type": "code",
   "id": "fdae7c391d01f59a",
   "metadata": {},
   "source": "history = trainer.train_online(epochs=50, batch_size=32, iterations_per_epoch=500)",
   "outputs": [],
   "execution_count": null
  },
  {
   "metadata": {},
   "cell_type": "code",
   "source": "f = bf.diagnostics.plot_losses(history)",
   "id": "cc6ffce1fc056be7",
   "outputs": [],
   "execution_count": null
  },
  {
   "cell_type": "markdown",
   "id": "9d2fff8de89480b5",
   "metadata": {},
   "source": [
    "# Validation"
   ]
  },
  {
   "cell_type": "code",
   "id": "9a333f83a39d48e7",
   "metadata": {},
   "source": [
    "validation_sim = model(400)\n",
    "validation_configured = configurator(validation_sim)"
   ],
   "outputs": [],
   "execution_count": null
  },
  {
   "cell_type": "code",
   "id": "a2ed703f8120c873",
   "metadata": {},
   "source": [
    "post_samples = amortizer.sample(validation_configured, n_samples=1000)\n",
    "prior_samples = validation_configured[\"parameters\"]"
   ],
   "outputs": [],
   "execution_count": null
  },
  {
   "cell_type": "markdown",
   "id": "9c7c06481294fe2f",
   "metadata": {},
   "source": [
    "# Parameter Recovery"
   ]
  },
  {
   "cell_type": "code",
   "id": "3f50322495fef94b",
   "metadata": {},
   "source": [
    "sns.set(rc={'axes.facecolor':'#FFFFFF00', 'figure.facecolor':'#FFFFFF00'})\n",
    "sns.set_style('whitegrid')\n",
    "\n",
    "g = bf.diagnostics.plot_recovery(\n",
    "    post_samples=post_samples, \n",
    "    prior_samples=prior_samples, \n",
    "    param_names=param_names,\n",
    "    label_fontsize=24,\n",
    "    title_fontsize=28,\n",
    "    color=\"#4E2A84\"\n",
    ")"
   ],
   "outputs": [],
   "execution_count": null
  },
  {
   "cell_type": "markdown",
   "id": "c8384da4f7f184e9",
   "metadata": {},
   "source": [
    "The drift $v$ shows near-perfect recovery, followed by the noise parameter $\\eta$."
   ]
  },
  {
   "cell_type": "code",
   "id": "7a253d10ae7a2245",
   "metadata": {},
   "source": [
    "h = bf.diagnostics.plot_sbc_histograms(post_samples=post_samples, prior_samples=prior_samples, param_names=param_names, num_bins=10)"
   ],
   "outputs": [],
   "execution_count": null
  },
  {
   "cell_type": "code",
   "id": "c1bf2f4cb7eca607",
   "metadata": {},
   "source": [
    "e = bf.diagnostics.plot_sbc_ecdf(\n",
    "    post_samples=post_samples, \n",
    "    prior_samples=prior_samples, \n",
    "    param_names=param_names, \n",
    "    difference=True,\n",
    "    title_fontsize=24,\n",
    "    label_fontsize=24,\n",
    "    rank_ecdf_color=\"#4E2A84\"    \n",
    ")"
   ],
   "outputs": [],
   "execution_count": null
  },
  {
   "cell_type": "code",
   "id": "470b51c1112783a9",
   "metadata": {},
   "source": [
    "c = bf.diagnostics.plot_z_score_contraction(post_samples=post_samples, prior_samples=prior_samples, param_names=param_names)"
   ],
   "outputs": [],
   "execution_count": null
  },
  {
   "cell_type": "code",
   "id": "f2e465462ce2a1c1",
   "metadata": {},
   "source": "d = bf.diagnostics.plot_posterior_2d(posterior_draws=post_samples[1], prior_draws=prior_samples, param_names=param_names)",
   "outputs": [],
   "execution_count": null
  },
  {
   "metadata": {},
   "cell_type": "code",
   "source": "",
   "id": "e013c24970d43ac7",
   "outputs": [],
   "execution_count": null
  }
 ],
 "metadata": {
  "kernelspec": {
   "display_name": "env",
   "language": "python",
   "name": "env"
  },
  "language_info": {
   "codemirror_mode": {
    "name": "ipython",
    "version": 3
   },
   "file_extension": ".py",
   "mimetype": "text/x-python",
   "name": "python",
   "nbconvert_exporter": "python",
   "pygments_lexer": "ipython3",
   "version": "3.10.12"
  }
 },
 "nbformat": 4,
 "nbformat_minor": 5
}
