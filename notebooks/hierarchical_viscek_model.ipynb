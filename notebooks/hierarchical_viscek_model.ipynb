{
 "cells": [
  {
   "cell_type": "code",
   "id": "initial_id",
   "metadata": {
    "collapsed": true,
    "ExecuteTime": {
     "end_time": "2024-08-19T14:31:33.342089Z",
     "start_time": "2024-08-19T14:31:33.323280Z"
    }
   },
   "source": [
    "import numpy as np\n",
    "import matplotlib.pyplot as plt\n",
    "import seaborn as sns\n",
    "\n",
    "import bayesflow as bf\n",
    "import tensorflow as tf\n",
    "\n",
    "from scipy.stats import halfnorm, maxwell"
   ],
   "outputs": [],
   "execution_count": 2
  },
  {
   "metadata": {},
   "cell_type": "markdown",
   "source": "Vicsek Model: Hierarchical Model",
   "id": "1f8115949972ab9"
  },
  {
   "metadata": {
    "ExecuteTime": {
     "end_time": "2024-08-19T14:39:41.256552Z",
     "start_time": "2024-08-19T14:39:41.239428Z"
    }
   },
   "cell_type": "code",
   "source": "param_names = [r'$r$', r'$v$', r'$\\eta$']",
   "id": "3147c6ca88d50a8c",
   "outputs": [],
   "execution_count": 3
  },
  {
   "metadata": {
    "ExecuteTime": {
     "end_time": "2024-08-19T14:52:57.126983Z",
     "start_time": "2024-08-19T14:52:57.105367Z"
    }
   },
   "cell_type": "code",
   "source": [
    "def hierarchical_prior_fun(rng=None):\n",
    "    \n",
    "    if rng is None:\n",
    "        rng = np.random.default_rng()\n",
    "        \n",
    "    r = maxwell.rvs(2.)\n",
    "    v = maxwell.rvs(1.)\n",
    "    eta = halfnorm.rvs(0., 1.)\n",
    "    \n",
    "    return np.array([r, v, eta], dtype=np.float32)"
   ],
   "id": "2dc3fdf7c37ca74b",
   "outputs": [],
   "execution_count": 4
  },
  {
   "metadata": {
    "ExecuteTime": {
     "end_time": "2024-08-18T15:51:45.923477Z",
     "start_time": "2024-08-18T15:51:45.905342Z"
    }
   },
   "cell_type": "code",
   "source": [
    "def initialize_agents(\n",
    "    num_agents: int = 10,\n",
    "    boundary_size: float = 10.0,\n",
    "    rng = None\n",
    "):\n",
    "    if rng is None:\n",
    "        rng = np.random.default_rng()\n",
    "    \n",
    "    positions = rng.uniform(size=(num_agents, 2)) * boundary_size\n",
    "    directions = rng.uniform(size=num_agents) * 2 * np.pi\n",
    "\n",
    "    return positions, directions"
   ],
   "id": "1950f93748f77991",
   "outputs": [],
   "execution_count": 3
  },
  {
   "metadata": {},
   "cell_type": "code",
   "outputs": [],
   "execution_count": null,
   "source": "",
   "id": "440d0033fd98bc88"
  }
 ],
 "metadata": {
  "kernelspec": {
   "display_name": "Python 3",
   "language": "python",
   "name": "python3"
  },
  "language_info": {
   "codemirror_mode": {
    "name": "ipython",
    "version": 2
   },
   "file_extension": ".py",
   "mimetype": "text/x-python",
   "name": "python",
   "nbconvert_exporter": "python",
   "pygments_lexer": "ipython2",
   "version": "2.7.6"
  }
 },
 "nbformat": 4,
 "nbformat_minor": 5
}
