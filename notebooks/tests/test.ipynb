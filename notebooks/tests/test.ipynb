{
 "cells": [
  {
   "cell_type": "code",
   "id": "initial_id",
   "metadata": {
    "collapsed": true,
    "ExecuteTime": {
     "end_time": "2024-11-18T15:37:43.878239Z",
     "start_time": "2024-11-18T15:37:43.859407Z"
    }
   },
   "source": [
    "import tensorflow as tf\n",
    "from tensorflow.keras.layers import Dense\n",
    "from tensorflow.keras import Sequential"
   ],
   "outputs": [],
   "execution_count": 6
  },
  {
   "metadata": {
    "ExecuteTime": {
     "end_time": "2024-11-18T15:37:14.879268Z",
     "start_time": "2024-11-18T15:37:14.845993Z"
    }
   },
   "cell_type": "code",
   "source": "layers = Dense(2, activation='relu')",
   "id": "f6881ddba48bb81",
   "outputs": [],
   "execution_count": 5
  },
  {
   "metadata": {
    "ExecuteTime": {
     "end_time": "2024-11-18T15:40:37.536531Z",
     "start_time": "2024-11-18T15:40:37.500258Z"
    }
   },
   "cell_type": "code",
   "source": "x = tf.random.normal((3, 4))",
   "id": "1e350e376b6c8814",
   "outputs": [],
   "execution_count": 9
  },
  {
   "metadata": {
    "ExecuteTime": {
     "end_time": "2024-11-18T15:56:04.465903Z",
     "start_time": "2024-11-18T15:56:04.450163Z"
    }
   },
   "cell_type": "code",
   "source": [
    "network = Sequential([\n",
    "    Dense(32, activation=\"relu\"),\n",
    "    Dense(10)\n",
    "])"
   ],
   "id": "f42f86063f66b108",
   "outputs": [],
   "execution_count": 18
  },
  {
   "metadata": {
    "ExecuteTime": {
     "end_time": "2024-11-18T15:56:04.840383Z",
     "start_time": "2024-11-18T15:56:04.784433Z"
    }
   },
   "cell_type": "code",
   "source": "network(x)",
   "id": "f3d29481a8b70040",
   "outputs": [
    {
     "data": {
      "text/plain": [
       "<tf.Tensor: shape=(3, 10), dtype=float32, numpy=\n",
       "array([[ 0.23426713, -0.1718679 ,  0.15205331,  0.10587701, -0.9713621 ,\n",
       "        -0.21438582, -0.16072986, -0.1198895 , -0.41661108,  0.28746656],\n",
       "       [ 0.3404264 , -0.51168144, -0.03155679,  0.14945841, -1.4779258 ,\n",
       "        -0.24089736, -0.05438542,  0.2657827 , -0.7863591 ,  0.6143549 ],\n",
       "       [ 0.4065837 , -0.7686818 , -0.48746938, -0.4568509 , -0.19034348,\n",
       "         0.7866235 ,  0.32237718,  0.6456059 ,  0.12848106,  0.73061275]],\n",
       "      dtype=float32)>"
      ]
     },
     "execution_count": 19,
     "metadata": {},
     "output_type": "execute_result"
    }
   ],
   "execution_count": 19
  },
  {
   "metadata": {
    "ExecuteTime": {
     "end_time": "2024-11-18T15:56:05.915147Z",
     "start_time": "2024-11-18T15:56:05.886707Z"
    }
   },
   "cell_type": "code",
   "source": "network.summary()",
   "id": "5e994e3e6f0ba4f3",
   "outputs": [
    {
     "name": "stdout",
     "output_type": "stream",
     "text": [
      "Model: \"sequential_5\"\n",
      "_________________________________________________________________\n",
      " Layer (type)                Output Shape              Param #   \n",
      "=================================================================\n",
      " dense_13 (Dense)            (3, 32)                   160       \n",
      "                                                                 \n",
      " dense_14 (Dense)            (3, 10)                   330       \n",
      "                                                                 \n",
      "=================================================================\n",
      "Total params: 490 (1.91 KB)\n",
      "Trainable params: 490 (1.91 KB)\n",
      "Non-trainable params: 0 (0.00 Byte)\n",
      "_________________________________________________________________\n"
     ]
    }
   ],
   "execution_count": 20
  },
  {
   "metadata": {},
   "cell_type": "code",
   "outputs": [],
   "execution_count": null,
   "source": "",
   "id": "5c9fbe06e2385ecb"
  }
 ],
 "metadata": {
  "kernelspec": {
   "display_name": "env",
   "language": "python",
   "name": "env"
  },
  "language_info": {
   "codemirror_mode": {
    "name": "ipython",
    "version": 2
   },
   "file_extension": ".py",
   "mimetype": "text/x-python",
   "name": "python",
   "nbconvert_exporter": "python",
   "pygments_lexer": "ipython2",
   "version": "2.7.6"
  }
 },
 "nbformat": 4,
 "nbformat_minor": 5
}
